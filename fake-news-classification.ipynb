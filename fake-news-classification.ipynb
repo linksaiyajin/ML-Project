{
 "cells": [
  {
   "cell_type": "code",
   "execution_count": 1,
   "id": "20db244b",
   "metadata": {
    "execution": {
     "iopub.execute_input": "2022-03-04T16:09:31.688553Z",
     "iopub.status.busy": "2022-03-04T16:09:31.685561Z",
     "iopub.status.idle": "2022-03-04T16:09:37.999145Z",
     "shell.execute_reply": "2022-03-04T16:09:37.998554Z",
     "shell.execute_reply.started": "2022-03-04T15:38:42.278554Z"
    },
    "papermill": {
     "duration": 6.35972,
     "end_time": "2022-03-04T16:09:37.999302",
     "exception": false,
     "start_time": "2022-03-04T16:09:31.639582",
     "status": "completed"
    },
    "tags": []
   },
   "outputs": [],
   "source": [
    "import tensorflow as tf\n",
    "import pandas as pd\n",
    "import numpy as np\n",
    "import seaborn as sns\n",
    "from bs4 import BeautifulSoup\n",
    "import re,string,unicodedata\n",
    "import matplotlib.pyplot as plt\n",
    "import tensorflow.keras.layers as tfl\n",
    "from keras.preprocessing import text, sequence\n",
    "from sklearn.metrics import classification_report,confusion_matrix,accuracy_score\n",
    "from tensorflow.keras.preprocessing.sequence import pad_sequences\n",
    "from tensorflow.keras.layers import Embedding, LSTM, Dense, Dropout, Bidirectional\n",
    "from tensorflow.keras.preprocessing.text import Tokenizer\n",
    "from tensorflow.keras.models import Sequential\n",
    "from tensorflow.keras.optimizers import Adam\n",
    "from tensorflow.keras import regularizers\n",
    "import tensorflow.keras.utils as ku \n",
    "from sklearn.model_selection import train_test_split\n",
    "from nltk.corpus import stopwords\n",
    "import datetime\n",
    "%matplotlib inline"
   ]
  },
  {
   "cell_type": "code",
   "execution_count": 2,
   "id": "18b01469",
   "metadata": {
    "execution": {
     "iopub.execute_input": "2022-03-04T16:09:38.053335Z",
     "iopub.status.busy": "2022-03-04T16:09:38.052669Z",
     "iopub.status.idle": "2022-03-04T16:09:40.469383Z",
     "shell.execute_reply": "2022-03-04T16:09:40.468433Z",
     "shell.execute_reply.started": "2022-03-04T15:38:44.507872Z"
    },
    "papermill": {
     "duration": 2.443835,
     "end_time": "2022-03-04T16:09:40.469545",
     "exception": false,
     "start_time": "2022-03-04T16:09:38.025710",
     "status": "completed"
    },
    "tags": []
   },
   "outputs": [],
   "source": [
    "true = pd.read_csv(\"../input/fake-and-real-news-dataset/True.csv\")\n",
    "false = pd.read_csv(\"../input/fake-and-real-news-dataset/Fake.csv\")"
   ]
  },
  {
   "cell_type": "markdown",
   "id": "58cf2c39",
   "metadata": {
    "papermill": {
     "duration": 0.022559,
     "end_time": "2022-03-04T16:09:40.515387",
     "exception": false,
     "start_time": "2022-03-04T16:09:40.492828",
     "status": "completed"
    },
    "tags": []
   },
   "source": [
    "### Preparing fake-news dataset"
   ]
  },
  {
   "cell_type": "code",
   "execution_count": 3,
   "id": "2fb07588",
   "metadata": {
    "execution": {
     "iopub.execute_input": "2022-03-04T16:09:40.566872Z",
     "iopub.status.busy": "2022-03-04T16:09:40.566346Z",
     "iopub.status.idle": "2022-03-04T16:09:41.923566Z",
     "shell.execute_reply": "2022-03-04T16:09:41.924154Z",
     "shell.execute_reply.started": "2022-03-04T15:38:45.600020Z"
    },
    "papermill": {
     "duration": 1.385584,
     "end_time": "2022-03-04T16:09:41.924348",
     "exception": false,
     "start_time": "2022-03-04T16:09:40.538764",
     "status": "completed"
    },
    "tags": []
   },
   "outputs": [
    {
     "data": {
      "text/html": [
       "<div>\n",
       "<style scoped>\n",
       "    .dataframe tbody tr th:only-of-type {\n",
       "        vertical-align: middle;\n",
       "    }\n",
       "\n",
       "    .dataframe tbody tr th {\n",
       "        vertical-align: top;\n",
       "    }\n",
       "\n",
       "    .dataframe thead th {\n",
       "        text-align: right;\n",
       "    }\n",
       "</style>\n",
       "<table border=\"1\" class=\"dataframe\">\n",
       "  <thead>\n",
       "    <tr style=\"text-align: right;\">\n",
       "      <th></th>\n",
       "      <th>title</th>\n",
       "      <th>text</th>\n",
       "      <th>category</th>\n",
       "    </tr>\n",
       "  </thead>\n",
       "  <tbody>\n",
       "    <tr>\n",
       "      <th>0</th>\n",
       "      <td>Muslims BUSTED: They Stole Millions In Gov’t B...</td>\n",
       "      <td>Print They should pay all the back all the mon...</td>\n",
       "      <td>0</td>\n",
       "    </tr>\n",
       "    <tr>\n",
       "      <th>1</th>\n",
       "      <td>Re: Why Did Attorney General Loretta Lynch Ple...</td>\n",
       "      <td>Why Did Attorney General Loretta Lynch Plead T...</td>\n",
       "      <td>0</td>\n",
       "    </tr>\n",
       "    <tr>\n",
       "      <th>2</th>\n",
       "      <td>BREAKING: Weiner Cooperating With FBI On Hilla...</td>\n",
       "      <td>Red State : \\nFox News Sunday reported this mo...</td>\n",
       "      <td>0</td>\n",
       "    </tr>\n",
       "    <tr>\n",
       "      <th>3</th>\n",
       "      <td>PIN DROP SPEECH BY FATHER OF DAUGHTER Kidnappe...</td>\n",
       "      <td>Email Kayla Mueller was a prisoner and torture...</td>\n",
       "      <td>0</td>\n",
       "    </tr>\n",
       "    <tr>\n",
       "      <th>4</th>\n",
       "      <td>FANTASTIC! TRUMP'S 7 POINT PLAN To Reform Heal...</td>\n",
       "      <td>Email HEALTHCARE REFORM TO MAKE AMERICA GREAT ...</td>\n",
       "      <td>0</td>\n",
       "    </tr>\n",
       "  </tbody>\n",
       "</table>\n",
       "</div>"
      ],
      "text/plain": [
       "                                               title  \\\n",
       "0  Muslims BUSTED: They Stole Millions In Gov’t B...   \n",
       "1  Re: Why Did Attorney General Loretta Lynch Ple...   \n",
       "2  BREAKING: Weiner Cooperating With FBI On Hilla...   \n",
       "3  PIN DROP SPEECH BY FATHER OF DAUGHTER Kidnappe...   \n",
       "4  FANTASTIC! TRUMP'S 7 POINT PLAN To Reform Heal...   \n",
       "\n",
       "                                                text  category  \n",
       "0  Print They should pay all the back all the mon...         0  \n",
       "1  Why Did Attorney General Loretta Lynch Plead T...         0  \n",
       "2  Red State : \\nFox News Sunday reported this mo...         0  \n",
       "3  Email Kayla Mueller was a prisoner and torture...         0  \n",
       "4  Email HEALTHCARE REFORM TO MAKE AMERICA GREAT ...         0  "
      ]
     },
     "execution_count": 3,
     "metadata": {},
     "output_type": "execute_result"
    }
   ],
   "source": [
    "fake1 = pd.read_csv(\"../input/fake-news/fake.csv\")\n",
    "# removing all unnecessary columns\n",
    "fake1 = fake1[['title', 'text', 'language']]\n",
    "# removing non-english articles\n",
    "fake1 = fake1[fake1['language'] == 'english']\n",
    "del fake1['language']\n",
    "fake1['category'] = 0\n",
    "# drop rows with missing values\n",
    "fake1 = fake1.dropna(axis=0)\n",
    "\n",
    "fake1.head()"
   ]
  },
  {
   "cell_type": "markdown",
   "id": "884b37c9",
   "metadata": {
    "papermill": {
     "duration": 0.025311,
     "end_time": "2022-03-04T16:09:41.979243",
     "exception": false,
     "start_time": "2022-03-04T16:09:41.953932",
     "status": "completed"
    },
    "tags": []
   },
   "source": [
    "### Preparing real-and-fake-news-dataset"
   ]
  },
  {
   "cell_type": "code",
   "execution_count": 4,
   "id": "ecadbb07",
   "metadata": {
    "execution": {
     "iopub.execute_input": "2022-03-04T16:09:42.036287Z",
     "iopub.status.busy": "2022-03-04T16:09:42.035683Z",
     "iopub.status.idle": "2022-03-04T16:09:42.737769Z",
     "shell.execute_reply": "2022-03-04T16:09:42.737009Z",
     "shell.execute_reply.started": "2022-03-04T15:38:46.229954Z"
    },
    "papermill": {
     "duration": 0.733317,
     "end_time": "2022-03-04T16:09:42.737944",
     "exception": false,
     "start_time": "2022-03-04T16:09:42.004627",
     "status": "completed"
    },
    "tags": []
   },
   "outputs": [
    {
     "data": {
      "text/html": [
       "<div>\n",
       "<style scoped>\n",
       "    .dataframe tbody tr th:only-of-type {\n",
       "        vertical-align: middle;\n",
       "    }\n",
       "\n",
       "    .dataframe tbody tr th {\n",
       "        vertical-align: top;\n",
       "    }\n",
       "\n",
       "    .dataframe thead th {\n",
       "        text-align: right;\n",
       "    }\n",
       "</style>\n",
       "<table border=\"1\" class=\"dataframe\">\n",
       "  <thead>\n",
       "    <tr style=\"text-align: right;\">\n",
       "      <th></th>\n",
       "      <th>title</th>\n",
       "      <th>text</th>\n",
       "      <th>category</th>\n",
       "    </tr>\n",
       "  </thead>\n",
       "  <tbody>\n",
       "    <tr>\n",
       "      <th>0</th>\n",
       "      <td>You Can Smell Hillary’s Fear</td>\n",
       "      <td>Daniel Greenfield, a Shillman Journalism Fello...</td>\n",
       "      <td>0</td>\n",
       "    </tr>\n",
       "    <tr>\n",
       "      <th>1</th>\n",
       "      <td>Watch The Exact Moment Paul Ryan Committed Pol...</td>\n",
       "      <td>Google Pinterest Digg Linkedin Reddit Stumbleu...</td>\n",
       "      <td>0</td>\n",
       "    </tr>\n",
       "    <tr>\n",
       "      <th>2</th>\n",
       "      <td>Kerry to go to Paris in gesture of sympathy</td>\n",
       "      <td>U.S. Secretary of State John F. Kerry said Mon...</td>\n",
       "      <td>1</td>\n",
       "    </tr>\n",
       "    <tr>\n",
       "      <th>3</th>\n",
       "      <td>Bernie supporters on Twitter erupt in anger ag...</td>\n",
       "      <td>— Kaydee King (@KaydeeKing) November 9, 2016 T...</td>\n",
       "      <td>0</td>\n",
       "    </tr>\n",
       "    <tr>\n",
       "      <th>4</th>\n",
       "      <td>The Battle of New York: Why This Primary Matters</td>\n",
       "      <td>It's primary day in New York and front-runners...</td>\n",
       "      <td>1</td>\n",
       "    </tr>\n",
       "  </tbody>\n",
       "</table>\n",
       "</div>"
      ],
      "text/plain": [
       "                                               title  \\\n",
       "0                       You Can Smell Hillary’s Fear   \n",
       "1  Watch The Exact Moment Paul Ryan Committed Pol...   \n",
       "2        Kerry to go to Paris in gesture of sympathy   \n",
       "3  Bernie supporters on Twitter erupt in anger ag...   \n",
       "4   The Battle of New York: Why This Primary Matters   \n",
       "\n",
       "                                                text  category  \n",
       "0  Daniel Greenfield, a Shillman Journalism Fello...         0  \n",
       "1  Google Pinterest Digg Linkedin Reddit Stumbleu...         0  \n",
       "2  U.S. Secretary of State John F. Kerry said Mon...         1  \n",
       "3  — Kaydee King (@KaydeeKing) November 9, 2016 T...         0  \n",
       "4  It's primary day in New York and front-runners...         1  "
      ]
     },
     "execution_count": 4,
     "metadata": {},
     "output_type": "execute_result"
    }
   ],
   "source": [
    "real_fake = pd.read_csv(\"../input/real-and-fake-news-dataset/news.csv\")\n",
    "# removing all unnecessary columns\n",
    "del real_fake['Unnamed: 0']\n",
    "\n",
    "# turning label into boolean category (1 for real, 0 for fake)\n",
    "d = {'REAL': 1, 'FAKE': 0}\n",
    "real_fake['category'] = real_fake['label'].map(d)\n",
    "del real_fake['label']\n",
    "# drop rows with missing values\n",
    "real_fake = real_fake.dropna(axis=0)\n",
    "\n",
    "real_fake.head()"
   ]
  },
  {
   "cell_type": "markdown",
   "id": "d63e2be7",
   "metadata": {
    "papermill": {
     "duration": 0.024686,
     "end_time": "2022-03-04T16:09:42.789553",
     "exception": false,
     "start_time": "2022-03-04T16:09:42.764867",
     "status": "completed"
    },
    "tags": []
   },
   "source": [
    "### Preparing source-based-news-classification"
   ]
  },
  {
   "cell_type": "code",
   "execution_count": 5,
   "id": "470dbdb6",
   "metadata": {
    "execution": {
     "iopub.execute_input": "2022-03-04T16:09:42.844451Z",
     "iopub.status.busy": "2022-03-04T16:09:42.843518Z",
     "iopub.status.idle": "2022-03-04T16:09:42.846002Z",
     "shell.execute_reply": "2022-03-04T16:09:42.846458Z",
     "shell.execute_reply.started": "2022-03-04T15:38:46.555267Z"
    },
    "papermill": {
     "duration": 0.033121,
     "end_time": "2022-03-04T16:09:42.846605",
     "exception": false,
     "start_time": "2022-03-04T16:09:42.813484",
     "status": "completed"
    },
    "tags": []
   },
   "outputs": [],
   "source": [
    "# source_based = pd.read_csv(\"../input/source-based-news-classification/news_articles.csv\")\n",
    "# # removing non-english articles\n",
    "# source_based = source_based[source_based['language'] == 'english']\n",
    "# # removing all unnecessary columns\n",
    "# source_based = source_based[['title', 'text', 'label']]\n",
    "\n",
    "# # turning labels intoo boolean category (1 for real, 0 for fake)\n",
    "# dic = {'Real': 1, 'Fake': 0}\n",
    "# source_based['category'] = source_based['label'].map(dic)\n",
    "# del source_based['label']\n",
    "\n",
    "# source_based.head()"
   ]
  },
  {
   "cell_type": "code",
   "execution_count": 6,
   "id": "855c9053",
   "metadata": {
    "execution": {
     "iopub.execute_input": "2022-03-04T16:09:42.909679Z",
     "iopub.status.busy": "2022-03-04T16:09:42.908402Z",
     "iopub.status.idle": "2022-03-04T16:09:42.911643Z",
     "shell.execute_reply": "2022-03-04T16:09:42.911122Z",
     "shell.execute_reply.started": "2022-03-04T15:38:46.561314Z"
    },
    "papermill": {
     "duration": 0.036855,
     "end_time": "2022-03-04T16:09:42.911761",
     "exception": false,
     "start_time": "2022-03-04T16:09:42.874906",
     "status": "completed"
    },
    "tags": []
   },
   "outputs": [],
   "source": [
    "true['category'] = 1\n",
    "false['category'] = 0"
   ]
  },
  {
   "cell_type": "code",
   "execution_count": 7,
   "id": "eb77c520",
   "metadata": {
    "execution": {
     "iopub.execute_input": "2022-03-04T16:09:42.978129Z",
     "iopub.status.busy": "2022-03-04T16:09:42.977192Z",
     "iopub.status.idle": "2022-03-04T16:09:42.980486Z",
     "shell.execute_reply": "2022-03-04T16:09:42.980923Z",
     "shell.execute_reply.started": "2022-03-04T15:38:46.574860Z"
    },
    "papermill": {
     "duration": 0.041089,
     "end_time": "2022-03-04T16:09:42.981072",
     "exception": false,
     "start_time": "2022-03-04T16:09:42.939983",
     "status": "completed"
    },
    "tags": []
   },
   "outputs": [
    {
     "data": {
      "text/html": [
       "<div>\n",
       "<style scoped>\n",
       "    .dataframe tbody tr th:only-of-type {\n",
       "        vertical-align: middle;\n",
       "    }\n",
       "\n",
       "    .dataframe tbody tr th {\n",
       "        vertical-align: top;\n",
       "    }\n",
       "\n",
       "    .dataframe thead th {\n",
       "        text-align: right;\n",
       "    }\n",
       "</style>\n",
       "<table border=\"1\" class=\"dataframe\">\n",
       "  <thead>\n",
       "    <tr style=\"text-align: right;\">\n",
       "      <th></th>\n",
       "      <th>title</th>\n",
       "      <th>text</th>\n",
       "      <th>subject</th>\n",
       "      <th>date</th>\n",
       "      <th>category</th>\n",
       "    </tr>\n",
       "  </thead>\n",
       "  <tbody>\n",
       "    <tr>\n",
       "      <th>0</th>\n",
       "      <td>As U.S. budget fight looms, Republicans flip t...</td>\n",
       "      <td>WASHINGTON (Reuters) - The head of a conservat...</td>\n",
       "      <td>politicsNews</td>\n",
       "      <td>December 31, 2017</td>\n",
       "      <td>1</td>\n",
       "    </tr>\n",
       "    <tr>\n",
       "      <th>1</th>\n",
       "      <td>U.S. military to accept transgender recruits o...</td>\n",
       "      <td>WASHINGTON (Reuters) - Transgender people will...</td>\n",
       "      <td>politicsNews</td>\n",
       "      <td>December 29, 2017</td>\n",
       "      <td>1</td>\n",
       "    </tr>\n",
       "    <tr>\n",
       "      <th>2</th>\n",
       "      <td>Senior U.S. Republican senator: 'Let Mr. Muell...</td>\n",
       "      <td>WASHINGTON (Reuters) - The special counsel inv...</td>\n",
       "      <td>politicsNews</td>\n",
       "      <td>December 31, 2017</td>\n",
       "      <td>1</td>\n",
       "    </tr>\n",
       "    <tr>\n",
       "      <th>3</th>\n",
       "      <td>FBI Russia probe helped by Australian diplomat...</td>\n",
       "      <td>WASHINGTON (Reuters) - Trump campaign adviser ...</td>\n",
       "      <td>politicsNews</td>\n",
       "      <td>December 30, 2017</td>\n",
       "      <td>1</td>\n",
       "    </tr>\n",
       "    <tr>\n",
       "      <th>4</th>\n",
       "      <td>Trump wants Postal Service to charge 'much mor...</td>\n",
       "      <td>SEATTLE/WASHINGTON (Reuters) - President Donal...</td>\n",
       "      <td>politicsNews</td>\n",
       "      <td>December 29, 2017</td>\n",
       "      <td>1</td>\n",
       "    </tr>\n",
       "  </tbody>\n",
       "</table>\n",
       "</div>"
      ],
      "text/plain": [
       "                                               title  \\\n",
       "0  As U.S. budget fight looms, Republicans flip t...   \n",
       "1  U.S. military to accept transgender recruits o...   \n",
       "2  Senior U.S. Republican senator: 'Let Mr. Muell...   \n",
       "3  FBI Russia probe helped by Australian diplomat...   \n",
       "4  Trump wants Postal Service to charge 'much mor...   \n",
       "\n",
       "                                                text       subject  \\\n",
       "0  WASHINGTON (Reuters) - The head of a conservat...  politicsNews   \n",
       "1  WASHINGTON (Reuters) - Transgender people will...  politicsNews   \n",
       "2  WASHINGTON (Reuters) - The special counsel inv...  politicsNews   \n",
       "3  WASHINGTON (Reuters) - Trump campaign adviser ...  politicsNews   \n",
       "4  SEATTLE/WASHINGTON (Reuters) - President Donal...  politicsNews   \n",
       "\n",
       "                 date  category  \n",
       "0  December 31, 2017          1  \n",
       "1  December 29, 2017          1  \n",
       "2  December 31, 2017          1  \n",
       "3  December 30, 2017          1  \n",
       "4  December 29, 2017          1  "
      ]
     },
     "execution_count": 7,
     "metadata": {},
     "output_type": "execute_result"
    }
   ],
   "source": [
    "true.head()"
   ]
  },
  {
   "cell_type": "code",
   "execution_count": 8,
   "id": "42ff2379",
   "metadata": {
    "execution": {
     "iopub.execute_input": "2022-03-04T16:09:43.042830Z",
     "iopub.status.busy": "2022-03-04T16:09:43.041740Z",
     "iopub.status.idle": "2022-03-04T16:09:43.044952Z",
     "shell.execute_reply": "2022-03-04T16:09:43.045410Z",
     "shell.execute_reply.started": "2022-03-04T15:38:46.589297Z"
    },
    "papermill": {
     "duration": 0.038215,
     "end_time": "2022-03-04T16:09:43.045542",
     "exception": false,
     "start_time": "2022-03-04T16:09:43.007327",
     "status": "completed"
    },
    "tags": []
   },
   "outputs": [
    {
     "data": {
      "text/html": [
       "<div>\n",
       "<style scoped>\n",
       "    .dataframe tbody tr th:only-of-type {\n",
       "        vertical-align: middle;\n",
       "    }\n",
       "\n",
       "    .dataframe tbody tr th {\n",
       "        vertical-align: top;\n",
       "    }\n",
       "\n",
       "    .dataframe thead th {\n",
       "        text-align: right;\n",
       "    }\n",
       "</style>\n",
       "<table border=\"1\" class=\"dataframe\">\n",
       "  <thead>\n",
       "    <tr style=\"text-align: right;\">\n",
       "      <th></th>\n",
       "      <th>title</th>\n",
       "      <th>text</th>\n",
       "      <th>subject</th>\n",
       "      <th>date</th>\n",
       "      <th>category</th>\n",
       "    </tr>\n",
       "  </thead>\n",
       "  <tbody>\n",
       "    <tr>\n",
       "      <th>0</th>\n",
       "      <td>Donald Trump Sends Out Embarrassing New Year’...</td>\n",
       "      <td>Donald Trump just couldn t wish all Americans ...</td>\n",
       "      <td>News</td>\n",
       "      <td>December 31, 2017</td>\n",
       "      <td>0</td>\n",
       "    </tr>\n",
       "    <tr>\n",
       "      <th>1</th>\n",
       "      <td>Drunk Bragging Trump Staffer Started Russian ...</td>\n",
       "      <td>House Intelligence Committee Chairman Devin Nu...</td>\n",
       "      <td>News</td>\n",
       "      <td>December 31, 2017</td>\n",
       "      <td>0</td>\n",
       "    </tr>\n",
       "    <tr>\n",
       "      <th>2</th>\n",
       "      <td>Sheriff David Clarke Becomes An Internet Joke...</td>\n",
       "      <td>On Friday, it was revealed that former Milwauk...</td>\n",
       "      <td>News</td>\n",
       "      <td>December 30, 2017</td>\n",
       "      <td>0</td>\n",
       "    </tr>\n",
       "    <tr>\n",
       "      <th>3</th>\n",
       "      <td>Trump Is So Obsessed He Even Has Obama’s Name...</td>\n",
       "      <td>On Christmas day, Donald Trump announced that ...</td>\n",
       "      <td>News</td>\n",
       "      <td>December 29, 2017</td>\n",
       "      <td>0</td>\n",
       "    </tr>\n",
       "    <tr>\n",
       "      <th>4</th>\n",
       "      <td>Pope Francis Just Called Out Donald Trump Dur...</td>\n",
       "      <td>Pope Francis used his annual Christmas Day mes...</td>\n",
       "      <td>News</td>\n",
       "      <td>December 25, 2017</td>\n",
       "      <td>0</td>\n",
       "    </tr>\n",
       "  </tbody>\n",
       "</table>\n",
       "</div>"
      ],
      "text/plain": [
       "                                               title  \\\n",
       "0   Donald Trump Sends Out Embarrassing New Year’...   \n",
       "1   Drunk Bragging Trump Staffer Started Russian ...   \n",
       "2   Sheriff David Clarke Becomes An Internet Joke...   \n",
       "3   Trump Is So Obsessed He Even Has Obama’s Name...   \n",
       "4   Pope Francis Just Called Out Donald Trump Dur...   \n",
       "\n",
       "                                                text subject  \\\n",
       "0  Donald Trump just couldn t wish all Americans ...    News   \n",
       "1  House Intelligence Committee Chairman Devin Nu...    News   \n",
       "2  On Friday, it was revealed that former Milwauk...    News   \n",
       "3  On Christmas day, Donald Trump announced that ...    News   \n",
       "4  Pope Francis used his annual Christmas Day mes...    News   \n",
       "\n",
       "                date  category  \n",
       "0  December 31, 2017         0  \n",
       "1  December 31, 2017         0  \n",
       "2  December 30, 2017         0  \n",
       "3  December 29, 2017         0  \n",
       "4  December 25, 2017         0  "
      ]
     },
     "execution_count": 8,
     "metadata": {},
     "output_type": "execute_result"
    }
   ],
   "source": [
    "false.head()"
   ]
  },
  {
   "cell_type": "code",
   "execution_count": 9,
   "id": "398a7dc9",
   "metadata": {
    "execution": {
     "iopub.execute_input": "2022-03-04T16:09:43.100654Z",
     "iopub.status.busy": "2022-03-04T16:09:43.099836Z",
     "iopub.status.idle": "2022-03-04T16:09:43.105732Z",
     "shell.execute_reply": "2022-03-04T16:09:43.105343Z",
     "shell.execute_reply.started": "2022-03-04T15:38:46.604976Z"
    },
    "papermill": {
     "duration": 0.034685,
     "end_time": "2022-03-04T16:09:43.105836",
     "exception": false,
     "start_time": "2022-03-04T16:09:43.071151",
     "status": "completed"
    },
    "tags": []
   },
   "outputs": [],
   "source": [
    "news = pd.concat([true,false])"
   ]
  },
  {
   "cell_type": "code",
   "execution_count": 10,
   "id": "337617e5",
   "metadata": {
    "execution": {
     "iopub.execute_input": "2022-03-04T16:09:43.160940Z",
     "iopub.status.busy": "2022-03-04T16:09:43.160224Z",
     "iopub.status.idle": "2022-03-04T16:09:43.349567Z",
     "shell.execute_reply": "2022-03-04T16:09:43.349130Z",
     "shell.execute_reply.started": "2022-03-04T15:38:46.616278Z"
    },
    "papermill": {
     "duration": 0.219095,
     "end_time": "2022-03-04T16:09:43.349715",
     "exception": false,
     "start_time": "2022-03-04T16:09:43.130620",
     "status": "completed"
    },
    "tags": []
   },
   "outputs": [
    {
     "data": {
      "text/plain": [
       "<AxesSubplot:xlabel='category', ylabel='count'>"
      ]
     },
     "execution_count": 10,
     "metadata": {},
     "output_type": "execute_result"
    },
    {
     "data": {
      "image/png": "[encoded data removed]",
      "text/plain": [
       "<Figure size 432x288 with 1 Axes>"
      ]
     },
     "metadata": {},
     "output_type": "display_data"
    }
   ],
   "source": [
    "sns.set_style(\"dark\")\n",
    "# Count occurences of both real and fake news\n",
    "sns.countplot(x=news.category)"
   ]
  },
  {
   "cell_type": "code",
   "execution_count": 11,
   "id": "819906f4",
   "metadata": {
    "execution": {
     "iopub.execute_input": "2022-03-04T16:09:43.633087Z",
     "iopub.status.busy": "2022-03-04T16:09:43.499841Z",
     "iopub.status.idle": "2022-03-04T16:09:43.735630Z",
     "shell.execute_reply": "2022-03-04T16:09:43.735095Z",
     "shell.execute_reply.started": "2022-03-04T15:38:46.811616Z"
    },
    "papermill": {
     "duration": 0.359448,
     "end_time": "2022-03-04T16:09:43.735764",
     "exception": false,
     "start_time": "2022-03-04T16:09:43.376316",
     "status": "completed"
    },
    "tags": []
   },
   "outputs": [],
   "source": [
    "news['text'] = news['text'] + \" \" + news['title']\n",
    "fake1['text'] = fake1['text'] + \" \" + fake1['title']\n",
    "real_fake['text'] = real_fake['text'] + \" \" + real_fake['title']\n",
    "del news['title']\n",
    "del fake1['title']\n",
    "del real_fake['title']\n",
    "del news['subject']\n",
    "del news['date']"
   ]
  },
  {
   "cell_type": "code",
   "execution_count": 12,
   "id": "61bf0a89",
   "metadata": {
    "execution": {
     "iopub.execute_input": "2022-03-04T16:09:43.797516Z",
     "iopub.status.busy": "2022-03-04T16:09:43.796853Z",
     "iopub.status.idle": "2022-03-04T16:09:43.807239Z",
     "shell.execute_reply": "2022-03-04T16:09:43.806784Z",
     "shell.execute_reply.started": "2022-03-04T15:38:47.142954Z"
    },
    "papermill": {
     "duration": 0.04292,
     "end_time": "2022-03-04T16:09:43.807350",
     "exception": false,
     "start_time": "2022-03-04T16:09:43.764430",
     "status": "completed"
    },
    "tags": []
   },
   "outputs": [
    {
     "data": {
      "text/plain": [
       "0        Print They should pay all the back all the mon...\n",
       "1        Why Did Attorney General Loretta Lynch Plead T...\n",
       "2        Red State : \\nFox News Sunday reported this mo...\n",
       "3        Email Kayla Mueller was a prisoner and torture...\n",
       "4        Email HEALTHCARE REFORM TO MAKE AMERICA GREAT ...\n",
       "                               ...                        \n",
       "12908    Oct 26, 2016 4:26 PM 0 SHARES \\nThere was a su...\n",
       "12909    The following video is a must watch, particula...\n",
       "12910    She explains : \\nHillary Clinton wants to star...\n",
       "12911    YHC-FTSE Oct 26, 2016 5:14 PM \\nWould have bee...\n",
       "12912    Oct 26, 2016 5:20 PM 0 \\nSubmitted by Joseph J...\n",
       "Name: text, Length: 11677, dtype: object"
      ]
     },
     "execution_count": 12,
     "metadata": {},
     "output_type": "execute_result"
    }
   ],
   "source": [
    "stop = set(stopwords.words('english'))\n",
    "punctuation = list(string.punctuation)\n",
    "stop.update(punctuation)\n",
    "fake1['text']"
   ]
  },
  {
   "cell_type": "markdown",
   "id": "4a31e46f",
   "metadata": {
    "papermill": {
     "duration": 0.026557,
     "end_time": "2022-03-04T16:09:43.861796",
     "exception": false,
     "start_time": "2022-03-04T16:09:43.835239",
     "status": "completed"
    },
    "tags": []
   },
   "source": [
    "### Data Cleaning"
   ]
  },
  {
   "cell_type": "code",
   "execution_count": 13,
   "id": "9216e6e9",
   "metadata": {
    "execution": {
     "iopub.execute_input": "2022-03-04T16:09:43.944903Z",
     "iopub.status.busy": "2022-03-04T16:09:43.939848Z",
     "iopub.status.idle": "2022-03-04T16:10:04.688753Z",
     "shell.execute_reply": "2022-03-04T16:10:04.689201Z",
     "shell.execute_reply.started": "2022-03-04T15:38:47.157529Z"
    },
    "papermill": {
     "duration": 20.801232,
     "end_time": "2022-03-04T16:10:04.689373",
     "exception": false,
     "start_time": "2022-03-04T16:09:43.888141",
     "status": "completed"
    },
    "tags": []
   },
   "outputs": [],
   "source": [
    "def strip_html(text):\n",
    "    soup = BeautifulSoup(text, \"html.parser\")\n",
    "    return soup.get_text()\n",
    "\n",
    "#Removing the square brackets\n",
    "def remove_between_square_brackets(text):\n",
    "    return re.sub('\\[[^]]*\\]', '', text)\n",
    "# Removing URL's\n",
    "def remove_between_square_brackets(text):\n",
    "    return re.sub(r'http\\S+', '', text)\n",
    "#Removing the stopwords from text\n",
    "def remove_stopwords(text):\n",
    "    final_text = []\n",
    "    for i in text.split():\n",
    "        if i.strip().lower() not in stop:\n",
    "            final_text.append(i.strip())\n",
    "    return \" \".join(final_text)\n",
    "#Removing the noisy text\n",
    "def denoise_text(text):\n",
    "    text = strip_html(text)\n",
    "    text = remove_between_square_brackets(text)\n",
    "    text = remove_stopwords(text)\n",
    "    return text\n",
    "#Apply function on review column\n",
    "news['text']=news['text'].apply(denoise_text)\n",
    "fake1['text'] = fake1['text'].apply(denoise_text)\n",
    "real_fake['text'] = real_fake['text'].apply(denoise_text)"
   ]
  },
  {
   "cell_type": "code",
   "execution_count": 14,
   "id": "8ffa684e",
   "metadata": {
    "execution": {
     "iopub.execute_input": "2022-03-04T16:10:04.747879Z",
     "iopub.status.busy": "2022-03-04T16:10:04.747117Z",
     "iopub.status.idle": "2022-03-04T16:10:04.752707Z",
     "shell.execute_reply": "2022-03-04T16:10:04.753102Z",
     "shell.execute_reply.started": "2022-03-04T15:39:07.749797Z"
    },
    "papermill": {
     "duration": 0.036703,
     "end_time": "2022-03-04T16:10:04.753243",
     "exception": false,
     "start_time": "2022-03-04T16:10:04.716540",
     "status": "completed"
    },
    "tags": []
   },
   "outputs": [],
   "source": [
    "# Concatenate all datasets into one\n",
    "all_news = pd.concat([news,fake1, real_fake])"
   ]
  },
  {
   "cell_type": "code",
   "execution_count": 15,
   "id": "6500ceae",
   "metadata": {
    "execution": {
     "iopub.execute_input": "2022-03-04T16:10:04.831670Z",
     "iopub.status.busy": "2022-03-04T16:10:04.821377Z",
     "iopub.status.idle": "2022-03-04T16:10:09.039047Z",
     "shell.execute_reply": "2022-03-04T16:10:09.038578Z",
     "shell.execute_reply.started": "2022-03-04T15:39:07.767827Z"
    },
    "papermill": {
     "duration": 4.259102,
     "end_time": "2022-03-04T16:10:09.039184",
     "exception": false,
     "start_time": "2022-03-04T16:10:04.780082",
     "status": "completed"
    },
    "tags": []
   },
   "outputs": [],
   "source": [
    "def get_corpus(text):\n",
    "    words = []\n",
    "    for i in text:\n",
    "        for j in i.split():\n",
    "            words.append(j.strip())\n",
    "    return words\n",
    "corpus = get_corpus(all_news.text)"
   ]
  },
  {
   "cell_type": "code",
   "execution_count": 16,
   "id": "cd5fe3c8",
   "metadata": {
    "execution": {
     "iopub.execute_input": "2022-03-04T16:10:09.099262Z",
     "iopub.status.busy": "2022-03-04T16:10:09.098512Z",
     "iopub.status.idle": "2022-03-04T16:10:09.111009Z",
     "shell.execute_reply": "2022-03-04T16:10:09.110560Z",
     "shell.execute_reply.started": "2022-03-04T15:39:11.705121Z"
    },
    "papermill": {
     "duration": 0.044282,
     "end_time": "2022-03-04T16:10:09.111161",
     "exception": false,
     "start_time": "2022-03-04T16:10:09.066879",
     "status": "completed"
    },
    "tags": []
   },
   "outputs": [],
   "source": [
    "x_train,x_test,y_train,y_test = train_test_split(all_news.text,all_news.category,random_state = 27)"
   ]
  },
  {
   "cell_type": "markdown",
   "id": "c06e0e15",
   "metadata": {
    "papermill": {
     "duration": 0.026833,
     "end_time": "2022-03-04T16:10:09.165041",
     "exception": false,
     "start_time": "2022-03-04T16:10:09.138208",
     "status": "completed"
    },
    "tags": []
   },
   "source": [
    "### Training"
   ]
  },
  {
   "cell_type": "code",
   "execution_count": 17,
   "id": "c1382e98",
   "metadata": {
    "execution": {
     "iopub.execute_input": "2022-03-04T16:10:09.222137Z",
     "iopub.status.busy": "2022-03-04T16:10:09.221453Z",
     "iopub.status.idle": "2022-03-04T16:10:09.224056Z",
     "shell.execute_reply": "2022-03-04T16:10:09.223546Z",
     "shell.execute_reply.started": "2022-03-04T15:39:11.723374Z"
    },
    "papermill": {
     "duration": 0.032835,
     "end_time": "2022-03-04T16:10:09.224165",
     "exception": false,
     "start_time": "2022-03-04T16:10:09.191330",
     "status": "completed"
    },
    "tags": []
   },
   "outputs": [],
   "source": [
    "max_features = 10000\n",
    "maxlen = 300"
   ]
  },
  {
   "cell_type": "code",
   "execution_count": 18,
   "id": "bc9cb231",
   "metadata": {
    "execution": {
     "iopub.execute_input": "2022-03-04T16:10:09.318441Z",
     "iopub.status.busy": "2022-03-04T16:10:09.313320Z",
     "iopub.status.idle": "2022-03-04T16:10:44.434282Z",
     "shell.execute_reply": "2022-03-04T16:10:44.433729Z",
     "shell.execute_reply.started": "2022-03-04T15:39:11.730270Z"
    },
    "papermill": {
     "duration": 35.183368,
     "end_time": "2022-03-04T16:10:44.434436",
     "exception": false,
     "start_time": "2022-03-04T16:10:09.251068",
     "status": "completed"
    },
    "tags": []
   },
   "outputs": [],
   "source": [
    "tokenizer = text.Tokenizer(num_words=max_features)\n",
    "tokenizer.fit_on_texts(x_train)\n",
    "tokenized_train = tokenizer.texts_to_sequences(x_train)\n",
    "x_train = sequence.pad_sequences(tokenized_train, maxlen=maxlen)"
   ]
  },
  {
   "cell_type": "code",
   "execution_count": 19,
   "id": "1b7e3c43",
   "metadata": {
    "execution": {
     "iopub.execute_input": "2022-03-04T16:10:44.511726Z",
     "iopub.status.busy": "2022-03-04T16:10:44.506177Z",
     "iopub.status.idle": "2022-03-04T16:10:49.620232Z",
     "shell.execute_reply": "2022-03-04T16:10:49.619300Z",
     "shell.execute_reply.started": "2022-03-04T15:39:46.972963Z"
    },
    "papermill": {
     "duration": 5.158772,
     "end_time": "2022-03-04T16:10:49.620377",
     "exception": false,
     "start_time": "2022-03-04T16:10:44.461605",
     "status": "completed"
    },
    "tags": []
   },
   "outputs": [],
   "source": [
    "tokenized_test = tokenizer.texts_to_sequences(x_test)\n",
    "x_test = sequence.pad_sequences(tokenized_test, maxlen=maxlen)"
   ]
  },
  {
   "cell_type": "code",
   "execution_count": 20,
   "id": "f2cdbeea",
   "metadata": {
    "execution": {
     "iopub.execute_input": "2022-03-04T16:10:49.679135Z",
     "iopub.status.busy": "2022-03-04T16:10:49.678391Z",
     "iopub.status.idle": "2022-03-04T16:10:49.680887Z",
     "shell.execute_reply": "2022-03-04T16:10:49.680398Z",
     "shell.execute_reply.started": "2022-03-04T15:41:29.477335Z"
    },
    "papermill": {
     "duration": 0.033018,
     "end_time": "2022-03-04T16:10:49.680991",
     "exception": false,
     "start_time": "2022-03-04T16:10:49.647973",
     "status": "completed"
    },
    "tags": []
   },
   "outputs": [],
   "source": [
    "# Model Hyperparameters\n",
    "batch_size = 256\n",
    "epochs = 5\n",
    "embed_size = 100"
   ]
  },
  {
   "cell_type": "code",
   "execution_count": 21,
   "id": "decd3e5e",
   "metadata": {
    "execution": {
     "iopub.execute_input": "2022-03-04T16:10:49.738866Z",
     "iopub.status.busy": "2022-03-04T16:10:49.738370Z",
     "iopub.status.idle": "2022-03-04T16:10:52.742487Z",
     "shell.execute_reply": "2022-03-04T16:10:52.741876Z",
     "shell.execute_reply.started": "2022-03-04T15:41:30.229414Z"
    },
    "papermill": {
     "duration": 3.035475,
     "end_time": "2022-03-04T16:10:52.742615",
     "exception": false,
     "start_time": "2022-03-04T16:10:49.707140",
     "status": "completed"
    },
    "tags": []
   },
   "outputs": [
    {
     "name": "stderr",
     "output_type": "stream",
     "text": [
      "2022-03-04 16:10:49.828732: I tensorflow/stream_executor/cuda/cuda_gpu_executor.cc:937] successful NUMA node read from SysFS had negative value (-1), but there must be at least one NUMA node, so returning NUMA node zero\n",
      "2022-03-04 16:10:49.931918: I tensorflow/stream_executor/cuda/cuda_gpu_executor.cc:937] successful NUMA node read from SysFS had negative value (-1), but there must be at least one NUMA node, so returning NUMA node zero\n",
      "2022-03-04 16:10:49.932634: I tensorflow/stream_executor/cuda/cuda_gpu_executor.cc:937] successful NUMA node read from SysFS had negative value (-1), but there must be at least one NUMA node, so returning NUMA node zero\n",
      "2022-03-04 16:10:49.933792: I tensorflow/core/platform/cpu_feature_guard.cc:142] This TensorFlow binary is optimized with oneAPI Deep Neural Network Library (oneDNN) to use the following CPU instructions in performance-critical operations:  AVX2 AVX512F FMA\n",
      "To enable them in other operations, rebuild TensorFlow with the appropriate compiler flags.\n",
      "2022-03-04 16:10:49.934883: I tensorflow/stream_executor/cuda/cuda_gpu_executor.cc:937] successful NUMA node read from SysFS had negative value (-1), but there must be at least one NUMA node, so returning NUMA node zero\n",
      "2022-03-04 16:10:49.935562: I tensorflow/stream_executor/cuda/cuda_gpu_executor.cc:937] successful NUMA node read from SysFS had negative value (-1), but there must be at least one NUMA node, so returning NUMA node zero\n",
      "2022-03-04 16:10:49.936176: I tensorflow/stream_executor/cuda/cuda_gpu_executor.cc:937] successful NUMA node read from SysFS had negative value (-1), but there must be at least one NUMA node, so returning NUMA node zero\n",
      "2022-03-04 16:10:51.752554: I tensorflow/stream_executor/cuda/cuda_gpu_executor.cc:937] successful NUMA node read from SysFS had negative value (-1), but there must be at least one NUMA node, so returning NUMA node zero\n",
      "2022-03-04 16:10:51.753427: I tensorflow/stream_executor/cuda/cuda_gpu_executor.cc:937] successful NUMA node read from SysFS had negative value (-1), but there must be at least one NUMA node, so returning NUMA node zero\n",
      "2022-03-04 16:10:51.754121: I tensorflow/stream_executor/cuda/cuda_gpu_executor.cc:937] successful NUMA node read from SysFS had negative value (-1), but there must be at least one NUMA node, so returning NUMA node zero\n",
      "2022-03-04 16:10:51.754695: I tensorflow/core/common_runtime/gpu/gpu_device.cc:1510] Created device /job:localhost/replica:0/task:0/device:GPU:0 with 15403 MB memory:  -> device: 0, name: Tesla P100-PCIE-16GB, pci bus id: 0000:00:04.0, compute capability: 6.0\n"
     ]
    }
   ],
   "source": [
    "model = Sequential([\n",
    "                    Embedding(max_features, embed_size, input_length=maxlen),\n",
    "                    Bidirectional(LSTM(150, return_sequences=True, dropout=0.25)),\n",
    "                    LSTM(100, dropout=0.1),\n",
    "                    Dense(32, activation='relu', kernel_regularizer = regularizers.l2(0.01)),\n",
    "                    Dense(1, activation='sigmoid')\n",
    "])\n",
    "\n",
    "model.compile(loss='binary_crossentropy', optimizer='adam', metrics=['acc'])"
   ]
  },
  {
   "cell_type": "code",
   "execution_count": 22,
   "id": "80fca53f",
   "metadata": {
    "execution": {
     "iopub.execute_input": "2022-03-04T16:10:52.801031Z",
     "iopub.status.busy": "2022-03-04T16:10:52.800462Z",
     "iopub.status.idle": "2022-03-04T16:13:18.727879Z",
     "shell.execute_reply": "2022-03-04T16:13:18.726943Z",
     "shell.execute_reply.started": "2022-03-04T15:41:33.078106Z"
    },
    "papermill": {
     "duration": 145.958202,
     "end_time": "2022-03-04T16:13:18.728072",
     "exception": false,
     "start_time": "2022-03-04T16:10:52.769870",
     "status": "completed"
    },
    "tags": []
   },
   "outputs": [
    {
     "name": "stderr",
     "output_type": "stream",
     "text": [
      "2022-03-04 16:10:52.886125: I tensorflow/compiler/mlir/mlir_graph_optimization_pass.cc:185] None of the MLIR Optimization Passes are enabled (registered 2)\n"
     ]
    },
    {
     "name": "stdout",
     "output_type": "stream",
     "text": [
      "Epoch 1/5\n"
     ]
    },
    {
     "name": "stderr",
     "output_type": "stream",
     "text": [
      "2022-03-04 16:10:57.589196: I tensorflow/stream_executor/cuda/cuda_dnn.cc:369] Loaded cuDNN version 8005\n"
     ]
    },
    {
     "name": "stdout",
     "output_type": "stream",
     "text": [
      "185/185 [==============================] - 31s 138ms/step - loss: 0.3758 - acc: 0.9209 - val_loss: 0.1392 - val_acc: 0.9663\n",
      "Epoch 2/5\n",
      "185/185 [==============================] - 25s 133ms/step - loss: 0.0810 - acc: 0.9792 - val_loss: 0.1001 - val_acc: 0.9701\n",
      "Epoch 3/5\n",
      "185/185 [==============================] - 25s 133ms/step - loss: 0.0496 - acc: 0.9871 - val_loss: 0.1038 - val_acc: 0.9691\n",
      "Epoch 4/5\n",
      "185/185 [==============================] - 25s 133ms/step - loss: 0.0349 - acc: 0.9920 - val_loss: 0.1051 - val_acc: 0.9729\n",
      "Epoch 5/5\n",
      "185/185 [==============================] - 25s 133ms/step - loss: 0.0237 - acc: 0.9949 - val_loss: 0.1036 - val_acc: 0.9744\n"
     ]
    }
   ],
   "source": [
    "history = model.fit(\n",
    "    x_train,\n",
    "    y_train,\n",
    "    epochs=epochs,\n",
    "    batch_size=batch_size,\n",
    "    validation_data = (x_test,y_test)\n",
    ")"
   ]
  },
  {
   "cell_type": "markdown",
   "id": "941a8da3",
   "metadata": {
    "papermill": {
     "duration": 0.310843,
     "end_time": "2022-03-04T16:13:19.347348",
     "exception": false,
     "start_time": "2022-03-04T16:13:19.036505",
     "status": "completed"
    },
    "tags": []
   },
   "source": [
    "### Evaluation"
   ]
  },
  {
   "cell_type": "code",
   "execution_count": 23,
   "id": "4e33c983",
   "metadata": {
    "execution": {
     "iopub.execute_input": "2022-03-04T16:13:20.158827Z",
     "iopub.status.busy": "2022-03-04T16:13:20.158052Z",
     "iopub.status.idle": "2022-03-04T16:13:20.784590Z",
     "shell.execute_reply": "2022-03-04T16:13:20.785811Z",
     "shell.execute_reply.started": "2022-03-04T15:41:21.447344Z"
    },
    "papermill": {
     "duration": 1.129772,
     "end_time": "2022-03-04T16:13:20.786030",
     "exception": false,
     "start_time": "2022-03-04T16:13:19.656258",
     "status": "completed"
    },
    "tags": []
   },
   "outputs": [
    {
     "data": {
      "text/plain": [
       "<matplotlib.legend.Legend at 0x7fb15c389dd0>"
      ]
     },
     "execution_count": 23,
     "metadata": {},
     "output_type": "execute_result"
    },
    {
     "data": {
      "image/png": "[encoded data removed]",
      "text/plain": [
       "<Figure size 432x288 with 1 Axes>"
      ]
     },
     "metadata": {},
     "output_type": "display_data"
    },
    {
     "data": {
      "image/png": "[encoded data removed]",
      "text/plain": [
       "<Figure size 432x288 with 1 Axes>"
      ]
     },
     "metadata": {},
     "output_type": "display_data"
    }
   ],
   "source": [
    "acc = history.history['acc']\n",
    "loss = history.history['loss']\n",
    "val_acc = history.history['val_acc']\n",
    "val_loss = history.history['val_loss']\n",
    "\n",
    "plt.plot(acc, color='b', label='Train Accuracy')\n",
    "plt.plot(val_acc, color='r', label='Val Accuracy')\n",
    "plt.title('Training and Validation Accuracy')\n",
    "plt.xticks([i for i in range(epochs)])\n",
    "plt.legend()\n",
    "\n",
    "plt.figure()\n",
    "plt.plot(loss, color='b', label='Train Loss')\n",
    "plt.plot(val_loss, color='r', label='Val Loss')\n",
    "plt.title('Training and Validation Loss')\n",
    "plt.xticks([i for i in range(epochs)])\n",
    "plt.legend()\n",
    "\n",
    "#accuracy, precision, recall f1_score"
   ]
  },
  {
   "cell_type": "code",
   "execution_count": null,
   "id": "7261b9d3",
   "metadata": {
    "papermill": {
     "duration": 0.349316,
     "end_time": "2022-03-04T16:13:21.474553",
     "exception": false,
     "start_time": "2022-03-04T16:13:21.125237",
     "status": "completed"
    },
    "tags": []
   },
   "outputs": [],
   "source": []
  }
 ],
 "metadata": {
  "kernelspec": {
   "display_name": "Python 3",
   "language": "python",
   "name": "python3"
  },
  "language_info": {
   "codemirror_mode": {
    "name": "ipython",
    "version": 3
   },
   "file_extension": ".py",
   "mimetype": "text/x-python",
   "name": "python",
   "nbconvert_exporter": "python",
   "pygments_lexer": "ipython3",
   "version": "3.7.12"
  },
  "papermill": {
   "default_parameters": {},
   "duration": 242.625845,
   "end_time": "2022-03-04T16:13:25.364377",
   "environment_variables": {},
   "exception": null,
   "input_path": "__notebook__.ipynb",
   "output_path": "__notebook__.ipynb",
   "parameters": {},
   "start_time": "2022-03-04T16:09:22.738532",
   "version": "2.3.3"
  }
 },
 "nbformat": 4,
 "nbformat_minor": 5
}
