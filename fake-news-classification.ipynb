{
 "cells": [
  {
   "cell_type": "code",
   "execution_count": 1,
   "id": "67686d6d",
   "metadata": {
    "execution": {
     "iopub.execute_input": "2022-03-07T14:32:18.791400Z",
     "iopub.status.busy": "2022-03-07T14:32:18.790630Z",
     "iopub.status.idle": "2022-03-07T14:32:25.263509Z",
     "shell.execute_reply": "2022-03-07T14:32:25.262874Z",
     "shell.execute_reply.started": "2022-03-07T10:33:49.194834Z"
    },
    "papermill": {
     "duration": 6.541073,
     "end_time": "2022-03-07T14:32:25.263652",
     "exception": false,
     "start_time": "2022-03-07T14:32:18.722579",
     "status": "completed"
    },
    "tags": []
   },
   "outputs": [],
   "source": [
    "import tensorflow as tf\n",
    "import pandas as pd\n",
    "import numpy as np\n",
    "import seaborn as sns\n",
    "from bs4 import BeautifulSoup\n",
    "import re,string,unicodedata\n",
    "import matplotlib.pyplot as plt\n",
    "import tensorflow.keras.layers as tfl\n",
    "from keras.preprocessing import text, sequence\n",
    "from sklearn.metrics import classification_report,confusion_matrix,accuracy_score\n",
    "from tensorflow.keras.preprocessing.sequence import pad_sequences\n",
    "from tensorflow.keras.layers import Embedding, LSTM, Dense, Dropout, Bidirectional\n",
    "from tensorflow.keras.preprocessing.text import Tokenizer\n",
    "from tensorflow.keras.models import Sequential\n",
    "from tensorflow.keras.optimizers import Adam\n",
    "from tensorflow.keras import regularizers\n",
    "import tensorflow.keras.utils as ku \n",
    "from sklearn.model_selection import train_test_split\n",
    "from nltk.corpus import stopwords\n",
    "from wordcloud import WordCloud, STOPWORDS\n",
    "from sklearn.feature_extraction.text import CountVectorizer\n",
    "from sklearn.metrics import f1_score, accuracy_score, precision_score, recall_score, plot_roc_curve, classification_report, roc_auc_score\n",
    "from keras.backend import clear_session\n",
    "import datetime\n",
    "%matplotlib inline"
   ]
  },
  {
   "cell_type": "code",
   "execution_count": 2,
   "id": "337441c5",
   "metadata": {
    "execution": {
     "iopub.execute_input": "2022-03-07T14:32:25.375509Z",
     "iopub.status.busy": "2022-03-07T14:32:25.374917Z",
     "iopub.status.idle": "2022-03-07T14:32:27.789796Z",
     "shell.execute_reply": "2022-03-07T14:32:27.789278Z",
     "shell.execute_reply.started": "2022-03-07T10:33:56.989607Z"
    },
    "papermill": {
     "duration": 2.471864,
     "end_time": "2022-03-07T14:32:27.789920",
     "exception": false,
     "start_time": "2022-03-07T14:32:25.318056",
     "status": "completed"
    },
    "tags": []
   },
   "outputs": [],
   "source": [
    "true = pd.read_csv(\"../input/fake-and-real-news-dataset/True.csv\")\n",
    "false = pd.read_csv(\"../input/fake-and-real-news-dataset/Fake.csv\")"
   ]
  },
  {
   "cell_type": "markdown",
   "id": "db204b42",
   "metadata": {
    "papermill": {
     "duration": 0.052874,
     "end_time": "2022-03-07T14:32:27.896666",
     "exception": false,
     "start_time": "2022-03-07T14:32:27.843792",
     "status": "completed"
    },
    "tags": []
   },
   "source": [
    "### Preparing fake-news dataset"
   ]
  },
  {
   "cell_type": "code",
   "execution_count": 3,
   "id": "eec94c0a",
   "metadata": {
    "execution": {
     "iopub.execute_input": "2022-03-07T14:32:28.008921Z",
     "iopub.status.busy": "2022-03-07T14:32:28.008391Z",
     "iopub.status.idle": "2022-03-07T14:32:29.247971Z",
     "shell.execute_reply": "2022-03-07T14:32:29.247526Z",
     "shell.execute_reply.started": "2022-03-07T10:33:59.378492Z"
    },
    "papermill": {
     "duration": 1.297866,
     "end_time": "2022-03-07T14:32:29.248094",
     "exception": false,
     "start_time": "2022-03-07T14:32:27.950228",
     "status": "completed"
    },
    "tags": []
   },
   "outputs": [
    {
     "data": {
      "text/html": [
       "<div>\n",
       "<style scoped>\n",
       "    .dataframe tbody tr th:only-of-type {\n",
       "        vertical-align: middle;\n",
       "    }\n",
       "\n",
       "    .dataframe tbody tr th {\n",
       "        vertical-align: top;\n",
       "    }\n",
       "\n",
       "    .dataframe thead th {\n",
       "        text-align: right;\n",
       "    }\n",
       "</style>\n",
       "<table border=\"1\" class=\"dataframe\">\n",
       "  <thead>\n",
       "    <tr style=\"text-align: right;\">\n",
       "      <th></th>\n",
       "      <th>title</th>\n",
       "      <th>text</th>\n",
       "      <th>category</th>\n",
       "    </tr>\n",
       "  </thead>\n",
       "  <tbody>\n",
       "    <tr>\n",
       "      <th>0</th>\n",
       "      <td>Muslims BUSTED: They Stole Millions In Gov’t B...</td>\n",
       "      <td>Print They should pay all the back all the mon...</td>\n",
       "      <td>0</td>\n",
       "    </tr>\n",
       "    <tr>\n",
       "      <th>1</th>\n",
       "      <td>Re: Why Did Attorney General Loretta Lynch Ple...</td>\n",
       "      <td>Why Did Attorney General Loretta Lynch Plead T...</td>\n",
       "      <td>0</td>\n",
       "    </tr>\n",
       "    <tr>\n",
       "      <th>2</th>\n",
       "      <td>BREAKING: Weiner Cooperating With FBI On Hilla...</td>\n",
       "      <td>Red State : \\nFox News Sunday reported this mo...</td>\n",
       "      <td>0</td>\n",
       "    </tr>\n",
       "    <tr>\n",
       "      <th>3</th>\n",
       "      <td>PIN DROP SPEECH BY FATHER OF DAUGHTER Kidnappe...</td>\n",
       "      <td>Email Kayla Mueller was a prisoner and torture...</td>\n",
       "      <td>0</td>\n",
       "    </tr>\n",
       "    <tr>\n",
       "      <th>4</th>\n",
       "      <td>FANTASTIC! TRUMP'S 7 POINT PLAN To Reform Heal...</td>\n",
       "      <td>Email HEALTHCARE REFORM TO MAKE AMERICA GREAT ...</td>\n",
       "      <td>0</td>\n",
       "    </tr>\n",
       "  </tbody>\n",
       "</table>\n",
       "</div>"
      ],
      "text/plain": [
       "                                               title  \\\n",
       "0  Muslims BUSTED: They Stole Millions In Gov’t B...   \n",
       "1  Re: Why Did Attorney General Loretta Lynch Ple...   \n",
       "2  BREAKING: Weiner Cooperating With FBI On Hilla...   \n",
       "3  PIN DROP SPEECH BY FATHER OF DAUGHTER Kidnappe...   \n",
       "4  FANTASTIC! TRUMP'S 7 POINT PLAN To Reform Heal...   \n",
       "\n",
       "                                                text  category  \n",
       "0  Print They should pay all the back all the mon...         0  \n",
       "1  Why Did Attorney General Loretta Lynch Plead T...         0  \n",
       "2  Red State : \\nFox News Sunday reported this mo...         0  \n",
       "3  Email Kayla Mueller was a prisoner and torture...         0  \n",
       "4  Email HEALTHCARE REFORM TO MAKE AMERICA GREAT ...         0  "
      ]
     },
     "execution_count": 3,
     "metadata": {},
     "output_type": "execute_result"
    }
   ],
   "source": [
    "fake1 = pd.read_csv(\"../input/fake-news/fake.csv\")\n",
    "# removing all unnecessary columns\n",
    "fake1 = fake1[['title', 'text', 'language']]\n",
    "# removing non-english articles\n",
    "fake1 = fake1[fake1['language'] == 'english']\n",
    "del fake1['language']\n",
    "fake1['category'] = 0\n",
    "# drop rows with missing values\n",
    "fake1 = fake1.dropna(axis=0)\n",
    "\n",
    "fake1.head()"
   ]
  },
  {
   "cell_type": "markdown",
   "id": "b0c2acc3",
   "metadata": {
    "papermill": {
     "duration": 0.053521,
     "end_time": "2022-03-07T14:32:29.356104",
     "exception": false,
     "start_time": "2022-03-07T14:32:29.302583",
     "status": "completed"
    },
    "tags": []
   },
   "source": [
    "### Preparing real-and-fake-news-dataset"
   ]
  },
  {
   "cell_type": "code",
   "execution_count": 4,
   "id": "def4bcb2",
   "metadata": {
    "execution": {
     "iopub.execute_input": "2022-03-07T14:32:29.468875Z",
     "iopub.status.busy": "2022-03-07T14:32:29.468359Z",
     "iopub.status.idle": "2022-03-07T14:32:30.120454Z",
     "shell.execute_reply": "2022-03-07T14:32:30.121154Z",
     "shell.execute_reply.started": "2022-03-07T10:34:00.877628Z"
    },
    "papermill": {
     "duration": 0.711256,
     "end_time": "2022-03-07T14:32:30.121312",
     "exception": false,
     "start_time": "2022-03-07T14:32:29.410056",
     "status": "completed"
    },
    "tags": []
   },
   "outputs": [
    {
     "data": {
      "text/html": [
       "<div>\n",
       "<style scoped>\n",
       "    .dataframe tbody tr th:only-of-type {\n",
       "        vertical-align: middle;\n",
       "    }\n",
       "\n",
       "    .dataframe tbody tr th {\n",
       "        vertical-align: top;\n",
       "    }\n",
       "\n",
       "    .dataframe thead th {\n",
       "        text-align: right;\n",
       "    }\n",
       "</style>\n",
       "<table border=\"1\" class=\"dataframe\">\n",
       "  <thead>\n",
       "    <tr style=\"text-align: right;\">\n",
       "      <th></th>\n",
       "      <th>title</th>\n",
       "      <th>text</th>\n",
       "      <th>category</th>\n",
       "    </tr>\n",
       "  </thead>\n",
       "  <tbody>\n",
       "    <tr>\n",
       "      <th>0</th>\n",
       "      <td>You Can Smell Hillary’s Fear</td>\n",
       "      <td>Daniel Greenfield, a Shillman Journalism Fello...</td>\n",
       "      <td>0</td>\n",
       "    </tr>\n",
       "    <tr>\n",
       "      <th>1</th>\n",
       "      <td>Watch The Exact Moment Paul Ryan Committed Pol...</td>\n",
       "      <td>Google Pinterest Digg Linkedin Reddit Stumbleu...</td>\n",
       "      <td>0</td>\n",
       "    </tr>\n",
       "    <tr>\n",
       "      <th>2</th>\n",
       "      <td>Kerry to go to Paris in gesture of sympathy</td>\n",
       "      <td>U.S. Secretary of State John F. Kerry said Mon...</td>\n",
       "      <td>1</td>\n",
       "    </tr>\n",
       "    <tr>\n",
       "      <th>3</th>\n",
       "      <td>Bernie supporters on Twitter erupt in anger ag...</td>\n",
       "      <td>— Kaydee King (@KaydeeKing) November 9, 2016 T...</td>\n",
       "      <td>0</td>\n",
       "    </tr>\n",
       "    <tr>\n",
       "      <th>4</th>\n",
       "      <td>The Battle of New York: Why This Primary Matters</td>\n",
       "      <td>It's primary day in New York and front-runners...</td>\n",
       "      <td>1</td>\n",
       "    </tr>\n",
       "  </tbody>\n",
       "</table>\n",
       "</div>"
      ],
      "text/plain": [
       "                                               title  \\\n",
       "0                       You Can Smell Hillary’s Fear   \n",
       "1  Watch The Exact Moment Paul Ryan Committed Pol...   \n",
       "2        Kerry to go to Paris in gesture of sympathy   \n",
       "3  Bernie supporters on Twitter erupt in anger ag...   \n",
       "4   The Battle of New York: Why This Primary Matters   \n",
       "\n",
       "                                                text  category  \n",
       "0  Daniel Greenfield, a Shillman Journalism Fello...         0  \n",
       "1  Google Pinterest Digg Linkedin Reddit Stumbleu...         0  \n",
       "2  U.S. Secretary of State John F. Kerry said Mon...         1  \n",
       "3  — Kaydee King (@KaydeeKing) November 9, 2016 T...         0  \n",
       "4  It's primary day in New York and front-runners...         1  "
      ]
     },
     "execution_count": 4,
     "metadata": {},
     "output_type": "execute_result"
    }
   ],
   "source": [
    "real_fake = pd.read_csv(\"../input/real-and-fake-news-dataset/news.csv\")\n",
    "# removing all unnecessary columns\n",
    "del real_fake['Unnamed: 0']\n",
    "\n",
    "# turning label into boolean category (1 for real, 0 for fake)\n",
    "d = {'REAL': 1, 'FAKE': 0}\n",
    "real_fake['category'] = real_fake['label'].map(d)\n",
    "del real_fake['label']\n",
    "# drop rows with missing values\n",
    "real_fake = real_fake.dropna(axis=0)\n",
    "\n",
    "real_fake.head()"
   ]
  },
  {
   "cell_type": "code",
   "execution_count": 5,
   "id": "52412bdd",
   "metadata": {
    "execution": {
     "iopub.execute_input": "2022-03-07T14:32:30.238486Z",
     "iopub.status.busy": "2022-03-07T14:32:30.237876Z",
     "iopub.status.idle": "2022-03-07T14:32:30.240303Z",
     "shell.execute_reply": "2022-03-07T14:32:30.240672Z",
     "shell.execute_reply.started": "2022-03-07T10:34:01.606291Z"
    },
    "papermill": {
     "duration": 0.063233,
     "end_time": "2022-03-07T14:32:30.240806",
     "exception": false,
     "start_time": "2022-03-07T14:32:30.177573",
     "status": "completed"
    },
    "tags": []
   },
   "outputs": [],
   "source": [
    "true['category'] = 1\n",
    "false['category'] = 0"
   ]
  },
  {
   "cell_type": "code",
   "execution_count": 6,
   "id": "39dcc946",
   "metadata": {
    "execution": {
     "iopub.execute_input": "2022-03-07T14:32:30.372480Z",
     "iopub.status.busy": "2022-03-07T14:32:30.371797Z",
     "iopub.status.idle": "2022-03-07T14:32:30.374563Z",
     "shell.execute_reply": "2022-03-07T14:32:30.374979Z",
     "shell.execute_reply.started": "2022-03-07T10:34:01.621864Z"
    },
    "papermill": {
     "duration": 0.069921,
     "end_time": "2022-03-07T14:32:30.375105",
     "exception": false,
     "start_time": "2022-03-07T14:32:30.305184",
     "status": "completed"
    },
    "tags": []
   },
   "outputs": [
    {
     "data": {
      "text/html": [
       "<div>\n",
       "<style scoped>\n",
       "    .dataframe tbody tr th:only-of-type {\n",
       "        vertical-align: middle;\n",
       "    }\n",
       "\n",
       "    .dataframe tbody tr th {\n",
       "        vertical-align: top;\n",
       "    }\n",
       "\n",
       "    .dataframe thead th {\n",
       "        text-align: right;\n",
       "    }\n",
       "</style>\n",
       "<table border=\"1\" class=\"dataframe\">\n",
       "  <thead>\n",
       "    <tr style=\"text-align: right;\">\n",
       "      <th></th>\n",
       "      <th>title</th>\n",
       "      <th>text</th>\n",
       "      <th>subject</th>\n",
       "      <th>date</th>\n",
       "      <th>category</th>\n",
       "    </tr>\n",
       "  </thead>\n",
       "  <tbody>\n",
       "    <tr>\n",
       "      <th>0</th>\n",
       "      <td>As U.S. budget fight looms, Republicans flip t...</td>\n",
       "      <td>WASHINGTON (Reuters) - The head of a conservat...</td>\n",
       "      <td>politicsNews</td>\n",
       "      <td>December 31, 2017</td>\n",
       "      <td>1</td>\n",
       "    </tr>\n",
       "    <tr>\n",
       "      <th>1</th>\n",
       "      <td>U.S. military to accept transgender recruits o...</td>\n",
       "      <td>WASHINGTON (Reuters) - Transgender people will...</td>\n",
       "      <td>politicsNews</td>\n",
       "      <td>December 29, 2017</td>\n",
       "      <td>1</td>\n",
       "    </tr>\n",
       "    <tr>\n",
       "      <th>2</th>\n",
       "      <td>Senior U.S. Republican senator: 'Let Mr. Muell...</td>\n",
       "      <td>WASHINGTON (Reuters) - The special counsel inv...</td>\n",
       "      <td>politicsNews</td>\n",
       "      <td>December 31, 2017</td>\n",
       "      <td>1</td>\n",
       "    </tr>\n",
       "    <tr>\n",
       "      <th>3</th>\n",
       "      <td>FBI Russia probe helped by Australian diplomat...</td>\n",
       "      <td>WASHINGTON (Reuters) - Trump campaign adviser ...</td>\n",
       "      <td>politicsNews</td>\n",
       "      <td>December 30, 2017</td>\n",
       "      <td>1</td>\n",
       "    </tr>\n",
       "    <tr>\n",
       "      <th>4</th>\n",
       "      <td>Trump wants Postal Service to charge 'much mor...</td>\n",
       "      <td>SEATTLE/WASHINGTON (Reuters) - President Donal...</td>\n",
       "      <td>politicsNews</td>\n",
       "      <td>December 29, 2017</td>\n",
       "      <td>1</td>\n",
       "    </tr>\n",
       "  </tbody>\n",
       "</table>\n",
       "</div>"
      ],
      "text/plain": [
       "                                               title  \\\n",
       "0  As U.S. budget fight looms, Republicans flip t...   \n",
       "1  U.S. military to accept transgender recruits o...   \n",
       "2  Senior U.S. Republican senator: 'Let Mr. Muell...   \n",
       "3  FBI Russia probe helped by Australian diplomat...   \n",
       "4  Trump wants Postal Service to charge 'much mor...   \n",
       "\n",
       "                                                text       subject  \\\n",
       "0  WASHINGTON (Reuters) - The head of a conservat...  politicsNews   \n",
       "1  WASHINGTON (Reuters) - Transgender people will...  politicsNews   \n",
       "2  WASHINGTON (Reuters) - The special counsel inv...  politicsNews   \n",
       "3  WASHINGTON (Reuters) - Trump campaign adviser ...  politicsNews   \n",
       "4  SEATTLE/WASHINGTON (Reuters) - President Donal...  politicsNews   \n",
       "\n",
       "                 date  category  \n",
       "0  December 31, 2017          1  \n",
       "1  December 29, 2017          1  \n",
       "2  December 31, 2017          1  \n",
       "3  December 30, 2017          1  \n",
       "4  December 29, 2017          1  "
      ]
     },
     "execution_count": 6,
     "metadata": {},
     "output_type": "execute_result"
    }
   ],
   "source": [
    "true.head()"
   ]
  },
  {
   "cell_type": "code",
   "execution_count": 7,
   "id": "8e450324",
   "metadata": {
    "execution": {
     "iopub.execute_input": "2022-03-07T14:32:30.505598Z",
     "iopub.status.busy": "2022-03-07T14:32:30.504893Z",
     "iopub.status.idle": "2022-03-07T14:32:30.507644Z",
     "shell.execute_reply": "2022-03-07T14:32:30.508101Z",
     "shell.execute_reply.started": "2022-03-07T10:34:01.642825Z"
    },
    "papermill": {
     "duration": 0.072673,
     "end_time": "2022-03-07T14:32:30.508229",
     "exception": false,
     "start_time": "2022-03-07T14:32:30.435556",
     "status": "completed"
    },
    "tags": []
   },
   "outputs": [
    {
     "data": {
      "text/html": [
       "<div>\n",
       "<style scoped>\n",
       "    .dataframe tbody tr th:only-of-type {\n",
       "        vertical-align: middle;\n",
       "    }\n",
       "\n",
       "    .dataframe tbody tr th {\n",
       "        vertical-align: top;\n",
       "    }\n",
       "\n",
       "    .dataframe thead th {\n",
       "        text-align: right;\n",
       "    }\n",
       "</style>\n",
       "<table border=\"1\" class=\"dataframe\">\n",
       "  <thead>\n",
       "    <tr style=\"text-align: right;\">\n",
       "      <th></th>\n",
       "      <th>title</th>\n",
       "      <th>text</th>\n",
       "      <th>subject</th>\n",
       "      <th>date</th>\n",
       "      <th>category</th>\n",
       "    </tr>\n",
       "  </thead>\n",
       "  <tbody>\n",
       "    <tr>\n",
       "      <th>0</th>\n",
       "      <td>Donald Trump Sends Out Embarrassing New Year’...</td>\n",
       "      <td>Donald Trump just couldn t wish all Americans ...</td>\n",
       "      <td>News</td>\n",
       "      <td>December 31, 2017</td>\n",
       "      <td>0</td>\n",
       "    </tr>\n",
       "    <tr>\n",
       "      <th>1</th>\n",
       "      <td>Drunk Bragging Trump Staffer Started Russian ...</td>\n",
       "      <td>House Intelligence Committee Chairman Devin Nu...</td>\n",
       "      <td>News</td>\n",
       "      <td>December 31, 2017</td>\n",
       "      <td>0</td>\n",
       "    </tr>\n",
       "    <tr>\n",
       "      <th>2</th>\n",
       "      <td>Sheriff David Clarke Becomes An Internet Joke...</td>\n",
       "      <td>On Friday, it was revealed that former Milwauk...</td>\n",
       "      <td>News</td>\n",
       "      <td>December 30, 2017</td>\n",
       "      <td>0</td>\n",
       "    </tr>\n",
       "    <tr>\n",
       "      <th>3</th>\n",
       "      <td>Trump Is So Obsessed He Even Has Obama’s Name...</td>\n",
       "      <td>On Christmas day, Donald Trump announced that ...</td>\n",
       "      <td>News</td>\n",
       "      <td>December 29, 2017</td>\n",
       "      <td>0</td>\n",
       "    </tr>\n",
       "    <tr>\n",
       "      <th>4</th>\n",
       "      <td>Pope Francis Just Called Out Donald Trump Dur...</td>\n",
       "      <td>Pope Francis used his annual Christmas Day mes...</td>\n",
       "      <td>News</td>\n",
       "      <td>December 25, 2017</td>\n",
       "      <td>0</td>\n",
       "    </tr>\n",
       "  </tbody>\n",
       "</table>\n",
       "</div>"
      ],
      "text/plain": [
       "                                               title  \\\n",
       "0   Donald Trump Sends Out Embarrassing New Year’...   \n",
       "1   Drunk Bragging Trump Staffer Started Russian ...   \n",
       "2   Sheriff David Clarke Becomes An Internet Joke...   \n",
       "3   Trump Is So Obsessed He Even Has Obama’s Name...   \n",
       "4   Pope Francis Just Called Out Donald Trump Dur...   \n",
       "\n",
       "                                                text subject  \\\n",
       "0  Donald Trump just couldn t wish all Americans ...    News   \n",
       "1  House Intelligence Committee Chairman Devin Nu...    News   \n",
       "2  On Friday, it was revealed that former Milwauk...    News   \n",
       "3  On Christmas day, Donald Trump announced that ...    News   \n",
       "4  Pope Francis used his annual Christmas Day mes...    News   \n",
       "\n",
       "                date  category  \n",
       "0  December 31, 2017         0  \n",
       "1  December 31, 2017         0  \n",
       "2  December 30, 2017         0  \n",
       "3  December 29, 2017         0  \n",
       "4  December 25, 2017         0  "
      ]
     },
     "execution_count": 7,
     "metadata": {},
     "output_type": "execute_result"
    }
   ],
   "source": [
    "false.head()"
   ]
  },
  {
   "cell_type": "code",
   "execution_count": 8,
   "id": "f05c5d62",
   "metadata": {
    "execution": {
     "iopub.execute_input": "2022-03-07T14:32:30.626881Z",
     "iopub.status.busy": "2022-03-07T14:32:30.626095Z",
     "iopub.status.idle": "2022-03-07T14:32:30.631894Z",
     "shell.execute_reply": "2022-03-07T14:32:30.631508Z",
     "shell.execute_reply.started": "2022-03-07T10:34:01.663650Z"
    },
    "papermill": {
     "duration": 0.064981,
     "end_time": "2022-03-07T14:32:30.632029",
     "exception": false,
     "start_time": "2022-03-07T14:32:30.567048",
     "status": "completed"
    },
    "tags": []
   },
   "outputs": [],
   "source": [
    "news = pd.concat([true,false])"
   ]
  },
  {
   "cell_type": "code",
   "execution_count": 9,
   "id": "065c17fb",
   "metadata": {
    "execution": {
     "iopub.execute_input": "2022-03-07T14:32:30.749897Z",
     "iopub.status.busy": "2022-03-07T14:32:30.749226Z",
     "iopub.status.idle": "2022-03-07T14:32:30.751804Z",
     "shell.execute_reply": "2022-03-07T14:32:30.751369Z",
     "shell.execute_reply.started": "2022-03-07T10:34:01.681091Z"
    },
    "papermill": {
     "duration": 0.063076,
     "end_time": "2022-03-07T14:32:30.751905",
     "exception": false,
     "start_time": "2022-03-07T14:32:30.688829",
     "status": "completed"
    },
    "tags": []
   },
   "outputs": [],
   "source": [
    "# sns.set_style(\"dark\")\n",
    "# # Count occurences of both real and fake news\n",
    "# sns.countplot(x=news.category)"
   ]
  },
  {
   "cell_type": "code",
   "execution_count": 10,
   "id": "32a788f2",
   "metadata": {
    "execution": {
     "iopub.execute_input": "2022-03-07T14:32:30.867080Z",
     "iopub.status.busy": "2022-03-07T14:32:30.866344Z",
     "iopub.status.idle": "2022-03-07T14:32:30.868393Z",
     "shell.execute_reply": "2022-03-07T14:32:30.868763Z",
     "shell.execute_reply.started": "2022-03-07T10:34:01.962191Z"
    },
    "papermill": {
     "duration": 0.061543,
     "end_time": "2022-03-07T14:32:30.868881",
     "exception": false,
     "start_time": "2022-03-07T14:32:30.807338",
     "status": "completed"
    },
    "tags": []
   },
   "outputs": [],
   "source": [
    "# dataviz = pd.concat([news,fake1,real_fake])\n",
    "\n",
    "# plt.figure(figsize = (12,8))\n",
    "# sns.set(style = \"darkgrid\")\n",
    "# chart = sns.countplot(x = \"subject\", hue = \"category\" , data = dataviz)\n",
    "# chart.set_xticklabels(chart.get_xticklabels(),rotation=90);"
   ]
  },
  {
   "cell_type": "code",
   "execution_count": 11,
   "id": "0c810c2f",
   "metadata": {
    "execution": {
     "iopub.execute_input": "2022-03-07T14:32:31.076935Z",
     "iopub.status.busy": "2022-03-07T14:32:30.984403Z",
     "iopub.status.idle": "2022-03-07T14:32:31.310656Z",
     "shell.execute_reply": "2022-03-07T14:32:31.311131Z",
     "shell.execute_reply.started": "2022-03-07T10:34:02.530853Z"
    },
    "papermill": {
     "duration": 0.386992,
     "end_time": "2022-03-07T14:32:31.311283",
     "exception": false,
     "start_time": "2022-03-07T14:32:30.924291",
     "status": "completed"
    },
    "tags": []
   },
   "outputs": [],
   "source": [
    "news['text'] = news['text'] + \" \" + news['title']\n",
    "fake1['text'] = fake1['text'] + \" \" + fake1['title']\n",
    "real_fake['text'] = real_fake['text'] + \" \" + real_fake['title']\n",
    "del news['title']\n",
    "del fake1['title']\n",
    "del real_fake['title']\n",
    "del news['subject']\n",
    "del news['date']"
   ]
  },
  {
   "cell_type": "code",
   "execution_count": 12,
   "id": "e8c45e8e",
   "metadata": {
    "execution": {
     "iopub.execute_input": "2022-03-07T14:32:31.446505Z",
     "iopub.status.busy": "2022-03-07T14:32:31.444100Z",
     "iopub.status.idle": "2022-03-07T14:32:31.450727Z",
     "shell.execute_reply": "2022-03-07T14:32:31.449916Z",
     "shell.execute_reply.started": "2022-03-07T10:34:02.940516Z"
    },
    "papermill": {
     "duration": 0.083871,
     "end_time": "2022-03-07T14:32:31.450907",
     "exception": false,
     "start_time": "2022-03-07T14:32:31.367036",
     "status": "completed"
    },
    "tags": []
   },
   "outputs": [],
   "source": [
    "stop = set(stopwords.words('english'))\n",
    "punctuation = list(string.punctuation)\n",
    "stop.update(punctuation)"
   ]
  },
  {
   "cell_type": "markdown",
   "id": "5cc71b24",
   "metadata": {
    "papermill": {
     "duration": 0.091365,
     "end_time": "2022-03-07T14:32:31.641480",
     "exception": false,
     "start_time": "2022-03-07T14:32:31.550115",
     "status": "completed"
    },
    "tags": []
   },
   "source": [
    "### Data Cleaning"
   ]
  },
  {
   "cell_type": "code",
   "execution_count": 13,
   "id": "3c44fe0a",
   "metadata": {
    "execution": {
     "iopub.execute_input": "2022-03-07T14:32:31.867844Z",
     "iopub.status.busy": "2022-03-07T14:32:31.867026Z",
     "iopub.status.idle": "2022-03-07T14:32:52.217396Z",
     "shell.execute_reply": "2022-03-07T14:32:52.216613Z",
     "shell.execute_reply.started": "2022-03-07T10:34:02.955734Z"
    },
    "papermill": {
     "duration": 20.485166,
     "end_time": "2022-03-07T14:32:52.217539",
     "exception": false,
     "start_time": "2022-03-07T14:32:31.732373",
     "status": "completed"
    },
    "tags": []
   },
   "outputs": [],
   "source": [
    "def strip_html(text):\n",
    "    soup = BeautifulSoup(text, \"html.parser\")\n",
    "    return soup.get_text()\n",
    "\n",
    "#Removing the square brackets\n",
    "def remove_between_square_brackets(text):\n",
    "    return re.sub('\\[[^]]*\\]', '', text)\n",
    "# Removing URL's\n",
    "def remove_between_square_brackets(text):\n",
    "    return re.sub(r'http\\S+', '', text)\n",
    "#Removing the stopwords from text\n",
    "def remove_stopwords(text):\n",
    "    final_text = []\n",
    "    for i in text.split():\n",
    "        if i.strip().lower() not in stop:\n",
    "            final_text.append(i.strip())\n",
    "    return \" \".join(final_text)\n",
    "#Removing the noisy text\n",
    "def denoise_text(text):\n",
    "    text = strip_html(text)\n",
    "    text = remove_between_square_brackets(text)\n",
    "    text = remove_stopwords(text)\n",
    "    return text\n",
    "#Apply function on review column\n",
    "news['text']=news['text'].apply(denoise_text)\n",
    "fake1['text'] = fake1['text'].apply(denoise_text)\n",
    "real_fake['text'] = real_fake['text'].apply(denoise_text)"
   ]
  },
  {
   "cell_type": "code",
   "execution_count": 14,
   "id": "983d1866",
   "metadata": {
    "execution": {
     "iopub.execute_input": "2022-03-07T14:32:52.333390Z",
     "iopub.status.busy": "2022-03-07T14:32:52.332338Z",
     "iopub.status.idle": "2022-03-07T14:32:52.337848Z",
     "shell.execute_reply": "2022-03-07T14:32:52.338243Z",
     "shell.execute_reply.started": "2022-03-07T10:34:28.468222Z"
    },
    "papermill": {
     "duration": 0.065214,
     "end_time": "2022-03-07T14:32:52.338377",
     "exception": false,
     "start_time": "2022-03-07T14:32:52.273163",
     "status": "completed"
    },
    "tags": []
   },
   "outputs": [],
   "source": [
    "# Concatenate all datasets into one\n",
    "all_news = pd.concat([news,fake1, real_fake])"
   ]
  },
  {
   "cell_type": "markdown",
   "id": "26c612d2",
   "metadata": {
    "papermill": {
     "duration": 0.061467,
     "end_time": "2022-03-07T14:32:52.457293",
     "exception": false,
     "start_time": "2022-03-07T14:32:52.395826",
     "status": "completed"
    },
    "tags": []
   },
   "source": [
    "### Data Vizualization"
   ]
  },
  {
   "cell_type": "code",
   "execution_count": 15,
   "id": "208596d5",
   "metadata": {
    "execution": {
     "iopub.execute_input": "2022-03-07T14:32:52.571474Z",
     "iopub.status.busy": "2022-03-07T14:32:52.570740Z",
     "iopub.status.idle": "2022-03-07T14:32:52.573028Z",
     "shell.execute_reply": "2022-03-07T14:32:52.572608Z",
     "shell.execute_reply.started": "2022-03-07T10:34:28.480877Z"
    },
    "papermill": {
     "duration": 0.060813,
     "end_time": "2022-03-07T14:32:52.573138",
     "exception": false,
     "start_time": "2022-03-07T14:32:52.512325",
     "status": "completed"
    },
    "tags": []
   },
   "outputs": [],
   "source": [
    "# plt.figure(figsize = (20,20)) # Text that is not Fake\n",
    "# wc = WordCloud(max_words = 2000 , width = 1600 , height = 800 , stopwords = STOPWORDS).generate(\" \".join(all_news[all_news.category == 1].text))\n",
    "# plt.title(\"Word Cloud for real news articles\")\n",
    "# plt.imshow(wc , interpolation = 'bilinear')\n",
    "# plt.axis(\"off\");\n",
    "# plt.savefig('word_cloud_real.png')"
   ]
  },
  {
   "cell_type": "code",
   "execution_count": 16,
   "id": "cfd46b33",
   "metadata": {
    "execution": {
     "iopub.execute_input": "2022-03-07T14:32:52.686903Z",
     "iopub.status.busy": "2022-03-07T14:32:52.686314Z",
     "iopub.status.idle": "2022-03-07T14:32:52.689026Z",
     "shell.execute_reply": "2022-03-07T14:32:52.688561Z",
     "shell.execute_reply.started": "2022-03-07T10:34:32.319445Z"
    },
    "papermill": {
     "duration": 0.061003,
     "end_time": "2022-03-07T14:32:52.689130",
     "exception": false,
     "start_time": "2022-03-07T14:32:52.628127",
     "status": "completed"
    },
    "tags": []
   },
   "outputs": [],
   "source": [
    "# plt.figure(figsize = (20,20)) # Text that is Fake\n",
    "# wc = WordCloud(max_words = 2000 , width = 1600 , height = 800 , stopwords = STOPWORDS).generate(\" \".join(all_news[all_news.category == 0].text))\n",
    "# plt.title(\"Word Cloud for fake news articles\")\n",
    "# plt.imshow(wc , interpolation = 'bilinear')\n",
    "# plt.axis(\"off\");\n",
    "# plt.savefig('word_cloud_fake.png')"
   ]
  },
  {
   "cell_type": "code",
   "execution_count": 17,
   "id": "d8e7c1a0",
   "metadata": {
    "execution": {
     "iopub.execute_input": "2022-03-07T14:32:52.803195Z",
     "iopub.status.busy": "2022-03-07T14:32:52.802477Z",
     "iopub.status.idle": "2022-03-07T14:32:52.804897Z",
     "shell.execute_reply": "2022-03-07T14:32:52.804418Z",
     "shell.execute_reply.started": "2022-03-07T10:34:40.325863Z"
    },
    "papermill": {
     "duration": 0.060289,
     "end_time": "2022-03-07T14:32:52.805028",
     "exception": false,
     "start_time": "2022-03-07T14:32:52.744739",
     "status": "completed"
    },
    "tags": []
   },
   "outputs": [],
   "source": [
    "# fake_lengths = [len(i) for i in all_news[all_news['category']==0].text.str.split()]\n",
    "# # clipping values above 2k\n",
    "# fake_lengths = [i for i in fake_lengths if i < 2000]\n",
    "# real_lengths = [len(i) for i in all_news[all_news['category']==1].text.str.split()]\n",
    "# # clipping values above 2k\n",
    "# real_lengths = [i for i in real_lengths if i < 2000]\n",
    "\n",
    "# fig,(ax1,ax2)=plt.subplots(1,2,figsize=(12,8))\n",
    "# ax1.hist(fake_lengths, bins=20, color='r')\n",
    "# ax1.set_title('Number of words in fake news articles')\n",
    "# ax2.hist(real_lengths, bins=20, color='g')\n",
    "# ax2.set_title('Number of words in real news articles');"
   ]
  },
  {
   "cell_type": "code",
   "execution_count": 18,
   "id": "e583cc5c",
   "metadata": {
    "execution": {
     "iopub.execute_input": "2022-03-07T14:32:52.920902Z",
     "iopub.status.busy": "2022-03-07T14:32:52.918531Z",
     "iopub.status.idle": "2022-03-07T14:32:57.197697Z",
     "shell.execute_reply": "2022-03-07T14:32:57.197234Z",
     "shell.execute_reply.started": "2022-03-07T10:34:44.974647Z"
    },
    "papermill": {
     "duration": 4.337183,
     "end_time": "2022-03-07T14:32:57.197824",
     "exception": false,
     "start_time": "2022-03-07T14:32:52.860641",
     "status": "completed"
    },
    "tags": []
   },
   "outputs": [],
   "source": [
    "def get_corpus(text):\n",
    "    words = []\n",
    "    for i in text:\n",
    "        for j in i.split():\n",
    "            words.append(j.strip())\n",
    "    return words\n",
    "corpus = get_corpus(all_news.text)"
   ]
  },
  {
   "cell_type": "code",
   "execution_count": 19,
   "id": "d636d41e",
   "metadata": {
    "execution": {
     "iopub.execute_input": "2022-03-07T14:32:57.560364Z",
     "iopub.status.busy": "2022-03-07T14:32:57.559661Z",
     "iopub.status.idle": "2022-03-07T14:33:01.160198Z",
     "shell.execute_reply": "2022-03-07T14:33:01.160583Z",
     "shell.execute_reply.started": "2022-03-07T10:34:49.382614Z"
    },
    "papermill": {
     "duration": 3.906228,
     "end_time": "2022-03-07T14:33:01.160733",
     "exception": false,
     "start_time": "2022-03-07T14:32:57.254505",
     "status": "completed"
    },
    "tags": []
   },
   "outputs": [
    {
     "name": "stderr",
     "output_type": "stream",
     "text": [
      "/opt/conda/lib/python3.7/site-packages/geopandas/_compat.py:115: UserWarning:\n",
      "\n",
      "The Shapely GEOS version (3.9.1-CAPI-1.14.2) is incompatible with the GEOS version PyGEOS was compiled with (3.10.1-CAPI-1.16.0). Conversions between both will be slow.\n",
      "\n"
     ]
    },
    {
     "data": {
      "text/html": [
       "        <script type=\"text/javascript\">\n",
       "        window.PlotlyConfig = {MathJaxConfig: 'local'};\n",
       "        if (window.MathJax) {MathJax.Hub.Config({SVG: {font: \"STIX-Web\"}});}\n",
       "        if (typeof require !== 'undefined') {\n",
       "        require.undef(\"plotly\");\n",
       "        requirejs.config({\n",
       "            paths: {\n",
       "                'plotly': ['https://cdn.plot.ly/plotly-2.8.3.min']\n",
       "            }\n",
       "        });\n",
       "        require(['plotly'], function(Plotly) {\n",
       "            window._Plotly = Plotly;\n",
       "        });\n",
       "        }\n",
       "        </script>\n",
       "        "
      ]
     },
     "metadata": {},
     "output_type": "display_data"
    }
   ],
   "source": [
    "import cufflinks as cf\n",
    "cf.go_offline()\n",
    "cf.set_config_file(offline=False, world_readable=True)\n",
    "\n",
    "def get_top_n_words(corpus, n=None, g=1):\n",
    "    vec = CountVectorizer(ngram_range=(g, g)).fit(corpus)\n",
    "    bag_of_words = vec.transform(corpus)\n",
    "    sum_words = bag_of_words.sum(axis=0) \n",
    "    words_freq = [(word, sum_words[0, idx]) for word, idx in vec.vocabulary_.items()]\n",
    "    words_freq = sorted(words_freq, key = lambda x: x[1], reverse=True)\n",
    "    return words_freq[:n]"
   ]
  },
  {
   "cell_type": "code",
   "execution_count": 20,
   "id": "213c7589",
   "metadata": {
    "execution": {
     "iopub.execute_input": "2022-03-07T14:33:01.279351Z",
     "iopub.status.busy": "2022-03-07T14:33:01.278625Z",
     "iopub.status.idle": "2022-03-07T14:33:01.281009Z",
     "shell.execute_reply": "2022-03-07T14:33:01.280590Z",
     "shell.execute_reply.started": "2022-03-07T10:44:05.112620Z"
    },
    "papermill": {
     "duration": 0.062567,
     "end_time": "2022-03-07T14:33:01.281124",
     "exception": false,
     "start_time": "2022-03-07T14:33:01.218557",
     "status": "completed"
    },
    "tags": []
   },
   "outputs": [],
   "source": [
    "# # display top 10 words used in fake articles\n",
    "# plt.figure(figsize = (16,9))\n",
    "# most_common_uni = get_top_n_words(all_news[all_news['category']==1]['text'],10,1)\n",
    "# most_common_uni = dict(most_common_uni)\n",
    "# sns.barplot(x=list(most_common_uni.values()),y=list(most_common_uni.keys()))\n",
    "# plt.title('Top 10 Unigrams for fake articles');"
   ]
  },
  {
   "cell_type": "code",
   "execution_count": 21,
   "id": "062caf27",
   "metadata": {
    "execution": {
     "iopub.execute_input": "2022-03-07T14:33:01.398511Z",
     "iopub.status.busy": "2022-03-07T14:33:01.397747Z",
     "iopub.status.idle": "2022-03-07T14:33:01.400209Z",
     "shell.execute_reply": "2022-03-07T14:33:01.399766Z",
     "shell.execute_reply.started": "2022-03-07T10:44:23.493856Z"
    },
    "papermill": {
     "duration": 0.062337,
     "end_time": "2022-03-07T14:33:01.400319",
     "exception": false,
     "start_time": "2022-03-07T14:33:01.337982",
     "status": "completed"
    },
    "tags": []
   },
   "outputs": [],
   "source": [
    "# # display top 10 words used in real articles\n",
    "# plt.figure(figsize = (16,9))\n",
    "# most_common_uni = get_top_n_words(all_news[all_news['category']==0]['text'],10,1)\n",
    "# most_common_uni = dict(most_common_uni)\n",
    "# sns.barplot(x=list(most_common_uni.values()),y=list(most_common_uni.keys()))\n",
    "# plt.title('Top 10 Unigrams for real articles');"
   ]
  },
  {
   "cell_type": "code",
   "execution_count": 22,
   "id": "0155009e",
   "metadata": {
    "execution": {
     "iopub.execute_input": "2022-03-07T14:33:01.519073Z",
     "iopub.status.busy": "2022-03-07T14:33:01.518317Z",
     "iopub.status.idle": "2022-03-07T14:33:01.520675Z",
     "shell.execute_reply": "2022-03-07T14:33:01.520261Z",
     "shell.execute_reply.started": "2022-03-07T10:44:55.183791Z"
    },
    "papermill": {
     "duration": 0.063414,
     "end_time": "2022-03-07T14:33:01.520772",
     "exception": false,
     "start_time": "2022-03-07T14:33:01.457358",
     "status": "completed"
    },
    "tags": []
   },
   "outputs": [],
   "source": [
    "# # display top 10 bigrams used in fake articles\n",
    "# plt.figure(figsize = (16,9))\n",
    "# most_common_uni = get_top_n_words(all_news[all_news['category']==1]['text'],10,2)\n",
    "# most_common_uni = dict(most_common_uni)\n",
    "# sns.barplot(x=list(most_common_uni.values()),y=list(most_common_uni.keys()))\n",
    "# plt.title('Top 10 Bigrams for fake articles');"
   ]
  },
  {
   "cell_type": "code",
   "execution_count": 23,
   "id": "2ec1286d",
   "metadata": {
    "execution": {
     "iopub.execute_input": "2022-03-07T14:33:01.638109Z",
     "iopub.status.busy": "2022-03-07T14:33:01.637378Z",
     "iopub.status.idle": "2022-03-07T14:33:01.639382Z",
     "shell.execute_reply": "2022-03-07T14:33:01.639738Z",
     "shell.execute_reply.started": "2022-03-07T10:45:49.050602Z"
    },
    "papermill": {
     "duration": 0.061963,
     "end_time": "2022-03-07T14:33:01.639854",
     "exception": false,
     "start_time": "2022-03-07T14:33:01.577891",
     "status": "completed"
    },
    "tags": []
   },
   "outputs": [],
   "source": [
    "# # display top 10 bigrams used in real articles\n",
    "# plt.figure(figsize = (16,9))\n",
    "# most_common_uni = get_top_n_words(all_news[all_news['category']==0]['text'],10,2)\n",
    "# most_common_uni = dict(most_common_uni)\n",
    "# sns.barplot(x=list(most_common_uni.values()),y=list(most_common_uni.keys()))\n",
    "# plt.title('Top 10 Bigrams for real articles');"
   ]
  },
  {
   "cell_type": "code",
   "execution_count": 24,
   "id": "d7104408",
   "metadata": {
    "execution": {
     "iopub.execute_input": "2022-03-07T14:33:01.756291Z",
     "iopub.status.busy": "2022-03-07T14:33:01.755525Z",
     "iopub.status.idle": "2022-03-07T14:33:01.757804Z",
     "shell.execute_reply": "2022-03-07T14:33:01.758288Z",
     "shell.execute_reply.started": "2022-03-07T10:47:15.954391Z"
    },
    "papermill": {
     "duration": 0.062379,
     "end_time": "2022-03-07T14:33:01.758406",
     "exception": false,
     "start_time": "2022-03-07T14:33:01.696027",
     "status": "completed"
    },
    "tags": []
   },
   "outputs": [],
   "source": [
    "# # display top 10 trigrams used in fake articles\n",
    "# plt.figure(figsize = (16,9))\n",
    "# most_common_uni = get_top_n_words(all_news[all_news['category']==1]['text'],10,3)\n",
    "# most_common_uni = dict(most_common_uni)\n",
    "# sns.barplot(x=list(most_common_uni.values()),y=list(most_common_uni.keys()))\n",
    "# plt.title('Top 10 Trigrams for fake articles');"
   ]
  },
  {
   "cell_type": "code",
   "execution_count": 25,
   "id": "96b92a39",
   "metadata": {
    "execution": {
     "iopub.execute_input": "2022-03-07T14:33:01.882520Z",
     "iopub.status.busy": "2022-03-07T14:33:01.881735Z",
     "iopub.status.idle": "2022-03-07T14:33:01.885162Z",
     "shell.execute_reply": "2022-03-07T14:33:01.885721Z",
     "shell.execute_reply.started": "2022-03-07T10:48:30.884302Z"
    },
    "papermill": {
     "duration": 0.071016,
     "end_time": "2022-03-07T14:33:01.885869",
     "exception": false,
     "start_time": "2022-03-07T14:33:01.814853",
     "status": "completed"
    },
    "tags": []
   },
   "outputs": [],
   "source": [
    "# # display top 10 trigrams used in real articles\n",
    "# plt.figure(figsize = (16,9))\n",
    "# most_common_uni = get_top_n_words(all_news[all_news['category']==0]['text'],10,3)\n",
    "# most_common_uni = dict(most_common_uni)\n",
    "# sns.barplot(x=list(most_common_uni.values()),y=list(most_common_uni.keys()))\n",
    "# plt.title('Top 10 Trigrams for real articles');\n"
   ]
  },
  {
   "cell_type": "code",
   "execution_count": 26,
   "id": "55844bfc",
   "metadata": {
    "execution": {
     "iopub.execute_input": "2022-03-07T14:33:02.015495Z",
     "iopub.status.busy": "2022-03-07T14:33:02.013280Z",
     "iopub.status.idle": "2022-03-07T14:33:02.029298Z",
     "shell.execute_reply": "2022-03-07T14:33:02.028849Z",
     "shell.execute_reply.started": "2022-03-07T10:52:25.985963Z"
    },
    "papermill": {
     "duration": 0.083115,
     "end_time": "2022-03-07T14:33:02.029400",
     "exception": false,
     "start_time": "2022-03-07T14:33:01.946285",
     "status": "completed"
    },
    "tags": []
   },
   "outputs": [],
   "source": [
    "x_train,x_val,y_train,y_val = train_test_split(all_news.text,all_news.category, test_size = 0.4, random_state = 42)\n",
    "x_val,x_test,y_val,y_test = train_test_split(x_val, y_val, test_size = 0.5, random_state = 42)"
   ]
  },
  {
   "cell_type": "code",
   "execution_count": 27,
   "id": "2dfef61c",
   "metadata": {
    "execution": {
     "iopub.execute_input": "2022-03-07T14:33:02.148693Z",
     "iopub.status.busy": "2022-03-07T14:33:02.148103Z",
     "iopub.status.idle": "2022-03-07T14:33:02.151205Z",
     "shell.execute_reply": "2022-03-07T14:33:02.150680Z",
     "shell.execute_reply.started": "2022-03-07T10:52:26.021495Z"
    },
    "papermill": {
     "duration": 0.064381,
     "end_time": "2022-03-07T14:33:02.151309",
     "exception": false,
     "start_time": "2022-03-07T14:33:02.086928",
     "status": "completed"
    },
    "tags": []
   },
   "outputs": [
    {
     "name": "stdout",
     "output_type": "stream",
     "text": [
      "(37746,)\n",
      "(12582,)\n",
      "(12582,)\n"
     ]
    }
   ],
   "source": [
    "print(x_train.shape)\n",
    "print(x_val.shape)\n",
    "print(x_test.shape)"
   ]
  },
  {
   "cell_type": "markdown",
   "id": "bd10f0a8",
   "metadata": {
    "papermill": {
     "duration": 0.057041,
     "end_time": "2022-03-07T14:33:02.265718",
     "exception": false,
     "start_time": "2022-03-07T14:33:02.208677",
     "status": "completed"
    },
    "tags": []
   },
   "source": [
    "### Glove Embeddings"
   ]
  },
  {
   "cell_type": "code",
   "execution_count": 28,
   "id": "b0dc93d1",
   "metadata": {
    "execution": {
     "iopub.execute_input": "2022-03-07T14:33:02.384492Z",
     "iopub.status.busy": "2022-03-07T14:33:02.383763Z",
     "iopub.status.idle": "2022-03-07T14:33:02.385879Z",
     "shell.execute_reply": "2022-03-07T14:33:02.386311Z",
     "shell.execute_reply.started": "2022-03-07T10:52:26.034731Z"
    },
    "papermill": {
     "duration": 0.063615,
     "end_time": "2022-03-07T14:33:02.386435",
     "exception": false,
     "start_time": "2022-03-07T14:33:02.322820",
     "status": "completed"
    },
    "tags": []
   },
   "outputs": [],
   "source": [
    "# import scipy.stats as st\n",
    "\n",
    "# print(st.t.interval(0.95, len(fake_lengths)-1, loc=np.mean(fake_lengths), scale=st.sem(fake_lengths)))\n",
    "# print(st.t.interval(0.95, len(real_lengths)-1, loc=np.mean(real_lengths), scale=st.sem(real_lengths)))"
   ]
  },
  {
   "cell_type": "code",
   "execution_count": 29,
   "id": "afad1621",
   "metadata": {
    "execution": {
     "iopub.execute_input": "2022-03-07T14:33:02.505354Z",
     "iopub.status.busy": "2022-03-07T14:33:02.504633Z",
     "iopub.status.idle": "2022-03-07T14:33:02.506548Z",
     "shell.execute_reply": "2022-03-07T14:33:02.506907Z",
     "shell.execute_reply.started": "2022-03-07T10:52:26.068906Z"
    },
    "papermill": {
     "duration": 0.063565,
     "end_time": "2022-03-07T14:33:02.507056",
     "exception": false,
     "start_time": "2022-03-07T14:33:02.443491",
     "status": "completed"
    },
    "tags": []
   },
   "outputs": [],
   "source": [
    "max_features = 10000\n",
    "maxlen = 300"
   ]
  },
  {
   "cell_type": "code",
   "execution_count": 30,
   "id": "81da5c9d",
   "metadata": {
    "execution": {
     "iopub.execute_input": "2022-03-07T14:33:02.666222Z",
     "iopub.status.busy": "2022-03-07T14:33:02.645664Z",
     "iopub.status.idle": "2022-03-07T14:33:30.008994Z",
     "shell.execute_reply": "2022-03-07T14:33:30.008022Z",
     "shell.execute_reply.started": "2022-03-07T10:52:26.078466Z"
    },
    "papermill": {
     "duration": 27.44458,
     "end_time": "2022-03-07T14:33:30.009146",
     "exception": false,
     "start_time": "2022-03-07T14:33:02.564566",
     "status": "completed"
    },
    "tags": []
   },
   "outputs": [],
   "source": [
    "tokenizer = text.Tokenizer(num_words=max_features, oov_token='<oov>')\n",
    "tokenizer.fit_on_texts(x_train)\n",
    "\n",
    "tokenized_train = tokenizer.texts_to_sequences(x_train)\n",
    "x_train = sequence.pad_sequences(tokenized_train, maxlen=maxlen)"
   ]
  },
  {
   "cell_type": "code",
   "execution_count": 31,
   "id": "9eb62e5f",
   "metadata": {
    "execution": {
     "iopub.execute_input": "2022-03-07T14:33:30.182318Z",
     "iopub.status.busy": "2022-03-07T14:33:30.140835Z",
     "iopub.status.idle": "2022-03-07T14:33:38.946583Z",
     "shell.execute_reply": "2022-03-07T14:33:38.946120Z",
     "shell.execute_reply.started": "2022-03-07T10:53:00.401074Z"
    },
    "papermill": {
     "duration": 8.880164,
     "end_time": "2022-03-07T14:33:38.946709",
     "exception": false,
     "start_time": "2022-03-07T14:33:30.066545",
     "status": "completed"
    },
    "tags": []
   },
   "outputs": [],
   "source": [
    "tokenized_val = tokenizer.texts_to_sequences(x_val)\n",
    "x_val = sequence.pad_sequences(tokenized_val, maxlen=maxlen)\n",
    "\n",
    "tokenized_test = tokenizer.texts_to_sequences(x_test)\n",
    "x_test = sequence.pad_sequences(tokenized_test, maxlen=maxlen)"
   ]
  },
  {
   "cell_type": "code",
   "execution_count": 32,
   "id": "f3a48cfe",
   "metadata": {
    "execution": {
     "iopub.execute_input": "2022-03-07T14:33:39.069159Z",
     "iopub.status.busy": "2022-03-07T14:33:39.067477Z",
     "iopub.status.idle": "2022-03-07T14:33:39.069730Z",
     "shell.execute_reply": "2022-03-07T14:33:39.070155Z",
     "shell.execute_reply.started": "2022-03-07T10:53:10.485906Z"
    },
    "papermill": {
     "duration": 0.06495,
     "end_time": "2022-03-07T14:33:39.070290",
     "exception": false,
     "start_time": "2022-03-07T14:33:39.005340",
     "status": "completed"
    },
    "tags": []
   },
   "outputs": [],
   "source": [
    "EMBEDDING_FILE = \"../input/glove-twitter/glove.twitter.27B.100d.txt\""
   ]
  },
  {
   "cell_type": "code",
   "execution_count": 33,
   "id": "44694169",
   "metadata": {
    "execution": {
     "iopub.execute_input": "2022-03-07T14:33:39.190300Z",
     "iopub.status.busy": "2022-03-07T14:33:39.189742Z",
     "iopub.status.idle": "2022-03-07T14:34:18.968469Z",
     "shell.execute_reply": "2022-03-07T14:34:18.967891Z",
     "shell.execute_reply.started": "2022-03-07T10:53:10.494502Z"
    },
    "papermill": {
     "duration": 39.841291,
     "end_time": "2022-03-07T14:34:18.968617",
     "exception": false,
     "start_time": "2022-03-07T14:33:39.127326",
     "status": "completed"
    },
    "tags": []
   },
   "outputs": [
    {
     "name": "stderr",
     "output_type": "stream",
     "text": [
      "/opt/conda/lib/python3.7/site-packages/IPython/core/interactiveshell.py:3377: FutureWarning:\n",
      "\n",
      "arrays to stack must be passed as a \"sequence\" type such as list or tuple. Support for non-sequence iterables such as generators is deprecated as of NumPy 1.16 and will raise an error in the future.\n",
      "\n"
     ]
    }
   ],
   "source": [
    "def get_coefs(word, *arr): \n",
    "    return word, np.asarray(arr, dtype='float32')\n",
    "embeddings_index = dict(get_coefs(*o.rstrip().rsplit(' ')) for o in open(EMBEDDING_FILE))\n",
    "all_embs = np.stack(embeddings_index.values())\n",
    "emb_mean,emb_std = all_embs.mean(), all_embs.std()\n",
    "embed_size = all_embs.shape[1]"
   ]
  },
  {
   "cell_type": "code",
   "execution_count": 34,
   "id": "8c5ccbd4",
   "metadata": {
    "execution": {
     "iopub.execute_input": "2022-03-07T14:34:19.090563Z",
     "iopub.status.busy": "2022-03-07T14:34:19.089860Z",
     "iopub.status.idle": "2022-03-07T14:34:19.169386Z",
     "shell.execute_reply": "2022-03-07T14:34:19.169829Z",
     "shell.execute_reply.started": "2022-03-07T10:54:01.832335Z"
    },
    "papermill": {
     "duration": 0.142867,
     "end_time": "2022-03-07T14:34:19.169984",
     "exception": false,
     "start_time": "2022-03-07T14:34:19.027117",
     "status": "completed"
    },
    "tags": []
   },
   "outputs": [],
   "source": [
    "word_index = tokenizer.word_index\n",
    "nb_words = min(max_features, len(word_index))\n",
    "#change below line if computing normal stats is too slow\n",
    "embedding_matrix = embedding_matrix = np.random.normal(emb_mean, emb_std, (nb_words, embed_size))\n",
    "for word, i in word_index.items():\n",
    "    if i >= max_features: continue\n",
    "    embedding_vector = embeddings_index.get(word)\n",
    "    if embedding_vector is not None: embedding_matrix[i] = embedding_vector"
   ]
  },
  {
   "cell_type": "code",
   "execution_count": 35,
   "id": "075acc6c",
   "metadata": {
    "execution": {
     "iopub.execute_input": "2022-03-07T14:34:19.290046Z",
     "iopub.status.busy": "2022-03-07T14:34:19.289279Z",
     "iopub.status.idle": "2022-03-07T14:34:19.291288Z",
     "shell.execute_reply": "2022-03-07T14:34:19.291655Z",
     "shell.execute_reply.started": "2022-03-07T12:07:51.370394Z"
    },
    "papermill": {
     "duration": 0.063121,
     "end_time": "2022-03-07T14:34:19.291782",
     "exception": false,
     "start_time": "2022-03-07T14:34:19.228661",
     "status": "completed"
    },
    "tags": []
   },
   "outputs": [],
   "source": [
    "# Model Hyperparameters\n",
    "BATCH_SIZE = 256\n",
    "EPOCHS = 10\n",
    "EMBED_SIZE = 100"
   ]
  },
  {
   "cell_type": "markdown",
   "id": "780d5575",
   "metadata": {
    "papermill": {
     "duration": 0.057113,
     "end_time": "2022-03-07T14:34:19.405961",
     "exception": false,
     "start_time": "2022-03-07T14:34:19.348848",
     "status": "completed"
    },
    "tags": []
   },
   "source": [
    "### Training"
   ]
  },
  {
   "cell_type": "code",
   "execution_count": 36,
   "id": "f8111476",
   "metadata": {
    "execution": {
     "iopub.execute_input": "2022-03-07T14:34:19.526197Z",
     "iopub.status.busy": "2022-03-07T14:34:19.525449Z",
     "iopub.status.idle": "2022-03-07T14:34:19.527450Z",
     "shell.execute_reply": "2022-03-07T14:34:19.527805Z",
     "shell.execute_reply.started": "2022-03-07T12:07:52.887132Z"
    },
    "papermill": {
     "duration": 0.064733,
     "end_time": "2022-03-07T14:34:19.527928",
     "exception": false,
     "start_time": "2022-03-07T14:34:19.463195",
     "status": "completed"
    },
    "tags": []
   },
   "outputs": [],
   "source": [
    "stopping_callback = tf.keras.callbacks.EarlyStopping(\n",
    "    monitor='val_loss', patience=5, verbose=0,\n",
    "    mode='min', restore_best_weights=True\n",
    ")\n",
    "\n",
    "def scheduler(epoch, lr):\n",
    "    if epoch < 10:\n",
    "        return lr\n",
    "    else:\n",
    "        return lr * tf.math.exp(-0.1)\n",
    "decay_callback = tf.keras.callbacks.LearningRateScheduler(scheduler)"
   ]
  },
  {
   "cell_type": "code",
   "execution_count": 37,
   "id": "53ccbf7d",
   "metadata": {
    "execution": {
     "iopub.execute_input": "2022-03-07T14:34:19.647816Z",
     "iopub.status.busy": "2022-03-07T14:34:19.647194Z",
     "iopub.status.idle": "2022-03-07T14:34:22.369368Z",
     "shell.execute_reply": "2022-03-07T14:34:22.368857Z",
     "shell.execute_reply.started": "2022-03-07T12:16:31.225181Z"
    },
    "papermill": {
     "duration": 2.784234,
     "end_time": "2022-03-07T14:34:22.369498",
     "exception": false,
     "start_time": "2022-03-07T14:34:19.585264",
     "status": "completed"
    },
    "tags": []
   },
   "outputs": [
    {
     "name": "stderr",
     "output_type": "stream",
     "text": [
      "2022-03-07 14:34:19.743847: I tensorflow/stream_executor/cuda/cuda_gpu_executor.cc:937] successful NUMA node read from SysFS had negative value (-1), but there must be at least one NUMA node, so returning NUMA node zero\n",
      "2022-03-07 14:34:19.745098: I tensorflow/stream_executor/cuda/cuda_gpu_executor.cc:937] successful NUMA node read from SysFS had negative value (-1), but there must be at least one NUMA node, so returning NUMA node zero\n",
      "2022-03-07 14:34:19.745768: I tensorflow/stream_executor/cuda/cuda_gpu_executor.cc:937] successful NUMA node read from SysFS had negative value (-1), but there must be at least one NUMA node, so returning NUMA node zero\n",
      "2022-03-07 14:34:19.746578: I tensorflow/core/platform/cpu_feature_guard.cc:142] This TensorFlow binary is optimized with oneAPI Deep Neural Network Library (oneDNN) to use the following CPU instructions in performance-critical operations:  AVX2 AVX512F FMA\n",
      "To enable them in other operations, rebuild TensorFlow with the appropriate compiler flags.\n",
      "2022-03-07 14:34:19.747626: I tensorflow/stream_executor/cuda/cuda_gpu_executor.cc:937] successful NUMA node read from SysFS had negative value (-1), but there must be at least one NUMA node, so returning NUMA node zero\n",
      "2022-03-07 14:34:19.748304: I tensorflow/stream_executor/cuda/cuda_gpu_executor.cc:937] successful NUMA node read from SysFS had negative value (-1), but there must be at least one NUMA node, so returning NUMA node zero\n",
      "2022-03-07 14:34:19.748920: I tensorflow/stream_executor/cuda/cuda_gpu_executor.cc:937] successful NUMA node read from SysFS had negative value (-1), but there must be at least one NUMA node, so returning NUMA node zero\n",
      "2022-03-07 14:34:21.707276: I tensorflow/stream_executor/cuda/cuda_gpu_executor.cc:937] successful NUMA node read from SysFS had negative value (-1), but there must be at least one NUMA node, so returning NUMA node zero\n",
      "2022-03-07 14:34:21.708456: I tensorflow/stream_executor/cuda/cuda_gpu_executor.cc:937] successful NUMA node read from SysFS had negative value (-1), but there must be at least one NUMA node, so returning NUMA node zero\n",
      "2022-03-07 14:34:21.709433: I tensorflow/stream_executor/cuda/cuda_gpu_executor.cc:937] successful NUMA node read from SysFS had negative value (-1), but there must be at least one NUMA node, so returning NUMA node zero\n",
      "2022-03-07 14:34:21.710295: I tensorflow/core/common_runtime/gpu/gpu_device.cc:1510] Created device /job:localhost/replica:0/task:0/device:GPU:0 with 15385 MB memory:  -> device: 0, name: Tesla P100-PCIE-16GB, pci bus id: 0000:00:04.0, compute capability: 6.0\n"
     ]
    }
   ],
   "source": [
    "clear_session()\n",
    "model = Sequential([\n",
    "                    Embedding(max_features, EMBED_SIZE, input_length=maxlen, weights=[embedding_matrix], trainable=False),\n",
    "                    LSTM(128, return_sequences=True, recurrent_dropout = 0.25, dropout=0.25),\n",
    "                    LSTM(64, recurrent_dropout = 0.1, dropout=0.1),\n",
    "                    Dense(32, activation='relu'), #, kernel_regularizer = regularizers.l2(0.05)\n",
    "                    Dense(1, activation='sigmoid')\n",
    "])\n",
    "\n",
    "model.compile(loss='binary_crossentropy', optimizer=tf.keras.optimizers.Adam(learning_rate=0.01), metrics=['acc'])"
   ]
  },
  {
   "cell_type": "code",
   "execution_count": 38,
   "id": "bcc7b6b3",
   "metadata": {
    "execution": {
     "iopub.execute_input": "2022-03-07T14:34:22.492274Z",
     "iopub.status.busy": "2022-03-07T14:34:22.491616Z",
     "iopub.status.idle": "2022-03-07T15:38:22.460233Z",
     "shell.execute_reply": "2022-03-07T15:38:22.460628Z",
     "shell.execute_reply.started": "2022-03-07T12:16:35.239550Z"
    },
    "papermill": {
     "duration": 3840.031683,
     "end_time": "2022-03-07T15:38:22.460790",
     "exception": false,
     "start_time": "2022-03-07T14:34:22.429107",
     "status": "completed"
    },
    "tags": []
   },
   "outputs": [
    {
     "name": "stderr",
     "output_type": "stream",
     "text": [
      "2022-03-07 14:34:22.571778: I tensorflow/compiler/mlir/mlir_graph_optimization_pass.cc:185] None of the MLIR Optimization Passes are enabled (registered 2)\n"
     ]
    },
    {
     "name": "stdout",
     "output_type": "stream",
     "text": [
      "Epoch 1/10\n",
      "148/148 [==============================] - 383s 3s/step - loss: 0.2951 - acc: 0.8718 - val_loss: 0.2346 - val_acc: 0.9038\n",
      "Epoch 2/10\n",
      "148/148 [==============================] - 379s 3s/step - loss: 0.1546 - acc: 0.9420 - val_loss: 0.1154 - val_acc: 0.9559\n",
      "Epoch 3/10\n",
      "148/148 [==============================] - 380s 3s/step - loss: 0.1045 - acc: 0.9607 - val_loss: 0.0911 - val_acc: 0.9698\n",
      "Epoch 4/10\n",
      "148/148 [==============================] - 382s 3s/step - loss: 0.0891 - acc: 0.9656 - val_loss: 0.0825 - val_acc: 0.9703\n",
      "Epoch 5/10\n",
      "148/148 [==============================] - 380s 3s/step - loss: 0.0790 - acc: 0.9702 - val_loss: 0.0853 - val_acc: 0.9666\n",
      "Epoch 6/10\n",
      "148/148 [==============================] - 386s 3s/step - loss: 0.0679 - acc: 0.9742 - val_loss: 0.0660 - val_acc: 0.9763\n",
      "Epoch 7/10\n",
      "148/148 [==============================] - 386s 3s/step - loss: 0.0657 - acc: 0.9763 - val_loss: 0.0759 - val_acc: 0.9720\n",
      "Epoch 8/10\n",
      "148/148 [==============================] - 385s 3s/step - loss: 0.0628 - acc: 0.9763 - val_loss: 0.0701 - val_acc: 0.9731\n",
      "Epoch 9/10\n",
      "148/148 [==============================] - 390s 3s/step - loss: 0.0534 - acc: 0.9805 - val_loss: 0.0582 - val_acc: 0.9800\n",
      "Epoch 10/10\n",
      "148/148 [==============================] - 388s 3s/step - loss: 0.0497 - acc: 0.9816 - val_loss: 0.0684 - val_acc: 0.9791\n"
     ]
    }
   ],
   "source": [
    "history = model.fit(\n",
    "    x_train,\n",
    "    y_train,\n",
    "    epochs = EPOCHS,\n",
    "    batch_size = BATCH_SIZE,\n",
    "    callbacks = [decay_callback],\n",
    "    validation_data = (x_val,y_val)\n",
    ")"
   ]
  },
  {
   "cell_type": "markdown",
   "id": "fdb12fec",
   "metadata": {
    "papermill": {
     "duration": 0.513431,
     "end_time": "2022-03-07T15:38:23.486346",
     "exception": false,
     "start_time": "2022-03-07T15:38:22.972915",
     "status": "completed"
    },
    "tags": []
   },
   "source": [
    "### Evaluation"
   ]
  },
  {
   "cell_type": "code",
   "execution_count": 39,
   "id": "9aaab5db",
   "metadata": {
    "execution": {
     "iopub.execute_input": "2022-03-07T15:38:24.523804Z",
     "iopub.status.busy": "2022-03-07T15:38:24.523142Z",
     "iopub.status.idle": "2022-03-07T15:38:24.919797Z",
     "shell.execute_reply": "2022-03-07T15:38:24.919355Z",
     "shell.execute_reply.started": "2022-03-07T14:28:04.807149Z"
    },
    "papermill": {
     "duration": 0.922451,
     "end_time": "2022-03-07T15:38:24.919917",
     "exception": false,
     "start_time": "2022-03-07T15:38:23.997466",
     "status": "completed"
    },
    "tags": []
   },
   "outputs": [
    {
     "data": {
      "image/png": "[encoded data removed]",
      "text/plain": [
       "<Figure size 1440x576 with 2 Axes>"
      ]
     },
     "metadata": {
      "needs_background": "light"
     },
     "output_type": "display_data"
    }
   ],
   "source": [
    "acc = history.history['acc']\n",
    "loss = history.history['loss']\n",
    "val_acc = history.history['val_acc']\n",
    "val_loss = history.history['val_loss']\n",
    "\n",
    "fig , ax = plt.subplots(1,2)\n",
    "fig.set_size_inches(20,8)\n",
    "ax[0].plot(acc, color='b', label='Train Accuracy')\n",
    "ax[0].plot(val_acc, color='r', label='Val Accuracy')\n",
    "ax[0].set_title('Training and Validation Accuracy')\n",
    "ax[0].set_xlabel(\"Epochs\")\n",
    "ax[0].set_ylabel(\"Accuracy\")\n",
    "ax[0].set_xticks([i for i in range(EPOCHS)])\n",
    "ax[0].legend()\n",
    "\n",
    "ax[1].plot(loss, color='b', label='Train Loss')\n",
    "ax[1].plot(val_loss, color='r', label='Val Loss')\n",
    "ax[1].set_title('Training and Validation Loss')\n",
    "ax[1].set_xlabel('Epochs')\n",
    "ax[0].set_ylabel(\"Loss\")\n",
    "ax[1].set_xticks([i for i in range(EPOCHS)])\n",
    "ax[1].legend();"
   ]
  },
  {
   "cell_type": "code",
   "execution_count": 40,
   "id": "eb078464",
   "metadata": {
    "execution": {
     "iopub.execute_input": "2022-03-07T15:38:25.964313Z",
     "iopub.status.busy": "2022-03-07T15:38:25.963370Z",
     "iopub.status.idle": "2022-03-07T15:43:26.901127Z",
     "shell.execute_reply": "2022-03-07T15:43:26.900627Z",
     "shell.execute_reply.started": "2022-03-07T11:45:33.299013Z"
    },
    "papermill": {
     "duration": 301.458887,
     "end_time": "2022-03-07T15:43:26.901258",
     "exception": false,
     "start_time": "2022-03-07T15:38:25.442371",
     "status": "completed"
    },
    "tags": []
   },
   "outputs": [
    {
     "name": "stdout",
     "output_type": "stream",
     "text": [
      "1180/1180 [==============================] - 180s 152ms/step - loss: 0.0284 - acc: 0.9899\n",
      "Accuracy of the model on Training Data is -  98.99061918258667 %\n",
      "394/394 [==============================] - 61s 154ms/step - loss: 0.0684 - acc: 0.9791\n",
      "Accuracy of the model on Validation Data is -  97.90971279144287 %\n",
      "394/394 [==============================] - 61s 154ms/step - loss: 0.0726 - acc: 0.9755\n",
      "Accuracy of the model on Test Data is -  97.55206108093262 %\n"
     ]
    }
   ],
   "source": [
    "print(\"Accuracy of the model on Training Data is - \" , model.evaluate(x_train,y_train)[1]*100 , \"%\")\n",
    "print(\"Accuracy of the model on Validation Data is - \" , model.evaluate(x_val,y_val)[1]*100 , \"%\")\n",
    "print(\"Accuracy of the model on Test Data is - \" , model.evaluate(x_test,y_test)[1]*100 , \"%\")"
   ]
  },
  {
   "cell_type": "code",
   "execution_count": 41,
   "id": "df7103fe",
   "metadata": {
    "execution": {
     "iopub.execute_input": "2022-03-07T15:43:29.418041Z",
     "iopub.status.busy": "2022-03-07T15:43:29.417097Z",
     "iopub.status.idle": "2022-03-07T15:44:28.092262Z",
     "shell.execute_reply": "2022-03-07T15:44:28.091764Z",
     "shell.execute_reply.started": "2022-03-07T11:53:46.017555Z"
    },
    "papermill": {
     "duration": 60.069251,
     "end_time": "2022-03-07T15:44:28.092384",
     "exception": false,
     "start_time": "2022-03-07T15:43:28.023133",
     "status": "completed"
    },
    "tags": []
   },
   "outputs": [
    {
     "name": "stdout",
     "output_type": "stream",
     "text": [
      "              precision    recall  f1-score   support\n",
      "\n",
      "        Fake       0.61      1.00      0.76      7687\n",
      "        Real       0.00      0.00      0.00      4895\n",
      "\n",
      "    accuracy                           0.61     12582\n",
      "   macro avg       0.31      0.50      0.38     12582\n",
      "weighted avg       0.37      0.61      0.46     12582\n",
      "\n"
     ]
    },
    {
     "name": "stderr",
     "output_type": "stream",
     "text": [
      "/opt/conda/lib/python3.7/site-packages/sklearn/metrics/_classification.py:1221: UndefinedMetricWarning:\n",
      "\n",
      "Precision and F-score are ill-defined and being set to 0.0 in labels with no predicted samples. Use `zero_division` parameter to control this behavior.\n",
      "\n"
     ]
    }
   ],
   "source": [
    "y_pred = model.predict(x_test)\n",
    "y_pred = np.argmax(y_pred, axis=1)\n",
    "print(classification_report(y_test, y_pred, target_names = ['Fake','Real']))"
   ]
  },
  {
   "cell_type": "code",
   "execution_count": 42,
   "id": "9f2d2393",
   "metadata": {
    "execution": {
     "iopub.execute_input": "2022-03-07T15:44:30.801245Z",
     "iopub.status.busy": "2022-03-07T15:44:30.800673Z",
     "iopub.status.idle": "2022-03-07T15:44:30.805074Z",
     "shell.execute_reply": "2022-03-07T15:44:30.804576Z",
     "shell.execute_reply.started": "2022-03-07T11:55:12.878359Z"
    },
    "papermill": {
     "duration": 1.58593,
     "end_time": "2022-03-07T15:44:30.805190",
     "exception": false,
     "start_time": "2022-03-07T15:44:29.219260",
     "status": "completed"
    },
    "tags": []
   },
   "outputs": [
    {
     "name": "stdout",
     "output_type": "stream",
     "text": [
      "{0}\n",
      "{0, 1}\n"
     ]
    }
   ],
   "source": [
    "print(set(y_pred))\n",
    "print(set(y_test))"
   ]
  },
  {
   "cell_type": "code",
   "execution_count": 43,
   "id": "d280e56d",
   "metadata": {
    "execution": {
     "iopub.execute_input": "2022-03-07T15:44:33.089042Z",
     "iopub.status.busy": "2022-03-07T15:44:33.088226Z",
     "iopub.status.idle": "2022-03-07T15:44:33.104834Z",
     "shell.execute_reply": "2022-03-07T15:44:33.105291Z",
     "shell.execute_reply.started": "2022-03-07T11:55:12.891868Z"
    },
    "papermill": {
     "duration": 1.166223,
     "end_time": "2022-03-07T15:44:33.105550",
     "exception": false,
     "start_time": "2022-03-07T15:44:31.939327",
     "status": "completed"
    },
    "tags": []
   },
   "outputs": [
    {
     "data": {
      "text/plain": [
       "array([[7687,    0],\n",
       "       [4895,    0]])"
      ]
     },
     "execution_count": 43,
     "metadata": {},
     "output_type": "execute_result"
    }
   ],
   "source": [
    "cm = confusion_matrix(y_test,y_pred)\n",
    "cm"
   ]
  },
  {
   "cell_type": "code",
   "execution_count": 44,
   "id": "595d7f0c",
   "metadata": {
    "execution": {
     "iopub.execute_input": "2022-03-07T15:44:35.643659Z",
     "iopub.status.busy": "2022-03-07T15:44:35.632420Z",
     "iopub.status.idle": "2022-03-07T15:44:35.876126Z",
     "shell.execute_reply": "2022-03-07T15:44:35.875643Z",
     "shell.execute_reply.started": "2022-03-07T11:55:12.925667Z"
    },
    "papermill": {
     "duration": 1.646486,
     "end_time": "2022-03-07T15:44:35.876258",
     "exception": false,
     "start_time": "2022-03-07T15:44:34.229772",
     "status": "completed"
    },
    "tags": []
   },
   "outputs": [
    {
     "data": {
      "text/plain": [
       "Text(51.0, 0.5, 'Actual')"
      ]
     },
     "execution_count": 44,
     "metadata": {},
     "output_type": "execute_result"
    },
    {
     "data": {
      "image/png": "[encoded data removed]",
      "text/plain": [
       "<Figure size 576x576 with 2 Axes>"
      ]
     },
     "metadata": {
      "needs_background": "light"
     },
     "output_type": "display_data"
    }
   ],
   "source": [
    "cm = pd.DataFrame(cm , index = ['Fake','Real'] , columns = ['Fake','Real'])\n",
    "plt.figure(figsize = (8,8))\n",
    "sns.heatmap(cm,cmap= \"Greens\", linecolor = 'black' , linewidth = 1 , annot = True, fmt='' , xticklabels = ['Fake','Real'] , yticklabels = ['Fake','Real'])\n",
    "plt.xlabel(\"Predicted\")\n",
    "plt.ylabel(\"Actual\")"
   ]
  },
  {
   "cell_type": "code",
   "execution_count": 45,
   "id": "44aa352a",
   "metadata": {
    "execution": {
     "iopub.execute_input": "2022-03-07T15:44:38.138477Z",
     "iopub.status.busy": "2022-03-07T15:44:38.137836Z",
     "iopub.status.idle": "2022-03-07T15:44:38.142782Z",
     "shell.execute_reply": "2022-03-07T15:44:38.142388Z",
     "shell.execute_reply.started": "2022-03-07T11:55:14.661106Z"
    },
    "papermill": {
     "duration": 1.127608,
     "end_time": "2022-03-07T15:44:38.142893",
     "exception": false,
     "start_time": "2022-03-07T15:44:37.015285",
     "status": "completed"
    },
    "tags": []
   },
   "outputs": [],
   "source": [
    "from sklearn.metrics import auc, roc_curve\n",
    "fpr, tpr, thresholds = roc_curve(y_test, y_pred)\n",
    "auc_score = auc(fpr, tpr)"
   ]
  },
  {
   "cell_type": "code",
   "execution_count": 46,
   "id": "13b979a2",
   "metadata": {
    "execution": {
     "iopub.execute_input": "2022-03-07T15:44:40.458778Z",
     "iopub.status.busy": "2022-03-07T15:44:40.457917Z",
     "iopub.status.idle": "2022-03-07T15:44:40.621154Z",
     "shell.execute_reply": "2022-03-07T15:44:40.621523Z",
     "shell.execute_reply.started": "2022-03-07T11:55:14.673098Z"
    },
    "papermill": {
     "duration": 1.292859,
     "end_time": "2022-03-07T15:44:40.621678",
     "exception": false,
     "start_time": "2022-03-07T15:44:39.328819",
     "status": "completed"
    },
    "tags": []
   },
   "outputs": [
    {
     "data": {
      "text/plain": [
       "[<matplotlib.lines.Line2D at 0x7f01624a2a50>]"
      ]
     },
     "execution_count": 46,
     "metadata": {},
     "output_type": "execute_result"
    },
    {
     "data": {
      "image/png": "[encoded data removed]",
      "text/plain": [
       "<Figure size 432x288 with 1 Axes>"
      ]
     },
     "metadata": {
      "needs_background": "light"
     },
     "output_type": "display_data"
    }
   ],
   "source": [
    "plt.plot(fpr,tpr)"
   ]
  },
  {
   "cell_type": "markdown",
   "id": "465e9ae5",
   "metadata": {
    "papermill": {
     "duration": 1.189334,
     "end_time": "2022-03-07T15:44:42.931697",
     "exception": false,
     "start_time": "2022-03-07T15:44:41.742363",
     "status": "completed"
    },
    "tags": []
   },
   "source": [
    "### K Nearest Neighbours"
   ]
  },
  {
   "cell_type": "code",
   "execution_count": 47,
   "id": "f9afd438",
   "metadata": {
    "execution": {
     "iopub.execute_input": "2022-03-07T15:44:45.229370Z",
     "iopub.status.busy": "2022-03-07T15:44:45.228492Z",
     "iopub.status.idle": "2022-03-07T15:44:45.230933Z",
     "shell.execute_reply": "2022-03-07T15:44:45.230503Z",
     "shell.execute_reply.started": "2022-03-07T11:55:14.984379Z"
    },
    "papermill": {
     "duration": 1.142588,
     "end_time": "2022-03-07T15:44:45.231083",
     "exception": false,
     "start_time": "2022-03-07T15:44:44.088495",
     "status": "completed"
    },
    "tags": []
   },
   "outputs": [],
   "source": [
    "# from sklearn.neighbors import KNeighborsClassifier\n",
    "\n",
    "# knn = KNeighborsClassifier(20, verbose=1)\n",
    "# knn.fit(x_train,y_train)\n",
    "\n",
    "# knn_preds = knn.predict(x_test)\n",
    "# #knn_preds = np.argmax(knn_preds, axis=1)\n",
    "\n",
    "# print(classification_report(y_test, knn_pred, target_names = ['Fake','Real']))"
   ]
  },
  {
   "cell_type": "code",
   "execution_count": 48,
   "id": "faa97b04",
   "metadata": {
    "execution": {
     "iopub.execute_input": "2022-03-07T15:44:47.760381Z",
     "iopub.status.busy": "2022-03-07T15:44:47.759617Z",
     "iopub.status.idle": "2022-03-07T15:44:47.762066Z",
     "shell.execute_reply": "2022-03-07T15:44:47.761638Z",
     "shell.execute_reply.started": "2022-03-07T11:55:14.992082Z"
    },
    "papermill": {
     "duration": 1.163971,
     "end_time": "2022-03-07T15:44:47.762183",
     "exception": false,
     "start_time": "2022-03-07T15:44:46.598212",
     "status": "completed"
    },
    "tags": []
   },
   "outputs": [],
   "source": [
    "# cm_knn = confusion_matrix(y_test,knn_preds)\n",
    "# cm_knn = pd.DataFrame(cm_knn , index = ['Fake','Real'] , columns = ['Fake','Real'])\n",
    "# plt.figure(figsize = (8,8))\n",
    "# sns.heatmap(cm_knn,cmap= \"Greens\", linecolor = 'black' , linewidth = 1 , annot = True, fmt='' , xticklabels = ['Fake','Real'] , yticklabels = ['Fake','Real'])\n",
    "# plt.xlabel(\"Predicted\")\n",
    "# plt.ylabel(\"Actual\")"
   ]
  },
  {
   "cell_type": "markdown",
   "id": "54a08862",
   "metadata": {
    "papermill": {
     "duration": 1.138175,
     "end_time": "2022-03-07T15:44:50.066062",
     "exception": false,
     "start_time": "2022-03-07T15:44:48.927887",
     "status": "completed"
    },
    "tags": []
   },
   "source": [
    "### Logistic Regression"
   ]
  },
  {
   "cell_type": "code",
   "execution_count": 49,
   "id": "43207ea5",
   "metadata": {
    "execution": {
     "iopub.execute_input": "2022-03-07T15:44:52.372535Z",
     "iopub.status.busy": "2022-03-07T15:44:52.371349Z",
     "iopub.status.idle": "2022-03-07T15:44:53.207379Z",
     "shell.execute_reply": "2022-03-07T15:44:53.206663Z",
     "shell.execute_reply.started": "2022-03-07T11:55:15.004465Z"
    },
    "papermill": {
     "duration": 1.962465,
     "end_time": "2022-03-07T15:44:53.207581",
     "exception": false,
     "start_time": "2022-03-07T15:44:51.245116",
     "status": "completed"
    },
    "tags": []
   },
   "outputs": [
    {
     "name": "stdout",
     "output_type": "stream",
     "text": [
      "              precision    recall  f1-score   support\n",
      "\n",
      "        Fake       0.65      0.87      0.74      7687\n",
      "        Real       0.56      0.27      0.36      4895\n",
      "\n",
      "    accuracy                           0.63     12582\n",
      "   macro avg       0.60      0.57      0.55     12582\n",
      "weighted avg       0.61      0.63      0.59     12582\n",
      "\n"
     ]
    }
   ],
   "source": [
    "from sklearn.linear_model import LogisticRegression\n",
    "\n",
    "logR = LogisticRegression()\n",
    "logR.fit(x_train,y_train)\n",
    "\n",
    "log_preds = logR.predict(x_test)\n",
    "\n",
    "print(classification_report(y_test, log_preds, target_names = ['Fake','Real']))"
   ]
  },
  {
   "cell_type": "code",
   "execution_count": 50,
   "id": "9513ecae",
   "metadata": {
    "execution": {
     "iopub.execute_input": "2022-03-07T15:44:55.563787Z",
     "iopub.status.busy": "2022-03-07T15:44:55.562968Z",
     "iopub.status.idle": "2022-03-07T15:44:55.786170Z",
     "shell.execute_reply": "2022-03-07T15:44:55.785720Z",
     "shell.execute_reply.started": "2022-03-07T11:55:16.309507Z"
    },
    "papermill": {
     "duration": 1.365228,
     "end_time": "2022-03-07T15:44:55.786296",
     "exception": false,
     "start_time": "2022-03-07T15:44:54.421068",
     "status": "completed"
    },
    "tags": []
   },
   "outputs": [
    {
     "data": {
      "text/plain": [
       "Text(51.0, 0.5, 'Actual')"
      ]
     },
     "execution_count": 50,
     "metadata": {},
     "output_type": "execute_result"
    },
    {
     "data": {
      "image/png": "[encoded data removed]",
      "text/plain": [
       "<Figure size 576x576 with 2 Axes>"
      ]
     },
     "metadata": {
      "needs_background": "light"
     },
     "output_type": "display_data"
    }
   ],
   "source": [
    "cm_log = confusion_matrix(y_test,log_preds)\n",
    "cm_log = pd.DataFrame(cm_log , index = ['Fake','Real'] , columns = ['Fake','Real'])\n",
    "plt.figure(figsize = (8,8))\n",
    "sns.heatmap(cm_log,cmap= \"Greens\", linecolor = 'black' , linewidth = 1 , annot = True, fmt='' , xticklabels = ['Fake','Real'] , yticklabels = ['Fake','Real'])\n",
    "plt.xlabel(\"Predicted\")\n",
    "plt.ylabel(\"Actual\")\n"
   ]
  },
  {
   "cell_type": "markdown",
   "id": "bd91742b",
   "metadata": {
    "papermill": {
     "duration": 1.160823,
     "end_time": "2022-03-07T15:44:58.319250",
     "exception": false,
     "start_time": "2022-03-07T15:44:57.158427",
     "status": "completed"
    },
    "tags": []
   },
   "source": [
    "### Multinomial Naive Bayes"
   ]
  },
  {
   "cell_type": "code",
   "execution_count": 51,
   "id": "a81172fe",
   "metadata": {
    "execution": {
     "iopub.execute_input": "2022-03-07T15:45:00.609977Z",
     "iopub.status.busy": "2022-03-07T15:45:00.609429Z",
     "iopub.status.idle": "2022-03-07T15:45:00.838234Z",
     "shell.execute_reply": "2022-03-07T15:45:00.837642Z",
     "shell.execute_reply.started": "2022-03-07T11:55:16.700761Z"
    },
    "papermill": {
     "duration": 1.362188,
     "end_time": "2022-03-07T15:45:00.838440",
     "exception": false,
     "start_time": "2022-03-07T15:44:59.476252",
     "status": "completed"
    },
    "tags": []
   },
   "outputs": [
    {
     "name": "stdout",
     "output_type": "stream",
     "text": [
      "              precision    recall  f1-score   support\n",
      "\n",
      "        Fake       0.68      0.51      0.59      7687\n",
      "        Real       0.45      0.62      0.52      4895\n",
      "\n",
      "    accuracy                           0.56     12582\n",
      "   macro avg       0.57      0.57      0.55     12582\n",
      "weighted avg       0.59      0.56      0.56     12582\n",
      "\n"
     ]
    }
   ],
   "source": [
    "from sklearn.naive_bayes import MultinomialNB \n",
    "\n",
    "bayes = MultinomialNB(alpha=0.1) \n",
    "bayes.fit(x_train, y_train)\n",
    "\n",
    "bayes_preds = bayes.predict(x_test)\n",
    "\n",
    "print(classification_report(y_test, bayes_preds, target_names = ['Fake','Real']))"
   ]
  },
  {
   "cell_type": "code",
   "execution_count": 52,
   "id": "5261d1b9",
   "metadata": {
    "execution": {
     "iopub.execute_input": "2022-03-07T15:45:03.654257Z",
     "iopub.status.busy": "2022-03-07T15:45:03.653391Z",
     "iopub.status.idle": "2022-03-07T15:45:03.896756Z",
     "shell.execute_reply": "2022-03-07T15:45:03.896286Z",
     "shell.execute_reply.started": "2022-03-07T11:55:16.937834Z"
    },
    "papermill": {
     "duration": 1.550302,
     "end_time": "2022-03-07T15:45:03.896872",
     "exception": false,
     "start_time": "2022-03-07T15:45:02.346570",
     "status": "completed"
    },
    "tags": []
   },
   "outputs": [
    {
     "data": {
      "text/plain": [
       "Text(51.0, 0.5, 'Actual')"
      ]
     },
     "execution_count": 52,
     "metadata": {},
     "output_type": "execute_result"
    },
    {
     "data": {
      "image/png": "[encoded data removed]",
      "text/plain": [
       "<Figure size 576x576 with 2 Axes>"
      ]
     },
     "metadata": {
      "needs_background": "light"
     },
     "output_type": "display_data"
    }
   ],
   "source": [
    "cm_bayes = confusion_matrix(y_test,bayes_preds)\n",
    "cm_bayes = pd.DataFrame(cm_bayes , index = ['Fake','Real'] , columns = ['Fake','Real'])\n",
    "plt.figure(figsize = (8,8))\n",
    "sns.heatmap(cm_bayes,cmap= \"Greens\", linecolor = 'black' , linewidth = 1 , annot = True, fmt='' , xticklabels = ['Fake','Real'] , yticklabels = ['Fake','Real'])\n",
    "plt.xlabel(\"Predicted\")\n",
    "plt.ylabel(\"Actual\")\n"
   ]
  },
  {
   "cell_type": "markdown",
   "id": "fb933bc6",
   "metadata": {
    "papermill": {
     "duration": 1.143502,
     "end_time": "2022-03-07T15:45:06.167618",
     "exception": false,
     "start_time": "2022-03-07T15:45:05.024116",
     "status": "completed"
    },
    "tags": []
   },
   "source": [
    "### Support Vector Machine"
   ]
  },
  {
   "cell_type": "code",
   "execution_count": 53,
   "id": "4f031014",
   "metadata": {
    "execution": {
     "iopub.execute_input": "2022-03-07T15:45:08.696911Z",
     "iopub.status.busy": "2022-03-07T15:45:08.696052Z",
     "iopub.status.idle": "2022-03-07T15:45:08.697616Z",
     "shell.execute_reply": "2022-03-07T15:45:08.698055Z",
     "shell.execute_reply.started": "2022-03-07T11:55:17.370561Z"
    },
    "papermill": {
     "duration": 1.401685,
     "end_time": "2022-03-07T15:45:08.698193",
     "exception": false,
     "start_time": "2022-03-07T15:45:07.296508",
     "status": "completed"
    },
    "tags": []
   },
   "outputs": [],
   "source": [
    "# from sklearn.svm import SVC\n",
    "\n",
    "# sv = SVC(kernel='rbf', verbose=1) \n",
    "# sv.fit(x_train, y_train)\n",
    "\n",
    "# sv_preds = sv.predict(x_test)\n",
    "# #ada_preds = np.argmax(ada_preds, axis=1)\n",
    "\n",
    "# print(classification_report(y_test, sv_preds, target_names = ['Fake','Real']))"
   ]
  },
  {
   "cell_type": "code",
   "execution_count": 54,
   "id": "f5c2a18f",
   "metadata": {
    "execution": {
     "iopub.execute_input": "2022-03-07T15:45:10.954696Z",
     "iopub.status.busy": "2022-03-07T15:45:10.953858Z",
     "iopub.status.idle": "2022-03-07T15:45:10.956532Z",
     "shell.execute_reply": "2022-03-07T15:45:10.956119Z",
     "shell.execute_reply.started": "2022-03-07T11:55:17.377968Z"
    },
    "papermill": {
     "duration": 1.130486,
     "end_time": "2022-03-07T15:45:10.956647",
     "exception": false,
     "start_time": "2022-03-07T15:45:09.826161",
     "status": "completed"
    },
    "tags": []
   },
   "outputs": [],
   "source": [
    "# cm_sv = confusion_matrix(y_test,sv_preds)\n",
    "# cm_sv = pd.DataFrame(cm_sv , index = ['Fake','Real'] , columns = ['Fake','Real'])\n",
    "# plt.figure(figsize = (8,8))\n",
    "# sns.heatmap(cm_sv,cmap= \"Greens\", linecolor = 'black' , linewidth = 1 , annot = True, fmt='' , xticklabels = ['Fake','Real'] , yticklabels = ['Fake','Real'])\n",
    "# plt.xlabel(\"Predicted\")\n",
    "# plt.ylabel(\"Actual\")"
   ]
  },
  {
   "cell_type": "markdown",
   "id": "6fd9185c",
   "metadata": {
    "papermill": {
     "duration": 1.164935,
     "end_time": "2022-03-07T15:45:13.279368",
     "exception": false,
     "start_time": "2022-03-07T15:45:12.114433",
     "status": "completed"
    },
    "tags": []
   },
   "source": [
    "### AdaBoost"
   ]
  },
  {
   "cell_type": "code",
   "execution_count": 55,
   "id": "b680134b",
   "metadata": {
    "execution": {
     "iopub.execute_input": "2022-03-07T15:45:15.529032Z",
     "iopub.status.busy": "2022-03-07T15:45:15.528208Z",
     "iopub.status.idle": "2022-03-07T15:45:15.530720Z",
     "shell.execute_reply": "2022-03-07T15:45:15.530220Z",
     "shell.execute_reply.started": "2022-03-07T11:55:17.393337Z"
    },
    "papermill": {
     "duration": 1.129609,
     "end_time": "2022-03-07T15:45:15.530828",
     "exception": false,
     "start_time": "2022-03-07T15:45:14.401219",
     "status": "completed"
    },
    "tags": []
   },
   "outputs": [],
   "source": [
    "# from sklearn.ensembles import AdaBoostClassifier\n",
    "\n",
    "# ada = AdaBoostClassifier(verbose=1)\n",
    "# ada.fit(x_train, y_train)\n",
    "\n",
    "# ada_preds = ada.predict(x_test)\n",
    "# #ada_preds = np.argmax(ada_preds, axis=1)\n",
    "\n",
    "# print(classification_report(y_test, ada_pred, target_names = ['Fake','Real']))"
   ]
  },
  {
   "cell_type": "code",
   "execution_count": 56,
   "id": "1ec15756",
   "metadata": {
    "execution": {
     "iopub.execute_input": "2022-03-07T15:45:17.814409Z",
     "iopub.status.busy": "2022-03-07T15:45:17.813552Z",
     "iopub.status.idle": "2022-03-07T15:45:17.816102Z",
     "shell.execute_reply": "2022-03-07T15:45:17.815630Z",
     "shell.execute_reply.started": "2022-03-07T11:55:17.405185Z"
    },
    "papermill": {
     "duration": 1.163662,
     "end_time": "2022-03-07T15:45:17.816219",
     "exception": false,
     "start_time": "2022-03-07T15:45:16.652557",
     "status": "completed"
    },
    "tags": []
   },
   "outputs": [],
   "source": [
    "# cm_ada = confusion_matrix(y_test,ada_preds)\n",
    "# cm_ada = pd.DataFrame(cm_ada , index = ['Fake','Real'] , columns = ['Fake','Real'])\n",
    "# plt.figure(figsize = (8,8))\n",
    "# sns.heatmap(cm_ada,cmap= \"Greens\", linecolor = 'black' , linewidth = 1 , annot = True, fmt='' , xticklabels = ['Fake','Real'] , yticklabels = ['Fake','Real'])\n",
    "# plt.xlabel(\"Predicted\")\n",
    "# plt.ylabel(\"Actual\")"
   ]
  },
  {
   "cell_type": "markdown",
   "id": "e344f81a",
   "metadata": {
    "papermill": {
     "duration": 1.16876,
     "end_time": "2022-03-07T15:45:20.355830",
     "exception": false,
     "start_time": "2022-03-07T15:45:19.187070",
     "status": "completed"
    },
    "tags": []
   },
   "source": [
    "### ROC Curves"
   ]
  },
  {
   "cell_type": "code",
   "execution_count": 57,
   "id": "a7b7dfbb",
   "metadata": {
    "execution": {
     "iopub.execute_input": "2022-03-07T15:45:22.631830Z",
     "iopub.status.busy": "2022-03-07T15:45:22.630548Z",
     "iopub.status.idle": "2022-03-07T15:45:22.887206Z",
     "shell.execute_reply": "2022-03-07T15:45:22.886535Z",
     "shell.execute_reply.started": "2022-03-07T12:02:59.013077Z"
    },
    "papermill": {
     "duration": 1.411722,
     "end_time": "2022-03-07T15:45:22.887330",
     "exception": false,
     "start_time": "2022-03-07T15:45:21.475608",
     "status": "completed"
    },
    "tags": []
   },
   "outputs": [
    {
     "data": {
      "image/png": "[encoded data removed]",
      "text/plain": [
       "<Figure size 432x288 with 1 Axes>"
      ]
     },
     "metadata": {
      "needs_background": "light"
     },
     "output_type": "display_data"
    }
   ],
   "source": [
    "import sklearn\n",
    "# We'll need class probabilities from each of the classifiers\n",
    "y_log   = logR.predict_proba(x_test)\n",
    "y_bayes = bayes.predict_proba(x_test)\n",
    "#y_knn   = knn.predict_proba(x_test)\n",
    "\n",
    "# Compute the points on the curve\n",
    "# We pass the probability of the second class (KIA) as the y_score\n",
    "curve_log    = sklearn.metrics.roc_curve(y_test, y_log[:, 1])\n",
    "curve_bayes  = sklearn.metrics.roc_curve(y_test, y_bayes[:, 1])\n",
    "#curve_knn    = sklearn.metrics.roc_curve(y_test, y_knn[:, 1])\n",
    "\n",
    "# Compute Area Under the Curve\n",
    "auc_log    = auc(curve_log[0], curve_log[1])\n",
    "auc_bayes  = auc(curve_bayes[0], curve_bayes[1])\n",
    "#auc_knn    = auc(curve_knn[0], curve_knn[1])\n",
    "\n",
    "plt.plot(curve_log[0], curve_log[1], label='logistic (area = %0.2f)' % auc_log)\n",
    "plt.plot(curve_bayes[0], curve_bayes[1], label='Naive Bayes (area = %0.2f)' % auc_bayes)\n",
    "#plt.plot(curve_knn[0], curve_knn[1], label='knn (area = %0.2f)'% auc_knn)\n",
    "\n",
    "plt.xlim([0.0, 1.0])\n",
    "plt.ylim([0.0, 1.0])\n",
    "plt.xlabel('False Positive Rate')\n",
    "plt.ylabel('True Positive Rate')\n",
    "plt.title('ROC curve');\n",
    "\n",
    "plt.legend();"
   ]
  },
  {
   "cell_type": "code",
   "execution_count": null,
   "id": "db9fce06",
   "metadata": {
    "papermill": {
     "duration": 1.123714,
     "end_time": "2022-03-07T15:45:25.175286",
     "exception": false,
     "start_time": "2022-03-07T15:45:24.051572",
     "status": "completed"
    },
    "tags": []
   },
   "outputs": [],
   "source": []
  }
 ],
 "metadata": {
  "kernelspec": {
   "display_name": "Python 3",
   "language": "python",
   "name": "python3"
  },
  "language_info": {
   "codemirror_mode": {
    "name": "ipython",
    "version": 3
   },
   "file_extension": ".py",
   "mimetype": "text/x-python",
   "name": "python",
   "nbconvert_exporter": "python",
   "pygments_lexer": "ipython3",
   "version": "3.7.12"
  },
  "papermill": {
   "default_parameters": {},
   "duration": 4399.5657,
   "end_time": "2022-03-07T15:45:30.294244",
   "environment_variables": {},
   "exception": null,
   "input_path": "__notebook__.ipynb",
   "output_path": "__notebook__.ipynb",
   "parameters": {},
   "start_time": "2022-03-07T14:32:10.728544",
   "version": "2.3.3"
  }
 },
 "nbformat": 4,
 "nbformat_minor": 5
}
