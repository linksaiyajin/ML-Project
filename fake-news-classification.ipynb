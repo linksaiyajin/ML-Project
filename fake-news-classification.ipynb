{
 "cells": [
  {
   "cell_type": "code",
   "execution_count": 1,
   "id": "81bef614",
   "metadata": {
    "execution": {
     "iopub.execute_input": "2022-03-15T12:22:02.532708Z",
     "iopub.status.busy": "2022-03-15T12:22:02.531223Z",
     "iopub.status.idle": "2022-03-15T12:22:08.716997Z",
     "shell.execute_reply": "2022-03-15T12:22:08.716385Z",
     "shell.execute_reply.started": "2022-03-15T10:34:13.883843Z"
    },
    "papermill": {
     "duration": 6.248978,
     "end_time": "2022-03-15T12:22:08.717182",
     "exception": false,
     "start_time": "2022-03-15T12:22:02.468204",
     "status": "completed"
    },
    "tags": []
   },
   "outputs": [],
   "source": [
    "import tensorflow as tf\n",
    "import pandas as pd\n",
    "import numpy as np\n",
    "import seaborn as sns\n",
    "from bs4 import BeautifulSoup\n",
    "import re,string,unicodedata\n",
    "import matplotlib.pyplot as plt\n",
    "import tensorflow.keras.layers as tfl\n",
    "from keras.preprocessing import text, sequence\n",
    "from sklearn.metrics import classification_report,confusion_matrix,accuracy_score\n",
    "from tensorflow.keras.preprocessing.sequence import pad_sequences\n",
    "from tensorflow.keras.layers import Embedding, LSTM, Dense, Dropout, Bidirectional\n",
    "from tensorflow.keras.preprocessing.text import Tokenizer\n",
    "from tensorflow.keras.models import Sequential\n",
    "from tensorflow.keras.optimizers import Adam\n",
    "from tensorflow.keras import regularizers\n",
    "import tensorflow.keras.utils as ku \n",
    "from sklearn.model_selection import train_test_split\n",
    "from nltk.corpus import stopwords\n",
    "from wordcloud import WordCloud, STOPWORDS\n",
    "from sklearn.feature_extraction.text import CountVectorizer\n",
    "from sklearn.metrics import f1_score, accuracy_score, precision_score, recall_score, plot_roc_curve, classification_report, roc_auc_score\n",
    "from keras.backend import clear_session\n",
    "import datetime\n",
    "%matplotlib inline"
   ]
  },
  {
   "cell_type": "code",
   "execution_count": 2,
   "id": "d1908540",
   "metadata": {
    "execution": {
     "iopub.execute_input": "2022-03-15T12:22:08.835981Z",
     "iopub.status.busy": "2022-03-15T12:22:08.835457Z",
     "iopub.status.idle": "2022-03-15T12:22:11.237218Z",
     "shell.execute_reply": "2022-03-15T12:22:11.236669Z",
     "shell.execute_reply.started": "2022-03-15T10:34:16.317655Z"
    },
    "papermill": {
     "duration": 2.463198,
     "end_time": "2022-03-15T12:22:11.237357",
     "exception": false,
     "start_time": "2022-03-15T12:22:08.774159",
     "status": "completed"
    },
    "tags": []
   },
   "outputs": [],
   "source": [
    "true = pd.read_csv(\"../input/fake-and-real-news-dataset/True.csv\")\n",
    "false = pd.read_csv(\"../input/fake-and-real-news-dataset/Fake.csv\")"
   ]
  },
  {
   "cell_type": "markdown",
   "id": "1f016d32",
   "metadata": {
    "papermill": {
     "duration": 0.05633,
     "end_time": "2022-03-15T12:22:11.350950",
     "exception": false,
     "start_time": "2022-03-15T12:22:11.294620",
     "status": "completed"
    },
    "tags": []
   },
   "source": [
    "### Preparing fake-news dataset"
   ]
  },
  {
   "cell_type": "code",
   "execution_count": 3,
   "id": "d296ef7d",
   "metadata": {
    "execution": {
     "iopub.execute_input": "2022-03-15T12:22:11.479073Z",
     "iopub.status.busy": "2022-03-15T12:22:11.478459Z",
     "iopub.status.idle": "2022-03-15T12:22:12.754254Z",
     "shell.execute_reply": "2022-03-15T12:22:12.755214Z",
     "shell.execute_reply.started": "2022-03-15T10:34:17.447160Z"
    },
    "papermill": {
     "duration": 1.344656,
     "end_time": "2022-03-15T12:22:12.755381",
     "exception": false,
     "start_time": "2022-03-15T12:22:11.410725",
     "status": "completed"
    },
    "tags": []
   },
   "outputs": [
    {
     "data": {
      "text/html": [
       "<div>\n",
       "<style scoped>\n",
       "    .dataframe tbody tr th:only-of-type {\n",
       "        vertical-align: middle;\n",
       "    }\n",
       "\n",
       "    .dataframe tbody tr th {\n",
       "        vertical-align: top;\n",
       "    }\n",
       "\n",
       "    .dataframe thead th {\n",
       "        text-align: right;\n",
       "    }\n",
       "</style>\n",
       "<table border=\"1\" class=\"dataframe\">\n",
       "  <thead>\n",
       "    <tr style=\"text-align: right;\">\n",
       "      <th></th>\n",
       "      <th>title</th>\n",
       "      <th>text</th>\n",
       "      <th>category</th>\n",
       "    </tr>\n",
       "  </thead>\n",
       "  <tbody>\n",
       "    <tr>\n",
       "      <th>0</th>\n",
       "      <td>Muslims BUSTED: They Stole Millions In Gov’t B...</td>\n",
       "      <td>Print They should pay all the back all the mon...</td>\n",
       "      <td>0</td>\n",
       "    </tr>\n",
       "    <tr>\n",
       "      <th>1</th>\n",
       "      <td>Re: Why Did Attorney General Loretta Lynch Ple...</td>\n",
       "      <td>Why Did Attorney General Loretta Lynch Plead T...</td>\n",
       "      <td>0</td>\n",
       "    </tr>\n",
       "    <tr>\n",
       "      <th>2</th>\n",
       "      <td>BREAKING: Weiner Cooperating With FBI On Hilla...</td>\n",
       "      <td>Red State : \\nFox News Sunday reported this mo...</td>\n",
       "      <td>0</td>\n",
       "    </tr>\n",
       "    <tr>\n",
       "      <th>3</th>\n",
       "      <td>PIN DROP SPEECH BY FATHER OF DAUGHTER Kidnappe...</td>\n",
       "      <td>Email Kayla Mueller was a prisoner and torture...</td>\n",
       "      <td>0</td>\n",
       "    </tr>\n",
       "    <tr>\n",
       "      <th>4</th>\n",
       "      <td>FANTASTIC! TRUMP'S 7 POINT PLAN To Reform Heal...</td>\n",
       "      <td>Email HEALTHCARE REFORM TO MAKE AMERICA GREAT ...</td>\n",
       "      <td>0</td>\n",
       "    </tr>\n",
       "  </tbody>\n",
       "</table>\n",
       "</div>"
      ],
      "text/plain": [
       "                                               title  \\\n",
       "0  Muslims BUSTED: They Stole Millions In Gov’t B...   \n",
       "1  Re: Why Did Attorney General Loretta Lynch Ple...   \n",
       "2  BREAKING: Weiner Cooperating With FBI On Hilla...   \n",
       "3  PIN DROP SPEECH BY FATHER OF DAUGHTER Kidnappe...   \n",
       "4  FANTASTIC! TRUMP'S 7 POINT PLAN To Reform Heal...   \n",
       "\n",
       "                                                text  category  \n",
       "0  Print They should pay all the back all the mon...         0  \n",
       "1  Why Did Attorney General Loretta Lynch Plead T...         0  \n",
       "2  Red State : \\nFox News Sunday reported this mo...         0  \n",
       "3  Email Kayla Mueller was a prisoner and torture...         0  \n",
       "4  Email HEALTHCARE REFORM TO MAKE AMERICA GREAT ...         0  "
      ]
     },
     "execution_count": 3,
     "metadata": {},
     "output_type": "execute_result"
    }
   ],
   "source": [
    "fake1 = pd.read_csv(\"../input/fake-news/fake.csv\")\n",
    "# removing all unnecessary columns\n",
    "fake1 = fake1[['title', 'text', 'language']]\n",
    "# removing non-english articles\n",
    "fake1 = fake1[fake1['language'] == 'english']\n",
    "del fake1['language']\n",
    "fake1['category'] = 0\n",
    "# drop rows with missing values\n",
    "fake1 = fake1.dropna(axis=0)\n",
    "\n",
    "fake1.head()"
   ]
  },
  {
   "cell_type": "markdown",
   "id": "887fe0fb",
   "metadata": {
    "papermill": {
     "duration": 0.056787,
     "end_time": "2022-03-15T12:22:12.871490",
     "exception": false,
     "start_time": "2022-03-15T12:22:12.814703",
     "status": "completed"
    },
    "tags": []
   },
   "source": [
    "### Preparing real-and-fake-news-dataset"
   ]
  },
  {
   "cell_type": "code",
   "execution_count": 4,
   "id": "38f80f90",
   "metadata": {
    "execution": {
     "iopub.execute_input": "2022-03-15T12:22:13.001750Z",
     "iopub.status.busy": "2022-03-15T12:22:13.001143Z",
     "iopub.status.idle": "2022-03-15T12:22:13.712501Z",
     "shell.execute_reply": "2022-03-15T12:22:13.712940Z",
     "shell.execute_reply.started": "2022-03-15T10:34:18.117288Z"
    },
    "papermill": {
     "duration": 0.782892,
     "end_time": "2022-03-15T12:22:13.713108",
     "exception": false,
     "start_time": "2022-03-15T12:22:12.930216",
     "status": "completed"
    },
    "tags": []
   },
   "outputs": [
    {
     "data": {
      "text/html": [
       "<div>\n",
       "<style scoped>\n",
       "    .dataframe tbody tr th:only-of-type {\n",
       "        vertical-align: middle;\n",
       "    }\n",
       "\n",
       "    .dataframe tbody tr th {\n",
       "        vertical-align: top;\n",
       "    }\n",
       "\n",
       "    .dataframe thead th {\n",
       "        text-align: right;\n",
       "    }\n",
       "</style>\n",
       "<table border=\"1\" class=\"dataframe\">\n",
       "  <thead>\n",
       "    <tr style=\"text-align: right;\">\n",
       "      <th></th>\n",
       "      <th>title</th>\n",
       "      <th>text</th>\n",
       "      <th>category</th>\n",
       "    </tr>\n",
       "  </thead>\n",
       "  <tbody>\n",
       "    <tr>\n",
       "      <th>0</th>\n",
       "      <td>You Can Smell Hillary’s Fear</td>\n",
       "      <td>Daniel Greenfield, a Shillman Journalism Fello...</td>\n",
       "      <td>0</td>\n",
       "    </tr>\n",
       "    <tr>\n",
       "      <th>1</th>\n",
       "      <td>Watch The Exact Moment Paul Ryan Committed Pol...</td>\n",
       "      <td>Google Pinterest Digg Linkedin Reddit Stumbleu...</td>\n",
       "      <td>0</td>\n",
       "    </tr>\n",
       "    <tr>\n",
       "      <th>2</th>\n",
       "      <td>Kerry to go to Paris in gesture of sympathy</td>\n",
       "      <td>U.S. Secretary of State John F. Kerry said Mon...</td>\n",
       "      <td>1</td>\n",
       "    </tr>\n",
       "    <tr>\n",
       "      <th>3</th>\n",
       "      <td>Bernie supporters on Twitter erupt in anger ag...</td>\n",
       "      <td>— Kaydee King (@KaydeeKing) November 9, 2016 T...</td>\n",
       "      <td>0</td>\n",
       "    </tr>\n",
       "    <tr>\n",
       "      <th>4</th>\n",
       "      <td>The Battle of New York: Why This Primary Matters</td>\n",
       "      <td>It's primary day in New York and front-runners...</td>\n",
       "      <td>1</td>\n",
       "    </tr>\n",
       "  </tbody>\n",
       "</table>\n",
       "</div>"
      ],
      "text/plain": [
       "                                               title  \\\n",
       "0                       You Can Smell Hillary’s Fear   \n",
       "1  Watch The Exact Moment Paul Ryan Committed Pol...   \n",
       "2        Kerry to go to Paris in gesture of sympathy   \n",
       "3  Bernie supporters on Twitter erupt in anger ag...   \n",
       "4   The Battle of New York: Why This Primary Matters   \n",
       "\n",
       "                                                text  category  \n",
       "0  Daniel Greenfield, a Shillman Journalism Fello...         0  \n",
       "1  Google Pinterest Digg Linkedin Reddit Stumbleu...         0  \n",
       "2  U.S. Secretary of State John F. Kerry said Mon...         1  \n",
       "3  — Kaydee King (@KaydeeKing) November 9, 2016 T...         0  \n",
       "4  It's primary day in New York and front-runners...         1  "
      ]
     },
     "execution_count": 4,
     "metadata": {},
     "output_type": "execute_result"
    }
   ],
   "source": [
    "real_fake = pd.read_csv(\"../input/real-and-fake-news-dataset/news.csv\")\n",
    "# removing all unnecessary columns\n",
    "del real_fake['Unnamed: 0']\n",
    "\n",
    "# turning label into boolean category (1 for real, 0 for fake)\n",
    "d = {'REAL': 1, 'FAKE': 0}\n",
    "real_fake['category'] = real_fake['label'].map(d)\n",
    "del real_fake['label']\n",
    "# drop rows with missing values\n",
    "real_fake = real_fake.dropna(axis=0)\n",
    "\n",
    "real_fake.head()"
   ]
  },
  {
   "cell_type": "code",
   "execution_count": 5,
   "id": "42558029",
   "metadata": {
    "execution": {
     "iopub.execute_input": "2022-03-15T12:22:13.844932Z",
     "iopub.status.busy": "2022-03-15T12:22:13.842986Z",
     "iopub.status.idle": "2022-03-15T12:22:13.846868Z",
     "shell.execute_reply": "2022-03-15T12:22:13.847306Z",
     "shell.execute_reply.started": "2022-03-15T10:34:18.450371Z"
    },
    "papermill": {
     "duration": 0.072765,
     "end_time": "2022-03-15T12:22:13.847450",
     "exception": false,
     "start_time": "2022-03-15T12:22:13.774685",
     "status": "completed"
    },
    "tags": []
   },
   "outputs": [],
   "source": [
    "true['category'] = 1\n",
    "false['category'] = 0"
   ]
  },
  {
   "cell_type": "code",
   "execution_count": 6,
   "id": "68763257",
   "metadata": {
    "execution": {
     "iopub.execute_input": "2022-03-15T12:22:13.978819Z",
     "iopub.status.busy": "2022-03-15T12:22:13.969745Z",
     "iopub.status.idle": "2022-03-15T12:22:13.981845Z",
     "shell.execute_reply": "2022-03-15T12:22:13.982321Z",
     "shell.execute_reply.started": "2022-03-15T10:34:18.457736Z"
    },
    "papermill": {
     "duration": 0.077761,
     "end_time": "2022-03-15T12:22:13.982470",
     "exception": false,
     "start_time": "2022-03-15T12:22:13.904709",
     "status": "completed"
    },
    "tags": []
   },
   "outputs": [
    {
     "data": {
      "text/html": [
       "<div>\n",
       "<style scoped>\n",
       "    .dataframe tbody tr th:only-of-type {\n",
       "        vertical-align: middle;\n",
       "    }\n",
       "\n",
       "    .dataframe tbody tr th {\n",
       "        vertical-align: top;\n",
       "    }\n",
       "\n",
       "    .dataframe thead th {\n",
       "        text-align: right;\n",
       "    }\n",
       "</style>\n",
       "<table border=\"1\" class=\"dataframe\">\n",
       "  <thead>\n",
       "    <tr style=\"text-align: right;\">\n",
       "      <th></th>\n",
       "      <th>title</th>\n",
       "      <th>text</th>\n",
       "      <th>subject</th>\n",
       "      <th>date</th>\n",
       "      <th>category</th>\n",
       "    </tr>\n",
       "  </thead>\n",
       "  <tbody>\n",
       "    <tr>\n",
       "      <th>0</th>\n",
       "      <td>As U.S. budget fight looms, Republicans flip t...</td>\n",
       "      <td>WASHINGTON (Reuters) - The head of a conservat...</td>\n",
       "      <td>politicsNews</td>\n",
       "      <td>December 31, 2017</td>\n",
       "      <td>1</td>\n",
       "    </tr>\n",
       "    <tr>\n",
       "      <th>1</th>\n",
       "      <td>U.S. military to accept transgender recruits o...</td>\n",
       "      <td>WASHINGTON (Reuters) - Transgender people will...</td>\n",
       "      <td>politicsNews</td>\n",
       "      <td>December 29, 2017</td>\n",
       "      <td>1</td>\n",
       "    </tr>\n",
       "    <tr>\n",
       "      <th>2</th>\n",
       "      <td>Senior U.S. Republican senator: 'Let Mr. Muell...</td>\n",
       "      <td>WASHINGTON (Reuters) - The special counsel inv...</td>\n",
       "      <td>politicsNews</td>\n",
       "      <td>December 31, 2017</td>\n",
       "      <td>1</td>\n",
       "    </tr>\n",
       "    <tr>\n",
       "      <th>3</th>\n",
       "      <td>FBI Russia probe helped by Australian diplomat...</td>\n",
       "      <td>WASHINGTON (Reuters) - Trump campaign adviser ...</td>\n",
       "      <td>politicsNews</td>\n",
       "      <td>December 30, 2017</td>\n",
       "      <td>1</td>\n",
       "    </tr>\n",
       "    <tr>\n",
       "      <th>4</th>\n",
       "      <td>Trump wants Postal Service to charge 'much mor...</td>\n",
       "      <td>SEATTLE/WASHINGTON (Reuters) - President Donal...</td>\n",
       "      <td>politicsNews</td>\n",
       "      <td>December 29, 2017</td>\n",
       "      <td>1</td>\n",
       "    </tr>\n",
       "  </tbody>\n",
       "</table>\n",
       "</div>"
      ],
      "text/plain": [
       "                                               title  \\\n",
       "0  As U.S. budget fight looms, Republicans flip t...   \n",
       "1  U.S. military to accept transgender recruits o...   \n",
       "2  Senior U.S. Republican senator: 'Let Mr. Muell...   \n",
       "3  FBI Russia probe helped by Australian diplomat...   \n",
       "4  Trump wants Postal Service to charge 'much mor...   \n",
       "\n",
       "                                                text       subject  \\\n",
       "0  WASHINGTON (Reuters) - The head of a conservat...  politicsNews   \n",
       "1  WASHINGTON (Reuters) - Transgender people will...  politicsNews   \n",
       "2  WASHINGTON (Reuters) - The special counsel inv...  politicsNews   \n",
       "3  WASHINGTON (Reuters) - Trump campaign adviser ...  politicsNews   \n",
       "4  SEATTLE/WASHINGTON (Reuters) - President Donal...  politicsNews   \n",
       "\n",
       "                 date  category  \n",
       "0  December 31, 2017          1  \n",
       "1  December 29, 2017          1  \n",
       "2  December 31, 2017          1  \n",
       "3  December 30, 2017          1  \n",
       "4  December 29, 2017          1  "
      ]
     },
     "execution_count": 6,
     "metadata": {},
     "output_type": "execute_result"
    }
   ],
   "source": [
    "true.head()"
   ]
  },
  {
   "cell_type": "code",
   "execution_count": 7,
   "id": "4a1b6d7d",
   "metadata": {
    "execution": {
     "iopub.execute_input": "2022-03-15T12:22:14.121920Z",
     "iopub.status.busy": "2022-03-15T12:22:14.121219Z",
     "iopub.status.idle": "2022-03-15T12:22:14.124390Z",
     "shell.execute_reply": "2022-03-15T12:22:14.124857Z",
     "shell.execute_reply.started": "2022-03-15T10:34:18.475611Z"
    },
    "papermill": {
     "duration": 0.077031,
     "end_time": "2022-03-15T12:22:14.125007",
     "exception": false,
     "start_time": "2022-03-15T12:22:14.047976",
     "status": "completed"
    },
    "tags": []
   },
   "outputs": [
    {
     "data": {
      "text/html": [
       "<div>\n",
       "<style scoped>\n",
       "    .dataframe tbody tr th:only-of-type {\n",
       "        vertical-align: middle;\n",
       "    }\n",
       "\n",
       "    .dataframe tbody tr th {\n",
       "        vertical-align: top;\n",
       "    }\n",
       "\n",
       "    .dataframe thead th {\n",
       "        text-align: right;\n",
       "    }\n",
       "</style>\n",
       "<table border=\"1\" class=\"dataframe\">\n",
       "  <thead>\n",
       "    <tr style=\"text-align: right;\">\n",
       "      <th></th>\n",
       "      <th>title</th>\n",
       "      <th>text</th>\n",
       "      <th>subject</th>\n",
       "      <th>date</th>\n",
       "      <th>category</th>\n",
       "    </tr>\n",
       "  </thead>\n",
       "  <tbody>\n",
       "    <tr>\n",
       "      <th>0</th>\n",
       "      <td>Donald Trump Sends Out Embarrassing New Year’...</td>\n",
       "      <td>Donald Trump just couldn t wish all Americans ...</td>\n",
       "      <td>News</td>\n",
       "      <td>December 31, 2017</td>\n",
       "      <td>0</td>\n",
       "    </tr>\n",
       "    <tr>\n",
       "      <th>1</th>\n",
       "      <td>Drunk Bragging Trump Staffer Started Russian ...</td>\n",
       "      <td>House Intelligence Committee Chairman Devin Nu...</td>\n",
       "      <td>News</td>\n",
       "      <td>December 31, 2017</td>\n",
       "      <td>0</td>\n",
       "    </tr>\n",
       "    <tr>\n",
       "      <th>2</th>\n",
       "      <td>Sheriff David Clarke Becomes An Internet Joke...</td>\n",
       "      <td>On Friday, it was revealed that former Milwauk...</td>\n",
       "      <td>News</td>\n",
       "      <td>December 30, 2017</td>\n",
       "      <td>0</td>\n",
       "    </tr>\n",
       "    <tr>\n",
       "      <th>3</th>\n",
       "      <td>Trump Is So Obsessed He Even Has Obama’s Name...</td>\n",
       "      <td>On Christmas day, Donald Trump announced that ...</td>\n",
       "      <td>News</td>\n",
       "      <td>December 29, 2017</td>\n",
       "      <td>0</td>\n",
       "    </tr>\n",
       "    <tr>\n",
       "      <th>4</th>\n",
       "      <td>Pope Francis Just Called Out Donald Trump Dur...</td>\n",
       "      <td>Pope Francis used his annual Christmas Day mes...</td>\n",
       "      <td>News</td>\n",
       "      <td>December 25, 2017</td>\n",
       "      <td>0</td>\n",
       "    </tr>\n",
       "  </tbody>\n",
       "</table>\n",
       "</div>"
      ],
      "text/plain": [
       "                                               title  \\\n",
       "0   Donald Trump Sends Out Embarrassing New Year’...   \n",
       "1   Drunk Bragging Trump Staffer Started Russian ...   \n",
       "2   Sheriff David Clarke Becomes An Internet Joke...   \n",
       "3   Trump Is So Obsessed He Even Has Obama’s Name...   \n",
       "4   Pope Francis Just Called Out Donald Trump Dur...   \n",
       "\n",
       "                                                text subject  \\\n",
       "0  Donald Trump just couldn t wish all Americans ...    News   \n",
       "1  House Intelligence Committee Chairman Devin Nu...    News   \n",
       "2  On Friday, it was revealed that former Milwauk...    News   \n",
       "3  On Christmas day, Donald Trump announced that ...    News   \n",
       "4  Pope Francis used his annual Christmas Day mes...    News   \n",
       "\n",
       "                date  category  \n",
       "0  December 31, 2017         0  \n",
       "1  December 31, 2017         0  \n",
       "2  December 30, 2017         0  \n",
       "3  December 29, 2017         0  \n",
       "4  December 25, 2017         0  "
      ]
     },
     "execution_count": 7,
     "metadata": {},
     "output_type": "execute_result"
    }
   ],
   "source": [
    "false.head()"
   ]
  },
  {
   "cell_type": "code",
   "execution_count": 8,
   "id": "8bef1151",
   "metadata": {
    "execution": {
     "iopub.execute_input": "2022-03-15T12:22:14.258169Z",
     "iopub.status.busy": "2022-03-15T12:22:14.257212Z",
     "iopub.status.idle": "2022-03-15T12:22:14.263198Z",
     "shell.execute_reply": "2022-03-15T12:22:14.263626Z",
     "shell.execute_reply.started": "2022-03-15T10:34:18.490264Z"
    },
    "papermill": {
     "duration": 0.074975,
     "end_time": "2022-03-15T12:22:14.263788",
     "exception": false,
     "start_time": "2022-03-15T12:22:14.188813",
     "status": "completed"
    },
    "tags": []
   },
   "outputs": [],
   "source": [
    "news = pd.concat([true,false])"
   ]
  },
  {
   "cell_type": "code",
   "execution_count": 9,
   "id": "5c3c03ae",
   "metadata": {
    "execution": {
     "iopub.execute_input": "2022-03-15T12:22:14.394623Z",
     "iopub.status.busy": "2022-03-15T12:22:14.393647Z",
     "iopub.status.idle": "2022-03-15T12:22:14.395669Z",
     "shell.execute_reply": "2022-03-15T12:22:14.396148Z",
     "shell.execute_reply.started": "2022-03-15T10:34:18.504144Z"
    },
    "papermill": {
     "duration": 0.069064,
     "end_time": "2022-03-15T12:22:14.396295",
     "exception": false,
     "start_time": "2022-03-15T12:22:14.327231",
     "status": "completed"
    },
    "tags": []
   },
   "outputs": [],
   "source": [
    "# sns.set_style(\"dark\")\n",
    "# # Count occurences of both real and fake news\n",
    "# sns.countplot(x=news.category)"
   ]
  },
  {
   "cell_type": "code",
   "execution_count": 10,
   "id": "c945cdf3",
   "metadata": {
    "execution": {
     "iopub.execute_input": "2022-03-15T12:22:14.518785Z",
     "iopub.status.busy": "2022-03-15T12:22:14.517152Z",
     "iopub.status.idle": "2022-03-15T12:22:14.519393Z",
     "shell.execute_reply": "2022-03-15T12:22:14.519800Z",
     "shell.execute_reply.started": "2022-03-15T10:34:18.511003Z"
    },
    "papermill": {
     "duration": 0.064627,
     "end_time": "2022-03-15T12:22:14.519938",
     "exception": false,
     "start_time": "2022-03-15T12:22:14.455311",
     "status": "completed"
    },
    "tags": []
   },
   "outputs": [],
   "source": [
    "# dataviz = pd.concat([news,fake1,real_fake])\n",
    "\n",
    "# plt.figure(figsize = (12,8))\n",
    "# sns.set(style = \"darkgrid\")\n",
    "# chart = sns.countplot(x = \"subject\", hue = \"category\" , data = dataviz)\n",
    "# chart.set_xticklabels(chart.get_xticklabels(),rotation=90);"
   ]
  },
  {
   "cell_type": "code",
   "execution_count": 11,
   "id": "a800ce25",
   "metadata": {
    "execution": {
     "iopub.execute_input": "2022-03-15T12:22:14.775292Z",
     "iopub.status.busy": "2022-03-15T12:22:14.641423Z",
     "iopub.status.idle": "2022-03-15T12:22:14.865878Z",
     "shell.execute_reply": "2022-03-15T12:22:14.865335Z",
     "shell.execute_reply.started": "2022-03-15T10:34:18.521369Z"
    },
    "papermill": {
     "duration": 0.287849,
     "end_time": "2022-03-15T12:22:14.865998",
     "exception": false,
     "start_time": "2022-03-15T12:22:14.578149",
     "status": "completed"
    },
    "tags": []
   },
   "outputs": [],
   "source": [
    "news['text'] = news['title'] + \" \" + news['text']\n",
    "fake1['text'] = fake1['title'] + \" \" + fake1['text']\n",
    "real_fake['text'] = real_fake['title'] + \" \" + real_fake['text']\n",
    "del news['title']\n",
    "del fake1['title']\n",
    "del real_fake['title']\n",
    "del news['subject']\n",
    "del news['date']"
   ]
  },
  {
   "cell_type": "code",
   "execution_count": 12,
   "id": "8fc375da",
   "metadata": {
    "execution": {
     "iopub.execute_input": "2022-03-15T12:22:14.993432Z",
     "iopub.status.busy": "2022-03-15T12:22:14.992734Z",
     "iopub.status.idle": "2022-03-15T12:22:14.999041Z",
     "shell.execute_reply": "2022-03-15T12:22:14.999521Z",
     "shell.execute_reply.started": "2022-03-15T10:34:18.781624Z"
    },
    "papermill": {
     "duration": 0.075134,
     "end_time": "2022-03-15T12:22:14.999677",
     "exception": false,
     "start_time": "2022-03-15T12:22:14.924543",
     "status": "completed"
    },
    "tags": []
   },
   "outputs": [],
   "source": [
    "stop = stopwords.words('english')\n",
    "# stop.extend(['from', 'subject', 're', 'edu', 'use'])\n",
    "stop = set(stop)\n",
    "punctuation = list(string.punctuation)\n",
    "stop.update(punctuation)"
   ]
  },
  {
   "cell_type": "markdown",
   "id": "5274058f",
   "metadata": {
    "papermill": {
     "duration": 0.062258,
     "end_time": "2022-03-15T12:22:15.125004",
     "exception": false,
     "start_time": "2022-03-15T12:22:15.062746",
     "status": "completed"
    },
    "tags": []
   },
   "source": [
    "### Data Cleaning"
   ]
  },
  {
   "cell_type": "code",
   "execution_count": 13,
   "id": "c78f1949",
   "metadata": {
    "execution": {
     "iopub.execute_input": "2022-03-15T12:22:15.289520Z",
     "iopub.status.busy": "2022-03-15T12:22:15.257140Z",
     "iopub.status.idle": "2022-03-15T12:22:36.483917Z",
     "shell.execute_reply": "2022-03-15T12:22:36.482988Z",
     "shell.execute_reply.started": "2022-03-15T10:34:18.807870Z"
    },
    "papermill": {
     "duration": 21.297101,
     "end_time": "2022-03-15T12:22:36.484074",
     "exception": false,
     "start_time": "2022-03-15T12:22:15.186973",
     "status": "completed"
    },
    "tags": []
   },
   "outputs": [],
   "source": [
    "def strip_html(text):\n",
    "    soup = BeautifulSoup(text, \"html.parser\")\n",
    "    return soup.get_text()\n",
    "\n",
    "#Removing the square brackets\n",
    "def remove_between_square_brackets(text):\n",
    "    return re.sub('\\[[^]]*\\]', '', text)\n",
    "# Removing URL's\n",
    "def remove_between_square_brackets(text):\n",
    "    return re.sub(r'http\\S+', '', text)\n",
    "#Removing the stopwords from text\n",
    "def remove_stopwords(text):\n",
    "    final_text = []\n",
    "    for i in text.split():\n",
    "        if i.strip().lower() not in stop:\n",
    "            final_text.append(i.strip())\n",
    "    return \" \".join(final_text)\n",
    "#Removing the noisy text\n",
    "def denoise_text(text):\n",
    "    text = strip_html(text)\n",
    "    text = remove_between_square_brackets(text)\n",
    "    text = remove_stopwords(text)\n",
    "    return text\n",
    "#Apply function on review column\n",
    "news['text']=news['text'].apply(denoise_text)\n",
    "fake1['text'] = fake1['text'].apply(denoise_text)\n",
    "real_fake['text'] = real_fake['text'].apply(denoise_text)"
   ]
  },
  {
   "cell_type": "code",
   "execution_count": 14,
   "id": "e54eca93",
   "metadata": {
    "execution": {
     "iopub.execute_input": "2022-03-15T12:22:36.606378Z",
     "iopub.status.busy": "2022-03-15T12:22:36.604713Z",
     "iopub.status.idle": "2022-03-15T12:22:36.610499Z",
     "shell.execute_reply": "2022-03-15T12:22:36.610871Z",
     "shell.execute_reply.started": "2022-03-15T10:34:40.084573Z"
    },
    "papermill": {
     "duration": 0.068634,
     "end_time": "2022-03-15T12:22:36.611009",
     "exception": false,
     "start_time": "2022-03-15T12:22:36.542375",
     "status": "completed"
    },
    "tags": []
   },
   "outputs": [],
   "source": [
    "# Concatenate all datasets into one\n",
    "all_news = pd.concat([news, fake1, real_fake])"
   ]
  },
  {
   "cell_type": "code",
   "execution_count": 15,
   "id": "f02a7fc0",
   "metadata": {
    "execution": {
     "iopub.execute_input": "2022-03-15T12:22:36.732983Z",
     "iopub.status.busy": "2022-03-15T12:22:36.732371Z",
     "iopub.status.idle": "2022-03-15T12:22:36.735184Z",
     "shell.execute_reply": "2022-03-15T12:22:36.735578Z",
     "shell.execute_reply.started": "2022-03-15T10:34:40.095228Z"
    },
    "papermill": {
     "duration": 0.066005,
     "end_time": "2022-03-15T12:22:36.735713",
     "exception": false,
     "start_time": "2022-03-15T12:22:36.669708",
     "status": "completed"
    },
    "tags": []
   },
   "outputs": [
    {
     "data": {
      "text/plain": [
       "(62910, 2)"
      ]
     },
     "execution_count": 15,
     "metadata": {},
     "output_type": "execute_result"
    }
   ],
   "source": [
    "all_news.shape"
   ]
  },
  {
   "cell_type": "markdown",
   "id": "8cfe1038",
   "metadata": {
    "papermill": {
     "duration": 0.059036,
     "end_time": "2022-03-15T12:22:36.853108",
     "exception": false,
     "start_time": "2022-03-15T12:22:36.794072",
     "status": "completed"
    },
    "tags": []
   },
   "source": [
    "### Deleting all duplicate rows"
   ]
  },
  {
   "cell_type": "code",
   "execution_count": 16,
   "id": "c24aa9eb",
   "metadata": {
    "execution": {
     "iopub.execute_input": "2022-03-15T12:22:37.122221Z",
     "iopub.status.busy": "2022-03-15T12:22:36.980479Z",
     "iopub.status.idle": "2022-03-15T12:22:37.410376Z",
     "shell.execute_reply": "2022-03-15T12:22:37.409879Z",
     "shell.execute_reply.started": "2022-03-15T10:34:40.105144Z"
    },
    "papermill": {
     "duration": 0.498931,
     "end_time": "2022-03-15T12:22:37.410515",
     "exception": false,
     "start_time": "2022-03-15T12:22:36.911584",
     "status": "completed"
    },
    "tags": []
   },
   "outputs": [],
   "source": [
    "all_news['Duplicated'] = all_news.duplicated(keep=False) # keep=False marks the duplicated row with a True\n",
    "all_news = all_news[~all_news['Duplicated']] # selects only rows which are not duplicated.\n",
    "del all_news['Duplicated']"
   ]
  },
  {
   "cell_type": "code",
   "execution_count": 17,
   "id": "9e9550ee",
   "metadata": {
    "execution": {
     "iopub.execute_input": "2022-03-15T12:22:37.534501Z",
     "iopub.status.busy": "2022-03-15T12:22:37.533832Z",
     "iopub.status.idle": "2022-03-15T12:22:37.536586Z",
     "shell.execute_reply": "2022-03-15T12:22:37.536976Z",
     "shell.execute_reply.started": "2022-03-15T10:34:40.549531Z"
    },
    "papermill": {
     "duration": 0.067903,
     "end_time": "2022-03-15T12:22:37.537129",
     "exception": false,
     "start_time": "2022-03-15T12:22:37.469226",
     "status": "completed"
    },
    "tags": []
   },
   "outputs": [
    {
     "data": {
      "text/plain": [
       "(45288, 2)"
      ]
     },
     "execution_count": 17,
     "metadata": {},
     "output_type": "execute_result"
    }
   ],
   "source": [
    "all_news.shape"
   ]
  },
  {
   "cell_type": "markdown",
   "id": "89fa7d07",
   "metadata": {
    "papermill": {
     "duration": 0.058709,
     "end_time": "2022-03-15T12:22:37.654193",
     "exception": false,
     "start_time": "2022-03-15T12:22:37.595484",
     "status": "completed"
    },
    "tags": []
   },
   "source": [
    "### Data Vizualization"
   ]
  },
  {
   "cell_type": "code",
   "execution_count": 18,
   "id": "e5170b11",
   "metadata": {
    "execution": {
     "iopub.execute_input": "2022-03-15T12:22:37.790126Z",
     "iopub.status.busy": "2022-03-15T12:22:37.789283Z",
     "iopub.status.idle": "2022-03-15T12:22:37.791981Z",
     "shell.execute_reply": "2022-03-15T12:22:37.791503Z",
     "shell.execute_reply.started": "2022-03-15T10:34:40.557114Z"
    },
    "papermill": {
     "duration": 0.072384,
     "end_time": "2022-03-15T12:22:37.792121",
     "exception": false,
     "start_time": "2022-03-15T12:22:37.719737",
     "status": "completed"
    },
    "tags": []
   },
   "outputs": [],
   "source": [
    "# plt.figure(figsize = (20,20)) # Text that is not Fake\n",
    "# wc = WordCloud(max_words = 2000 , width = 1600 , height = 800 , stopwords = STOPWORDS).generate(\" \".join(all_news[all_news.category == 1].text))\n",
    "# plt.title(\"Word Cloud for real news articles\")\n",
    "# plt.imshow(wc , interpolation = 'bilinear')\n",
    "# plt.axis(\"off\");\n",
    "# plt.savefig('word_cloud_real.png')"
   ]
  },
  {
   "cell_type": "code",
   "execution_count": 19,
   "id": "a9a921cd",
   "metadata": {
    "execution": {
     "iopub.execute_input": "2022-03-15T12:22:37.918938Z",
     "iopub.status.busy": "2022-03-15T12:22:37.918243Z",
     "iopub.status.idle": "2022-03-15T12:22:37.920259Z",
     "shell.execute_reply": "2022-03-15T12:22:37.920729Z",
     "shell.execute_reply.started": "2022-03-15T10:34:40.566065Z"
    },
    "papermill": {
     "duration": 0.065137,
     "end_time": "2022-03-15T12:22:37.920861",
     "exception": false,
     "start_time": "2022-03-15T12:22:37.855724",
     "status": "completed"
    },
    "tags": []
   },
   "outputs": [],
   "source": [
    "# plt.figure(figsize = (20,20)) # Text that is Fake\n",
    "# wc = WordCloud(max_words = 2000 , width = 1600 , height = 800 , stopwords = STOPWORDS).generate(\" \".join(all_news[all_news.category == 0].text))\n",
    "# plt.title(\"Word Cloud for fake news articles\")\n",
    "# plt.imshow(wc , interpolation = 'bilinear')\n",
    "# plt.axis(\"off\");\n",
    "# plt.savefig('word_cloud_fake.png')"
   ]
  },
  {
   "cell_type": "code",
   "execution_count": 20,
   "id": "af5f287c",
   "metadata": {
    "execution": {
     "iopub.execute_input": "2022-03-15T12:22:38.043520Z",
     "iopub.status.busy": "2022-03-15T12:22:38.042621Z",
     "iopub.status.idle": "2022-03-15T12:22:38.044385Z",
     "shell.execute_reply": "2022-03-15T12:22:38.044856Z",
     "shell.execute_reply.started": "2022-03-15T10:34:40.576862Z"
    },
    "papermill": {
     "duration": 0.065521,
     "end_time": "2022-03-15T12:22:38.044989",
     "exception": false,
     "start_time": "2022-03-15T12:22:37.979468",
     "status": "completed"
    },
    "tags": []
   },
   "outputs": [],
   "source": [
    "# fake_lengths = [len(i) for i in all_news[all_news['category']==0].text.str.split()]\n",
    "# # clipping values above 2k\n",
    "# fake_lengths = [i for i in fake_lengths if i < 2000]\n",
    "# real_lengths = [len(i) for i in all_news[all_news['category']==1].text.str.split()]\n",
    "# # clipping values above 2k\n",
    "# real_lengths = [i for i in real_lengths if i < 2000]\n",
    "\n",
    "# fig,(ax1,ax2)=plt.subplots(1,2,figsize=(12,8))\n",
    "# ax1.hist(fake_lengths, bins=20, color='r')\n",
    "# ax1.set_title('Number of words in fake news articles')\n",
    "# ax2.hist(real_lengths, bins=20, color='g')\n",
    "# ax2.set_title('Number of words in real news articles');"
   ]
  },
  {
   "cell_type": "code",
   "execution_count": 21,
   "id": "7337197b",
   "metadata": {
    "execution": {
     "iopub.execute_input": "2022-03-15T12:22:38.192863Z",
     "iopub.status.busy": "2022-03-15T12:22:38.182690Z",
     "iopub.status.idle": "2022-03-15T12:22:41.199360Z",
     "shell.execute_reply": "2022-03-15T12:22:41.198857Z",
     "shell.execute_reply.started": "2022-03-15T10:34:40.585212Z"
    },
    "papermill": {
     "duration": 3.095584,
     "end_time": "2022-03-15T12:22:41.199497",
     "exception": false,
     "start_time": "2022-03-15T12:22:38.103913",
     "status": "completed"
    },
    "tags": []
   },
   "outputs": [],
   "source": [
    "def get_corpus(text):\n",
    "    words = []\n",
    "    for i in text:\n",
    "        for j in i.split():\n",
    "            words.append(j.strip())\n",
    "    return words\n",
    "corpus = get_corpus(all_news.text)"
   ]
  },
  {
   "cell_type": "code",
   "execution_count": 22,
   "id": "0c87cbc0",
   "metadata": {
    "execution": {
     "iopub.execute_input": "2022-03-15T12:22:41.337647Z",
     "iopub.status.busy": "2022-03-15T12:22:41.336650Z",
     "iopub.status.idle": "2022-03-15T12:22:41.339155Z",
     "shell.execute_reply": "2022-03-15T12:22:41.338450Z",
     "shell.execute_reply.started": "2022-03-15T10:34:43.757243Z"
    },
    "papermill": {
     "duration": 0.076763,
     "end_time": "2022-03-15T12:22:41.339350",
     "exception": false,
     "start_time": "2022-03-15T12:22:41.262587",
     "status": "completed"
    },
    "tags": []
   },
   "outputs": [],
   "source": [
    "# import cufflinks as cf\n",
    "# cf.go_offline()\n",
    "# cf.set_config_file(offline=False, world_readable=True)\n",
    "\n",
    "# def get_top_n_words(corpus, n=None, g=1):\n",
    "#     vec = CountVectorizer(ngram_range=(g, g)).fit(corpus)\n",
    "#     bag_of_words = vec.transform(corpus)\n",
    "#     sum_words = bag_of_words.sum(axis=0) \n",
    "#     words_freq = [(word, sum_words[0, idx]) for word, idx in vec.vocabulary_.items()]\n",
    "#     words_freq = sorted(words_freq, key = lambda x: x[1], reverse=True)\n",
    "#     return words_freq[:n]"
   ]
  },
  {
   "cell_type": "code",
   "execution_count": 23,
   "id": "230ec9e8",
   "metadata": {
    "execution": {
     "iopub.execute_input": "2022-03-15T12:22:41.476456Z",
     "iopub.status.busy": "2022-03-15T12:22:41.475580Z",
     "iopub.status.idle": "2022-03-15T12:22:41.477930Z",
     "shell.execute_reply": "2022-03-15T12:22:41.477384Z",
     "shell.execute_reply.started": "2022-03-15T10:34:43.766301Z"
    },
    "papermill": {
     "duration": 0.066044,
     "end_time": "2022-03-15T12:22:41.478041",
     "exception": false,
     "start_time": "2022-03-15T12:22:41.411997",
     "status": "completed"
    },
    "tags": []
   },
   "outputs": [],
   "source": [
    "# # display top 10 words used in fake articles\n",
    "# plt.figure(figsize = (16,9))\n",
    "# most_common_uni = get_top_n_words(all_news[all_news['category']==1]['text'],10,1)\n",
    "# most_common_uni = dict(most_common_uni)\n",
    "# sns.barplot(x=list(most_common_uni.values()),y=list(most_common_uni.keys()))\n",
    "# plt.title('Top 10 Unigrams for fake articles');"
   ]
  },
  {
   "cell_type": "code",
   "execution_count": 24,
   "id": "1df73217",
   "metadata": {
    "execution": {
     "iopub.execute_input": "2022-03-15T12:22:41.601524Z",
     "iopub.status.busy": "2022-03-15T12:22:41.600784Z",
     "iopub.status.idle": "2022-03-15T12:22:41.603371Z",
     "shell.execute_reply": "2022-03-15T12:22:41.602855Z",
     "shell.execute_reply.started": "2022-03-15T10:34:43.963044Z"
    },
    "papermill": {
     "duration": 0.065744,
     "end_time": "2022-03-15T12:22:41.603586",
     "exception": false,
     "start_time": "2022-03-15T12:22:41.537842",
     "status": "completed"
    },
    "tags": []
   },
   "outputs": [],
   "source": [
    "# # display top 10 words used in real articles\n",
    "# plt.figure(figsize = (16,9))\n",
    "# most_common_uni = get_top_n_words(all_news[all_news['category']==0]['text'],10,1)\n",
    "# most_common_uni = dict(most_common_uni)\n",
    "# sns.barplot(x=list(most_common_uni.values()),y=list(most_common_uni.keys()))\n",
    "# plt.title('Top 10 Unigrams for real articles');"
   ]
  },
  {
   "cell_type": "code",
   "execution_count": 25,
   "id": "7aaca667",
   "metadata": {
    "execution": {
     "iopub.execute_input": "2022-03-15T12:22:41.727588Z",
     "iopub.status.busy": "2022-03-15T12:22:41.726849Z",
     "iopub.status.idle": "2022-03-15T12:22:41.728921Z",
     "shell.execute_reply": "2022-03-15T12:22:41.729374Z",
     "shell.execute_reply.started": "2022-03-15T10:34:43.972781Z"
    },
    "papermill": {
     "duration": 0.06606,
     "end_time": "2022-03-15T12:22:41.729506",
     "exception": false,
     "start_time": "2022-03-15T12:22:41.663446",
     "status": "completed"
    },
    "tags": []
   },
   "outputs": [],
   "source": [
    "# # display top 10 bigrams used in fake articles\n",
    "# plt.figure(figsize = (16,9))\n",
    "# most_common_uni = get_top_n_words(all_news[all_news['category']==1]['text'],10,2)\n",
    "# most_common_uni = dict(most_common_uni)\n",
    "# sns.barplot(x=list(most_common_uni.values()),y=list(most_common_uni.keys()))\n",
    "# plt.title('Top 10 Bigrams for fake articles');"
   ]
  },
  {
   "cell_type": "code",
   "execution_count": 26,
   "id": "4088adec",
   "metadata": {
    "execution": {
     "iopub.execute_input": "2022-03-15T12:22:41.853225Z",
     "iopub.status.busy": "2022-03-15T12:22:41.852366Z",
     "iopub.status.idle": "2022-03-15T12:22:41.854306Z",
     "shell.execute_reply": "2022-03-15T12:22:41.854793Z",
     "shell.execute_reply.started": "2022-03-15T10:34:43.982800Z"
    },
    "papermill": {
     "duration": 0.066132,
     "end_time": "2022-03-15T12:22:41.854942",
     "exception": false,
     "start_time": "2022-03-15T12:22:41.788810",
     "status": "completed"
    },
    "tags": []
   },
   "outputs": [],
   "source": [
    "# # display top 10 bigrams used in real articles\n",
    "# plt.figure(figsize = (16,9))\n",
    "# most_common_uni = get_top_n_words(all_news[all_news['category']==0]['text'],10,2)\n",
    "# most_common_uni = dict(most_common_uni)\n",
    "# sns.barplot(x=list(most_common_uni.values()),y=list(most_common_uni.keys()))\n",
    "# plt.title('Top 10 Bigrams for real articles');"
   ]
  },
  {
   "cell_type": "code",
   "execution_count": 27,
   "id": "bf41c3fb",
   "metadata": {
    "execution": {
     "iopub.execute_input": "2022-03-15T12:22:41.985227Z",
     "iopub.status.busy": "2022-03-15T12:22:41.984254Z",
     "iopub.status.idle": "2022-03-15T12:22:41.985927Z",
     "shell.execute_reply": "2022-03-15T12:22:41.986369Z",
     "shell.execute_reply.started": "2022-03-15T10:34:43.996926Z"
    },
    "papermill": {
     "duration": 0.067502,
     "end_time": "2022-03-15T12:22:41.986508",
     "exception": false,
     "start_time": "2022-03-15T12:22:41.919006",
     "status": "completed"
    },
    "tags": []
   },
   "outputs": [],
   "source": [
    "# # display top 10 trigrams used in fake articles\n",
    "# plt.figure(figsize = (16,9))\n",
    "# most_common_uni = get_top_n_words(all_news[all_news['category']==1]['text'],10,3)\n",
    "# most_common_uni = dict(most_common_uni)\n",
    "# sns.barplot(x=list(most_common_uni.values()),y=list(most_common_uni.keys()))\n",
    "# plt.title('Top 10 Trigrams for fake articles');"
   ]
  },
  {
   "cell_type": "code",
   "execution_count": 28,
   "id": "8bb76005",
   "metadata": {
    "execution": {
     "iopub.execute_input": "2022-03-15T12:22:42.112178Z",
     "iopub.status.busy": "2022-03-15T12:22:42.111298Z",
     "iopub.status.idle": "2022-03-15T12:22:42.113609Z",
     "shell.execute_reply": "2022-03-15T12:22:42.113109Z",
     "shell.execute_reply.started": "2022-03-15T10:34:44.006083Z"
    },
    "papermill": {
     "duration": 0.065385,
     "end_time": "2022-03-15T12:22:42.113727",
     "exception": false,
     "start_time": "2022-03-15T12:22:42.048342",
     "status": "completed"
    },
    "tags": []
   },
   "outputs": [],
   "source": [
    "# # display top 10 trigrams used in real articles\n",
    "# plt.figure(figsize = (16,9))\n",
    "# most_common_uni = get_top_n_words(all_news[all_news['category']==0]['text'],10,3)\n",
    "# most_common_uni = dict(most_common_uni)\n",
    "# sns.barplot(x=list(most_common_uni.values()),y=list(most_common_uni.keys()))\n",
    "# plt.title('Top 10 Trigrams for real articles');\n"
   ]
  },
  {
   "cell_type": "code",
   "execution_count": 29,
   "id": "b89245e9",
   "metadata": {
    "execution": {
     "iopub.execute_input": "2022-03-15T12:22:42.238217Z",
     "iopub.status.busy": "2022-03-15T12:22:42.237013Z",
     "iopub.status.idle": "2022-03-15T12:22:42.249094Z",
     "shell.execute_reply": "2022-03-15T12:22:42.248484Z",
     "shell.execute_reply.started": "2022-03-15T10:34:44.015867Z"
    },
    "papermill": {
     "duration": 0.07596,
     "end_time": "2022-03-15T12:22:42.249279",
     "exception": false,
     "start_time": "2022-03-15T12:22:42.173319",
     "status": "completed"
    },
    "tags": []
   },
   "outputs": [],
   "source": [
    "x_train,x_test,y_train,y_test = train_test_split(all_news.text,all_news.category, test_size = 0.25, random_state = 27)"
   ]
  },
  {
   "cell_type": "code",
   "execution_count": 30,
   "id": "780da9d8",
   "metadata": {
    "execution": {
     "iopub.execute_input": "2022-03-15T12:22:42.375617Z",
     "iopub.status.busy": "2022-03-15T12:22:42.374553Z",
     "iopub.status.idle": "2022-03-15T12:22:42.376381Z",
     "shell.execute_reply": "2022-03-15T12:22:42.376786Z",
     "shell.execute_reply.started": "2022-03-15T10:34:44.034614Z"
    },
    "papermill": {
     "duration": 0.066448,
     "end_time": "2022-03-15T12:22:42.376923",
     "exception": false,
     "start_time": "2022-03-15T12:22:42.310475",
     "status": "completed"
    },
    "tags": []
   },
   "outputs": [],
   "source": [
    "# def normalize(data):\n",
    "#     normalized = []\n",
    "#     for i in data:\n",
    "#         # get rid of non words and extra spaces\n",
    "#         i = re.sub('\\\\W', ' ', i)\n",
    "#         i = re.sub('\\n', '', i)\n",
    "#         i = re.sub(' +', ' ', i)\n",
    "#         i = re.sub('^ ', '', i)\n",
    "#         i = re.sub(' $', '', i)\n",
    "#         normalized.append(i)\n",
    "#     return normalized\n",
    "\n",
    "# x_train = np.array(normalize(x_train))\n",
    "# x_test = np.array(normalize(x_test))"
   ]
  },
  {
   "cell_type": "code",
   "execution_count": 31,
   "id": "12fed374",
   "metadata": {
    "execution": {
     "iopub.execute_input": "2022-03-15T12:22:42.501904Z",
     "iopub.status.busy": "2022-03-15T12:22:42.501191Z",
     "iopub.status.idle": "2022-03-15T12:22:42.504470Z",
     "shell.execute_reply": "2022-03-15T12:22:42.505055Z",
     "shell.execute_reply.started": "2022-03-15T10:34:44.042978Z"
    },
    "papermill": {
     "duration": 0.068699,
     "end_time": "2022-03-15T12:22:42.505260",
     "exception": false,
     "start_time": "2022-03-15T12:22:42.436561",
     "status": "completed"
    },
    "tags": []
   },
   "outputs": [
    {
     "name": "stdout",
     "output_type": "stream",
     "text": [
      "(33966,)\n",
      "(11322,)\n"
     ]
    }
   ],
   "source": [
    "print(x_train.shape)\n",
    "#print(x_val.shape)\n",
    "print(x_test.shape)"
   ]
  },
  {
   "cell_type": "code",
   "execution_count": 32,
   "id": "6430d8de",
   "metadata": {
    "execution": {
     "iopub.execute_input": "2022-03-15T12:22:42.631515Z",
     "iopub.status.busy": "2022-03-15T12:22:42.630717Z",
     "iopub.status.idle": "2022-03-15T12:22:42.636913Z",
     "shell.execute_reply": "2022-03-15T12:22:42.637401Z",
     "shell.execute_reply.started": "2022-03-15T10:34:44.053016Z"
    },
    "papermill": {
     "duration": 0.070952,
     "end_time": "2022-03-15T12:22:42.637539",
     "exception": false,
     "start_time": "2022-03-15T12:22:42.566587",
     "status": "completed"
    },
    "tags": []
   },
   "outputs": [
    {
     "name": "stdout",
     "output_type": "stream",
     "text": [
      "Train Set Real articles: 15886 , Fake articles: 18080\n",
      "Test Set Real articles: 5278 , Fake articles: 6044\n"
     ]
    }
   ],
   "source": [
    "print(f\"Train Set Real articles: {len(y_train[y_train == 0])} , Fake articles: {len(y_train[y_train == 1])}\")\n",
    "#print(f\"Validation Set Real articles: {len(y_val[y_val == 0])} , Fake articles: {len(y_val[y_val == 1])}\")\n",
    "print(f\"Test Set Real articles: {len(y_test[y_test == 0])} , Fake articles: {len(y_test[y_test == 1])}\")"
   ]
  },
  {
   "cell_type": "markdown",
   "id": "4b3759e8",
   "metadata": {
    "papermill": {
     "duration": 0.060084,
     "end_time": "2022-03-15T12:22:42.757507",
     "exception": false,
     "start_time": "2022-03-15T12:22:42.697423",
     "status": "completed"
    },
    "tags": []
   },
   "source": [
    "### Glove Embeddings"
   ]
  },
  {
   "cell_type": "code",
   "execution_count": 33,
   "id": "19a3c858",
   "metadata": {
    "execution": {
     "iopub.execute_input": "2022-03-15T12:22:42.883969Z",
     "iopub.status.busy": "2022-03-15T12:22:42.883352Z",
     "iopub.status.idle": "2022-03-15T12:22:42.886152Z",
     "shell.execute_reply": "2022-03-15T12:22:42.885673Z",
     "shell.execute_reply.started": "2022-03-15T10:34:44.066491Z"
    },
    "papermill": {
     "duration": 0.067709,
     "end_time": "2022-03-15T12:22:42.886267",
     "exception": false,
     "start_time": "2022-03-15T12:22:42.818558",
     "status": "completed"
    },
    "tags": []
   },
   "outputs": [],
   "source": [
    "# import scipy.stats as st\n",
    "\n",
    "# print(st.t.interval(0.95, len(fake_lengths)-1, loc=np.mean(fake_lengths), scale=st.sem(fake_lengths)))\n",
    "# print(st.t.interval(0.95, len(real_lengths)-1, loc=np.mean(real_lengths), scale=st.sem(real_lengths)))"
   ]
  },
  {
   "cell_type": "code",
   "execution_count": 34,
   "id": "2262c432",
   "metadata": {
    "execution": {
     "iopub.execute_input": "2022-03-15T12:22:43.010725Z",
     "iopub.status.busy": "2022-03-15T12:22:43.009891Z",
     "iopub.status.idle": "2022-03-15T12:22:43.013629Z",
     "shell.execute_reply": "2022-03-15T12:22:43.014045Z",
     "shell.execute_reply.started": "2022-03-15T10:34:44.074462Z"
    },
    "papermill": {
     "duration": 0.067242,
     "end_time": "2022-03-15T12:22:43.014252",
     "exception": false,
     "start_time": "2022-03-15T12:22:42.947010",
     "status": "completed"
    },
    "tags": []
   },
   "outputs": [],
   "source": [
    "max_features = 10000\n",
    "maxlen = 300"
   ]
  },
  {
   "cell_type": "code",
   "execution_count": 35,
   "id": "3ff694c0",
   "metadata": {
    "execution": {
     "iopub.execute_input": "2022-03-15T12:22:43.137982Z",
     "iopub.status.busy": "2022-03-15T12:22:43.137158Z",
     "iopub.status.idle": "2022-03-15T12:23:08.208573Z",
     "shell.execute_reply": "2022-03-15T12:23:08.207598Z",
     "shell.execute_reply.started": "2022-03-15T10:34:44.081191Z"
    },
    "papermill": {
     "duration": 25.134241,
     "end_time": "2022-03-15T12:23:08.208724",
     "exception": false,
     "start_time": "2022-03-15T12:22:43.074483",
     "status": "completed"
    },
    "tags": []
   },
   "outputs": [],
   "source": [
    "tokenizer = text.Tokenizer(num_words=max_features) #, oov_token='<oov>')\n",
    "tokenizer.fit_on_texts(x_train)\n",
    "\n",
    "tokenized_train = tokenizer.texts_to_sequences(x_train)\n",
    "x_train = sequence.pad_sequences(tokenized_train, maxlen=maxlen, padding='post', truncating='post')"
   ]
  },
  {
   "cell_type": "code",
   "execution_count": 36,
   "id": "f0012228",
   "metadata": {
    "execution": {
     "iopub.execute_input": "2022-03-15T12:23:08.397124Z",
     "iopub.status.busy": "2022-03-15T12:23:08.370734Z",
     "iopub.status.idle": "2022-03-15T12:23:12.225838Z",
     "shell.execute_reply": "2022-03-15T12:23:12.225371Z",
     "shell.execute_reply.started": "2022-03-15T10:35:09.027661Z"
    },
    "papermill": {
     "duration": 3.950136,
     "end_time": "2022-03-15T12:23:12.225968",
     "exception": false,
     "start_time": "2022-03-15T12:23:08.275832",
     "status": "completed"
    },
    "tags": []
   },
   "outputs": [],
   "source": [
    "tokenized_test = tokenizer.texts_to_sequences(x_test)\n",
    "x_test = sequence.pad_sequences(tokenized_test, maxlen=maxlen, padding='post', truncating='post')"
   ]
  },
  {
   "cell_type": "code",
   "execution_count": 37,
   "id": "1831d964",
   "metadata": {
    "execution": {
     "iopub.execute_input": "2022-03-15T12:23:12.353199Z",
     "iopub.status.busy": "2022-03-15T12:23:12.352263Z",
     "iopub.status.idle": "2022-03-15T12:23:12.354786Z",
     "shell.execute_reply": "2022-03-15T12:23:12.354260Z",
     "shell.execute_reply.started": "2022-03-15T10:35:12.778474Z"
    },
    "papermill": {
     "duration": 0.066721,
     "end_time": "2022-03-15T12:23:12.354901",
     "exception": false,
     "start_time": "2022-03-15T12:23:12.288180",
     "status": "completed"
    },
    "tags": []
   },
   "outputs": [],
   "source": [
    "EMBEDDING_FILE = \"../input/glove-twitter/glove.twitter.27B.100d.txt\""
   ]
  },
  {
   "cell_type": "code",
   "execution_count": 38,
   "id": "cbcb655f",
   "metadata": {
    "execution": {
     "iopub.execute_input": "2022-03-15T12:23:12.482953Z",
     "iopub.status.busy": "2022-03-15T12:23:12.482432Z",
     "iopub.status.idle": "2022-03-15T12:23:53.206202Z",
     "shell.execute_reply": "2022-03-15T12:23:53.205667Z",
     "shell.execute_reply.started": "2022-03-15T10:35:12.785202Z"
    },
    "papermill": {
     "duration": 40.789974,
     "end_time": "2022-03-15T12:23:53.206327",
     "exception": false,
     "start_time": "2022-03-15T12:23:12.416353",
     "status": "completed"
    },
    "tags": []
   },
   "outputs": [
    {
     "name": "stderr",
     "output_type": "stream",
     "text": [
      "/opt/conda/lib/python3.7/site-packages/IPython/core/interactiveshell.py:3377: FutureWarning: arrays to stack must be passed as a \"sequence\" type such as list or tuple. Support for non-sequence iterables such as generators is deprecated as of NumPy 1.16 and will raise an error in the future.\n",
      "  if (await self.run_code(code, result,  async_=asy)):\n"
     ]
    }
   ],
   "source": [
    "def get_coefs(word, *arr): \n",
    "    return word, np.asarray(arr, dtype='float32')\n",
    "embeddings_index = dict(get_coefs(*o.rstrip().rsplit(' ')) for o in open(EMBEDDING_FILE))\n",
    "all_embs = np.stack(embeddings_index.values())\n",
    "emb_mean,emb_std = all_embs.mean(), all_embs.std()\n",
    "embed_size = all_embs.shape[1]"
   ]
  },
  {
   "cell_type": "code",
   "execution_count": 39,
   "id": "19f15e66",
   "metadata": {
    "execution": {
     "iopub.execute_input": "2022-03-15T12:23:53.332505Z",
     "iopub.status.busy": "2022-03-15T12:23:53.331790Z",
     "iopub.status.idle": "2022-03-15T12:23:53.412573Z",
     "shell.execute_reply": "2022-03-15T12:23:53.412987Z",
     "shell.execute_reply.started": "2022-03-15T10:35:51.308400Z"
    },
    "papermill": {
     "duration": 0.146661,
     "end_time": "2022-03-15T12:23:53.413173",
     "exception": false,
     "start_time": "2022-03-15T12:23:53.266512",
     "status": "completed"
    },
    "tags": []
   },
   "outputs": [],
   "source": [
    "word_index = tokenizer.word_index\n",
    "nb_words = min(max_features, len(word_index))\n",
    "#change below line if computing normal stats is too slow\n",
    "embedding_matrix = embedding_matrix = np.random.normal(emb_mean, emb_std, (nb_words, embed_size))\n",
    "for word, i in word_index.items():\n",
    "    if i >= max_features: continue\n",
    "    embedding_vector = embeddings_index.get(word)\n",
    "    if embedding_vector is not None: embedding_matrix[i] = embedding_vector"
   ]
  },
  {
   "cell_type": "code",
   "execution_count": 40,
   "id": "2356ee49",
   "metadata": {
    "execution": {
     "iopub.execute_input": "2022-03-15T12:23:53.564311Z",
     "iopub.status.busy": "2022-03-15T12:23:53.563186Z",
     "iopub.status.idle": "2022-03-15T12:23:53.565943Z",
     "shell.execute_reply": "2022-03-15T12:23:53.565173Z",
     "shell.execute_reply.started": "2022-03-15T10:35:51.395724Z"
    },
    "papermill": {
     "duration": 0.093014,
     "end_time": "2022-03-15T12:23:53.566187",
     "exception": false,
     "start_time": "2022-03-15T12:23:53.473173",
     "status": "completed"
    },
    "tags": []
   },
   "outputs": [],
   "source": [
    "# Word 2 Vec\n",
    "#w2v_model = gensim.models.Word2Vec(sentences=X, size=EMBEDDING_DIM, window=5, min_count=1)\n",
    "# def get_weight_matrix(model, vocab):\n",
    "#     # total vocabulary size plus 0 for unknown words\n",
    "#     vocab_size = len(vocab) + 1\n",
    "#     # define weight matrix dimensions with all 0\n",
    "#     weight_matrix = np.zeros((vocab_size, EMBEDDING_DIM))\n",
    "#     # step vocab, store vectors using the Tokenizer's integer mapping\n",
    "#     for word, i in vocab.items():\n",
    "#         weight_matrix[i] = model[word]\n",
    "#     return weight_matrix\n",
    "# embedding_vectors = get_weight_matrix(w2v_model, word_index)"
   ]
  },
  {
   "cell_type": "code",
   "execution_count": 41,
   "id": "6168b42a",
   "metadata": {
    "execution": {
     "iopub.execute_input": "2022-03-15T12:23:53.711857Z",
     "iopub.status.busy": "2022-03-15T12:23:53.711033Z",
     "iopub.status.idle": "2022-03-15T12:23:53.713735Z",
     "shell.execute_reply": "2022-03-15T12:23:53.713280Z",
     "shell.execute_reply.started": "2022-03-15T10:35:51.401663Z"
    },
    "papermill": {
     "duration": 0.070428,
     "end_time": "2022-03-15T12:23:53.713867",
     "exception": false,
     "start_time": "2022-03-15T12:23:53.643439",
     "status": "completed"
    },
    "tags": []
   },
   "outputs": [],
   "source": [
    "# Model Hyperparameters\n",
    "BATCH_SIZE = 256\n",
    "EPOCHS = 10\n",
    "EMBED_SIZE = 100"
   ]
  },
  {
   "cell_type": "markdown",
   "id": "ed5c55ba",
   "metadata": {
    "papermill": {
     "duration": 0.063294,
     "end_time": "2022-03-15T12:23:53.842007",
     "exception": false,
     "start_time": "2022-03-15T12:23:53.778713",
     "status": "completed"
    },
    "tags": []
   },
   "source": [
    "### Training"
   ]
  },
  {
   "cell_type": "code",
   "execution_count": 42,
   "id": "d10211e1",
   "metadata": {
    "execution": {
     "iopub.execute_input": "2022-03-15T12:23:53.971796Z",
     "iopub.status.busy": "2022-03-15T12:23:53.970107Z",
     "iopub.status.idle": "2022-03-15T12:23:53.972412Z",
     "shell.execute_reply": "2022-03-15T12:23:53.972813Z",
     "shell.execute_reply.started": "2022-03-15T10:35:51.413453Z"
    },
    "papermill": {
     "duration": 0.070344,
     "end_time": "2022-03-15T12:23:53.972948",
     "exception": false,
     "start_time": "2022-03-15T12:23:53.902604",
     "status": "completed"
    },
    "tags": []
   },
   "outputs": [],
   "source": [
    "stopping_callback = tf.keras.callbacks.EarlyStopping(\n",
    "    monitor='val_loss', patience=5, verbose=0,\n",
    "    mode='min', restore_best_weights=True\n",
    ")\n",
    "\n",
    "plateau_callback = tf.keras.callbacks.ReduceLROnPlateau(\n",
    "    monitor=\"val_loss\",\n",
    "    factor=0.2,\n",
    "    patience=2,\n",
    "    verbose=0,\n",
    "    mode=\"auto\",\n",
    "    min_delta=0.0001,\n",
    "    cooldown=0,\n",
    "    min_lr=1e-8,\n",
    ")\n",
    "\n",
    "def scheduler(epoch, lr):\n",
    "    if epoch < 10:\n",
    "        return lr\n",
    "    else:\n",
    "        return lr * tf.math.exp(-0.1)\n",
    "decay_callback = tf.keras.callbacks.LearningRateScheduler(scheduler)"
   ]
  },
  {
   "cell_type": "code",
   "execution_count": 43,
   "id": "305711ca",
   "metadata": {
    "execution": {
     "iopub.execute_input": "2022-03-15T12:23:54.119489Z",
     "iopub.status.busy": "2022-03-15T12:23:54.118692Z",
     "iopub.status.idle": "2022-03-15T12:23:57.196407Z",
     "shell.execute_reply": "2022-03-15T12:23:57.195819Z",
     "shell.execute_reply.started": "2022-03-15T12:17:21.586159Z"
    },
    "papermill": {
     "duration": 3.152896,
     "end_time": "2022-03-15T12:23:57.196555",
     "exception": false,
     "start_time": "2022-03-15T12:23:54.043659",
     "status": "completed"
    },
    "tags": []
   },
   "outputs": [
    {
     "name": "stderr",
     "output_type": "stream",
     "text": [
      "2022-03-15 12:23:54.222135: I tensorflow/stream_executor/cuda/cuda_gpu_executor.cc:937] successful NUMA node read from SysFS had negative value (-1), but there must be at least one NUMA node, so returning NUMA node zero\n",
      "2022-03-15 12:23:54.310208: I tensorflow/stream_executor/cuda/cuda_gpu_executor.cc:937] successful NUMA node read from SysFS had negative value (-1), but there must be at least one NUMA node, so returning NUMA node zero\n",
      "2022-03-15 12:23:54.311022: I tensorflow/stream_executor/cuda/cuda_gpu_executor.cc:937] successful NUMA node read from SysFS had negative value (-1), but there must be at least one NUMA node, so returning NUMA node zero\n",
      "2022-03-15 12:23:54.312259: I tensorflow/core/platform/cpu_feature_guard.cc:142] This TensorFlow binary is optimized with oneAPI Deep Neural Network Library (oneDNN) to use the following CPU instructions in performance-critical operations:  AVX2 AVX512F FMA\n",
      "To enable them in other operations, rebuild TensorFlow with the appropriate compiler flags.\n",
      "2022-03-15 12:23:54.313344: I tensorflow/stream_executor/cuda/cuda_gpu_executor.cc:937] successful NUMA node read from SysFS had negative value (-1), but there must be at least one NUMA node, so returning NUMA node zero\n",
      "2022-03-15 12:23:54.314075: I tensorflow/stream_executor/cuda/cuda_gpu_executor.cc:937] successful NUMA node read from SysFS had negative value (-1), but there must be at least one NUMA node, so returning NUMA node zero\n",
      "2022-03-15 12:23:54.314819: I tensorflow/stream_executor/cuda/cuda_gpu_executor.cc:937] successful NUMA node read from SysFS had negative value (-1), but there must be at least one NUMA node, so returning NUMA node zero\n",
      "2022-03-15 12:23:56.187588: I tensorflow/stream_executor/cuda/cuda_gpu_executor.cc:937] successful NUMA node read from SysFS had negative value (-1), but there must be at least one NUMA node, so returning NUMA node zero\n",
      "2022-03-15 12:23:56.188572: I tensorflow/stream_executor/cuda/cuda_gpu_executor.cc:937] successful NUMA node read from SysFS had negative value (-1), but there must be at least one NUMA node, so returning NUMA node zero\n",
      "2022-03-15 12:23:56.189305: I tensorflow/stream_executor/cuda/cuda_gpu_executor.cc:937] successful NUMA node read from SysFS had negative value (-1), but there must be at least one NUMA node, so returning NUMA node zero\n",
      "2022-03-15 12:23:56.189893: I tensorflow/core/common_runtime/gpu/gpu_device.cc:1510] Created device /job:localhost/replica:0/task:0/device:GPU:0 with 15403 MB memory:  -> device: 0, name: Tesla P100-PCIE-16GB, pci bus id: 0000:00:04.0, compute capability: 6.0\n"
     ]
    }
   ],
   "source": [
    "clear_session()\n",
    "model = Sequential([\n",
    "                    Embedding(max_features, EMBED_SIZE, weights=[embedding_matrix], trainable=False, input_length=maxlen),\n",
    "                    Bidirectional(LSTM(128, return_sequences=True)),# recurrent_dropout = 0.25, dropout=0.25),\n",
    "                    Dropout(0.5),\n",
    "                    LSTM(64),# recurrent_dropout = 0.1, dropout=0.1),\n",
    "                    Dropout(0.4),\n",
    "                    #LSTM(32),\n",
    "                    #Dropout(0.2),\n",
    "                    Dense(128, activation='relu'),\n",
    "                    Dropout(0.75),\n",
    "                    #Dense(64, activation='relu'), #kernel_regularizer = regularizers.l2(0.05)),\n",
    "                    #Dropout(0.3),\n",
    "                    Dense(1, activation='sigmoid')\n",
    "])\n",
    "\n",
    "model.compile(loss='binary_crossentropy', optimizer=tf.keras.optimizers.Adam(learning_rate=0.01), metrics=['acc'])"
   ]
  },
  {
   "cell_type": "code",
   "execution_count": 44,
   "id": "35d9a32a",
   "metadata": {
    "execution": {
     "iopub.execute_input": "2022-03-15T12:23:57.344007Z",
     "iopub.status.busy": "2022-03-15T12:23:57.343100Z",
     "iopub.status.idle": "2022-03-15T12:23:57.351940Z",
     "shell.execute_reply": "2022-03-15T12:23:57.352450Z",
     "shell.execute_reply.started": "2022-03-15T12:17:22.236690Z"
    },
    "papermill": {
     "duration": 0.085266,
     "end_time": "2022-03-15T12:23:57.352614",
     "exception": false,
     "start_time": "2022-03-15T12:23:57.267348",
     "status": "completed"
    },
    "tags": []
   },
   "outputs": [
    {
     "name": "stdout",
     "output_type": "stream",
     "text": [
      "Model: \"sequential\"\n",
      "_________________________________________________________________\n",
      "Layer (type)                 Output Shape              Param #   \n",
      "=================================================================\n",
      "embedding (Embedding)        (None, 300, 100)          1000000   \n",
      "_________________________________________________________________\n",
      "bidirectional (Bidirectional (None, 300, 256)          234496    \n",
      "_________________________________________________________________\n",
      "dropout (Dropout)            (None, 300, 256)          0         \n",
      "_________________________________________________________________\n",
      "lstm_1 (LSTM)                (None, 64)                82176     \n",
      "_________________________________________________________________\n",
      "dropout_1 (Dropout)          (None, 64)                0         \n",
      "_________________________________________________________________\n",
      "dense (Dense)                (None, 128)               8320      \n",
      "_________________________________________________________________\n",
      "dropout_2 (Dropout)          (None, 128)               0         \n",
      "_________________________________________________________________\n",
      "dense_1 (Dense)              (None, 1)                 129       \n",
      "=================================================================\n",
      "Total params: 1,325,121\n",
      "Trainable params: 325,121\n",
      "Non-trainable params: 1,000,000\n",
      "_________________________________________________________________\n"
     ]
    }
   ],
   "source": [
    "model.summary()"
   ]
  },
  {
   "cell_type": "code",
   "execution_count": 45,
   "id": "2d6d81ed",
   "metadata": {
    "execution": {
     "iopub.execute_input": "2022-03-15T12:23:57.499384Z",
     "iopub.status.busy": "2022-03-15T12:23:57.498557Z",
     "iopub.status.idle": "2022-03-15T12:26:23.769356Z",
     "shell.execute_reply": "2022-03-15T12:26:23.769837Z",
     "shell.execute_reply.started": "2022-03-15T12:17:22.248756Z"
    },
    "papermill": {
     "duration": 146.347454,
     "end_time": "2022-03-15T12:26:23.770020",
     "exception": false,
     "start_time": "2022-03-15T12:23:57.422566",
     "status": "completed"
    },
    "tags": []
   },
   "outputs": [
    {
     "name": "stderr",
     "output_type": "stream",
     "text": [
      "2022-03-15 12:23:57.578970: I tensorflow/compiler/mlir/mlir_graph_optimization_pass.cc:185] None of the MLIR Optimization Passes are enabled (registered 2)\n"
     ]
    },
    {
     "name": "stdout",
     "output_type": "stream",
     "text": [
      "Epoch 1/10\n"
     ]
    },
    {
     "name": "stderr",
     "output_type": "stream",
     "text": [
      "2022-03-15 12:24:02.652275: I tensorflow/stream_executor/cuda/cuda_dnn.cc:369] Loaded cuDNN version 8005\n"
     ]
    },
    {
     "name": "stdout",
     "output_type": "stream",
     "text": [
      "120/120 [==============================] - 18s 100ms/step - loss: 0.6905 - acc: 0.5278 - val_loss: 0.6799 - val_acc: 0.5369\n",
      "Epoch 2/10\n",
      "120/120 [==============================] - 11s 93ms/step - loss: 0.5943 - acc: 0.7010 - val_loss: 0.4027 - val_acc: 0.8316\n",
      "Epoch 3/10\n",
      "120/120 [==============================] - 11s 93ms/step - loss: 0.3804 - acc: 0.8360 - val_loss: 0.3042 - val_acc: 0.8852\n",
      "Epoch 4/10\n",
      "120/120 [==============================] - 11s 94ms/step - loss: 0.1991 - acc: 0.9208 - val_loss: 0.1538 - val_acc: 0.9385\n",
      "Epoch 5/10\n",
      "120/120 [==============================] - 11s 93ms/step - loss: 0.2158 - acc: 0.9156 - val_loss: 0.1892 - val_acc: 0.9205\n",
      "Epoch 6/10\n",
      "120/120 [==============================] - 11s 94ms/step - loss: 0.1980 - acc: 0.9292 - val_loss: 0.1294 - val_acc: 0.9455\n",
      "Epoch 7/10\n",
      "120/120 [==============================] - 11s 93ms/step - loss: 0.1574 - acc: 0.9378 - val_loss: 0.1580 - val_acc: 0.9435\n",
      "Epoch 8/10\n",
      "120/120 [==============================] - 11s 93ms/step - loss: 0.1422 - acc: 0.9444 - val_loss: 0.1525 - val_acc: 0.9470\n",
      "Epoch 9/10\n",
      "120/120 [==============================] - 11s 94ms/step - loss: 0.1229 - acc: 0.9522 - val_loss: 0.1229 - val_acc: 0.9541\n",
      "Epoch 10/10\n",
      "120/120 [==============================] - 11s 93ms/step - loss: 0.1115 - acc: 0.9547 - val_loss: 0.1242 - val_acc: 0.9532\n"
     ]
    }
   ],
   "source": [
    "history = model.fit(\n",
    "    x_train,\n",
    "    y_train,\n",
    "    epochs = EPOCHS,\n",
    "    batch_size = BATCH_SIZE,\n",
    "    callbacks = [plateau_callback],\n",
    "    validation_split = 0.1,\n",
    "    shuffle = True\n",
    ")"
   ]
  },
  {
   "cell_type": "markdown",
   "id": "8ec79e8c",
   "metadata": {
    "papermill": {
     "duration": 0.430589,
     "end_time": "2022-03-15T12:26:24.642196",
     "exception": false,
     "start_time": "2022-03-15T12:26:24.211607",
     "status": "completed"
    },
    "tags": []
   },
   "source": [
    "### Evaluation"
   ]
  },
  {
   "cell_type": "code",
   "execution_count": 46,
   "id": "1934438a",
   "metadata": {
    "execution": {
     "iopub.execute_input": "2022-03-15T12:26:25.516748Z",
     "iopub.status.busy": "2022-03-15T12:26:25.515900Z",
     "iopub.status.idle": "2022-03-15T12:26:25.567894Z",
     "shell.execute_reply": "2022-03-15T12:26:25.567367Z",
     "shell.execute_reply.started": "2022-03-15T12:19:48.508701Z"
    },
    "papermill": {
     "duration": 0.495481,
     "end_time": "2022-03-15T12:26:25.568015",
     "exception": false,
     "start_time": "2022-03-15T12:26:25.072534",
     "status": "completed"
    },
    "tags": []
   },
   "outputs": [],
   "source": [
    "model.save('LSTM.h5')"
   ]
  },
  {
   "cell_type": "code",
   "execution_count": 47,
   "id": "ce0ea3ef",
   "metadata": {
    "execution": {
     "iopub.execute_input": "2022-03-15T12:26:26.491680Z",
     "iopub.status.busy": "2022-03-15T12:26:26.491051Z",
     "iopub.status.idle": "2022-03-15T12:26:26.916405Z",
     "shell.execute_reply": "2022-03-15T12:26:26.916831Z",
     "shell.execute_reply.started": "2022-03-15T12:19:48.570817Z"
    },
    "papermill": {
     "duration": 0.885765,
     "end_time": "2022-03-15T12:26:26.916978",
     "exception": false,
     "start_time": "2022-03-15T12:26:26.031213",
     "status": "completed"
    },
    "tags": []
   },
   "outputs": [
    {
     "data": {
      "image/png": "[encoded data removed]",
      "text/plain": [
       "<Figure size 1440x576 with 2 Axes>"
      ]
     },
     "metadata": {
      "needs_background": "light"
     },
     "output_type": "display_data"
    }
   ],
   "source": [
    "acc = history.history['acc']\n",
    "loss = history.history['loss']\n",
    "val_acc = history.history['val_acc']\n",
    "val_loss = history.history['val_loss']\n",
    "\n",
    "fig , ax = plt.subplots(1,2)\n",
    "fig.set_size_inches(20,8)\n",
    "ax[0].plot(acc, color='b', label='Train Accuracy')\n",
    "ax[0].plot(val_acc, color='r', label='Val Accuracy')\n",
    "ax[0].set_title('Training and Validation Accuracy')\n",
    "ax[0].set_xlabel(\"Epochs\")\n",
    "ax[0].set_ylabel(\"Accuracy\")\n",
    "ax[0].set_xticks([i for i in range(EPOCHS)])\n",
    "ax[0].legend()\n",
    "\n",
    "ax[1].plot(loss, color='b', label='Train Loss')\n",
    "ax[1].plot(val_loss, color='r', label='Val Loss')\n",
    "ax[1].set_title('Training and Validation Loss')\n",
    "ax[1].set_xlabel('Epochs')\n",
    "ax[0].set_ylabel(\"Loss\")\n",
    "ax[1].set_xticks([i for i in range(EPOCHS)])\n",
    "ax[1].legend();"
   ]
  },
  {
   "cell_type": "code",
   "execution_count": 48,
   "id": "4468d7c5",
   "metadata": {
    "execution": {
     "iopub.execute_input": "2022-03-15T12:26:27.786080Z",
     "iopub.status.busy": "2022-03-15T12:26:27.785131Z",
     "iopub.status.idle": "2022-03-15T12:26:53.254343Z",
     "shell.execute_reply": "2022-03-15T12:26:53.255015Z",
     "shell.execute_reply.started": "2022-03-15T12:19:48.978963Z"
    },
    "papermill": {
     "duration": 25.905446,
     "end_time": "2022-03-15T12:26:53.255256",
     "exception": false,
     "start_time": "2022-03-15T12:26:27.349810",
     "status": "completed"
    },
    "tags": []
   },
   "outputs": [
    {
     "name": "stdout",
     "output_type": "stream",
     "text": [
      "1062/1062 [==============================] - 19s 18ms/step - loss: 0.1101 - acc: 0.9597\n",
      "Accuracy of the model on Training Data is -  95.96949815750122 %\n",
      "354/354 [==============================] - 6s 18ms/step - loss: 0.1275 - acc: 0.9524\n",
      "Accuracy of the model on Test Data is -  95.23935914039612 %\n"
     ]
    }
   ],
   "source": [
    "print(\"Accuracy of the model on Training Data is - \" , model.evaluate(x_train,y_train)[1]*100 , \"%\")\n",
    "#print(\"Accuracy of the model on Validation Data is - \" , model.evaluate(x_val,y_val)[1]*100 , \"%\")\n",
    "print(\"Accuracy of the model on Test Data is - \" , model.evaluate(x_test,y_test)[1]*100 , \"%\")"
   ]
  },
  {
   "cell_type": "code",
   "execution_count": 49,
   "id": "83a18325",
   "metadata": {
    "execution": {
     "iopub.execute_input": "2022-03-15T12:26:54.464317Z",
     "iopub.status.busy": "2022-03-15T12:26:54.463413Z",
     "iopub.status.idle": "2022-03-15T12:27:05.466350Z",
     "shell.execute_reply": "2022-03-15T12:27:05.467021Z",
     "shell.execute_reply.started": "2022-03-15T12:21:08.629414Z"
    },
    "papermill": {
     "duration": 11.59409,
     "end_time": "2022-03-15T12:27:05.467266",
     "exception": false,
     "start_time": "2022-03-15T12:26:53.873176",
     "status": "completed"
    },
    "tags": []
   },
   "outputs": [
    {
     "name": "stdout",
     "output_type": "stream",
     "text": [
      "              precision    recall  f1-score   support\n",
      "\n",
      "        Fake       0.93      0.97      0.95      5278\n",
      "        Real       0.97      0.94      0.95      6044\n",
      "\n",
      "    accuracy                           0.95     11322\n",
      "   macro avg       0.95      0.95      0.95     11322\n",
      "weighted avg       0.95      0.95      0.95     11322\n",
      "\n"
     ]
    }
   ],
   "source": [
    "y_pred = model.predict(x_test)\n",
    "#y_pred = np.argmax(y_pred, axis=1)\n",
    "#y_pred = np.where(y_pred > 0, 1, 0)\n",
    "y_pred = np.round(y_pred).astype('int32')\n",
    "print(classification_report(y_test, y_pred, target_names = ['Fake','Real']))"
   ]
  },
  {
   "cell_type": "code",
   "execution_count": 50,
   "id": "c5d148fc",
   "metadata": {
    "execution": {
     "iopub.execute_input": "2022-03-15T12:27:06.779207Z",
     "iopub.status.busy": "2022-03-15T12:27:06.778322Z",
     "iopub.status.idle": "2022-03-15T12:27:06.794447Z",
     "shell.execute_reply": "2022-03-15T12:27:06.794817Z",
     "shell.execute_reply.started": "2022-03-15T12:21:14.913688Z"
    },
    "papermill": {
     "duration": 0.661529,
     "end_time": "2022-03-15T12:27:06.794962",
     "exception": false,
     "start_time": "2022-03-15T12:27:06.133433",
     "status": "completed"
    },
    "tags": []
   },
   "outputs": [
    {
     "data": {
      "text/plain": [
       "array([[5100,  178],\n",
       "       [ 361, 5683]])"
      ]
     },
     "execution_count": 50,
     "metadata": {},
     "output_type": "execute_result"
    }
   ],
   "source": [
    "cm = confusion_matrix(y_test,y_pred)\n",
    "cm"
   ]
  },
  {
   "cell_type": "code",
   "execution_count": 51,
   "id": "5c466ce6",
   "metadata": {
    "execution": {
     "iopub.execute_input": "2022-03-15T12:27:08.001197Z",
     "iopub.status.busy": "2022-03-15T12:27:08.000239Z",
     "iopub.status.idle": "2022-03-15T12:27:08.215213Z",
     "shell.execute_reply": "2022-03-15T12:27:08.215587Z",
     "shell.execute_reply.started": "2022-03-15T12:21:14.936758Z"
    },
    "papermill": {
     "duration": 0.84317,
     "end_time": "2022-03-15T12:27:08.215746",
     "exception": false,
     "start_time": "2022-03-15T12:27:07.372576",
     "status": "completed"
    },
    "tags": []
   },
   "outputs": [
    {
     "data": {
      "text/plain": [
       "Text(51.0, 0.5, 'Actual')"
      ]
     },
     "execution_count": 51,
     "metadata": {},
     "output_type": "execute_result"
    },
    {
     "data": {
      "image/png": "[encoded data removed]",
      "text/plain": [
       "<Figure size 576x576 with 2 Axes>"
      ]
     },
     "metadata": {
      "needs_background": "light"
     },
     "output_type": "display_data"
    }
   ],
   "source": [
    "cm = pd.DataFrame(cm , index = ['Fake','Real'] , columns = ['Fake','Real'])\n",
    "plt.figure(figsize = (8,8))\n",
    "sns.heatmap(cm,cmap= \"Greens\", linecolor = 'black' , linewidth = 1 , annot = True, fmt='' , xticklabels = ['Fake','Real'] , yticklabels = ['Fake','Real'])\n",
    "plt.xlabel(\"Predicted\")\n",
    "plt.ylabel(\"Actual\")"
   ]
  },
  {
   "cell_type": "code",
   "execution_count": 52,
   "id": "37f9a5f4",
   "metadata": {
    "execution": {
     "iopub.execute_input": "2022-03-15T12:27:09.388303Z",
     "iopub.status.busy": "2022-03-15T12:27:09.387393Z",
     "iopub.status.idle": "2022-03-15T12:27:09.389284Z",
     "shell.execute_reply": "2022-03-15T12:27:09.389728Z",
     "shell.execute_reply.started": "2022-03-15T10:37:56.320517Z"
    },
    "papermill": {
     "duration": 0.587183,
     "end_time": "2022-03-15T12:27:09.389867",
     "exception": false,
     "start_time": "2022-03-15T12:27:08.802684",
     "status": "completed"
    },
    "tags": []
   },
   "outputs": [],
   "source": [
    "# from sklearn.metrics import auc, roc_curve\n",
    "# fpr, tpr, thresholds = roc_curve(y_test, y_pred)\n",
    "# auc_score = auc(fpr, tpr)"
   ]
  },
  {
   "cell_type": "code",
   "execution_count": 53,
   "id": "34b24aa2",
   "metadata": {
    "execution": {
     "iopub.execute_input": "2022-03-15T12:27:10.627422Z",
     "iopub.status.busy": "2022-03-15T12:27:10.626571Z",
     "iopub.status.idle": "2022-03-15T12:27:10.628331Z",
     "shell.execute_reply": "2022-03-15T12:27:10.628806Z",
     "shell.execute_reply.started": "2022-03-15T10:37:56.325907Z"
    },
    "papermill": {
     "duration": 0.604002,
     "end_time": "2022-03-15T12:27:10.628940",
     "exception": false,
     "start_time": "2022-03-15T12:27:10.024938",
     "status": "completed"
    },
    "tags": []
   },
   "outputs": [],
   "source": [
    "# y_LSTM = model.predict_proba(x_test)\n",
    "# curve_LSTM  = sklearn.metrics.roc_curve(y_test, y_LSTM[:, 1])\n",
    "# auc_LSTM  = auc(curve_LSTM[0], curve_LSTM[1])\n",
    "# plt.plot(curve_LSTM[0], curve_LSTM[1], label='LSTM (area = %0.2f)' % auc_LSTM)\n",
    "# plt.xlim([0.0, 1.0])\n",
    "# plt.ylim([0.0, 1.0])\n",
    "# plt.xlabel('False Positive Rate')\n",
    "# plt.ylabel('True Positive Rate')\n",
    "# plt.title('ROC curve');\n",
    "\n",
    "# plt.legend();"
   ]
  },
  {
   "cell_type": "markdown",
   "id": "7a81c5e5",
   "metadata": {
    "papermill": {
     "duration": 0.653258,
     "end_time": "2022-03-15T12:27:11.892036",
     "exception": false,
     "start_time": "2022-03-15T12:27:11.238778",
     "status": "completed"
    },
    "tags": []
   },
   "source": [
    "### K Nearest Neighbours"
   ]
  },
  {
   "cell_type": "code",
   "execution_count": 54,
   "id": "1c11b7df",
   "metadata": {
    "execution": {
     "iopub.execute_input": "2022-03-15T12:27:13.099468Z",
     "iopub.status.busy": "2022-03-15T12:27:13.098615Z",
     "iopub.status.idle": "2022-03-15T12:27:13.100493Z",
     "shell.execute_reply": "2022-03-15T12:27:13.100888Z",
     "shell.execute_reply.started": "2022-03-15T10:37:56.336502Z"
    },
    "papermill": {
     "duration": 0.620284,
     "end_time": "2022-03-15T12:27:13.101015",
     "exception": false,
     "start_time": "2022-03-15T12:27:12.480731",
     "status": "completed"
    },
    "tags": []
   },
   "outputs": [],
   "source": [
    "# from sklearn.neighbors import KNeighborsClassifier\n",
    "\n",
    "# knn = KNeighborsClassifier(1, verbose=1)\n",
    "# knn.fit(x_train,y_train)\n",
    "\n",
    "# knn_preds = knn.predict(x_test)\n",
    "\n",
    "# print(classification_report(y_test, knn_pred, target_names = ['Fake','Real']))"
   ]
  },
  {
   "cell_type": "code",
   "execution_count": 55,
   "id": "f9aa2f2d",
   "metadata": {
    "execution": {
     "iopub.execute_input": "2022-03-15T12:27:15.098891Z",
     "iopub.status.busy": "2022-03-15T12:27:15.098069Z",
     "iopub.status.idle": "2022-03-15T12:27:15.102381Z",
     "shell.execute_reply": "2022-03-15T12:27:15.102946Z",
     "shell.execute_reply.started": "2022-03-15T10:37:56.344888Z"
    },
    "papermill": {
     "duration": 1.247057,
     "end_time": "2022-03-15T12:27:15.103170",
     "exception": false,
     "start_time": "2022-03-15T12:27:13.856113",
     "status": "completed"
    },
    "tags": []
   },
   "outputs": [],
   "source": [
    "# cm_knn = confusion_matrix(y_test,knn_preds)\n",
    "# cm_knn = pd.DataFrame(cm_knn , index = ['Fake','Real'] , columns = ['Fake','Real'])\n",
    "# plt.figure(figsize = (8,8))\n",
    "# sns.heatmap(cm_knn,cmap= \"Greens\", linecolor = 'black' , linewidth = 1 , annot = True, fmt='' , xticklabels = ['Fake','Real'] , yticklabels = ['Fake','Real'])\n",
    "# plt.xlabel(\"Predicted\")\n",
    "# plt.ylabel(\"Actual\")"
   ]
  },
  {
   "cell_type": "markdown",
   "id": "7516358b",
   "metadata": {
    "papermill": {
     "duration": 0.620848,
     "end_time": "2022-03-15T12:27:16.320426",
     "exception": false,
     "start_time": "2022-03-15T12:27:15.699578",
     "status": "completed"
    },
    "tags": []
   },
   "source": [
    "### Logistic Regression"
   ]
  },
  {
   "cell_type": "code",
   "execution_count": 56,
   "id": "4eef7ec8",
   "metadata": {
    "execution": {
     "iopub.execute_input": "2022-03-15T12:27:17.515986Z",
     "iopub.status.busy": "2022-03-15T12:27:17.515025Z",
     "iopub.status.idle": "2022-03-15T12:27:17.517559Z",
     "shell.execute_reply": "2022-03-15T12:27:17.516928Z",
     "shell.execute_reply.started": "2022-03-15T10:37:56.354854Z"
    },
    "papermill": {
     "duration": 0.616663,
     "end_time": "2022-03-15T12:27:17.517682",
     "exception": false,
     "start_time": "2022-03-15T12:27:16.901019",
     "status": "completed"
    },
    "tags": []
   },
   "outputs": [],
   "source": [
    "# from sklearn.linear_model import LogisticRegression\n",
    "\n",
    "# logR = LogisticRegression(C=3)\n",
    "# logR.fit(x_train,y_train)\n",
    "\n",
    "# log_preds = logR.predict(x_test)\n",
    "\n",
    "# print(classification_report(y_test, log_preds, target_names = ['Fake','Real']))"
   ]
  },
  {
   "cell_type": "code",
   "execution_count": 57,
   "id": "3be4b044",
   "metadata": {
    "execution": {
     "iopub.execute_input": "2022-03-15T12:27:18.707643Z",
     "iopub.status.busy": "2022-03-15T12:27:18.706849Z",
     "iopub.status.idle": "2022-03-15T12:27:18.709521Z",
     "shell.execute_reply": "2022-03-15T12:27:18.709062Z",
     "shell.execute_reply.started": "2022-03-15T10:37:56.365431Z"
    },
    "papermill": {
     "duration": 0.605739,
     "end_time": "2022-03-15T12:27:18.709642",
     "exception": false,
     "start_time": "2022-03-15T12:27:18.103903",
     "status": "completed"
    },
    "tags": []
   },
   "outputs": [],
   "source": [
    "# cm_log = confusion_matrix(y_test,log_preds)\n",
    "# cm_log = pd.DataFrame(cm_log , index = ['Fake','Real'] , columns = ['Fake','Real'])\n",
    "# plt.figure(figsize = (8,8))\n",
    "# sns.heatmap(cm_log,cmap= \"Greens\", linecolor = 'black' , linewidth = 1 , annot = True, fmt='' , xticklabels = ['Fake','Real'] , yticklabels = ['Fake','Real'])\n",
    "# plt.xlabel(\"Predicted\")\n",
    "# plt.ylabel(\"Actual\")\n"
   ]
  },
  {
   "cell_type": "markdown",
   "id": "f21f0239",
   "metadata": {
    "papermill": {
     "duration": 0.59544,
     "end_time": "2022-03-15T12:27:19.885811",
     "exception": false,
     "start_time": "2022-03-15T12:27:19.290371",
     "status": "completed"
    },
    "tags": []
   },
   "source": [
    "### AdaBoost"
   ]
  },
  {
   "cell_type": "code",
   "execution_count": 58,
   "id": "faf9cb64",
   "metadata": {
    "execution": {
     "iopub.execute_input": "2022-03-15T12:27:21.061519Z",
     "iopub.status.busy": "2022-03-15T12:27:21.060657Z",
     "iopub.status.idle": "2022-03-15T12:27:21.063115Z",
     "shell.execute_reply": "2022-03-15T12:27:21.062669Z",
     "shell.execute_reply.started": "2022-03-15T10:37:56.378579Z"
    },
    "papermill": {
     "duration": 0.586965,
     "end_time": "2022-03-15T12:27:21.063240",
     "exception": false,
     "start_time": "2022-03-15T12:27:20.476275",
     "status": "completed"
    },
    "tags": []
   },
   "outputs": [],
   "source": [
    "# from sklearn.ensembles import AdaBoostClassifier\n",
    "\n",
    "# ada = AdaBoostClassifier(verbose=1)\n",
    "# ada.fit(x_train, y_train)\n",
    "\n",
    "# ada_preds = ada.predict(x_test)\n",
    "# #ada_preds = np.argmax(ada_preds, axis=1)\n",
    "\n",
    "# print(classification_report(y_test, ada_pred, target_names = ['Fake','Real']))"
   ]
  },
  {
   "cell_type": "code",
   "execution_count": 59,
   "id": "8bb14254",
   "metadata": {
    "execution": {
     "iopub.execute_input": "2022-03-15T12:27:22.249756Z",
     "iopub.status.busy": "2022-03-15T12:27:22.248859Z",
     "iopub.status.idle": "2022-03-15T12:27:22.250827Z",
     "shell.execute_reply": "2022-03-15T12:27:22.251236Z",
     "shell.execute_reply.started": "2022-03-15T10:37:56.388628Z"
    },
    "papermill": {
     "duration": 0.606658,
     "end_time": "2022-03-15T12:27:22.251407",
     "exception": false,
     "start_time": "2022-03-15T12:27:21.644749",
     "status": "completed"
    },
    "tags": []
   },
   "outputs": [],
   "source": [
    "# cm_ada = confusion_matrix(y_test,ada_preds)\n",
    "# cm_ada = pd.DataFrame(cm_ada , index = ['Fake','Real'] , columns = ['Fake','Real'])\n",
    "# plt.figure(figsize = (8,8))\n",
    "# sns.heatmap(cm_ada,cmap= \"Greens\", linecolor = 'black' , linewidth = 1 , annot = True, fmt='' , xticklabels = ['Fake','Real'] , yticklabels = ['Fake','Real'])\n",
    "# plt.xlabel(\"Predicted\")\n",
    "# plt.ylabel(\"Actual\")"
   ]
  },
  {
   "cell_type": "markdown",
   "id": "66e80f75",
   "metadata": {
    "papermill": {
     "duration": 0.578023,
     "end_time": "2022-03-15T12:27:23.406957",
     "exception": false,
     "start_time": "2022-03-15T12:27:22.828934",
     "status": "completed"
    },
    "tags": []
   },
   "source": [
    "### ROC Curves"
   ]
  },
  {
   "cell_type": "code",
   "execution_count": 60,
   "id": "6804d01a",
   "metadata": {
    "execution": {
     "iopub.execute_input": "2022-03-15T12:27:24.684463Z",
     "iopub.status.busy": "2022-03-15T12:27:24.683479Z",
     "iopub.status.idle": "2022-03-15T12:27:24.685599Z",
     "shell.execute_reply": "2022-03-15T12:27:24.688074Z",
     "shell.execute_reply.started": "2022-03-15T10:37:56.398411Z"
    },
    "papermill": {
     "duration": 0.673963,
     "end_time": "2022-03-15T12:27:24.688398",
     "exception": false,
     "start_time": "2022-03-15T12:27:24.014435",
     "status": "completed"
    },
    "tags": []
   },
   "outputs": [],
   "source": [
    "# import sklearn\n",
    "# # We'll need class probabilities from each of the classifiers\n",
    "# y_log   = logR.predict_proba(x_test)\n",
    "# y_knn   = knn.predict_proba(x_test)\n",
    "\n",
    "# # Compute the points on the curve\n",
    "# # We pass the probability of the second class (KIA) as the y_score\n",
    "# curve_log    = sklearn.metrics.roc_curve(y_test, y_log[:, 1])\n",
    "# curve_knn    = sklearn.metrics.roc_curve(y_test, y_knn[:, 1])\n",
    "\n",
    "# # Compute Area Under the Curve\n",
    "# auc_log    = auc(curve_log[0], curve_log[1])\n",
    "# auc_knn    = auc(curve_knn[0], curve_knn[1])\n",
    "\n",
    "# plt.plot(curve_log[0], curve_log[1], label='logistic (area = %0.2f)' % auc_log)\n",
    "# plt.plot(curve_knn[0], curve_knn[1], label='knn (area = %0.2f)'% auc_knn)\n",
    "\n",
    "# plt.xlim([0.0, 1.0])\n",
    "# plt.ylim([0.0, 1.0])\n",
    "# plt.xlabel('False Positive Rate')\n",
    "# plt.ylabel('True Positive Rate')\n",
    "# plt.title('ROC curve');\n",
    "\n",
    "# plt.legend();"
   ]
  },
  {
   "cell_type": "code",
   "execution_count": null,
   "id": "bd0861af",
   "metadata": {
    "papermill": {
     "duration": 0.583813,
     "end_time": "2022-03-15T12:27:26.041906",
     "exception": false,
     "start_time": "2022-03-15T12:27:25.458093",
     "status": "completed"
    },
    "tags": []
   },
   "outputs": [],
   "source": []
  }
 ],
 "metadata": {
  "kernelspec": {
   "display_name": "Python 3",
   "language": "python",
   "name": "python3"
  },
  "language_info": {
   "codemirror_mode": {
    "name": "ipython",
    "version": 3
   },
   "file_extension": ".py",
   "mimetype": "text/x-python",
   "name": "python",
   "nbconvert_exporter": "python",
   "pygments_lexer": "ipython3",
   "version": "3.7.12"
  },
  "papermill": {
   "default_parameters": {},
   "duration": 335.029247,
   "end_time": "2022-03-15T12:27:29.377452",
   "environment_variables": {},
   "exception": null,
   "input_path": "__notebook__.ipynb",
   "output_path": "__notebook__.ipynb",
   "parameters": {},
   "start_time": "2022-03-15T12:21:54.348205",
   "version": "2.3.3"
  }
 },
 "nbformat": 4,
 "nbformat_minor": 5
}
