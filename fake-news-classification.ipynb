{
 "cells": [
  {
   "cell_type": "code",
   "execution_count": 1,
   "id": "209c3516",
   "metadata": {
    "execution": {
     "iopub.execute_input": "2022-03-20T13:49:29.889453Z",
     "iopub.status.busy": "2022-03-20T13:49:29.887987Z",
     "iopub.status.idle": "2022-03-20T13:49:36.109801Z",
     "shell.execute_reply": "2022-03-20T13:49:36.108826Z",
     "shell.execute_reply.started": "2022-03-20T12:08:09.718695Z"
    },
    "papermill": {
     "duration": 6.287184,
     "end_time": "2022-03-20T13:49:36.109969",
     "exception": false,
     "start_time": "2022-03-20T13:49:29.822785",
     "status": "completed"
    },
    "tags": []
   },
   "outputs": [],
   "source": [
    "import tensorflow as tf\n",
    "import pandas as pd\n",
    "import numpy as np\n",
    "import seaborn as sns\n",
    "from bs4 import BeautifulSoup\n",
    "import re,string,unicodedata\n",
    "import matplotlib.pyplot as plt\n",
    "import tensorflow.keras.layers as tfl\n",
    "from keras.preprocessing import text, sequence\n",
    "from sklearn.metrics import classification_report,confusion_matrix,accuracy_score\n",
    "from tensorflow.keras.preprocessing.sequence import pad_sequences\n",
    "from tensorflow.keras.layers import Embedding, LSTM, Dense, Dropout, Bidirectional\n",
    "from tensorflow.keras.preprocessing.text import Tokenizer\n",
    "from tensorflow.keras.models import Sequential\n",
    "from tensorflow.keras.optimizers import Adam\n",
    "from tensorflow.keras import regularizers\n",
    "import tensorflow.keras.utils as ku \n",
    "from sklearn.model_selection import train_test_split\n",
    "from nltk.corpus import stopwords\n",
    "from wordcloud import WordCloud, STOPWORDS\n",
    "from sklearn.feature_extraction.text import CountVectorizer\n",
    "from sklearn.metrics import f1_score, accuracy_score, precision_score, recall_score, plot_roc_curve, classification_report, roc_auc_score\n",
    "from keras.backend import clear_session\n",
    "import datetime\n",
    "%matplotlib inline"
   ]
  },
  {
   "cell_type": "code",
   "execution_count": 2,
   "id": "6762be15",
   "metadata": {
    "execution": {
     "iopub.execute_input": "2022-03-20T13:49:36.228761Z",
     "iopub.status.busy": "2022-03-20T13:49:36.228223Z",
     "iopub.status.idle": "2022-03-20T13:49:38.348520Z",
     "shell.execute_reply": "2022-03-20T13:49:38.348034Z",
     "shell.execute_reply.started": "2022-03-20T12:08:16.404330Z"
    },
    "papermill": {
     "duration": 2.181152,
     "end_time": "2022-03-20T13:49:38.348651",
     "exception": false,
     "start_time": "2022-03-20T13:49:36.167499",
     "status": "completed"
    },
    "tags": []
   },
   "outputs": [],
   "source": [
    "true = pd.read_csv(\"../input/fake-and-real-news-dataset/True.csv\")\n",
    "false = pd.read_csv(\"../input/fake-and-real-news-dataset/Fake.csv\")"
   ]
  },
  {
   "cell_type": "markdown",
   "id": "dfeebc96",
   "metadata": {
    "papermill": {
     "duration": 0.058588,
     "end_time": "2022-03-20T13:49:38.464699",
     "exception": false,
     "start_time": "2022-03-20T13:49:38.406111",
     "status": "completed"
    },
    "tags": []
   },
   "source": [
    "### Preparing fake-news dataset"
   ]
  },
  {
   "cell_type": "code",
   "execution_count": 3,
   "id": "914bc625",
   "metadata": {
    "execution": {
     "iopub.execute_input": "2022-03-20T13:49:38.586941Z",
     "iopub.status.busy": "2022-03-20T13:49:38.586283Z",
     "iopub.status.idle": "2022-03-20T13:49:39.928920Z",
     "shell.execute_reply": "2022-03-20T13:49:39.929467Z",
     "shell.execute_reply.started": "2022-03-20T12:08:19.265750Z"
    },
    "papermill": {
     "duration": 1.404202,
     "end_time": "2022-03-20T13:49:39.929624",
     "exception": false,
     "start_time": "2022-03-20T13:49:38.525422",
     "status": "completed"
    },
    "tags": []
   },
   "outputs": [
    {
     "data": {
      "text/html": [
       "<div>\n",
       "<style scoped>\n",
       "    .dataframe tbody tr th:only-of-type {\n",
       "        vertical-align: middle;\n",
       "    }\n",
       "\n",
       "    .dataframe tbody tr th {\n",
       "        vertical-align: top;\n",
       "    }\n",
       "\n",
       "    .dataframe thead th {\n",
       "        text-align: right;\n",
       "    }\n",
       "</style>\n",
       "<table border=\"1\" class=\"dataframe\">\n",
       "  <thead>\n",
       "    <tr style=\"text-align: right;\">\n",
       "      <th></th>\n",
       "      <th>title</th>\n",
       "      <th>text</th>\n",
       "      <th>category</th>\n",
       "    </tr>\n",
       "  </thead>\n",
       "  <tbody>\n",
       "    <tr>\n",
       "      <th>0</th>\n",
       "      <td>Muslims BUSTED: They Stole Millions In Gov’t B...</td>\n",
       "      <td>Print They should pay all the back all the mon...</td>\n",
       "      <td>0</td>\n",
       "    </tr>\n",
       "    <tr>\n",
       "      <th>1</th>\n",
       "      <td>Re: Why Did Attorney General Loretta Lynch Ple...</td>\n",
       "      <td>Why Did Attorney General Loretta Lynch Plead T...</td>\n",
       "      <td>0</td>\n",
       "    </tr>\n",
       "    <tr>\n",
       "      <th>2</th>\n",
       "      <td>BREAKING: Weiner Cooperating With FBI On Hilla...</td>\n",
       "      <td>Red State : \\nFox News Sunday reported this mo...</td>\n",
       "      <td>0</td>\n",
       "    </tr>\n",
       "    <tr>\n",
       "      <th>3</th>\n",
       "      <td>PIN DROP SPEECH BY FATHER OF DAUGHTER Kidnappe...</td>\n",
       "      <td>Email Kayla Mueller was a prisoner and torture...</td>\n",
       "      <td>0</td>\n",
       "    </tr>\n",
       "    <tr>\n",
       "      <th>4</th>\n",
       "      <td>FANTASTIC! TRUMP'S 7 POINT PLAN To Reform Heal...</td>\n",
       "      <td>Email HEALTHCARE REFORM TO MAKE AMERICA GREAT ...</td>\n",
       "      <td>0</td>\n",
       "    </tr>\n",
       "  </tbody>\n",
       "</table>\n",
       "</div>"
      ],
      "text/plain": [
       "                                               title  \\\n",
       "0  Muslims BUSTED: They Stole Millions In Gov’t B...   \n",
       "1  Re: Why Did Attorney General Loretta Lynch Ple...   \n",
       "2  BREAKING: Weiner Cooperating With FBI On Hilla...   \n",
       "3  PIN DROP SPEECH BY FATHER OF DAUGHTER Kidnappe...   \n",
       "4  FANTASTIC! TRUMP'S 7 POINT PLAN To Reform Heal...   \n",
       "\n",
       "                                                text  category  \n",
       "0  Print They should pay all the back all the mon...         0  \n",
       "1  Why Did Attorney General Loretta Lynch Plead T...         0  \n",
       "2  Red State : \\nFox News Sunday reported this mo...         0  \n",
       "3  Email Kayla Mueller was a prisoner and torture...         0  \n",
       "4  Email HEALTHCARE REFORM TO MAKE AMERICA GREAT ...         0  "
      ]
     },
     "execution_count": 3,
     "metadata": {},
     "output_type": "execute_result"
    }
   ],
   "source": [
    "fake1 = pd.read_csv(\"../input/fake-news/fake.csv\")\n",
    "# removing all unnecessary columns\n",
    "fake1 = fake1[['title', 'text', 'language']]\n",
    "# removing non-english articles\n",
    "fake1 = fake1[fake1['language'] == 'english']\n",
    "del fake1['language']\n",
    "fake1['category'] = 0\n",
    "# drop rows with missing values\n",
    "fake1 = fake1.dropna(axis=0)\n",
    "\n",
    "fake1.head()"
   ]
  },
  {
   "cell_type": "markdown",
   "id": "ef47d783",
   "metadata": {
    "papermill": {
     "duration": 0.062091,
     "end_time": "2022-03-20T13:49:40.056234",
     "exception": false,
     "start_time": "2022-03-20T13:49:39.994143",
     "status": "completed"
    },
    "tags": []
   },
   "source": [
    "### Preparing real-and-fake-news-dataset"
   ]
  },
  {
   "cell_type": "code",
   "execution_count": 4,
   "id": "9ae08fd0",
   "metadata": {
    "execution": {
     "iopub.execute_input": "2022-03-20T13:49:40.186134Z",
     "iopub.status.busy": "2022-03-20T13:49:40.185238Z",
     "iopub.status.idle": "2022-03-20T13:49:40.881673Z",
     "shell.execute_reply": "2022-03-20T13:49:40.882075Z",
     "shell.execute_reply.started": "2022-03-20T12:08:20.766053Z"
    },
    "papermill": {
     "duration": 0.764438,
     "end_time": "2022-03-20T13:49:40.882228",
     "exception": false,
     "start_time": "2022-03-20T13:49:40.117790",
     "status": "completed"
    },
    "tags": []
   },
   "outputs": [
    {
     "data": {
      "text/html": [
       "<div>\n",
       "<style scoped>\n",
       "    .dataframe tbody tr th:only-of-type {\n",
       "        vertical-align: middle;\n",
       "    }\n",
       "\n",
       "    .dataframe tbody tr th {\n",
       "        vertical-align: top;\n",
       "    }\n",
       "\n",
       "    .dataframe thead th {\n",
       "        text-align: right;\n",
       "    }\n",
       "</style>\n",
       "<table border=\"1\" class=\"dataframe\">\n",
       "  <thead>\n",
       "    <tr style=\"text-align: right;\">\n",
       "      <th></th>\n",
       "      <th>title</th>\n",
       "      <th>text</th>\n",
       "      <th>category</th>\n",
       "    </tr>\n",
       "  </thead>\n",
       "  <tbody>\n",
       "    <tr>\n",
       "      <th>0</th>\n",
       "      <td>You Can Smell Hillary’s Fear</td>\n",
       "      <td>Daniel Greenfield, a Shillman Journalism Fello...</td>\n",
       "      <td>0</td>\n",
       "    </tr>\n",
       "    <tr>\n",
       "      <th>1</th>\n",
       "      <td>Watch The Exact Moment Paul Ryan Committed Pol...</td>\n",
       "      <td>Google Pinterest Digg Linkedin Reddit Stumbleu...</td>\n",
       "      <td>0</td>\n",
       "    </tr>\n",
       "    <tr>\n",
       "      <th>2</th>\n",
       "      <td>Kerry to go to Paris in gesture of sympathy</td>\n",
       "      <td>U.S. Secretary of State John F. Kerry said Mon...</td>\n",
       "      <td>1</td>\n",
       "    </tr>\n",
       "    <tr>\n",
       "      <th>3</th>\n",
       "      <td>Bernie supporters on Twitter erupt in anger ag...</td>\n",
       "      <td>— Kaydee King (@KaydeeKing) November 9, 2016 T...</td>\n",
       "      <td>0</td>\n",
       "    </tr>\n",
       "    <tr>\n",
       "      <th>4</th>\n",
       "      <td>The Battle of New York: Why This Primary Matters</td>\n",
       "      <td>It's primary day in New York and front-runners...</td>\n",
       "      <td>1</td>\n",
       "    </tr>\n",
       "  </tbody>\n",
       "</table>\n",
       "</div>"
      ],
      "text/plain": [
       "                                               title  \\\n",
       "0                       You Can Smell Hillary’s Fear   \n",
       "1  Watch The Exact Moment Paul Ryan Committed Pol...   \n",
       "2        Kerry to go to Paris in gesture of sympathy   \n",
       "3  Bernie supporters on Twitter erupt in anger ag...   \n",
       "4   The Battle of New York: Why This Primary Matters   \n",
       "\n",
       "                                                text  category  \n",
       "0  Daniel Greenfield, a Shillman Journalism Fello...         0  \n",
       "1  Google Pinterest Digg Linkedin Reddit Stumbleu...         0  \n",
       "2  U.S. Secretary of State John F. Kerry said Mon...         1  \n",
       "3  — Kaydee King (@KaydeeKing) November 9, 2016 T...         0  \n",
       "4  It's primary day in New York and front-runners...         1  "
      ]
     },
     "execution_count": 4,
     "metadata": {},
     "output_type": "execute_result"
    }
   ],
   "source": [
    "real_fake = pd.read_csv(\"../input/real-and-fake-news-dataset/news.csv\")\n",
    "# removing all unnecessary columns\n",
    "del real_fake['Unnamed: 0']\n",
    "\n",
    "# turning label into boolean category (1 for real, 0 for fake)\n",
    "d = {'REAL': 1, 'FAKE': 0}\n",
    "real_fake['category'] = real_fake['label'].map(d)\n",
    "del real_fake['label']\n",
    "# drop rows with missing values\n",
    "real_fake = real_fake.dropna(axis=0)\n",
    "\n",
    "real_fake.head()"
   ]
  },
  {
   "cell_type": "code",
   "execution_count": 5,
   "id": "792a829b",
   "metadata": {
    "execution": {
     "iopub.execute_input": "2022-03-20T13:49:41.006632Z",
     "iopub.status.busy": "2022-03-20T13:49:41.005741Z",
     "iopub.status.idle": "2022-03-20T13:49:41.008852Z",
     "shell.execute_reply": "2022-03-20T13:49:41.009291Z",
     "shell.execute_reply.started": "2022-03-20T12:08:21.465532Z"
    },
    "papermill": {
     "duration": 0.068846,
     "end_time": "2022-03-20T13:49:41.009429",
     "exception": false,
     "start_time": "2022-03-20T13:49:40.940583",
     "status": "completed"
    },
    "tags": []
   },
   "outputs": [],
   "source": [
    "true['category'] = 1\n",
    "false['category'] = 0"
   ]
  },
  {
   "cell_type": "code",
   "execution_count": 6,
   "id": "d844e985",
   "metadata": {
    "execution": {
     "iopub.execute_input": "2022-03-20T13:49:41.143310Z",
     "iopub.status.busy": "2022-03-20T13:49:41.142586Z",
     "iopub.status.idle": "2022-03-20T13:49:41.147006Z",
     "shell.execute_reply": "2022-03-20T13:49:41.147436Z",
     "shell.execute_reply.started": "2022-03-20T12:08:21.475141Z"
    },
    "papermill": {
     "duration": 0.075216,
     "end_time": "2022-03-20T13:49:41.147559",
     "exception": false,
     "start_time": "2022-03-20T13:49:41.072343",
     "status": "completed"
    },
    "tags": []
   },
   "outputs": [
    {
     "data": {
      "text/html": [
       "<div>\n",
       "<style scoped>\n",
       "    .dataframe tbody tr th:only-of-type {\n",
       "        vertical-align: middle;\n",
       "    }\n",
       "\n",
       "    .dataframe tbody tr th {\n",
       "        vertical-align: top;\n",
       "    }\n",
       "\n",
       "    .dataframe thead th {\n",
       "        text-align: right;\n",
       "    }\n",
       "</style>\n",
       "<table border=\"1\" class=\"dataframe\">\n",
       "  <thead>\n",
       "    <tr style=\"text-align: right;\">\n",
       "      <th></th>\n",
       "      <th>title</th>\n",
       "      <th>text</th>\n",
       "      <th>subject</th>\n",
       "      <th>date</th>\n",
       "      <th>category</th>\n",
       "    </tr>\n",
       "  </thead>\n",
       "  <tbody>\n",
       "    <tr>\n",
       "      <th>0</th>\n",
       "      <td>As U.S. budget fight looms, Republicans flip t...</td>\n",
       "      <td>WASHINGTON (Reuters) - The head of a conservat...</td>\n",
       "      <td>politicsNews</td>\n",
       "      <td>December 31, 2017</td>\n",
       "      <td>1</td>\n",
       "    </tr>\n",
       "    <tr>\n",
       "      <th>1</th>\n",
       "      <td>U.S. military to accept transgender recruits o...</td>\n",
       "      <td>WASHINGTON (Reuters) - Transgender people will...</td>\n",
       "      <td>politicsNews</td>\n",
       "      <td>December 29, 2017</td>\n",
       "      <td>1</td>\n",
       "    </tr>\n",
       "    <tr>\n",
       "      <th>2</th>\n",
       "      <td>Senior U.S. Republican senator: 'Let Mr. Muell...</td>\n",
       "      <td>WASHINGTON (Reuters) - The special counsel inv...</td>\n",
       "      <td>politicsNews</td>\n",
       "      <td>December 31, 2017</td>\n",
       "      <td>1</td>\n",
       "    </tr>\n",
       "    <tr>\n",
       "      <th>3</th>\n",
       "      <td>FBI Russia probe helped by Australian diplomat...</td>\n",
       "      <td>WASHINGTON (Reuters) - Trump campaign adviser ...</td>\n",
       "      <td>politicsNews</td>\n",
       "      <td>December 30, 2017</td>\n",
       "      <td>1</td>\n",
       "    </tr>\n",
       "    <tr>\n",
       "      <th>4</th>\n",
       "      <td>Trump wants Postal Service to charge 'much mor...</td>\n",
       "      <td>SEATTLE/WASHINGTON (Reuters) - President Donal...</td>\n",
       "      <td>politicsNews</td>\n",
       "      <td>December 29, 2017</td>\n",
       "      <td>1</td>\n",
       "    </tr>\n",
       "  </tbody>\n",
       "</table>\n",
       "</div>"
      ],
      "text/plain": [
       "                                               title  \\\n",
       "0  As U.S. budget fight looms, Republicans flip t...   \n",
       "1  U.S. military to accept transgender recruits o...   \n",
       "2  Senior U.S. Republican senator: 'Let Mr. Muell...   \n",
       "3  FBI Russia probe helped by Australian diplomat...   \n",
       "4  Trump wants Postal Service to charge 'much mor...   \n",
       "\n",
       "                                                text       subject  \\\n",
       "0  WASHINGTON (Reuters) - The head of a conservat...  politicsNews   \n",
       "1  WASHINGTON (Reuters) - Transgender people will...  politicsNews   \n",
       "2  WASHINGTON (Reuters) - The special counsel inv...  politicsNews   \n",
       "3  WASHINGTON (Reuters) - Trump campaign adviser ...  politicsNews   \n",
       "4  SEATTLE/WASHINGTON (Reuters) - President Donal...  politicsNews   \n",
       "\n",
       "                 date  category  \n",
       "0  December 31, 2017          1  \n",
       "1  December 29, 2017          1  \n",
       "2  December 31, 2017          1  \n",
       "3  December 30, 2017          1  \n",
       "4  December 29, 2017          1  "
      ]
     },
     "execution_count": 6,
     "metadata": {},
     "output_type": "execute_result"
    }
   ],
   "source": [
    "true.head()"
   ]
  },
  {
   "cell_type": "code",
   "execution_count": 7,
   "id": "30541659",
   "metadata": {
    "execution": {
     "iopub.execute_input": "2022-03-20T13:49:41.280356Z",
     "iopub.status.busy": "2022-03-20T13:49:41.279642Z",
     "iopub.status.idle": "2022-03-20T13:49:41.284585Z",
     "shell.execute_reply": "2022-03-20T13:49:41.284966Z",
     "shell.execute_reply.started": "2022-03-20T12:08:21.488418Z"
    },
    "papermill": {
     "duration": 0.075274,
     "end_time": "2022-03-20T13:49:41.285097",
     "exception": false,
     "start_time": "2022-03-20T13:49:41.209823",
     "status": "completed"
    },
    "tags": []
   },
   "outputs": [
    {
     "data": {
      "text/html": [
       "<div>\n",
       "<style scoped>\n",
       "    .dataframe tbody tr th:only-of-type {\n",
       "        vertical-align: middle;\n",
       "    }\n",
       "\n",
       "    .dataframe tbody tr th {\n",
       "        vertical-align: top;\n",
       "    }\n",
       "\n",
       "    .dataframe thead th {\n",
       "        text-align: right;\n",
       "    }\n",
       "</style>\n",
       "<table border=\"1\" class=\"dataframe\">\n",
       "  <thead>\n",
       "    <tr style=\"text-align: right;\">\n",
       "      <th></th>\n",
       "      <th>title</th>\n",
       "      <th>text</th>\n",
       "      <th>subject</th>\n",
       "      <th>date</th>\n",
       "      <th>category</th>\n",
       "    </tr>\n",
       "  </thead>\n",
       "  <tbody>\n",
       "    <tr>\n",
       "      <th>0</th>\n",
       "      <td>Donald Trump Sends Out Embarrassing New Year’...</td>\n",
       "      <td>Donald Trump just couldn t wish all Americans ...</td>\n",
       "      <td>News</td>\n",
       "      <td>December 31, 2017</td>\n",
       "      <td>0</td>\n",
       "    </tr>\n",
       "    <tr>\n",
       "      <th>1</th>\n",
       "      <td>Drunk Bragging Trump Staffer Started Russian ...</td>\n",
       "      <td>House Intelligence Committee Chairman Devin Nu...</td>\n",
       "      <td>News</td>\n",
       "      <td>December 31, 2017</td>\n",
       "      <td>0</td>\n",
       "    </tr>\n",
       "    <tr>\n",
       "      <th>2</th>\n",
       "      <td>Sheriff David Clarke Becomes An Internet Joke...</td>\n",
       "      <td>On Friday, it was revealed that former Milwauk...</td>\n",
       "      <td>News</td>\n",
       "      <td>December 30, 2017</td>\n",
       "      <td>0</td>\n",
       "    </tr>\n",
       "    <tr>\n",
       "      <th>3</th>\n",
       "      <td>Trump Is So Obsessed He Even Has Obama’s Name...</td>\n",
       "      <td>On Christmas day, Donald Trump announced that ...</td>\n",
       "      <td>News</td>\n",
       "      <td>December 29, 2017</td>\n",
       "      <td>0</td>\n",
       "    </tr>\n",
       "    <tr>\n",
       "      <th>4</th>\n",
       "      <td>Pope Francis Just Called Out Donald Trump Dur...</td>\n",
       "      <td>Pope Francis used his annual Christmas Day mes...</td>\n",
       "      <td>News</td>\n",
       "      <td>December 25, 2017</td>\n",
       "      <td>0</td>\n",
       "    </tr>\n",
       "  </tbody>\n",
       "</table>\n",
       "</div>"
      ],
      "text/plain": [
       "                                               title  \\\n",
       "0   Donald Trump Sends Out Embarrassing New Year’...   \n",
       "1   Drunk Bragging Trump Staffer Started Russian ...   \n",
       "2   Sheriff David Clarke Becomes An Internet Joke...   \n",
       "3   Trump Is So Obsessed He Even Has Obama’s Name...   \n",
       "4   Pope Francis Just Called Out Donald Trump Dur...   \n",
       "\n",
       "                                                text subject  \\\n",
       "0  Donald Trump just couldn t wish all Americans ...    News   \n",
       "1  House Intelligence Committee Chairman Devin Nu...    News   \n",
       "2  On Friday, it was revealed that former Milwauk...    News   \n",
       "3  On Christmas day, Donald Trump announced that ...    News   \n",
       "4  Pope Francis used his annual Christmas Day mes...    News   \n",
       "\n",
       "                date  category  \n",
       "0  December 31, 2017         0  \n",
       "1  December 31, 2017         0  \n",
       "2  December 30, 2017         0  \n",
       "3  December 29, 2017         0  \n",
       "4  December 25, 2017         0  "
      ]
     },
     "execution_count": 7,
     "metadata": {},
     "output_type": "execute_result"
    }
   ],
   "source": [
    "false.head()"
   ]
  },
  {
   "cell_type": "code",
   "execution_count": 8,
   "id": "607a70ce",
   "metadata": {
    "execution": {
     "iopub.execute_input": "2022-03-20T13:49:41.412546Z",
     "iopub.status.busy": "2022-03-20T13:49:41.411797Z",
     "iopub.status.idle": "2022-03-20T13:49:41.417622Z",
     "shell.execute_reply": "2022-03-20T13:49:41.418043Z",
     "shell.execute_reply.started": "2022-03-20T12:08:21.505690Z"
    },
    "papermill": {
     "duration": 0.070489,
     "end_time": "2022-03-20T13:49:41.418173",
     "exception": false,
     "start_time": "2022-03-20T13:49:41.347684",
     "status": "completed"
    },
    "tags": []
   },
   "outputs": [],
   "source": [
    "news = pd.concat([true,false])"
   ]
  },
  {
   "cell_type": "code",
   "execution_count": 9,
   "id": "a6d84cba",
   "metadata": {
    "execution": {
     "iopub.execute_input": "2022-03-20T13:49:41.548728Z",
     "iopub.status.busy": "2022-03-20T13:49:41.548241Z",
     "iopub.status.idle": "2022-03-20T13:49:41.551950Z",
     "shell.execute_reply": "2022-03-20T13:49:41.551510Z",
     "shell.execute_reply.started": "2022-03-20T12:08:21.516543Z"
    },
    "papermill": {
     "duration": 0.070398,
     "end_time": "2022-03-20T13:49:41.552082",
     "exception": false,
     "start_time": "2022-03-20T13:49:41.481684",
     "status": "completed"
    },
    "tags": []
   },
   "outputs": [],
   "source": [
    "# sns.set_style(\"dark\")\n",
    "# # Count occurences of both real and fake news\n",
    "# sns.countplot(x=news.category)"
   ]
  },
  {
   "cell_type": "code",
   "execution_count": 10,
   "id": "54043ff5",
   "metadata": {
    "execution": {
     "iopub.execute_input": "2022-03-20T13:49:41.680576Z",
     "iopub.status.busy": "2022-03-20T13:49:41.679679Z",
     "iopub.status.idle": "2022-03-20T13:49:41.682281Z",
     "shell.execute_reply": "2022-03-20T13:49:41.681807Z",
     "shell.execute_reply.started": "2022-03-20T12:08:21.521619Z"
    },
    "papermill": {
     "duration": 0.06853,
     "end_time": "2022-03-20T13:49:41.682390",
     "exception": false,
     "start_time": "2022-03-20T13:49:41.613860",
     "status": "completed"
    },
    "tags": []
   },
   "outputs": [],
   "source": [
    "# dataviz = pd.concat([news,fake1,real_fake])\n",
    "\n",
    "# plt.figure(figsize = (12,8))\n",
    "# sns.set(style = \"darkgrid\")\n",
    "# chart = sns.countplot(x = \"subject\", hue = \"category\" , data = dataviz)\n",
    "# chart.set_xticklabels(chart.get_xticklabels(),rotation=90);"
   ]
  },
  {
   "cell_type": "code",
   "execution_count": 11,
   "id": "4d91c793",
   "metadata": {
    "execution": {
     "iopub.execute_input": "2022-03-20T13:49:41.814630Z",
     "iopub.status.busy": "2022-03-20T13:49:41.813816Z",
     "iopub.status.idle": "2022-03-20T13:49:42.041076Z",
     "shell.execute_reply": "2022-03-20T13:49:42.040587Z",
     "shell.execute_reply.started": "2022-03-20T12:08:21.529063Z"
    },
    "papermill": {
     "duration": 0.295361,
     "end_time": "2022-03-20T13:49:42.041216",
     "exception": false,
     "start_time": "2022-03-20T13:49:41.745855",
     "status": "completed"
    },
    "tags": []
   },
   "outputs": [],
   "source": [
    "news['text'] = news['title'] + \" \" + news['text']\n",
    "fake1['text'] = fake1['title'] + \" \" + fake1['text']\n",
    "real_fake['text'] = real_fake['title'] + \" \" + real_fake['text']\n",
    "del news['title']\n",
    "del fake1['title']\n",
    "del real_fake['title']\n",
    "del news['subject']\n",
    "del news['date']"
   ]
  },
  {
   "cell_type": "code",
   "execution_count": 12,
   "id": "f4a0471e",
   "metadata": {
    "execution": {
     "iopub.execute_input": "2022-03-20T13:49:42.163356Z",
     "iopub.status.busy": "2022-03-20T13:49:42.162752Z",
     "iopub.status.idle": "2022-03-20T13:49:42.171185Z",
     "shell.execute_reply": "2022-03-20T13:49:42.170757Z",
     "shell.execute_reply.started": "2022-03-20T12:08:21.760083Z"
    },
    "papermill": {
     "duration": 0.071132,
     "end_time": "2022-03-20T13:49:42.171306",
     "exception": false,
     "start_time": "2022-03-20T13:49:42.100174",
     "status": "completed"
    },
    "tags": []
   },
   "outputs": [],
   "source": [
    "stop = stopwords.words('english')\n",
    "# stop.extend(['from', 'subject', 're', 'edu', 'use'])\n",
    "stop = set(stop)\n",
    "punctuation = list(string.punctuation)\n",
    "stop.update(punctuation)"
   ]
  },
  {
   "cell_type": "markdown",
   "id": "6ddad124",
   "metadata": {
    "papermill": {
     "duration": 0.065072,
     "end_time": "2022-03-20T13:49:42.295155",
     "exception": false,
     "start_time": "2022-03-20T13:49:42.230083",
     "status": "completed"
    },
    "tags": []
   },
   "source": [
    "### Data Cleaning"
   ]
  },
  {
   "cell_type": "code",
   "execution_count": 13,
   "id": "a2ea785f",
   "metadata": {
    "execution": {
     "iopub.execute_input": "2022-03-20T13:49:42.441599Z",
     "iopub.status.busy": "2022-03-20T13:49:42.431786Z",
     "iopub.status.idle": "2022-03-20T13:50:03.118944Z",
     "shell.execute_reply": "2022-03-20T13:50:03.118494Z",
     "shell.execute_reply.started": "2022-03-20T12:08:21.771486Z"
    },
    "papermill": {
     "duration": 20.757964,
     "end_time": "2022-03-20T13:50:03.119102",
     "exception": false,
     "start_time": "2022-03-20T13:49:42.361138",
     "status": "completed"
    },
    "tags": []
   },
   "outputs": [],
   "source": [
    "def strip_html(text):\n",
    "    soup = BeautifulSoup(text, \"html.parser\")\n",
    "    return soup.get_text()\n",
    "\n",
    "#Removing the square brackets\n",
    "def remove_between_square_brackets(text):\n",
    "    return re.sub('\\[[^]]*\\]', '', text)\n",
    "# Removing URL's\n",
    "def remove_between_square_brackets(text):\n",
    "    return re.sub(r'http\\S+', '', text)\n",
    "#Removing the stopwords from text\n",
    "def remove_stopwords(text):\n",
    "    final_text = []\n",
    "    for i in text.split():\n",
    "        if i.strip().lower() not in stop:\n",
    "            final_text.append(i.strip())\n",
    "    return \" \".join(final_text)\n",
    "#Removing the noisy text\n",
    "def denoise_text(text):\n",
    "    text = strip_html(text)\n",
    "    text = remove_between_square_brackets(text)\n",
    "    text = remove_stopwords(text)\n",
    "    return text\n",
    "#Apply function on review column\n",
    "news['text']=news['text'].apply(denoise_text)\n",
    "fake1['text'] = fake1['text'].apply(denoise_text)\n",
    "real_fake['text'] = real_fake['text'].apply(denoise_text)"
   ]
  },
  {
   "cell_type": "code",
   "execution_count": 14,
   "id": "5635c266",
   "metadata": {
    "execution": {
     "iopub.execute_input": "2022-03-20T13:50:03.245568Z",
     "iopub.status.busy": "2022-03-20T13:50:03.245049Z",
     "iopub.status.idle": "2022-03-20T13:50:03.248659Z",
     "shell.execute_reply": "2022-03-20T13:50:03.249051Z",
     "shell.execute_reply.started": "2022-03-20T12:08:42.762421Z"
    },
    "papermill": {
     "duration": 0.069864,
     "end_time": "2022-03-20T13:50:03.249180",
     "exception": false,
     "start_time": "2022-03-20T13:50:03.179316",
     "status": "completed"
    },
    "tags": []
   },
   "outputs": [],
   "source": [
    "# Concatenate all datasets into one\n",
    "all_news = pd.concat([news, fake1, real_fake])"
   ]
  },
  {
   "cell_type": "code",
   "execution_count": 15,
   "id": "c0b4aa8d",
   "metadata": {
    "execution": {
     "iopub.execute_input": "2022-03-20T13:50:03.372057Z",
     "iopub.status.busy": "2022-03-20T13:50:03.371288Z",
     "iopub.status.idle": "2022-03-20T13:50:03.374009Z",
     "shell.execute_reply": "2022-03-20T13:50:03.374411Z",
     "shell.execute_reply.started": "2022-03-20T12:08:42.772898Z"
    },
    "papermill": {
     "duration": 0.066395,
     "end_time": "2022-03-20T13:50:03.374528",
     "exception": false,
     "start_time": "2022-03-20T13:50:03.308133",
     "status": "completed"
    },
    "tags": []
   },
   "outputs": [
    {
     "data": {
      "text/plain": [
       "(62910, 2)"
      ]
     },
     "execution_count": 15,
     "metadata": {},
     "output_type": "execute_result"
    }
   ],
   "source": [
    "all_news.shape"
   ]
  },
  {
   "cell_type": "markdown",
   "id": "8736b535",
   "metadata": {
    "papermill": {
     "duration": 0.059484,
     "end_time": "2022-03-20T13:50:03.493850",
     "exception": false,
     "start_time": "2022-03-20T13:50:03.434366",
     "status": "completed"
    },
    "tags": []
   },
   "source": [
    "### Deleting all duplicate rows"
   ]
  },
  {
   "cell_type": "code",
   "execution_count": 16,
   "id": "885745d1",
   "metadata": {
    "execution": {
     "iopub.execute_input": "2022-03-20T13:50:03.765121Z",
     "iopub.status.busy": "2022-03-20T13:50:03.763959Z",
     "iopub.status.idle": "2022-03-20T13:50:04.052342Z",
     "shell.execute_reply": "2022-03-20T13:50:04.051874Z",
     "shell.execute_reply.started": "2022-03-20T12:08:42.781416Z"
    },
    "papermill": {
     "duration": 0.49886,
     "end_time": "2022-03-20T13:50:04.052470",
     "exception": false,
     "start_time": "2022-03-20T13:50:03.553610",
     "status": "completed"
    },
    "tags": []
   },
   "outputs": [],
   "source": [
    "all_news['Duplicated'] = all_news.duplicated(keep=False) \n",
    "all_news = all_news[~all_news['Duplicated']]\n",
    "del all_news['Duplicated']"
   ]
  },
  {
   "cell_type": "code",
   "execution_count": 17,
   "id": "aeb1b8de",
   "metadata": {
    "execution": {
     "iopub.execute_input": "2022-03-20T13:50:04.176420Z",
     "iopub.status.busy": "2022-03-20T13:50:04.175836Z",
     "iopub.status.idle": "2022-03-20T13:50:04.178386Z",
     "shell.execute_reply": "2022-03-20T13:50:04.178779Z",
     "shell.execute_reply.started": "2022-03-20T12:08:43.257867Z"
    },
    "papermill": {
     "duration": 0.066576,
     "end_time": "2022-03-20T13:50:04.178898",
     "exception": false,
     "start_time": "2022-03-20T13:50:04.112322",
     "status": "completed"
    },
    "tags": []
   },
   "outputs": [
    {
     "data": {
      "text/plain": [
       "(45288, 2)"
      ]
     },
     "execution_count": 17,
     "metadata": {},
     "output_type": "execute_result"
    }
   ],
   "source": [
    "all_news.shape"
   ]
  },
  {
   "cell_type": "markdown",
   "id": "19b78884",
   "metadata": {
    "papermill": {
     "duration": 0.062615,
     "end_time": "2022-03-20T13:50:04.301545",
     "exception": false,
     "start_time": "2022-03-20T13:50:04.238930",
     "status": "completed"
    },
    "tags": []
   },
   "source": [
    "### Data Vizualization"
   ]
  },
  {
   "cell_type": "code",
   "execution_count": 18,
   "id": "2320199b",
   "metadata": {
    "execution": {
     "iopub.execute_input": "2022-03-20T13:50:04.426238Z",
     "iopub.status.busy": "2022-03-20T13:50:04.425528Z",
     "iopub.status.idle": "2022-03-20T13:50:04.427436Z",
     "shell.execute_reply": "2022-03-20T13:50:04.427798Z",
     "shell.execute_reply.started": "2022-03-20T12:08:43.267872Z"
    },
    "papermill": {
     "duration": 0.066128,
     "end_time": "2022-03-20T13:50:04.427917",
     "exception": false,
     "start_time": "2022-03-20T13:50:04.361789",
     "status": "completed"
    },
    "tags": []
   },
   "outputs": [],
   "source": [
    "# plt.figure(figsize = (20,20)) # Text that is not Fake\n",
    "# wc = WordCloud(max_words = 2000 , width = 1600 , height = 800 , stopwords = STOPWORDS).generate(\" \".join(all_news[all_news.category == 1].text))\n",
    "# plt.title(\"Word Cloud for real news articles\")\n",
    "# plt.imshow(wc , interpolation = 'bilinear')\n",
    "# plt.axis(\"off\");\n",
    "# plt.savefig('word_cloud_real.png')"
   ]
  },
  {
   "cell_type": "code",
   "execution_count": 19,
   "id": "7f4c7799",
   "metadata": {
    "execution": {
     "iopub.execute_input": "2022-03-20T13:50:04.550446Z",
     "iopub.status.busy": "2022-03-20T13:50:04.549641Z",
     "iopub.status.idle": "2022-03-20T13:50:04.552779Z",
     "shell.execute_reply": "2022-03-20T13:50:04.553172Z",
     "shell.execute_reply.started": "2022-03-20T12:08:43.274449Z"
    },
    "papermill": {
     "duration": 0.065388,
     "end_time": "2022-03-20T13:50:04.553292",
     "exception": false,
     "start_time": "2022-03-20T13:50:04.487904",
     "status": "completed"
    },
    "tags": []
   },
   "outputs": [],
   "source": [
    "# plt.figure(figsize = (20,20)) # Text that is Fake\n",
    "# wc = WordCloud(max_words = 2000 , width = 1600 , height = 800 , stopwords = STOPWORDS).generate(\" \".join(all_news[all_news.category == 0].text))\n",
    "# plt.title(\"Word Cloud for fake news articles\")\n",
    "# plt.imshow(wc , interpolation = 'bilinear')\n",
    "# plt.axis(\"off\");\n",
    "# plt.savefig('word_cloud_fake.png')"
   ]
  },
  {
   "cell_type": "code",
   "execution_count": 20,
   "id": "205eeeef",
   "metadata": {
    "execution": {
     "iopub.execute_input": "2022-03-20T13:50:04.676691Z",
     "iopub.status.busy": "2022-03-20T13:50:04.675933Z",
     "iopub.status.idle": "2022-03-20T13:50:04.677970Z",
     "shell.execute_reply": "2022-03-20T13:50:04.678417Z",
     "shell.execute_reply.started": "2022-03-20T12:08:43.281803Z"
    },
    "papermill": {
     "duration": 0.06542,
     "end_time": "2022-03-20T13:50:04.678550",
     "exception": false,
     "start_time": "2022-03-20T13:50:04.613130",
     "status": "completed"
    },
    "tags": []
   },
   "outputs": [],
   "source": [
    "# fake_lengths = [len(i) for i in all_news[all_news['category']==0].text.str.split()]\n",
    "# # clipping values above 2k\n",
    "# fake_lengths = [i for i in fake_lengths if i < 2000]\n",
    "# real_lengths = [len(i) for i in all_news[all_news['category']==1].text.str.split()]\n",
    "# # clipping values above 2k\n",
    "# real_lengths = [i for i in real_lengths if i < 2000]\n",
    "\n",
    "# fig,(ax1,ax2)=plt.subplots(1,2,figsize=(12,8))\n",
    "# ax1.hist(fake_lengths, bins=20, color='r')\n",
    "# ax1.set_title('Number of words in fake news articles')\n",
    "# ax2.hist(real_lengths, bins=20, color='g')\n",
    "# ax2.set_title('Number of words in real news articles');"
   ]
  },
  {
   "cell_type": "code",
   "execution_count": 21,
   "id": "b6419335",
   "metadata": {
    "execution": {
     "iopub.execute_input": "2022-03-20T13:50:04.847320Z",
     "iopub.status.busy": "2022-03-20T13:50:04.808732Z",
     "iopub.status.idle": "2022-03-20T13:50:07.883635Z",
     "shell.execute_reply": "2022-03-20T13:50:07.882699Z",
     "shell.execute_reply.started": "2022-03-20T12:08:43.289851Z"
    },
    "papermill": {
     "duration": 3.137648,
     "end_time": "2022-03-20T13:50:07.883799",
     "exception": false,
     "start_time": "2022-03-20T13:50:04.746151",
     "status": "completed"
    },
    "tags": []
   },
   "outputs": [],
   "source": [
    "def get_corpus(text):\n",
    "    words = []\n",
    "    for i in text:\n",
    "        for j in i.split():\n",
    "            words.append(j.strip())\n",
    "    return words\n",
    "corpus = get_corpus(all_news.text)"
   ]
  },
  {
   "cell_type": "code",
   "execution_count": 22,
   "id": "467482a5",
   "metadata": {
    "execution": {
     "iopub.execute_input": "2022-03-20T13:50:08.006377Z",
     "iopub.status.busy": "2022-03-20T13:50:08.005687Z",
     "iopub.status.idle": "2022-03-20T13:50:08.008459Z",
     "shell.execute_reply": "2022-03-20T13:50:08.007922Z",
     "shell.execute_reply.started": "2022-03-20T12:08:46.241169Z"
    },
    "papermill": {
     "duration": 0.065343,
     "end_time": "2022-03-20T13:50:08.008562",
     "exception": false,
     "start_time": "2022-03-20T13:50:07.943219",
     "status": "completed"
    },
    "tags": []
   },
   "outputs": [],
   "source": [
    "# import cufflinks as cf\n",
    "# cf.go_offline()\n",
    "# cf.set_config_file(offline=False, world_readable=True)\n",
    "\n",
    "# def get_top_n_words(corpus, n=None, g=1):\n",
    "#     vec = CountVectorizer(ngram_range=(g, g)).fit(corpus)\n",
    "#     bag_of_words = vec.transform(corpus)\n",
    "#     sum_words = bag_of_words.sum(axis=0) \n",
    "#     words_freq = [(word, sum_words[0, idx]) for word, idx in vec.vocabulary_.items()]\n",
    "#     words_freq = sorted(words_freq, key = lambda x: x[1], reverse=True)\n",
    "#     return words_freq[:n]"
   ]
  },
  {
   "cell_type": "code",
   "execution_count": 23,
   "id": "398ffdf0",
   "metadata": {
    "execution": {
     "iopub.execute_input": "2022-03-20T13:50:08.130070Z",
     "iopub.status.busy": "2022-03-20T13:50:08.129268Z",
     "iopub.status.idle": "2022-03-20T13:50:08.131261Z",
     "shell.execute_reply": "2022-03-20T13:50:08.131624Z",
     "shell.execute_reply.started": "2022-03-20T12:08:46.250257Z"
    },
    "papermill": {
     "duration": 0.06437,
     "end_time": "2022-03-20T13:50:08.131757",
     "exception": false,
     "start_time": "2022-03-20T13:50:08.067387",
     "status": "completed"
    },
    "tags": []
   },
   "outputs": [],
   "source": [
    "# # display top 10 words used in fake articles\n",
    "# plt.figure(figsize = (16,9))\n",
    "# most_common_uni = get_top_n_words(all_news[all_news['category']==0]['text'],10,1)\n",
    "# most_common_uni = dict(most_common_uni)\n",
    "# sns.barplot(x=list(most_common_uni.values()),y=list(most_common_uni.keys()))\n",
    "# plt.title('Top 10 Unigrams for fake articles');"
   ]
  },
  {
   "cell_type": "code",
   "execution_count": 24,
   "id": "0af7181e",
   "metadata": {
    "execution": {
     "iopub.execute_input": "2022-03-20T13:50:08.255700Z",
     "iopub.status.busy": "2022-03-20T13:50:08.255054Z",
     "iopub.status.idle": "2022-03-20T13:50:08.257197Z",
     "shell.execute_reply": "2022-03-20T13:50:08.257563Z",
     "shell.execute_reply.started": "2022-03-20T12:08:46.259212Z"
    },
    "papermill": {
     "duration": 0.06644,
     "end_time": "2022-03-20T13:50:08.257684",
     "exception": false,
     "start_time": "2022-03-20T13:50:08.191244",
     "status": "completed"
    },
    "tags": []
   },
   "outputs": [],
   "source": [
    "# # display top 10 words used in real articles\n",
    "# plt.figure(figsize = (16,9))\n",
    "# most_common_uni = get_top_n_words(all_news[all_news['category']==1]['text'],10,1)\n",
    "# most_common_uni = dict(most_common_uni)\n",
    "# sns.barplot(x=list(most_common_uni.values()),y=list(most_common_uni.keys()))\n",
    "# plt.title('Top 10 Unigrams for real articles');"
   ]
  },
  {
   "cell_type": "code",
   "execution_count": 25,
   "id": "722db63c",
   "metadata": {
    "execution": {
     "iopub.execute_input": "2022-03-20T13:50:08.379289Z",
     "iopub.status.busy": "2022-03-20T13:50:08.378574Z",
     "iopub.status.idle": "2022-03-20T13:50:08.380522Z",
     "shell.execute_reply": "2022-03-20T13:50:08.380877Z",
     "shell.execute_reply.started": "2022-03-20T12:08:46.267529Z"
    },
    "papermill": {
     "duration": 0.064461,
     "end_time": "2022-03-20T13:50:08.381021",
     "exception": false,
     "start_time": "2022-03-20T13:50:08.316560",
     "status": "completed"
    },
    "tags": []
   },
   "outputs": [],
   "source": [
    "# # display top 10 bigrams used in fake articles\n",
    "# plt.figure(figsize = (16,9))\n",
    "# most_common_uni = get_top_n_words(all_news[all_news['category']==0]['text'],10,2)\n",
    "# most_common_uni = dict(most_common_uni)\n",
    "# sns.barplot(x=list(most_common_uni.values()),y=list(most_common_uni.keys()))\n",
    "# plt.title('Top 10 Bigrams for fake articles');"
   ]
  },
  {
   "cell_type": "code",
   "execution_count": 26,
   "id": "8f3fefcd",
   "metadata": {
    "execution": {
     "iopub.execute_input": "2022-03-20T13:50:08.503938Z",
     "iopub.status.busy": "2022-03-20T13:50:08.503201Z",
     "iopub.status.idle": "2022-03-20T13:50:08.505202Z",
     "shell.execute_reply": "2022-03-20T13:50:08.505609Z",
     "shell.execute_reply.started": "2022-03-20T12:08:46.508734Z"
    },
    "papermill": {
     "duration": 0.064661,
     "end_time": "2022-03-20T13:50:08.505722",
     "exception": false,
     "start_time": "2022-03-20T13:50:08.441061",
     "status": "completed"
    },
    "tags": []
   },
   "outputs": [],
   "source": [
    "# # display top 10 bigrams used in real articles\n",
    "# plt.figure(figsize = (16,9))\n",
    "# most_common_uni = get_top_n_words(all_news[all_news['category']==1]['text'],10,2)\n",
    "# most_common_uni = dict(most_common_uni)\n",
    "# sns.barplot(x=list(most_common_uni.values()),y=list(most_common_uni.keys()))\n",
    "# plt.title('Top 10 Bigrams for real articles');"
   ]
  },
  {
   "cell_type": "code",
   "execution_count": 27,
   "id": "03966b4a",
   "metadata": {
    "execution": {
     "iopub.execute_input": "2022-03-20T13:50:08.627937Z",
     "iopub.status.busy": "2022-03-20T13:50:08.627172Z",
     "iopub.status.idle": "2022-03-20T13:50:08.629569Z",
     "shell.execute_reply": "2022-03-20T13:50:08.629147Z",
     "shell.execute_reply.started": "2022-03-20T12:08:46.518890Z"
    },
    "papermill": {
     "duration": 0.064987,
     "end_time": "2022-03-20T13:50:08.629667",
     "exception": false,
     "start_time": "2022-03-20T13:50:08.564680",
     "status": "completed"
    },
    "tags": []
   },
   "outputs": [],
   "source": [
    "# # display top 10 trigrams used in fake articles\n",
    "# plt.figure(figsize = (16,9))\n",
    "# most_common_uni = get_top_n_words(all_news[all_news['category']==0]['text'],10,3)\n",
    "# most_common_uni = dict(most_common_uni)\n",
    "# sns.barplot(x=list(most_common_uni.values()),y=list(most_common_uni.keys()))\n",
    "# plt.title('Top 10 Trigrams for fake articles');"
   ]
  },
  {
   "cell_type": "code",
   "execution_count": 28,
   "id": "4a02cb32",
   "metadata": {
    "execution": {
     "iopub.execute_input": "2022-03-20T13:50:08.750887Z",
     "iopub.status.busy": "2022-03-20T13:50:08.750096Z",
     "iopub.status.idle": "2022-03-20T13:50:08.751890Z",
     "shell.execute_reply": "2022-03-20T13:50:08.752308Z",
     "shell.execute_reply.started": "2022-03-20T12:08:46.526310Z"
    },
    "papermill": {
     "duration": 0.064039,
     "end_time": "2022-03-20T13:50:08.752424",
     "exception": false,
     "start_time": "2022-03-20T13:50:08.688385",
     "status": "completed"
    },
    "tags": []
   },
   "outputs": [],
   "source": [
    "# # display top 10 trigrams used in real articles\n",
    "# plt.figure(figsize = (16,9))\n",
    "# most_common_uni = get_top_n_words(all_news[all_news['category']==1]['text'],10,3)\n",
    "# most_common_uni = dict(most_common_uni)\n",
    "# sns.barplot(x=list(most_common_uni.values()),y=list(most_common_uni.keys()))\n",
    "# plt.title('Top 10 Trigrams for real articles');\n"
   ]
  },
  {
   "cell_type": "code",
   "execution_count": 29,
   "id": "aa847048",
   "metadata": {
    "execution": {
     "iopub.execute_input": "2022-03-20T13:50:08.877293Z",
     "iopub.status.busy": "2022-03-20T13:50:08.873740Z",
     "iopub.status.idle": "2022-03-20T13:50:08.885287Z",
     "shell.execute_reply": "2022-03-20T13:50:08.884862Z",
     "shell.execute_reply.started": "2022-03-20T12:08:46.536435Z"
    },
    "papermill": {
     "duration": 0.073658,
     "end_time": "2022-03-20T13:50:08.885396",
     "exception": false,
     "start_time": "2022-03-20T13:50:08.811738",
     "status": "completed"
    },
    "tags": []
   },
   "outputs": [],
   "source": [
    "x_train,x_test,y_train,y_test = train_test_split(all_news.text,all_news.category, test_size = 0.25, random_state = 27)"
   ]
  },
  {
   "cell_type": "code",
   "execution_count": 30,
   "id": "6c1e1d8b",
   "metadata": {
    "execution": {
     "iopub.execute_input": "2022-03-20T13:50:09.007574Z",
     "iopub.status.busy": "2022-03-20T13:50:09.006820Z",
     "iopub.status.idle": "2022-03-20T13:50:09.009136Z",
     "shell.execute_reply": "2022-03-20T13:50:09.008682Z",
     "shell.execute_reply.started": "2022-03-20T12:08:46.566980Z"
    },
    "papermill": {
     "duration": 0.064771,
     "end_time": "2022-03-20T13:50:09.009241",
     "exception": false,
     "start_time": "2022-03-20T13:50:08.944470",
     "status": "completed"
    },
    "tags": []
   },
   "outputs": [],
   "source": [
    "# def normalize(data):\n",
    "#     normalized = []\n",
    "#     for i in data:\n",
    "#         # get rid of non words and extra spaces\n",
    "#         i = re.sub('\\\\W', ' ', i)\n",
    "#         i = re.sub('\\n', '', i)\n",
    "#         i = re.sub(' +', ' ', i)\n",
    "#         i = re.sub('^ ', '', i)\n",
    "#         i = re.sub(' $', '', i)\n",
    "#         normalized.append(i)\n",
    "#     return normalized\n",
    "\n",
    "# x_train = np.array(normalize(x_train))\n",
    "# x_test = np.array(normalize(x_test))"
   ]
  },
  {
   "cell_type": "code",
   "execution_count": 31,
   "id": "d49202a0",
   "metadata": {
    "execution": {
     "iopub.execute_input": "2022-03-20T13:50:09.131236Z",
     "iopub.status.busy": "2022-03-20T13:50:09.130649Z",
     "iopub.status.idle": "2022-03-20T13:50:09.133367Z",
     "shell.execute_reply": "2022-03-20T13:50:09.133763Z",
     "shell.execute_reply.started": "2022-03-20T12:08:46.572564Z"
    },
    "papermill": {
     "duration": 0.065584,
     "end_time": "2022-03-20T13:50:09.133878",
     "exception": false,
     "start_time": "2022-03-20T13:50:09.068294",
     "status": "completed"
    },
    "tags": []
   },
   "outputs": [
    {
     "name": "stdout",
     "output_type": "stream",
     "text": [
      "(33966,)\n",
      "(11322,)\n"
     ]
    }
   ],
   "source": [
    "print(x_train.shape)\n",
    "#print(x_val.shape)\n",
    "print(x_test.shape)"
   ]
  },
  {
   "cell_type": "code",
   "execution_count": 32,
   "id": "d8510d74",
   "metadata": {
    "execution": {
     "iopub.execute_input": "2022-03-20T13:50:09.257489Z",
     "iopub.status.busy": "2022-03-20T13:50:09.256723Z",
     "iopub.status.idle": "2022-03-20T13:50:09.263802Z",
     "shell.execute_reply": "2022-03-20T13:50:09.263136Z",
     "shell.execute_reply.started": "2022-03-20T12:08:46.604719Z"
    },
    "papermill": {
     "duration": 0.070377,
     "end_time": "2022-03-20T13:50:09.263964",
     "exception": false,
     "start_time": "2022-03-20T13:50:09.193587",
     "status": "completed"
    },
    "tags": []
   },
   "outputs": [
    {
     "name": "stdout",
     "output_type": "stream",
     "text": [
      "Train Set Real articles: 18080 , Fake articles: 15886\n",
      "Test Set Real articles: 6044 , Fake articles: 5278\n"
     ]
    }
   ],
   "source": [
    "print(f\"Train Set Real articles: {len(y_train[y_train == 1])} , Fake articles: {len(y_train[y_train == 0])}\")\n",
    "#print(f\"Validation Set Real articles: {len(y_val[y_val == 0])} , Fake articles: {len(y_val[y_val == 1])}\")\n",
    "print(f\"Test Set Real articles: {len(y_test[y_test == 1])} , Fake articles: {len(y_test[y_test == 0])}\")"
   ]
  },
  {
   "cell_type": "markdown",
   "id": "e857f5de",
   "metadata": {
    "papermill": {
     "duration": 0.068758,
     "end_time": "2022-03-20T13:50:09.401731",
     "exception": false,
     "start_time": "2022-03-20T13:50:09.332973",
     "status": "completed"
    },
    "tags": []
   },
   "source": [
    "### Glove Embeddings"
   ]
  },
  {
   "cell_type": "code",
   "execution_count": 33,
   "id": "6053d8c1",
   "metadata": {
    "execution": {
     "iopub.execute_input": "2022-03-20T13:50:09.536125Z",
     "iopub.status.busy": "2022-03-20T13:50:09.535391Z",
     "iopub.status.idle": "2022-03-20T13:50:09.537807Z",
     "shell.execute_reply": "2022-03-20T13:50:09.537320Z",
     "shell.execute_reply.started": "2022-03-20T12:08:46.629814Z"
    },
    "papermill": {
     "duration": 0.069501,
     "end_time": "2022-03-20T13:50:09.537905",
     "exception": false,
     "start_time": "2022-03-20T13:50:09.468404",
     "status": "completed"
    },
    "tags": []
   },
   "outputs": [],
   "source": [
    "# import scipy.stats as st\n",
    "\n",
    "# print(st.t.interval(0.95, len(fake_lengths)-1, loc=np.mean(fake_lengths), scale=st.sem(fake_lengths)))\n",
    "# print(st.t.interval(0.95, len(real_lengths)-1, loc=np.mean(real_lengths), scale=st.sem(real_lengths)))"
   ]
  },
  {
   "cell_type": "code",
   "execution_count": 34,
   "id": "9339c219",
   "metadata": {
    "execution": {
     "iopub.execute_input": "2022-03-20T13:50:09.660904Z",
     "iopub.status.busy": "2022-03-20T13:50:09.660092Z",
     "iopub.status.idle": "2022-03-20T13:50:09.663979Z",
     "shell.execute_reply": "2022-03-20T13:50:09.663566Z",
     "shell.execute_reply.started": "2022-03-20T12:08:46.638247Z"
    },
    "papermill": {
     "duration": 0.06644,
     "end_time": "2022-03-20T13:50:09.664097",
     "exception": false,
     "start_time": "2022-03-20T13:50:09.597657",
     "status": "completed"
    },
    "tags": []
   },
   "outputs": [],
   "source": [
    "max_features = 10000\n",
    "maxlen = 300"
   ]
  },
  {
   "cell_type": "code",
   "execution_count": 35,
   "id": "7a611786",
   "metadata": {
    "execution": {
     "iopub.execute_input": "2022-03-20T13:50:09.841466Z",
     "iopub.status.busy": "2022-03-20T13:50:09.815347Z",
     "iopub.status.idle": "2022-03-20T13:50:33.605260Z",
     "shell.execute_reply": "2022-03-20T13:50:33.604764Z",
     "shell.execute_reply.started": "2022-03-20T12:08:46.646692Z"
    },
    "papermill": {
     "duration": 23.881495,
     "end_time": "2022-03-20T13:50:33.605396",
     "exception": false,
     "start_time": "2022-03-20T13:50:09.723901",
     "status": "completed"
    },
    "tags": []
   },
   "outputs": [],
   "source": [
    "tokenizer = text.Tokenizer(num_words=max_features) #, oov_token='<oov>')\n",
    "tokenizer.fit_on_texts(x_train)\n",
    "\n",
    "tokenized_train = tokenizer.texts_to_sequences(x_train)\n",
    "x_train = sequence.pad_sequences(tokenized_train, maxlen=maxlen, padding='post', truncating='post')"
   ]
  },
  {
   "cell_type": "code",
   "execution_count": 36,
   "id": "415b4ca5",
   "metadata": {
    "execution": {
     "iopub.execute_input": "2022-03-20T13:50:33.748793Z",
     "iopub.status.busy": "2022-03-20T13:50:33.733220Z",
     "iopub.status.idle": "2022-03-20T13:50:37.208426Z",
     "shell.execute_reply": "2022-03-20T13:50:37.207473Z",
     "shell.execute_reply.started": "2022-03-20T12:09:10.110529Z"
    },
    "papermill": {
     "duration": 3.542793,
     "end_time": "2022-03-20T13:50:37.208579",
     "exception": false,
     "start_time": "2022-03-20T13:50:33.665786",
     "status": "completed"
    },
    "tags": []
   },
   "outputs": [],
   "source": [
    "tokenized_test = tokenizer.texts_to_sequences(x_test)\n",
    "x_test = sequence.pad_sequences(tokenized_test, maxlen=maxlen, padding='post', truncating='post')"
   ]
  },
  {
   "cell_type": "code",
   "execution_count": 37,
   "id": "6c5a6756",
   "metadata": {
    "execution": {
     "iopub.execute_input": "2022-03-20T13:50:37.342322Z",
     "iopub.status.busy": "2022-03-20T13:50:37.341633Z",
     "iopub.status.idle": "2022-03-20T13:50:37.344295Z",
     "shell.execute_reply": "2022-03-20T13:50:37.343835Z",
     "shell.execute_reply.started": "2022-03-20T12:09:13.649029Z"
    },
    "papermill": {
     "duration": 0.067771,
     "end_time": "2022-03-20T13:50:37.344406",
     "exception": false,
     "start_time": "2022-03-20T13:50:37.276635",
     "status": "completed"
    },
    "tags": []
   },
   "outputs": [],
   "source": [
    "EMBEDDING_FILE = \"../input/glove-twitter/glove.twitter.27B.100d.txt\""
   ]
  },
  {
   "cell_type": "code",
   "execution_count": 38,
   "id": "81df2b15",
   "metadata": {
    "execution": {
     "iopub.execute_input": "2022-03-20T13:50:37.471982Z",
     "iopub.status.busy": "2022-03-20T13:50:37.471382Z",
     "iopub.status.idle": "2022-03-20T13:51:18.276545Z",
     "shell.execute_reply": "2022-03-20T13:51:18.275535Z",
     "shell.execute_reply.started": "2022-03-20T12:09:13.656517Z"
    },
    "papermill": {
     "duration": 40.872006,
     "end_time": "2022-03-20T13:51:18.276685",
     "exception": false,
     "start_time": "2022-03-20T13:50:37.404679",
     "status": "completed"
    },
    "tags": []
   },
   "outputs": [
    {
     "name": "stderr",
     "output_type": "stream",
     "text": [
      "/opt/conda/lib/python3.7/site-packages/IPython/core/interactiveshell.py:3377: FutureWarning: arrays to stack must be passed as a \"sequence\" type such as list or tuple. Support for non-sequence iterables such as generators is deprecated as of NumPy 1.16 and will raise an error in the future.\n",
      "  if (await self.run_code(code, result,  async_=asy)):\n"
     ]
    }
   ],
   "source": [
    "def get_coefs(word, *arr): \n",
    "    return word, np.asarray(arr, dtype='float32')\n",
    "embeddings_index = dict(get_coefs(*o.rstrip().rsplit(' ')) for o in open(EMBEDDING_FILE))\n",
    "all_embs = np.stack(embeddings_index.values())\n",
    "emb_mean,emb_std = all_embs.mean(), all_embs.std()\n",
    "embed_size = all_embs.shape[1]"
   ]
  },
  {
   "cell_type": "code",
   "execution_count": 39,
   "id": "21c6d783",
   "metadata": {
    "execution": {
     "iopub.execute_input": "2022-03-20T13:51:18.408539Z",
     "iopub.status.busy": "2022-03-20T13:51:18.407729Z",
     "iopub.status.idle": "2022-03-20T13:51:18.485876Z",
     "shell.execute_reply": "2022-03-20T13:51:18.486278Z",
     "shell.execute_reply.started": "2022-03-20T12:09:54.308866Z"
    },
    "papermill": {
     "duration": 0.148484,
     "end_time": "2022-03-20T13:51:18.486421",
     "exception": false,
     "start_time": "2022-03-20T13:51:18.337937",
     "status": "completed"
    },
    "tags": []
   },
   "outputs": [],
   "source": [
    "word_index = tokenizer.word_index\n",
    "nb_words = min(max_features, len(word_index))\n",
    "#change below line if computing normal stats is too slow\n",
    "embedding_matrix = embedding_matrix = np.random.normal(emb_mean, emb_std, (nb_words, embed_size))\n",
    "for word, i in word_index.items():\n",
    "    if i >= max_features: continue\n",
    "    embedding_vector = embeddings_index.get(word)\n",
    "    if embedding_vector is not None: embedding_matrix[i] = embedding_vector"
   ]
  },
  {
   "cell_type": "code",
   "execution_count": 40,
   "id": "84d364e3",
   "metadata": {
    "execution": {
     "iopub.execute_input": "2022-03-20T13:51:18.613940Z",
     "iopub.status.busy": "2022-03-20T13:51:18.612427Z",
     "iopub.status.idle": "2022-03-20T13:51:18.614524Z",
     "shell.execute_reply": "2022-03-20T13:51:18.614915Z",
     "shell.execute_reply.started": "2022-03-20T12:09:54.395135Z"
    },
    "papermill": {
     "duration": 0.067473,
     "end_time": "2022-03-20T13:51:18.615055",
     "exception": false,
     "start_time": "2022-03-20T13:51:18.547582",
     "status": "completed"
    },
    "tags": []
   },
   "outputs": [],
   "source": [
    "# Word 2 Vec\n",
    "#w2v_model = gensim.models.Word2Vec(sentences=X, size=EMBEDDING_DIM, window=5, min_count=1)\n",
    "# def get_weight_matrix(model, vocab):\n",
    "#     # total vocabulary size plus 0 for unknown words\n",
    "#     vocab_size = len(vocab) + 1\n",
    "#     # define weight matrix dimensions with all 0\n",
    "#     weight_matrix = np.zeros((vocab_size, EMBEDDING_DIM))\n",
    "#     # step vocab, store vectors using the Tokenizer's integer mapping\n",
    "#     for word, i in vocab.items():\n",
    "#         weight_matrix[i] = model[word]\n",
    "#     return weight_matrix\n",
    "# embedding_vectors = get_weight_matrix(w2v_model, word_index)"
   ]
  },
  {
   "cell_type": "code",
   "execution_count": 41,
   "id": "0534dda0",
   "metadata": {
    "execution": {
     "iopub.execute_input": "2022-03-20T13:51:18.810006Z",
     "iopub.status.busy": "2022-03-20T13:51:18.809194Z",
     "iopub.status.idle": "2022-03-20T13:51:18.814252Z",
     "shell.execute_reply": "2022-03-20T13:51:18.813674Z",
     "shell.execute_reply.started": "2022-03-20T12:09:54.406465Z"
    },
    "papermill": {
     "duration": 0.118596,
     "end_time": "2022-03-20T13:51:18.814371",
     "exception": false,
     "start_time": "2022-03-20T13:51:18.695775",
     "status": "completed"
    },
    "tags": []
   },
   "outputs": [],
   "source": [
    "# Model Hyperparameters\n",
    "BATCH_SIZE = 256\n",
    "EPOCHS = 10\n",
    "EMBED_SIZE = 100"
   ]
  },
  {
   "cell_type": "markdown",
   "id": "abc1ed3f",
   "metadata": {
    "papermill": {
     "duration": 0.096249,
     "end_time": "2022-03-20T13:51:19.010436",
     "exception": false,
     "start_time": "2022-03-20T13:51:18.914187",
     "status": "completed"
    },
    "tags": []
   },
   "source": [
    "### Training"
   ]
  },
  {
   "cell_type": "code",
   "execution_count": 42,
   "id": "7b53b8a8",
   "metadata": {
    "execution": {
     "iopub.execute_input": "2022-03-20T13:51:19.209636Z",
     "iopub.status.busy": "2022-03-20T13:51:19.208934Z",
     "iopub.status.idle": "2022-03-20T13:51:19.222564Z",
     "shell.execute_reply": "2022-03-20T13:51:19.222153Z",
     "shell.execute_reply.started": "2022-03-20T12:09:54.414089Z"
    },
    "papermill": {
     "duration": 0.114386,
     "end_time": "2022-03-20T13:51:19.222676",
     "exception": false,
     "start_time": "2022-03-20T13:51:19.108290",
     "status": "completed"
    },
    "tags": []
   },
   "outputs": [
    {
     "name": "stdout",
     "output_type": "stream",
     "text": [
      "24124\n",
      "21164\n"
     ]
    }
   ],
   "source": [
    "print(len(all_news[all_news.category == 1].category))\n",
    "print(len(all_news[all_news.category == 0].category))"
   ]
  },
  {
   "cell_type": "code",
   "execution_count": 43,
   "id": "6bdc5d30",
   "metadata": {
    "execution": {
     "iopub.execute_input": "2022-03-20T13:51:19.437243Z",
     "iopub.status.busy": "2022-03-20T13:51:19.436410Z",
     "iopub.status.idle": "2022-03-20T13:51:19.715274Z",
     "shell.execute_reply": "2022-03-20T13:51:19.714562Z",
     "shell.execute_reply.started": "2022-03-20T12:09:54.425931Z"
    },
    "papermill": {
     "duration": 0.38622,
     "end_time": "2022-03-20T13:51:19.715432",
     "exception": false,
     "start_time": "2022-03-20T13:51:19.329212",
     "status": "completed"
    },
    "tags": []
   },
   "outputs": [
    {
     "data": {
      "image/png": "[encoded data removed]",
      "text/plain": [
       "<Figure size 432x288 with 1 Axes>"
      ]
     },
     "metadata": {
      "needs_background": "light"
     },
     "output_type": "display_data"
    }
   ],
   "source": [
    "sns.countplot(x=all_news.category)\n",
    "plt.savefig('class_balance.png')"
   ]
  },
  {
   "cell_type": "code",
   "execution_count": 44,
   "id": "f31ee007",
   "metadata": {
    "execution": {
     "iopub.execute_input": "2022-03-20T13:51:19.921021Z",
     "iopub.status.busy": "2022-03-20T13:51:19.920345Z",
     "iopub.status.idle": "2022-03-20T13:51:19.924256Z",
     "shell.execute_reply": "2022-03-20T13:51:19.923788Z",
     "shell.execute_reply.started": "2022-03-20T12:09:54.653010Z"
    },
    "papermill": {
     "duration": 0.106375,
     "end_time": "2022-03-20T13:51:19.924361",
     "exception": false,
     "start_time": "2022-03-20T13:51:19.817986",
     "status": "completed"
    },
    "tags": []
   },
   "outputs": [],
   "source": [
    "stopping_callback = tf.keras.callbacks.EarlyStopping(\n",
    "    monitor='val_loss', patience=5, verbose=0,\n",
    "    mode='min', restore_best_weights=True\n",
    ")\n",
    "\n",
    "plateau_callback = tf.keras.callbacks.ReduceLROnPlateau(\n",
    "    monitor=\"val_loss\",\n",
    "    factor=0.2,\n",
    "    patience=2,\n",
    "    verbose=0,\n",
    "    mode=\"auto\",\n",
    "    min_delta=0.0001,\n",
    "    cooldown=0,\n",
    "    min_lr=1e-8,\n",
    ")\n",
    "\n",
    "def scheduler(epoch, lr):\n",
    "    if epoch < 10:\n",
    "        return lr\n",
    "    else:\n",
    "        return lr * tf.math.exp(-0.1)\n",
    "decay_callback = tf.keras.callbacks.LearningRateScheduler(scheduler)"
   ]
  },
  {
   "cell_type": "code",
   "execution_count": 45,
   "id": "97012586",
   "metadata": {
    "execution": {
     "iopub.execute_input": "2022-03-20T13:51:20.054088Z",
     "iopub.status.busy": "2022-03-20T13:51:20.053462Z",
     "iopub.status.idle": "2022-03-20T13:51:22.501145Z",
     "shell.execute_reply": "2022-03-20T13:51:22.500578Z",
     "shell.execute_reply.started": "2022-03-20T12:25:32.700998Z"
    },
    "papermill": {
     "duration": 2.515262,
     "end_time": "2022-03-20T13:51:22.501287",
     "exception": false,
     "start_time": "2022-03-20T13:51:19.986025",
     "status": "completed"
    },
    "tags": []
   },
   "outputs": [
    {
     "name": "stderr",
     "output_type": "stream",
     "text": [
      "2022-03-20 13:51:20.130163: I tensorflow/stream_executor/cuda/cuda_gpu_executor.cc:937] successful NUMA node read from SysFS had negative value (-1), but there must be at least one NUMA node, so returning NUMA node zero\n",
      "2022-03-20 13:51:20.218521: I tensorflow/stream_executor/cuda/cuda_gpu_executor.cc:937] successful NUMA node read from SysFS had negative value (-1), but there must be at least one NUMA node, so returning NUMA node zero\n",
      "2022-03-20 13:51:20.219202: I tensorflow/stream_executor/cuda/cuda_gpu_executor.cc:937] successful NUMA node read from SysFS had negative value (-1), but there must be at least one NUMA node, so returning NUMA node zero\n",
      "2022-03-20 13:51:20.220352: I tensorflow/core/platform/cpu_feature_guard.cc:142] This TensorFlow binary is optimized with oneAPI Deep Neural Network Library (oneDNN) to use the following CPU instructions in performance-critical operations:  AVX2 AVX512F FMA\n",
      "To enable them in other operations, rebuild TensorFlow with the appropriate compiler flags.\n",
      "2022-03-20 13:51:20.221438: I tensorflow/stream_executor/cuda/cuda_gpu_executor.cc:937] successful NUMA node read from SysFS had negative value (-1), but there must be at least one NUMA node, so returning NUMA node zero\n",
      "2022-03-20 13:51:20.222154: I tensorflow/stream_executor/cuda/cuda_gpu_executor.cc:937] successful NUMA node read from SysFS had negative value (-1), but there must be at least one NUMA node, so returning NUMA node zero\n",
      "2022-03-20 13:51:20.222770: I tensorflow/stream_executor/cuda/cuda_gpu_executor.cc:937] successful NUMA node read from SysFS had negative value (-1), but there must be at least one NUMA node, so returning NUMA node zero\n",
      "2022-03-20 13:51:21.718451: I tensorflow/stream_executor/cuda/cuda_gpu_executor.cc:937] successful NUMA node read from SysFS had negative value (-1), but there must be at least one NUMA node, so returning NUMA node zero\n",
      "2022-03-20 13:51:21.719311: I tensorflow/stream_executor/cuda/cuda_gpu_executor.cc:937] successful NUMA node read from SysFS had negative value (-1), but there must be at least one NUMA node, so returning NUMA node zero\n",
      "2022-03-20 13:51:21.720077: I tensorflow/stream_executor/cuda/cuda_gpu_executor.cc:937] successful NUMA node read from SysFS had negative value (-1), but there must be at least one NUMA node, so returning NUMA node zero\n",
      "2022-03-20 13:51:21.720753: I tensorflow/core/common_runtime/gpu/gpu_device.cc:1510] Created device /job:localhost/replica:0/task:0/device:GPU:0 with 15403 MB memory:  -> device: 0, name: Tesla P100-PCIE-16GB, pci bus id: 0000:00:04.0, compute capability: 6.0\n"
     ]
    }
   ],
   "source": [
    "clear_session()\n",
    "model = Sequential([\n",
    "                    Embedding(max_features, EMBED_SIZE, weights=[embedding_matrix], trainable=False, input_length=maxlen),\n",
    "                    Bidirectional(LSTM(128, return_sequences=True, recurrent_dropout=0.25, dropout=0.25)),\n",
    "                    LSTM(64, recurrent_dropout=0.1, dropout=0.1),\n",
    "                    Dense(128, activation='relu'),\n",
    "                    Dropout(0.5),\n",
    "                    Dense(1, activation='sigmoid')\n",
    "])\n",
    "\n",
    "model.compile(loss='binary_crossentropy', optimizer=tf.keras.optimizers.Adam(learning_rate=0.01), metrics=['acc'])"
   ]
  },
  {
   "cell_type": "code",
   "execution_count": 46,
   "id": "96688e95",
   "metadata": {
    "execution": {
     "iopub.execute_input": "2022-03-20T13:51:22.726815Z",
     "iopub.status.busy": "2022-03-20T13:51:22.722281Z",
     "iopub.status.idle": "2022-03-20T13:51:22.731043Z",
     "shell.execute_reply": "2022-03-20T13:51:22.731662Z",
     "shell.execute_reply.started": "2022-03-20T12:25:36.237669Z"
    },
    "papermill": {
     "duration": 0.118169,
     "end_time": "2022-03-20T13:51:22.731853",
     "exception": false,
     "start_time": "2022-03-20T13:51:22.613684",
     "status": "completed"
    },
    "tags": []
   },
   "outputs": [
    {
     "name": "stdout",
     "output_type": "stream",
     "text": [
      "Model: \"sequential\"\n",
      "_________________________________________________________________\n",
      "Layer (type)                 Output Shape              Param #   \n",
      "=================================================================\n",
      "embedding (Embedding)        (None, 300, 100)          1000000   \n",
      "_________________________________________________________________\n",
      "bidirectional (Bidirectional (None, 300, 256)          234496    \n",
      "_________________________________________________________________\n",
      "lstm_1 (LSTM)                (None, 64)                82176     \n",
      "_________________________________________________________________\n",
      "dense (Dense)                (None, 128)               8320      \n",
      "_________________________________________________________________\n",
      "dropout (Dropout)            (None, 128)               0         \n",
      "_________________________________________________________________\n",
      "dense_1 (Dense)              (None, 1)                 129       \n",
      "=================================================================\n",
      "Total params: 1,325,121\n",
      "Trainable params: 325,121\n",
      "Non-trainable params: 1,000,000\n",
      "_________________________________________________________________\n"
     ]
    }
   ],
   "source": [
    "model.summary()"
   ]
  },
  {
   "cell_type": "code",
   "execution_count": 47,
   "id": "4b2bfd8e",
   "metadata": {
    "execution": {
     "iopub.execute_input": "2022-03-20T13:51:22.919910Z",
     "iopub.status.busy": "2022-03-20T13:51:22.919017Z",
     "iopub.status.idle": "2022-03-20T15:04:50.755397Z",
     "shell.execute_reply": "2022-03-20T15:04:50.755799Z",
     "shell.execute_reply.started": "2022-03-20T12:25:37.183245Z"
    },
    "papermill": {
     "duration": 4407.920538,
     "end_time": "2022-03-20T15:04:50.755985",
     "exception": false,
     "start_time": "2022-03-20T13:51:22.835447",
     "status": "completed"
    },
    "tags": []
   },
   "outputs": [
    {
     "name": "stderr",
     "output_type": "stream",
     "text": [
      "2022-03-20 13:51:22.990422: I tensorflow/compiler/mlir/mlir_graph_optimization_pass.cc:185] None of the MLIR Optimization Passes are enabled (registered 2)\n"
     ]
    },
    {
     "name": "stdout",
     "output_type": "stream",
     "text": [
      "Epoch 1/10\n",
      "120/120 [==============================] - 444s 4s/step - loss: 0.6837 - acc: 0.5474 - val_loss: 0.6849 - val_acc: 0.5561\n",
      "Epoch 2/10\n",
      "120/120 [==============================] - 438s 4s/step - loss: 0.4612 - acc: 0.7803 - val_loss: 0.1901 - val_acc: 0.9329\n",
      "Epoch 3/10\n",
      "120/120 [==============================] - 438s 4s/step - loss: 0.1681 - acc: 0.9366 - val_loss: 0.1189 - val_acc: 0.9482\n",
      "Epoch 4/10\n",
      "120/120 [==============================] - 434s 4s/step - loss: 0.1198 - acc: 0.9527 - val_loss: 0.0943 - val_acc: 0.9603\n",
      "Epoch 5/10\n",
      "120/120 [==============================] - 432s 4s/step - loss: 0.0944 - acc: 0.9611 - val_loss: 0.0828 - val_acc: 0.9673\n",
      "Epoch 6/10\n",
      "120/120 [==============================] - 434s 4s/step - loss: 0.0828 - acc: 0.9677 - val_loss: 0.0924 - val_acc: 0.9632\n",
      "Epoch 7/10\n",
      "120/120 [==============================] - 432s 4s/step - loss: 0.0735 - acc: 0.9724 - val_loss: 0.0641 - val_acc: 0.9806\n",
      "Epoch 8/10\n",
      "120/120 [==============================] - 435s 4s/step - loss: 0.0621 - acc: 0.9773 - val_loss: 0.0715 - val_acc: 0.9717\n",
      "Epoch 9/10\n",
      "120/120 [==============================] - 437s 4s/step - loss: 0.0609 - acc: 0.9771 - val_loss: 0.0667 - val_acc: 0.9770\n",
      "Epoch 10/10\n",
      "120/120 [==============================] - 435s 4s/step - loss: 0.0473 - acc: 0.9833 - val_loss: 0.0621 - val_acc: 0.9794\n"
     ]
    }
   ],
   "source": [
    "history = model.fit(\n",
    "    x_train,\n",
    "    y_train,\n",
    "    epochs = EPOCHS,\n",
    "    batch_size = BATCH_SIZE,\n",
    "    callbacks = [plateau_callback],\n",
    "    validation_split = 0.1,\n",
    "    shuffle = True\n",
    ")"
   ]
  },
  {
   "cell_type": "markdown",
   "id": "b9af9507",
   "metadata": {
    "papermill": {
     "duration": 0.437124,
     "end_time": "2022-03-20T15:04:51.626373",
     "exception": false,
     "start_time": "2022-03-20T15:04:51.189249",
     "status": "completed"
    },
    "tags": []
   },
   "source": [
    "### Evaluation"
   ]
  },
  {
   "cell_type": "code",
   "execution_count": 48,
   "id": "a136731e",
   "metadata": {
    "execution": {
     "iopub.execute_input": "2022-03-20T15:04:52.553292Z",
     "iopub.status.busy": "2022-03-20T15:04:52.552480Z",
     "iopub.status.idle": "2022-03-20T15:04:52.599979Z",
     "shell.execute_reply": "2022-03-20T15:04:52.599118Z",
     "shell.execute_reply.started": "2022-03-20T13:40:04.605376Z"
    },
    "papermill": {
     "duration": 0.490744,
     "end_time": "2022-03-20T15:04:52.600117",
     "exception": false,
     "start_time": "2022-03-20T15:04:52.109373",
     "status": "completed"
    },
    "tags": []
   },
   "outputs": [],
   "source": [
    "model.save('LSTM.h5')"
   ]
  },
  {
   "cell_type": "code",
   "execution_count": 49,
   "id": "2b5ba7a6",
   "metadata": {
    "execution": {
     "iopub.execute_input": "2022-03-20T15:04:53.660914Z",
     "iopub.status.busy": "2022-03-20T15:04:53.660048Z",
     "iopub.status.idle": "2022-03-20T15:04:54.130767Z",
     "shell.execute_reply": "2022-03-20T15:04:54.131194Z",
     "shell.execute_reply.started": "2022-03-20T13:40:04.664256Z"
    },
    "papermill": {
     "duration": 1.093664,
     "end_time": "2022-03-20T15:04:54.131340",
     "exception": false,
     "start_time": "2022-03-20T15:04:53.037676",
     "status": "completed"
    },
    "tags": []
   },
   "outputs": [
    {
     "data": {
      "image/png": "[encoded data removed]",
      "text/plain": [
       "<Figure size 1440x576 with 2 Axes>"
      ]
     },
     "metadata": {
      "needs_background": "light"
     },
     "output_type": "display_data"
    }
   ],
   "source": [
    "acc = history.history['acc']\n",
    "loss = history.history['loss']\n",
    "val_acc = history.history['val_acc']\n",
    "val_loss = history.history['val_loss']\n",
    "\n",
    "fig , ax = plt.subplots(1,2)\n",
    "fig.set_size_inches(20,8)\n",
    "ax[0].plot(acc, color='b', label='Train Accuracy')\n",
    "ax[0].plot(val_acc, color='r', label='Val Accuracy')\n",
    "ax[0].set_title('Training and Validation Accuracy')\n",
    "ax[0].set_xlabel(\"Epochs\")\n",
    "ax[0].set_ylabel(\"Accuracy\")\n",
    "ax[0].set_xticks([i for i in range(EPOCHS)])\n",
    "ax[0].legend()\n",
    "\n",
    "ax[1].plot(loss, color='b', label='Train Loss')\n",
    "ax[1].plot(val_loss, color='r', label='Val Loss')\n",
    "ax[1].set_title('Training and Validation Loss')\n",
    "ax[1].set_xlabel('Epochs')\n",
    "ax[0].set_ylabel(\"Loss\")\n",
    "ax[1].set_xticks([i for i in range(EPOCHS)])\n",
    "ax[1].legend();"
   ]
  },
  {
   "cell_type": "code",
   "execution_count": 50,
   "id": "e5ade8c5",
   "metadata": {
    "execution": {
     "iopub.execute_input": "2022-03-20T15:04:55.007315Z",
     "iopub.status.busy": "2022-03-20T15:04:55.006369Z",
     "iopub.status.idle": "2022-03-20T15:10:38.932712Z",
     "shell.execute_reply": "2022-03-20T15:10:38.933367Z",
     "shell.execute_reply.started": "2022-03-20T13:40:05.046565Z"
    },
    "papermill": {
     "duration": 344.36829,
     "end_time": "2022-03-20T15:10:38.933570",
     "exception": false,
     "start_time": "2022-03-20T15:04:54.565280",
     "status": "completed"
    },
    "tags": []
   },
   "outputs": [
    {
     "name": "stdout",
     "output_type": "stream",
     "text": [
      "1062/1062 [==============================] - 225s 212ms/step - loss: 0.0330 - acc: 0.9883\n",
      "Accuracy of the model on Training Data is -  98.83118271827698 %\n",
      "354/354 [==============================] - 76s 214ms/step - loss: 0.0666 - acc: 0.9758\n",
      "Accuracy of the model on Test Data is -  97.57993221282959 %\n"
     ]
    }
   ],
   "source": [
    "print(\"Accuracy of the model on Training Data is - \" , model.evaluate(x_train,y_train)[1]*100 , \"%\")\n",
    "#print(\"Accuracy of the model on Validation Data is - \" , model.evaluate(x_val,y_val)[1]*100 , \"%\")\n",
    "print(\"Accuracy of the model on Test Data is - \" , model.evaluate(x_test,y_test)[1]*100 , \"%\")"
   ]
  },
  {
   "cell_type": "code",
   "execution_count": 51,
   "id": "9533c5ef",
   "metadata": {
    "execution": {
     "iopub.execute_input": "2022-03-20T15:10:40.718034Z",
     "iopub.status.busy": "2022-03-20T15:10:40.717072Z",
     "iopub.status.idle": "2022-03-20T15:11:55.451377Z",
     "shell.execute_reply": "2022-03-20T15:11:55.451843Z",
     "shell.execute_reply.started": "2022-03-20T13:45:25.174774Z"
    },
    "papermill": {
     "duration": 75.622381,
     "end_time": "2022-03-20T15:11:55.452006",
     "exception": false,
     "start_time": "2022-03-20T15:10:39.829625",
     "status": "completed"
    },
    "tags": []
   },
   "outputs": [
    {
     "name": "stdout",
     "output_type": "stream",
     "text": [
      "              precision    recall  f1-score   support\n",
      "\n",
      "        Fake       0.98      0.97      0.97      5278\n",
      "        Real       0.97      0.98      0.98      6044\n",
      "\n",
      "    accuracy                           0.98     11322\n",
      "   macro avg       0.98      0.98      0.98     11322\n",
      "weighted avg       0.98      0.98      0.98     11322\n",
      "\n"
     ]
    }
   ],
   "source": [
    "y_pred = model.predict(x_test)\n",
    "#y_pred = np.argmax(y_pred, axis=1)\n",
    "#y_pred = np.where(y_pred > 0, 1, 0)\n",
    "y_pred = np.round(y_pred).astype('int32')\n",
    "print(classification_report(y_test, y_pred, target_names = ['Fake','Real']))"
   ]
  },
  {
   "cell_type": "code",
   "execution_count": 52,
   "id": "ed022ffb",
   "metadata": {
    "execution": {
     "iopub.execute_input": "2022-03-20T15:11:57.208564Z",
     "iopub.status.busy": "2022-03-20T15:11:57.207758Z",
     "iopub.status.idle": "2022-03-20T15:11:57.223871Z",
     "shell.execute_reply": "2022-03-20T15:11:57.223412Z",
     "shell.execute_reply.started": "2022-03-20T13:46:43.724685Z"
    },
    "papermill": {
     "duration": 0.89699,
     "end_time": "2022-03-20T15:11:57.224020",
     "exception": false,
     "start_time": "2022-03-20T15:11:56.327030",
     "status": "completed"
    },
    "tags": []
   },
   "outputs": [
    {
     "data": {
      "text/plain": [
       "array([[5121,  157],\n",
       "       [ 117, 5927]])"
      ]
     },
     "execution_count": 52,
     "metadata": {},
     "output_type": "execute_result"
    }
   ],
   "source": [
    "cm = confusion_matrix(y_test,y_pred)\n",
    "cm"
   ]
  },
  {
   "cell_type": "code",
   "execution_count": 53,
   "id": "35e28f60",
   "metadata": {
    "execution": {
     "iopub.execute_input": "2022-03-20T15:11:59.007593Z",
     "iopub.status.busy": "2022-03-20T15:11:59.006765Z",
     "iopub.status.idle": "2022-03-20T15:11:59.214698Z",
     "shell.execute_reply": "2022-03-20T15:11:59.215095Z",
     "shell.execute_reply.started": "2022-03-20T13:46:43.746460Z"
    },
    "papermill": {
     "duration": 1.091742,
     "end_time": "2022-03-20T15:11:59.215244",
     "exception": false,
     "start_time": "2022-03-20T15:11:58.123502",
     "status": "completed"
    },
    "tags": []
   },
   "outputs": [
    {
     "data": {
      "text/plain": [
       "Text(51.0, 0.5, 'Actual')"
      ]
     },
     "execution_count": 53,
     "metadata": {},
     "output_type": "execute_result"
    },
    {
     "data": {
      "image/png": "[encoded data removed]",
      "text/plain": [
       "<Figure size 576x576 with 2 Axes>"
      ]
     },
     "metadata": {
      "needs_background": "light"
     },
     "output_type": "display_data"
    }
   ],
   "source": [
    "cm = pd.DataFrame(cm , index = ['Fake','Real'] , columns = ['Fake','Real'])\n",
    "plt.figure(figsize = (8,8))\n",
    "sns.heatmap(cm,cmap= \"Greens\", linecolor = 'black' , linewidth = 1 , annot = True, fmt='' , xticklabels = ['Fake','Real'] , yticklabels = ['Fake','Real'])\n",
    "plt.xlabel(\"Predicted\")\n",
    "plt.ylabel(\"Actual\")"
   ]
  },
  {
   "cell_type": "code",
   "execution_count": 54,
   "id": "9ae08351",
   "metadata": {
    "execution": {
     "iopub.execute_input": "2022-03-20T15:12:00.981623Z",
     "iopub.status.busy": "2022-03-20T15:12:00.980996Z",
     "iopub.status.idle": "2022-03-20T15:12:00.984290Z",
     "shell.execute_reply": "2022-03-20T15:12:00.983717Z",
     "shell.execute_reply.started": "2022-03-20T12:11:44.498401Z"
    },
    "papermill": {
     "duration": 0.886862,
     "end_time": "2022-03-20T15:12:00.984409",
     "exception": false,
     "start_time": "2022-03-20T15:12:00.097547",
     "status": "completed"
    },
    "tags": []
   },
   "outputs": [],
   "source": [
    "# from sklearn.metrics import auc, roc_curve\n",
    "# fpr, tpr, thresholds = roc_curve(y_test, y_pred)\n",
    "# auc_score = auc(fpr, tpr)"
   ]
  },
  {
   "cell_type": "code",
   "execution_count": 55,
   "id": "8ec60954",
   "metadata": {
    "execution": {
     "iopub.execute_input": "2022-03-20T15:12:03.076510Z",
     "iopub.status.busy": "2022-03-20T15:12:03.075670Z",
     "iopub.status.idle": "2022-03-20T15:12:03.077996Z",
     "shell.execute_reply": "2022-03-20T15:12:03.077516Z",
     "shell.execute_reply.started": "2022-03-20T12:11:44.505294Z"
    },
    "papermill": {
     "duration": 1.167762,
     "end_time": "2022-03-20T15:12:03.078115",
     "exception": false,
     "start_time": "2022-03-20T15:12:01.910353",
     "status": "completed"
    },
    "tags": []
   },
   "outputs": [],
   "source": [
    "# y_LSTM = model.predict_proba(x_test)\n",
    "# curve_LSTM  = sklearn.metrics.roc_curve(y_test, y_LSTM[:, 1])\n",
    "# auc_LSTM  = auc(curve_LSTM[0], curve_LSTM[1])\n",
    "# plt.plot(curve_LSTM[0], curve_LSTM[1], label='LSTM (area = %0.2f)' % auc_LSTM)\n",
    "# plt.xlim([0.0, 1.0])\n",
    "# plt.ylim([0.0, 1.0])\n",
    "# plt.xlabel('False Positive Rate')\n",
    "# plt.ylabel('True Positive Rate')\n",
    "# plt.title('ROC curve');\n",
    "\n",
    "# plt.legend();"
   ]
  },
  {
   "cell_type": "markdown",
   "id": "ebca5bab",
   "metadata": {
    "papermill": {
     "duration": 0.8839,
     "end_time": "2022-03-20T15:12:04.859657",
     "exception": false,
     "start_time": "2022-03-20T15:12:03.975757",
     "status": "completed"
    },
    "tags": []
   },
   "source": [
    "### K Nearest Neighbours"
   ]
  },
  {
   "cell_type": "code",
   "execution_count": 56,
   "id": "1fd0fd43",
   "metadata": {
    "execution": {
     "iopub.execute_input": "2022-03-20T15:12:06.629684Z",
     "iopub.status.busy": "2022-03-20T15:12:06.628326Z",
     "iopub.status.idle": "2022-03-20T15:12:06.630371Z",
     "shell.execute_reply": "2022-03-20T15:12:06.630834Z",
     "shell.execute_reply.started": "2022-03-20T12:11:44.513375Z"
    },
    "papermill": {
     "duration": 0.88954,
     "end_time": "2022-03-20T15:12:06.631063",
     "exception": false,
     "start_time": "2022-03-20T15:12:05.741523",
     "status": "completed"
    },
    "tags": []
   },
   "outputs": [],
   "source": [
    "# from sklearn.neighbors import KNeighborsClassifier\n",
    "\n",
    "# knn = KNeighborsClassifier(1, verbose=1)\n",
    "# knn.fit(x_train,y_train)\n",
    "\n",
    "# knn_preds = knn.predict(x_test)\n",
    "\n",
    "# print(classification_report(y_test, knn_pred, target_names = ['Fake','Real']))"
   ]
  },
  {
   "cell_type": "code",
   "execution_count": 57,
   "id": "b73ab5c2",
   "metadata": {
    "execution": {
     "iopub.execute_input": "2022-03-20T15:12:08.407145Z",
     "iopub.status.busy": "2022-03-20T15:12:08.406306Z",
     "iopub.status.idle": "2022-03-20T15:12:08.408797Z",
     "shell.execute_reply": "2022-03-20T15:12:08.408297Z",
     "shell.execute_reply.started": "2022-03-20T12:11:44.520851Z"
    },
    "papermill": {
     "duration": 0.892979,
     "end_time": "2022-03-20T15:12:08.408908",
     "exception": false,
     "start_time": "2022-03-20T15:12:07.515929",
     "status": "completed"
    },
    "tags": []
   },
   "outputs": [],
   "source": [
    "# cm_knn = confusion_matrix(y_test,knn_preds)\n",
    "# cm_knn = pd.DataFrame(cm_knn , index = ['Fake','Real'] , columns = ['Fake','Real'])\n",
    "# plt.figure(figsize = (8,8))\n",
    "# sns.heatmap(cm_knn,cmap= \"Greens\", linecolor = 'black' , linewidth = 1 , annot = True, fmt='' , xticklabels = ['Fake','Real'] , yticklabels = ['Fake','Real'])\n",
    "# plt.xlabel(\"Predicted\")\n",
    "# plt.ylabel(\"Actual\")"
   ]
  },
  {
   "cell_type": "markdown",
   "id": "12124afc",
   "metadata": {
    "papermill": {
     "duration": 0.884265,
     "end_time": "2022-03-20T15:12:10.175658",
     "exception": false,
     "start_time": "2022-03-20T15:12:09.291393",
     "status": "completed"
    },
    "tags": []
   },
   "source": [
    "### Logistic Regression"
   ]
  },
  {
   "cell_type": "code",
   "execution_count": 58,
   "id": "ea35c5be",
   "metadata": {
    "execution": {
     "iopub.execute_input": "2022-03-20T15:12:11.953026Z",
     "iopub.status.busy": "2022-03-20T15:12:11.952150Z",
     "iopub.status.idle": "2022-03-20T15:12:11.954793Z",
     "shell.execute_reply": "2022-03-20T15:12:11.955198Z",
     "shell.execute_reply.started": "2022-03-20T12:11:44.529195Z"
    },
    "papermill": {
     "duration": 0.88985,
     "end_time": "2022-03-20T15:12:11.955352",
     "exception": false,
     "start_time": "2022-03-20T15:12:11.065502",
     "status": "completed"
    },
    "tags": []
   },
   "outputs": [],
   "source": [
    "# from sklearn.linear_model import LogisticRegression\n",
    "\n",
    "# logR = LogisticRegression(C=3)\n",
    "# logR.fit(x_train,y_train)\n",
    "\n",
    "# log_preds = logR.predict(x_test)\n",
    "\n",
    "# print(classification_report(y_test, log_preds, target_names = ['Fake','Real']))"
   ]
  },
  {
   "cell_type": "code",
   "execution_count": 59,
   "id": "9d43d358",
   "metadata": {
    "execution": {
     "iopub.execute_input": "2022-03-20T15:12:14.040185Z",
     "iopub.status.busy": "2022-03-20T15:12:14.039328Z",
     "iopub.status.idle": "2022-03-20T15:12:14.041644Z",
     "shell.execute_reply": "2022-03-20T15:12:14.041131Z",
     "shell.execute_reply.started": "2022-03-20T12:11:44.537839Z"
    },
    "papermill": {
     "duration": 1.193164,
     "end_time": "2022-03-20T15:12:14.041752",
     "exception": false,
     "start_time": "2022-03-20T15:12:12.848588",
     "status": "completed"
    },
    "tags": []
   },
   "outputs": [],
   "source": [
    "# cm_log = confusion_matrix(y_test,log_preds)\n",
    "# cm_log = pd.DataFrame(cm_log , index = ['Fake','Real'] , columns = ['Fake','Real'])\n",
    "# plt.figure(figsize = (8,8))\n",
    "# sns.heatmap(cm_log,cmap= \"Greens\", linecolor = 'black' , linewidth = 1 , annot = True, fmt='' , xticklabels = ['Fake','Real'] , yticklabels = ['Fake','Real'])\n",
    "# plt.xlabel(\"Predicted\")\n",
    "# plt.ylabel(\"Actual\")\n"
   ]
  },
  {
   "cell_type": "markdown",
   "id": "d49b7e6a",
   "metadata": {
    "papermill": {
     "duration": 0.872649,
     "end_time": "2022-03-20T15:12:15.807686",
     "exception": false,
     "start_time": "2022-03-20T15:12:14.935037",
     "status": "completed"
    },
    "tags": []
   },
   "source": [
    "### AdaBoost"
   ]
  },
  {
   "cell_type": "code",
   "execution_count": 60,
   "id": "17ba0f5b",
   "metadata": {
    "execution": {
     "iopub.execute_input": "2022-03-20T15:12:17.563090Z",
     "iopub.status.busy": "2022-03-20T15:12:17.562244Z",
     "iopub.status.idle": "2022-03-20T15:12:17.564842Z",
     "shell.execute_reply": "2022-03-20T15:12:17.564413Z",
     "shell.execute_reply.started": "2022-03-20T12:11:44.548922Z"
    },
    "papermill": {
     "duration": 0.883871,
     "end_time": "2022-03-20T15:12:17.564977",
     "exception": false,
     "start_time": "2022-03-20T15:12:16.681106",
     "status": "completed"
    },
    "tags": []
   },
   "outputs": [],
   "source": [
    "# from sklearn.ensembles import AdaBoostClassifier\n",
    "\n",
    "# ada = AdaBoostClassifier(verbose=1)\n",
    "# ada.fit(x_train, y_train)\n",
    "\n",
    "# ada_preds = ada.predict(x_test)\n",
    "# #ada_preds = np.argmax(ada_preds, axis=1)\n",
    "\n",
    "# print(classification_report(y_test, ada_pred, target_names = ['Fake','Real']))"
   ]
  },
  {
   "cell_type": "code",
   "execution_count": 61,
   "id": "54be6c9a",
   "metadata": {
    "execution": {
     "iopub.execute_input": "2022-03-20T15:12:19.335658Z",
     "iopub.status.busy": "2022-03-20T15:12:19.334827Z",
     "iopub.status.idle": "2022-03-20T15:12:19.336808Z",
     "shell.execute_reply": "2022-03-20T15:12:19.337203Z",
     "shell.execute_reply.started": "2022-03-20T12:11:44.556865Z"
    },
    "papermill": {
     "duration": 0.880077,
     "end_time": "2022-03-20T15:12:19.337340",
     "exception": false,
     "start_time": "2022-03-20T15:12:18.457263",
     "status": "completed"
    },
    "tags": []
   },
   "outputs": [],
   "source": [
    "# cm_ada = confusion_matrix(y_test,ada_preds)\n",
    "# cm_ada = pd.DataFrame(cm_ada , index = ['Fake','Real'] , columns = ['Fake','Real'])\n",
    "# plt.figure(figsize = (8,8))\n",
    "# sns.heatmap(cm_ada,cmap= \"Greens\", linecolor = 'black' , linewidth = 1 , annot = True, fmt='' , xticklabels = ['Fake','Real'] , yticklabels = ['Fake','Real'])\n",
    "# plt.xlabel(\"Predicted\")\n",
    "# plt.ylabel(\"Actual\")"
   ]
  },
  {
   "cell_type": "markdown",
   "id": "e2822cf1",
   "metadata": {
    "papermill": {
     "duration": 0.921558,
     "end_time": "2022-03-20T15:12:21.159977",
     "exception": false,
     "start_time": "2022-03-20T15:12:20.238419",
     "status": "completed"
    },
    "tags": []
   },
   "source": [
    "### ROC Curves"
   ]
  },
  {
   "cell_type": "code",
   "execution_count": 62,
   "id": "87b30541",
   "metadata": {
    "execution": {
     "iopub.execute_input": "2022-03-20T15:12:22.927931Z",
     "iopub.status.busy": "2022-03-20T15:12:22.925689Z",
     "iopub.status.idle": "2022-03-20T15:12:22.930670Z",
     "shell.execute_reply": "2022-03-20T15:12:22.931070Z",
     "shell.execute_reply.started": "2022-03-20T12:11:44.565688Z"
    },
    "papermill": {
     "duration": 0.885745,
     "end_time": "2022-03-20T15:12:22.931204",
     "exception": false,
     "start_time": "2022-03-20T15:12:22.045459",
     "status": "completed"
    },
    "tags": []
   },
   "outputs": [],
   "source": [
    "# import sklearn\n",
    "# # We'll need class probabilities from each of the classifiers\n",
    "# y_log   = logR.predict_proba(x_test)\n",
    "# y_knn   = knn.predict_proba(x_test)\n",
    "\n",
    "# # Compute the points on the curve\n",
    "# # We pass the probability of the second class (KIA) as the y_score\n",
    "# curve_log    = sklearn.metrics.roc_curve(y_test, y_log[:, 1])\n",
    "# curve_knn    = sklearn.metrics.roc_curve(y_test, y_knn[:, 1])\n",
    "\n",
    "# # Compute Area Under the Curve\n",
    "# auc_log    = auc(curve_log[0], curve_log[1])\n",
    "# auc_knn    = auc(curve_knn[0], curve_knn[1])\n",
    "\n",
    "# plt.plot(curve_log[0], curve_log[1], label='logistic (area = %0.2f)' % auc_log)\n",
    "# plt.plot(curve_knn[0], curve_knn[1], label='knn (area = %0.2f)'% auc_knn)\n",
    "\n",
    "# plt.xlim([0.0, 1.0])\n",
    "# plt.ylim([0.0, 1.0])\n",
    "# plt.xlabel('False Positive Rate')\n",
    "# plt.ylabel('True Positive Rate')\n",
    "# plt.title('ROC curve');\n",
    "\n",
    "# plt.legend();"
   ]
  },
  {
   "cell_type": "code",
   "execution_count": null,
   "id": "720b34b5",
   "metadata": {
    "papermill": {
     "duration": 1.706673,
     "end_time": "2022-03-20T15:12:25.624565",
     "exception": false,
     "start_time": "2022-03-20T15:12:23.917892",
     "status": "completed"
    },
    "tags": []
   },
   "outputs": [],
   "source": []
  }
 ],
 "metadata": {
  "kernelspec": {
   "display_name": "Python 3",
   "language": "python",
   "name": "python3"
  },
  "language_info": {
   "codemirror_mode": {
    "name": "ipython",
    "version": 3
   },
   "file_extension": ".py",
   "mimetype": "text/x-python",
   "name": "python",
   "nbconvert_exporter": "python",
   "pygments_lexer": "ipython3",
   "version": "3.7.12"
  },
  "papermill": {
   "default_parameters": {},
   "duration": 4987.247599,
   "end_time": "2022-03-20T15:12:29.312469",
   "environment_variables": {},
   "exception": null,
   "input_path": "__notebook__.ipynb",
   "output_path": "__notebook__.ipynb",
   "parameters": {},
   "start_time": "2022-03-20T13:49:22.064870",
   "version": "2.3.3"
  }
 },
 "nbformat": 4,
 "nbformat_minor": 5
}
