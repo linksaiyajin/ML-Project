{
 "cells": [
  {
   "cell_type": "code",
   "execution_count": 1,
   "id": "14619403",
   "metadata": {
    "execution": {
     "iopub.execute_input": "2022-03-15T09:31:14.434330Z",
     "iopub.status.busy": "2022-03-15T09:31:14.433559Z",
     "iopub.status.idle": "2022-03-15T09:31:20.608707Z",
     "shell.execute_reply": "2022-03-15T09:31:20.607662Z",
     "shell.execute_reply.started": "2022-03-15T08:23:58.791519Z"
    },
    "papermill": {
     "duration": 6.241907,
     "end_time": "2022-03-15T09:31:20.608869",
     "exception": false,
     "start_time": "2022-03-15T09:31:14.366962",
     "status": "completed"
    },
    "tags": []
   },
   "outputs": [],
   "source": [
    "import tensorflow as tf\n",
    "import pandas as pd\n",
    "import numpy as np\n",
    "import seaborn as sns\n",
    "from bs4 import BeautifulSoup\n",
    "import re,string,unicodedata\n",
    "import matplotlib.pyplot as plt\n",
    "import tensorflow.keras.layers as tfl\n",
    "from keras.preprocessing import text, sequence\n",
    "from sklearn.metrics import classification_report,confusion_matrix,accuracy_score\n",
    "from tensorflow.keras.preprocessing.sequence import pad_sequences\n",
    "from tensorflow.keras.layers import Embedding, LSTM, Dense, Dropout, Bidirectional\n",
    "from tensorflow.keras.preprocessing.text import Tokenizer\n",
    "from tensorflow.keras.models import Sequential\n",
    "from tensorflow.keras.optimizers import Adam\n",
    "from tensorflow.keras import regularizers\n",
    "import tensorflow.keras.utils as ku \n",
    "from sklearn.model_selection import train_test_split\n",
    "from nltk.corpus import stopwords\n",
    "from wordcloud import WordCloud, STOPWORDS\n",
    "from sklearn.feature_extraction.text import CountVectorizer\n",
    "from sklearn.metrics import f1_score, accuracy_score, precision_score, recall_score, plot_roc_curve, classification_report, roc_auc_score\n",
    "from keras.backend import clear_session\n",
    "import datetime\n",
    "%matplotlib inline"
   ]
  },
  {
   "cell_type": "code",
   "execution_count": 2,
   "id": "baf587e0",
   "metadata": {
    "execution": {
     "iopub.execute_input": "2022-03-15T09:31:20.724401Z",
     "iopub.status.busy": "2022-03-15T09:31:20.723810Z",
     "iopub.status.idle": "2022-03-15T09:31:23.263525Z",
     "shell.execute_reply": "2022-03-15T09:31:23.262643Z",
     "shell.execute_reply.started": "2022-03-15T08:24:05.417395Z"
    },
    "papermill": {
     "duration": 2.59849,
     "end_time": "2022-03-15T09:31:23.263656",
     "exception": false,
     "start_time": "2022-03-15T09:31:20.665166",
     "status": "completed"
    },
    "tags": []
   },
   "outputs": [],
   "source": [
    "true = pd.read_csv(\"../input/fake-and-real-news-dataset/True.csv\")\n",
    "false = pd.read_csv(\"../input/fake-and-real-news-dataset/Fake.csv\")"
   ]
  },
  {
   "cell_type": "markdown",
   "id": "cfae6b1a",
   "metadata": {
    "papermill": {
     "duration": 0.05487,
     "end_time": "2022-03-15T09:31:23.379720",
     "exception": false,
     "start_time": "2022-03-15T09:31:23.324850",
     "status": "completed"
    },
    "tags": []
   },
   "source": [
    "### Preparing fake-news dataset"
   ]
  },
  {
   "cell_type": "code",
   "execution_count": 3,
   "id": "8fe25224",
   "metadata": {
    "execution": {
     "iopub.execute_input": "2022-03-15T09:31:23.492681Z",
     "iopub.status.busy": "2022-03-15T09:31:23.491905Z",
     "iopub.status.idle": "2022-03-15T09:31:24.847603Z",
     "shell.execute_reply": "2022-03-15T09:31:24.850044Z",
     "shell.execute_reply.started": "2022-03-15T08:24:07.776779Z"
    },
    "papermill": {
     "duration": 1.416212,
     "end_time": "2022-03-15T09:31:24.850818",
     "exception": false,
     "start_time": "2022-03-15T09:31:23.434606",
     "status": "completed"
    },
    "tags": []
   },
   "outputs": [
    {
     "data": {
      "text/html": [
       "<div>\n",
       "<style scoped>\n",
       "    .dataframe tbody tr th:only-of-type {\n",
       "        vertical-align: middle;\n",
       "    }\n",
       "\n",
       "    .dataframe tbody tr th {\n",
       "        vertical-align: top;\n",
       "    }\n",
       "\n",
       "    .dataframe thead th {\n",
       "        text-align: right;\n",
       "    }\n",
       "</style>\n",
       "<table border=\"1\" class=\"dataframe\">\n",
       "  <thead>\n",
       "    <tr style=\"text-align: right;\">\n",
       "      <th></th>\n",
       "      <th>title</th>\n",
       "      <th>text</th>\n",
       "      <th>category</th>\n",
       "    </tr>\n",
       "  </thead>\n",
       "  <tbody>\n",
       "    <tr>\n",
       "      <th>0</th>\n",
       "      <td>Muslims BUSTED: They Stole Millions In Gov’t B...</td>\n",
       "      <td>Print They should pay all the back all the mon...</td>\n",
       "      <td>0</td>\n",
       "    </tr>\n",
       "    <tr>\n",
       "      <th>1</th>\n",
       "      <td>Re: Why Did Attorney General Loretta Lynch Ple...</td>\n",
       "      <td>Why Did Attorney General Loretta Lynch Plead T...</td>\n",
       "      <td>0</td>\n",
       "    </tr>\n",
       "    <tr>\n",
       "      <th>2</th>\n",
       "      <td>BREAKING: Weiner Cooperating With FBI On Hilla...</td>\n",
       "      <td>Red State : \\nFox News Sunday reported this mo...</td>\n",
       "      <td>0</td>\n",
       "    </tr>\n",
       "    <tr>\n",
       "      <th>3</th>\n",
       "      <td>PIN DROP SPEECH BY FATHER OF DAUGHTER Kidnappe...</td>\n",
       "      <td>Email Kayla Mueller was a prisoner and torture...</td>\n",
       "      <td>0</td>\n",
       "    </tr>\n",
       "    <tr>\n",
       "      <th>4</th>\n",
       "      <td>FANTASTIC! TRUMP'S 7 POINT PLAN To Reform Heal...</td>\n",
       "      <td>Email HEALTHCARE REFORM TO MAKE AMERICA GREAT ...</td>\n",
       "      <td>0</td>\n",
       "    </tr>\n",
       "  </tbody>\n",
       "</table>\n",
       "</div>"
      ],
      "text/plain": [
       "                                               title  \\\n",
       "0  Muslims BUSTED: They Stole Millions In Gov’t B...   \n",
       "1  Re: Why Did Attorney General Loretta Lynch Ple...   \n",
       "2  BREAKING: Weiner Cooperating With FBI On Hilla...   \n",
       "3  PIN DROP SPEECH BY FATHER OF DAUGHTER Kidnappe...   \n",
       "4  FANTASTIC! TRUMP'S 7 POINT PLAN To Reform Heal...   \n",
       "\n",
       "                                                text  category  \n",
       "0  Print They should pay all the back all the mon...         0  \n",
       "1  Why Did Attorney General Loretta Lynch Plead T...         0  \n",
       "2  Red State : \\nFox News Sunday reported this mo...         0  \n",
       "3  Email Kayla Mueller was a prisoner and torture...         0  \n",
       "4  Email HEALTHCARE REFORM TO MAKE AMERICA GREAT ...         0  "
      ]
     },
     "execution_count": 3,
     "metadata": {},
     "output_type": "execute_result"
    }
   ],
   "source": [
    "fake1 = pd.read_csv(\"../input/fake-news/fake.csv\")\n",
    "# removing all unnecessary columns\n",
    "fake1 = fake1[['title', 'text', 'language']]\n",
    "# removing non-english articles\n",
    "fake1 = fake1[fake1['language'] == 'english']\n",
    "del fake1['language']\n",
    "fake1['category'] = 0\n",
    "# drop rows with missing values\n",
    "fake1 = fake1.dropna(axis=0)\n",
    "\n",
    "fake1.head()"
   ]
  },
  {
   "cell_type": "markdown",
   "id": "c1d1f3ae",
   "metadata": {
    "papermill": {
     "duration": 0.056063,
     "end_time": "2022-03-15T09:31:24.964671",
     "exception": false,
     "start_time": "2022-03-15T09:31:24.908608",
     "status": "completed"
    },
    "tags": []
   },
   "source": [
    "### Preparing real-and-fake-news-dataset"
   ]
  },
  {
   "cell_type": "code",
   "execution_count": 4,
   "id": "aec284fd",
   "metadata": {
    "execution": {
     "iopub.execute_input": "2022-03-15T09:31:25.081332Z",
     "iopub.status.busy": "2022-03-15T09:31:25.080600Z",
     "iopub.status.idle": "2022-03-15T09:31:25.769324Z",
     "shell.execute_reply": "2022-03-15T09:31:25.768869Z",
     "shell.execute_reply.started": "2022-03-15T08:24:09.266695Z"
    },
    "papermill": {
     "duration": 0.748775,
     "end_time": "2022-03-15T09:31:25.769453",
     "exception": false,
     "start_time": "2022-03-15T09:31:25.020678",
     "status": "completed"
    },
    "tags": []
   },
   "outputs": [
    {
     "data": {
      "text/html": [
       "<div>\n",
       "<style scoped>\n",
       "    .dataframe tbody tr th:only-of-type {\n",
       "        vertical-align: middle;\n",
       "    }\n",
       "\n",
       "    .dataframe tbody tr th {\n",
       "        vertical-align: top;\n",
       "    }\n",
       "\n",
       "    .dataframe thead th {\n",
       "        text-align: right;\n",
       "    }\n",
       "</style>\n",
       "<table border=\"1\" class=\"dataframe\">\n",
       "  <thead>\n",
       "    <tr style=\"text-align: right;\">\n",
       "      <th></th>\n",
       "      <th>title</th>\n",
       "      <th>text</th>\n",
       "      <th>category</th>\n",
       "    </tr>\n",
       "  </thead>\n",
       "  <tbody>\n",
       "    <tr>\n",
       "      <th>0</th>\n",
       "      <td>You Can Smell Hillary’s Fear</td>\n",
       "      <td>Daniel Greenfield, a Shillman Journalism Fello...</td>\n",
       "      <td>0</td>\n",
       "    </tr>\n",
       "    <tr>\n",
       "      <th>1</th>\n",
       "      <td>Watch The Exact Moment Paul Ryan Committed Pol...</td>\n",
       "      <td>Google Pinterest Digg Linkedin Reddit Stumbleu...</td>\n",
       "      <td>0</td>\n",
       "    </tr>\n",
       "    <tr>\n",
       "      <th>2</th>\n",
       "      <td>Kerry to go to Paris in gesture of sympathy</td>\n",
       "      <td>U.S. Secretary of State John F. Kerry said Mon...</td>\n",
       "      <td>1</td>\n",
       "    </tr>\n",
       "    <tr>\n",
       "      <th>3</th>\n",
       "      <td>Bernie supporters on Twitter erupt in anger ag...</td>\n",
       "      <td>— Kaydee King (@KaydeeKing) November 9, 2016 T...</td>\n",
       "      <td>0</td>\n",
       "    </tr>\n",
       "    <tr>\n",
       "      <th>4</th>\n",
       "      <td>The Battle of New York: Why This Primary Matters</td>\n",
       "      <td>It's primary day in New York and front-runners...</td>\n",
       "      <td>1</td>\n",
       "    </tr>\n",
       "  </tbody>\n",
       "</table>\n",
       "</div>"
      ],
      "text/plain": [
       "                                               title  \\\n",
       "0                       You Can Smell Hillary’s Fear   \n",
       "1  Watch The Exact Moment Paul Ryan Committed Pol...   \n",
       "2        Kerry to go to Paris in gesture of sympathy   \n",
       "3  Bernie supporters on Twitter erupt in anger ag...   \n",
       "4   The Battle of New York: Why This Primary Matters   \n",
       "\n",
       "                                                text  category  \n",
       "0  Daniel Greenfield, a Shillman Journalism Fello...         0  \n",
       "1  Google Pinterest Digg Linkedin Reddit Stumbleu...         0  \n",
       "2  U.S. Secretary of State John F. Kerry said Mon...         1  \n",
       "3  — Kaydee King (@KaydeeKing) November 9, 2016 T...         0  \n",
       "4  It's primary day in New York and front-runners...         1  "
      ]
     },
     "execution_count": 4,
     "metadata": {},
     "output_type": "execute_result"
    }
   ],
   "source": [
    "real_fake = pd.read_csv(\"../input/real-and-fake-news-dataset/news.csv\")\n",
    "# removing all unnecessary columns\n",
    "del real_fake['Unnamed: 0']\n",
    "\n",
    "# turning label into boolean category (1 for real, 0 for fake)\n",
    "d = {'REAL': 1, 'FAKE': 0}\n",
    "real_fake['category'] = real_fake['label'].map(d)\n",
    "del real_fake['label']\n",
    "# drop rows with missing values\n",
    "real_fake = real_fake.dropna(axis=0)\n",
    "\n",
    "real_fake.head()"
   ]
  },
  {
   "cell_type": "code",
   "execution_count": 5,
   "id": "86af7d0f",
   "metadata": {
    "execution": {
     "iopub.execute_input": "2022-03-15T09:31:25.888990Z",
     "iopub.status.busy": "2022-03-15T09:31:25.888288Z",
     "iopub.status.idle": "2022-03-15T09:31:25.890397Z",
     "shell.execute_reply": "2022-03-15T09:31:25.890787Z",
     "shell.execute_reply.started": "2022-03-15T08:24:09.967297Z"
    },
    "papermill": {
     "duration": 0.064258,
     "end_time": "2022-03-15T09:31:25.890903",
     "exception": false,
     "start_time": "2022-03-15T09:31:25.826645",
     "status": "completed"
    },
    "tags": []
   },
   "outputs": [],
   "source": [
    "true['category'] = 1\n",
    "false['category'] = 0"
   ]
  },
  {
   "cell_type": "code",
   "execution_count": 6,
   "id": "71c3b878",
   "metadata": {
    "execution": {
     "iopub.execute_input": "2022-03-15T09:31:26.012830Z",
     "iopub.status.busy": "2022-03-15T09:31:26.012155Z",
     "iopub.status.idle": "2022-03-15T09:31:26.014871Z",
     "shell.execute_reply": "2022-03-15T09:31:26.015286Z",
     "shell.execute_reply.started": "2022-03-15T08:24:09.974765Z"
    },
    "papermill": {
     "duration": 0.067896,
     "end_time": "2022-03-15T09:31:26.015438",
     "exception": false,
     "start_time": "2022-03-15T09:31:25.947542",
     "status": "completed"
    },
    "tags": []
   },
   "outputs": [
    {
     "data": {
      "text/html": [
       "<div>\n",
       "<style scoped>\n",
       "    .dataframe tbody tr th:only-of-type {\n",
       "        vertical-align: middle;\n",
       "    }\n",
       "\n",
       "    .dataframe tbody tr th {\n",
       "        vertical-align: top;\n",
       "    }\n",
       "\n",
       "    .dataframe thead th {\n",
       "        text-align: right;\n",
       "    }\n",
       "</style>\n",
       "<table border=\"1\" class=\"dataframe\">\n",
       "  <thead>\n",
       "    <tr style=\"text-align: right;\">\n",
       "      <th></th>\n",
       "      <th>title</th>\n",
       "      <th>text</th>\n",
       "      <th>subject</th>\n",
       "      <th>date</th>\n",
       "      <th>category</th>\n",
       "    </tr>\n",
       "  </thead>\n",
       "  <tbody>\n",
       "    <tr>\n",
       "      <th>0</th>\n",
       "      <td>As U.S. budget fight looms, Republicans flip t...</td>\n",
       "      <td>WASHINGTON (Reuters) - The head of a conservat...</td>\n",
       "      <td>politicsNews</td>\n",
       "      <td>December 31, 2017</td>\n",
       "      <td>1</td>\n",
       "    </tr>\n",
       "    <tr>\n",
       "      <th>1</th>\n",
       "      <td>U.S. military to accept transgender recruits o...</td>\n",
       "      <td>WASHINGTON (Reuters) - Transgender people will...</td>\n",
       "      <td>politicsNews</td>\n",
       "      <td>December 29, 2017</td>\n",
       "      <td>1</td>\n",
       "    </tr>\n",
       "    <tr>\n",
       "      <th>2</th>\n",
       "      <td>Senior U.S. Republican senator: 'Let Mr. Muell...</td>\n",
       "      <td>WASHINGTON (Reuters) - The special counsel inv...</td>\n",
       "      <td>politicsNews</td>\n",
       "      <td>December 31, 2017</td>\n",
       "      <td>1</td>\n",
       "    </tr>\n",
       "    <tr>\n",
       "      <th>3</th>\n",
       "      <td>FBI Russia probe helped by Australian diplomat...</td>\n",
       "      <td>WASHINGTON (Reuters) - Trump campaign adviser ...</td>\n",
       "      <td>politicsNews</td>\n",
       "      <td>December 30, 2017</td>\n",
       "      <td>1</td>\n",
       "    </tr>\n",
       "    <tr>\n",
       "      <th>4</th>\n",
       "      <td>Trump wants Postal Service to charge 'much mor...</td>\n",
       "      <td>SEATTLE/WASHINGTON (Reuters) - President Donal...</td>\n",
       "      <td>politicsNews</td>\n",
       "      <td>December 29, 2017</td>\n",
       "      <td>1</td>\n",
       "    </tr>\n",
       "  </tbody>\n",
       "</table>\n",
       "</div>"
      ],
      "text/plain": [
       "                                               title  \\\n",
       "0  As U.S. budget fight looms, Republicans flip t...   \n",
       "1  U.S. military to accept transgender recruits o...   \n",
       "2  Senior U.S. Republican senator: 'Let Mr. Muell...   \n",
       "3  FBI Russia probe helped by Australian diplomat...   \n",
       "4  Trump wants Postal Service to charge 'much mor...   \n",
       "\n",
       "                                                text       subject  \\\n",
       "0  WASHINGTON (Reuters) - The head of a conservat...  politicsNews   \n",
       "1  WASHINGTON (Reuters) - Transgender people will...  politicsNews   \n",
       "2  WASHINGTON (Reuters) - The special counsel inv...  politicsNews   \n",
       "3  WASHINGTON (Reuters) - Trump campaign adviser ...  politicsNews   \n",
       "4  SEATTLE/WASHINGTON (Reuters) - President Donal...  politicsNews   \n",
       "\n",
       "                 date  category  \n",
       "0  December 31, 2017          1  \n",
       "1  December 29, 2017          1  \n",
       "2  December 31, 2017          1  \n",
       "3  December 30, 2017          1  \n",
       "4  December 29, 2017          1  "
      ]
     },
     "execution_count": 6,
     "metadata": {},
     "output_type": "execute_result"
    }
   ],
   "source": [
    "true.head()"
   ]
  },
  {
   "cell_type": "code",
   "execution_count": 7,
   "id": "f651bde8",
   "metadata": {
    "execution": {
     "iopub.execute_input": "2022-03-15T09:31:26.145608Z",
     "iopub.status.busy": "2022-03-15T09:31:26.144751Z",
     "iopub.status.idle": "2022-03-15T09:31:26.148206Z",
     "shell.execute_reply": "2022-03-15T09:31:26.148660Z",
     "shell.execute_reply.started": "2022-03-15T08:24:09.994055Z"
    },
    "papermill": {
     "duration": 0.076528,
     "end_time": "2022-03-15T09:31:26.148788",
     "exception": false,
     "start_time": "2022-03-15T09:31:26.072260",
     "status": "completed"
    },
    "tags": []
   },
   "outputs": [
    {
     "data": {
      "text/html": [
       "<div>\n",
       "<style scoped>\n",
       "    .dataframe tbody tr th:only-of-type {\n",
       "        vertical-align: middle;\n",
       "    }\n",
       "\n",
       "    .dataframe tbody tr th {\n",
       "        vertical-align: top;\n",
       "    }\n",
       "\n",
       "    .dataframe thead th {\n",
       "        text-align: right;\n",
       "    }\n",
       "</style>\n",
       "<table border=\"1\" class=\"dataframe\">\n",
       "  <thead>\n",
       "    <tr style=\"text-align: right;\">\n",
       "      <th></th>\n",
       "      <th>title</th>\n",
       "      <th>text</th>\n",
       "      <th>subject</th>\n",
       "      <th>date</th>\n",
       "      <th>category</th>\n",
       "    </tr>\n",
       "  </thead>\n",
       "  <tbody>\n",
       "    <tr>\n",
       "      <th>0</th>\n",
       "      <td>Donald Trump Sends Out Embarrassing New Year’...</td>\n",
       "      <td>Donald Trump just couldn t wish all Americans ...</td>\n",
       "      <td>News</td>\n",
       "      <td>December 31, 2017</td>\n",
       "      <td>0</td>\n",
       "    </tr>\n",
       "    <tr>\n",
       "      <th>1</th>\n",
       "      <td>Drunk Bragging Trump Staffer Started Russian ...</td>\n",
       "      <td>House Intelligence Committee Chairman Devin Nu...</td>\n",
       "      <td>News</td>\n",
       "      <td>December 31, 2017</td>\n",
       "      <td>0</td>\n",
       "    </tr>\n",
       "    <tr>\n",
       "      <th>2</th>\n",
       "      <td>Sheriff David Clarke Becomes An Internet Joke...</td>\n",
       "      <td>On Friday, it was revealed that former Milwauk...</td>\n",
       "      <td>News</td>\n",
       "      <td>December 30, 2017</td>\n",
       "      <td>0</td>\n",
       "    </tr>\n",
       "    <tr>\n",
       "      <th>3</th>\n",
       "      <td>Trump Is So Obsessed He Even Has Obama’s Name...</td>\n",
       "      <td>On Christmas day, Donald Trump announced that ...</td>\n",
       "      <td>News</td>\n",
       "      <td>December 29, 2017</td>\n",
       "      <td>0</td>\n",
       "    </tr>\n",
       "    <tr>\n",
       "      <th>4</th>\n",
       "      <td>Pope Francis Just Called Out Donald Trump Dur...</td>\n",
       "      <td>Pope Francis used his annual Christmas Day mes...</td>\n",
       "      <td>News</td>\n",
       "      <td>December 25, 2017</td>\n",
       "      <td>0</td>\n",
       "    </tr>\n",
       "  </tbody>\n",
       "</table>\n",
       "</div>"
      ],
      "text/plain": [
       "                                               title  \\\n",
       "0   Donald Trump Sends Out Embarrassing New Year’...   \n",
       "1   Drunk Bragging Trump Staffer Started Russian ...   \n",
       "2   Sheriff David Clarke Becomes An Internet Joke...   \n",
       "3   Trump Is So Obsessed He Even Has Obama’s Name...   \n",
       "4   Pope Francis Just Called Out Donald Trump Dur...   \n",
       "\n",
       "                                                text subject  \\\n",
       "0  Donald Trump just couldn t wish all Americans ...    News   \n",
       "1  House Intelligence Committee Chairman Devin Nu...    News   \n",
       "2  On Friday, it was revealed that former Milwauk...    News   \n",
       "3  On Christmas day, Donald Trump announced that ...    News   \n",
       "4  Pope Francis used his annual Christmas Day mes...    News   \n",
       "\n",
       "                date  category  \n",
       "0  December 31, 2017         0  \n",
       "1  December 31, 2017         0  \n",
       "2  December 30, 2017         0  \n",
       "3  December 29, 2017         0  \n",
       "4  December 25, 2017         0  "
      ]
     },
     "execution_count": 7,
     "metadata": {},
     "output_type": "execute_result"
    }
   ],
   "source": [
    "false.head()"
   ]
  },
  {
   "cell_type": "code",
   "execution_count": 8,
   "id": "c118ec06",
   "metadata": {
    "execution": {
     "iopub.execute_input": "2022-03-15T09:31:26.283932Z",
     "iopub.status.busy": "2022-03-15T09:31:26.282985Z",
     "iopub.status.idle": "2022-03-15T09:31:26.289341Z",
     "shell.execute_reply": "2022-03-15T09:31:26.288839Z",
     "shell.execute_reply.started": "2022-03-15T08:24:10.010583Z"
    },
    "papermill": {
     "duration": 0.075451,
     "end_time": "2022-03-15T09:31:26.289459",
     "exception": false,
     "start_time": "2022-03-15T09:31:26.214008",
     "status": "completed"
    },
    "tags": []
   },
   "outputs": [],
   "source": [
    "news = pd.concat([true,false])"
   ]
  },
  {
   "cell_type": "code",
   "execution_count": 9,
   "id": "e03be8e7",
   "metadata": {
    "execution": {
     "iopub.execute_input": "2022-03-15T09:31:26.416757Z",
     "iopub.status.busy": "2022-03-15T09:31:26.415984Z",
     "iopub.status.idle": "2022-03-15T09:31:26.418020Z",
     "shell.execute_reply": "2022-03-15T09:31:26.418416Z",
     "shell.execute_reply.started": "2022-03-15T08:24:10.024548Z"
    },
    "papermill": {
     "duration": 0.065033,
     "end_time": "2022-03-15T09:31:26.418545",
     "exception": false,
     "start_time": "2022-03-15T09:31:26.353512",
     "status": "completed"
    },
    "tags": []
   },
   "outputs": [],
   "source": [
    "# sns.set_style(\"dark\")\n",
    "# # Count occurences of both real and fake news\n",
    "# sns.countplot(x=news.category)"
   ]
  },
  {
   "cell_type": "code",
   "execution_count": 10,
   "id": "a4be7325",
   "metadata": {
    "execution": {
     "iopub.execute_input": "2022-03-15T09:31:26.536560Z",
     "iopub.status.busy": "2022-03-15T09:31:26.535082Z",
     "iopub.status.idle": "2022-03-15T09:31:26.537244Z",
     "shell.execute_reply": "2022-03-15T09:31:26.537647Z",
     "shell.execute_reply.started": "2022-03-15T08:24:10.030066Z"
    },
    "papermill": {
     "duration": 0.062427,
     "end_time": "2022-03-15T09:31:26.537758",
     "exception": false,
     "start_time": "2022-03-15T09:31:26.475331",
     "status": "completed"
    },
    "tags": []
   },
   "outputs": [],
   "source": [
    "# dataviz = pd.concat([news,fake1,real_fake])\n",
    "\n",
    "# plt.figure(figsize = (12,8))\n",
    "# sns.set(style = \"darkgrid\")\n",
    "# chart = sns.countplot(x = \"subject\", hue = \"category\" , data = dataviz)\n",
    "# chart.set_xticklabels(chart.get_xticklabels(),rotation=90);"
   ]
  },
  {
   "cell_type": "code",
   "execution_count": 11,
   "id": "e42b3f56",
   "metadata": {
    "execution": {
     "iopub.execute_input": "2022-03-15T09:31:26.877711Z",
     "iopub.status.busy": "2022-03-15T09:31:26.664310Z",
     "iopub.status.idle": "2022-03-15T09:31:26.880479Z",
     "shell.execute_reply": "2022-03-15T09:31:26.880014Z",
     "shell.execute_reply.started": "2022-03-15T08:24:10.037759Z"
    },
    "papermill": {
     "duration": 0.285677,
     "end_time": "2022-03-15T09:31:26.880627",
     "exception": false,
     "start_time": "2022-03-15T09:31:26.594950",
     "status": "completed"
    },
    "tags": []
   },
   "outputs": [],
   "source": [
    "news['text'] = news['title'] + \" \" + news['text']\n",
    "fake1['text'] = fake1['title'] + \" \" + fake1['text']\n",
    "real_fake['text'] = real_fake['title'] + \" \" + real_fake['text']\n",
    "del news['title']\n",
    "del fake1['title']\n",
    "del real_fake['title']\n",
    "del news['subject']\n",
    "del news['date']"
   ]
  },
  {
   "cell_type": "code",
   "execution_count": 12,
   "id": "c37377ff",
   "metadata": {
    "execution": {
     "iopub.execute_input": "2022-03-15T09:31:27.001038Z",
     "iopub.status.busy": "2022-03-15T09:31:27.000401Z",
     "iopub.status.idle": "2022-03-15T09:31:27.006535Z",
     "shell.execute_reply": "2022-03-15T09:31:27.006070Z",
     "shell.execute_reply.started": "2022-03-15T08:24:10.276513Z"
    },
    "papermill": {
     "duration": 0.067407,
     "end_time": "2022-03-15T09:31:27.006645",
     "exception": false,
     "start_time": "2022-03-15T09:31:26.939238",
     "status": "completed"
    },
    "tags": []
   },
   "outputs": [],
   "source": [
    "stop = stopwords.words('english')\n",
    "# stop.extend(['from', 'subject', 're', 'edu', 'use'])\n",
    "stop = set(stop)\n",
    "punctuation = list(string.punctuation)\n",
    "stop.update(punctuation)"
   ]
  },
  {
   "cell_type": "markdown",
   "id": "75b532c5",
   "metadata": {
    "papermill": {
     "duration": 0.061376,
     "end_time": "2022-03-15T09:31:27.124564",
     "exception": false,
     "start_time": "2022-03-15T09:31:27.063188",
     "status": "completed"
    },
    "tags": []
   },
   "source": [
    "### Data Cleaning"
   ]
  },
  {
   "cell_type": "code",
   "execution_count": 13,
   "id": "c097a8dc",
   "metadata": {
    "execution": {
     "iopub.execute_input": "2022-03-15T09:31:27.272162Z",
     "iopub.status.busy": "2022-03-15T09:31:27.266257Z",
     "iopub.status.idle": "2022-03-15T09:31:48.480605Z",
     "shell.execute_reply": "2022-03-15T09:31:48.480045Z",
     "shell.execute_reply.started": "2022-03-15T08:24:10.290747Z"
    },
    "papermill": {
     "duration": 21.289923,
     "end_time": "2022-03-15T09:31:48.480735",
     "exception": false,
     "start_time": "2022-03-15T09:31:27.190812",
     "status": "completed"
    },
    "tags": []
   },
   "outputs": [],
   "source": [
    "def strip_html(text):\n",
    "    soup = BeautifulSoup(text, \"html.parser\")\n",
    "    return soup.get_text()\n",
    "\n",
    "#Removing the square brackets\n",
    "def remove_between_square_brackets(text):\n",
    "    return re.sub('\\[[^]]*\\]', '', text)\n",
    "# Removing URL's\n",
    "def remove_between_square_brackets(text):\n",
    "    return re.sub(r'http\\S+', '', text)\n",
    "#Removing the stopwords from text\n",
    "def remove_stopwords(text):\n",
    "    final_text = []\n",
    "    for i in text.split():\n",
    "        if i.strip().lower() not in stop:\n",
    "            final_text.append(i.strip())\n",
    "    return \" \".join(final_text)\n",
    "#Removing the noisy text\n",
    "def denoise_text(text):\n",
    "    text = strip_html(text)\n",
    "    text = remove_between_square_brackets(text)\n",
    "    text = remove_stopwords(text)\n",
    "    return text\n",
    "#Apply function on review column\n",
    "news['text']=news['text'].apply(denoise_text)\n",
    "fake1['text'] = fake1['text'].apply(denoise_text)\n",
    "real_fake['text'] = real_fake['text'].apply(denoise_text)"
   ]
  },
  {
   "cell_type": "code",
   "execution_count": 14,
   "id": "de3737e5",
   "metadata": {
    "execution": {
     "iopub.execute_input": "2022-03-15T09:31:48.601631Z",
     "iopub.status.busy": "2022-03-15T09:31:48.599910Z",
     "iopub.status.idle": "2022-03-15T09:31:48.604226Z",
     "shell.execute_reply": "2022-03-15T09:31:48.603784Z",
     "shell.execute_reply.started": "2022-03-15T08:24:31.360039Z"
    },
    "papermill": {
     "duration": 0.066139,
     "end_time": "2022-03-15T09:31:48.604337",
     "exception": false,
     "start_time": "2022-03-15T09:31:48.538198",
     "status": "completed"
    },
    "tags": []
   },
   "outputs": [],
   "source": [
    "# Concatenate all datasets into one\n",
    "all_news = pd.concat([news, fake1, real_fake])"
   ]
  },
  {
   "cell_type": "code",
   "execution_count": 15,
   "id": "e2ca3db4",
   "metadata": {
    "execution": {
     "iopub.execute_input": "2022-03-15T09:31:48.723165Z",
     "iopub.status.busy": "2022-03-15T09:31:48.722548Z",
     "iopub.status.idle": "2022-03-15T09:31:48.725127Z",
     "shell.execute_reply": "2022-03-15T09:31:48.725562Z",
     "shell.execute_reply.started": "2022-03-15T08:24:31.370311Z"
    },
    "papermill": {
     "duration": 0.064516,
     "end_time": "2022-03-15T09:31:48.725679",
     "exception": false,
     "start_time": "2022-03-15T09:31:48.661163",
     "status": "completed"
    },
    "tags": []
   },
   "outputs": [
    {
     "data": {
      "text/plain": [
       "(62910, 2)"
      ]
     },
     "execution_count": 15,
     "metadata": {},
     "output_type": "execute_result"
    }
   ],
   "source": [
    "all_news.shape"
   ]
  },
  {
   "cell_type": "markdown",
   "id": "e32c2ca7",
   "metadata": {
    "papermill": {
     "duration": 0.057118,
     "end_time": "2022-03-15T09:31:48.840226",
     "exception": false,
     "start_time": "2022-03-15T09:31:48.783108",
     "status": "completed"
    },
    "tags": []
   },
   "source": [
    "### Deleting all duplicate rows"
   ]
  },
  {
   "cell_type": "code",
   "execution_count": 16,
   "id": "76685a02",
   "metadata": {
    "execution": {
     "iopub.execute_input": "2022-03-15T09:31:48.958915Z",
     "iopub.status.busy": "2022-03-15T09:31:48.958298Z",
     "iopub.status.idle": "2022-03-15T09:31:49.387210Z",
     "shell.execute_reply": "2022-03-15T09:31:49.386714Z",
     "shell.execute_reply.started": "2022-03-15T08:24:31.380083Z"
    },
    "papermill": {
     "duration": 0.489945,
     "end_time": "2022-03-15T09:31:49.387356",
     "exception": false,
     "start_time": "2022-03-15T09:31:48.897411",
     "status": "completed"
    },
    "tags": []
   },
   "outputs": [],
   "source": [
    "all_news['Duplicated'] = all_news.duplicated(keep=False) # keep=False marks the duplicated row with a True\n",
    "all_news = all_news[~all_news['Duplicated']] # selects only rows which are not duplicated.\n",
    "del all_news['Duplicated']"
   ]
  },
  {
   "cell_type": "code",
   "execution_count": 17,
   "id": "f465950d",
   "metadata": {
    "execution": {
     "iopub.execute_input": "2022-03-15T09:31:49.507814Z",
     "iopub.status.busy": "2022-03-15T09:31:49.507050Z",
     "iopub.status.idle": "2022-03-15T09:31:49.509850Z",
     "shell.execute_reply": "2022-03-15T09:31:49.510306Z",
     "shell.execute_reply.started": "2022-03-15T08:24:31.829696Z"
    },
    "papermill": {
     "duration": 0.064995,
     "end_time": "2022-03-15T09:31:49.510430",
     "exception": false,
     "start_time": "2022-03-15T09:31:49.445435",
     "status": "completed"
    },
    "tags": []
   },
   "outputs": [
    {
     "data": {
      "text/plain": [
       "(45288, 2)"
      ]
     },
     "execution_count": 17,
     "metadata": {},
     "output_type": "execute_result"
    }
   ],
   "source": [
    "all_news.shape"
   ]
  },
  {
   "cell_type": "markdown",
   "id": "eef1d4f4",
   "metadata": {
    "papermill": {
     "duration": 0.059551,
     "end_time": "2022-03-15T09:31:49.628270",
     "exception": false,
     "start_time": "2022-03-15T09:31:49.568719",
     "status": "completed"
    },
    "tags": []
   },
   "source": [
    "### Data Vizualization"
   ]
  },
  {
   "cell_type": "code",
   "execution_count": 18,
   "id": "2662e89c",
   "metadata": {
    "execution": {
     "iopub.execute_input": "2022-03-15T09:31:49.747822Z",
     "iopub.status.busy": "2022-03-15T09:31:49.747047Z",
     "iopub.status.idle": "2022-03-15T09:31:49.749465Z",
     "shell.execute_reply": "2022-03-15T09:31:49.749005Z",
     "shell.execute_reply.started": "2022-03-15T08:24:31.838430Z"
    },
    "papermill": {
     "duration": 0.063615,
     "end_time": "2022-03-15T09:31:49.749570",
     "exception": false,
     "start_time": "2022-03-15T09:31:49.685955",
     "status": "completed"
    },
    "tags": []
   },
   "outputs": [],
   "source": [
    "# plt.figure(figsize = (20,20)) # Text that is not Fake\n",
    "# wc = WordCloud(max_words = 2000 , width = 1600 , height = 800 , stopwords = STOPWORDS).generate(\" \".join(all_news[all_news.category == 1].text))\n",
    "# plt.title(\"Word Cloud for real news articles\")\n",
    "# plt.imshow(wc , interpolation = 'bilinear')\n",
    "# plt.axis(\"off\");\n",
    "# plt.savefig('word_cloud_real.png')"
   ]
  },
  {
   "cell_type": "code",
   "execution_count": 19,
   "id": "80a8a980",
   "metadata": {
    "execution": {
     "iopub.execute_input": "2022-03-15T09:31:49.872064Z",
     "iopub.status.busy": "2022-03-15T09:31:49.871325Z",
     "iopub.status.idle": "2022-03-15T09:31:49.873656Z",
     "shell.execute_reply": "2022-03-15T09:31:49.873232Z",
     "shell.execute_reply.started": "2022-03-15T08:24:31.847828Z"
    },
    "papermill": {
     "duration": 0.063143,
     "end_time": "2022-03-15T09:31:49.873753",
     "exception": false,
     "start_time": "2022-03-15T09:31:49.810610",
     "status": "completed"
    },
    "tags": []
   },
   "outputs": [],
   "source": [
    "# plt.figure(figsize = (20,20)) # Text that is Fake\n",
    "# wc = WordCloud(max_words = 2000 , width = 1600 , height = 800 , stopwords = STOPWORDS).generate(\" \".join(all_news[all_news.category == 0].text))\n",
    "# plt.title(\"Word Cloud for fake news articles\")\n",
    "# plt.imshow(wc , interpolation = 'bilinear')\n",
    "# plt.axis(\"off\");\n",
    "# plt.savefig('word_cloud_fake.png')"
   ]
  },
  {
   "cell_type": "code",
   "execution_count": 20,
   "id": "9b15931d",
   "metadata": {
    "execution": {
     "iopub.execute_input": "2022-03-15T09:31:49.996221Z",
     "iopub.status.busy": "2022-03-15T09:31:49.995590Z",
     "iopub.status.idle": "2022-03-15T09:31:49.998249Z",
     "shell.execute_reply": "2022-03-15T09:31:49.997722Z",
     "shell.execute_reply.started": "2022-03-15T08:24:31.855555Z"
    },
    "papermill": {
     "duration": 0.066808,
     "end_time": "2022-03-15T09:31:49.998355",
     "exception": false,
     "start_time": "2022-03-15T09:31:49.931547",
     "status": "completed"
    },
    "tags": []
   },
   "outputs": [],
   "source": [
    "# fake_lengths = [len(i) for i in all_news[all_news['category']==0].text.str.split()]\n",
    "# # clipping values above 2k\n",
    "# fake_lengths = [i for i in fake_lengths if i < 2000]\n",
    "# real_lengths = [len(i) for i in all_news[all_news['category']==1].text.str.split()]\n",
    "# # clipping values above 2k\n",
    "# real_lengths = [i for i in real_lengths if i < 2000]\n",
    "\n",
    "# fig,(ax1,ax2)=plt.subplots(1,2,figsize=(12,8))\n",
    "# ax1.hist(fake_lengths, bins=20, color='r')\n",
    "# ax1.set_title('Number of words in fake news articles')\n",
    "# ax2.hist(real_lengths, bins=20, color='g')\n",
    "# ax2.set_title('Number of words in real news articles');"
   ]
  },
  {
   "cell_type": "code",
   "execution_count": 21,
   "id": "84720d7d",
   "metadata": {
    "execution": {
     "iopub.execute_input": "2022-03-15T09:31:50.154703Z",
     "iopub.status.busy": "2022-03-15T09:31:50.128951Z",
     "iopub.status.idle": "2022-03-15T09:31:53.148049Z",
     "shell.execute_reply": "2022-03-15T09:31:53.147567Z",
     "shell.execute_reply.started": "2022-03-15T08:24:31.864020Z"
    },
    "papermill": {
     "duration": 3.091669,
     "end_time": "2022-03-15T09:31:53.148204",
     "exception": false,
     "start_time": "2022-03-15T09:31:50.056535",
     "status": "completed"
    },
    "tags": []
   },
   "outputs": [],
   "source": [
    "def get_corpus(text):\n",
    "    words = []\n",
    "    for i in text:\n",
    "        for j in i.split():\n",
    "            words.append(j.strip())\n",
    "    return words\n",
    "corpus = get_corpus(all_news.text)"
   ]
  },
  {
   "cell_type": "code",
   "execution_count": 22,
   "id": "901099d7",
   "metadata": {
    "execution": {
     "iopub.execute_input": "2022-03-15T09:31:53.269875Z",
     "iopub.status.busy": "2022-03-15T09:31:53.268351Z",
     "iopub.status.idle": "2022-03-15T09:31:53.270459Z",
     "shell.execute_reply": "2022-03-15T09:31:53.270863Z",
     "shell.execute_reply.started": "2022-03-15T08:24:34.695700Z"
    },
    "papermill": {
     "duration": 0.063654,
     "end_time": "2022-03-15T09:31:53.270986",
     "exception": false,
     "start_time": "2022-03-15T09:31:53.207332",
     "status": "completed"
    },
    "tags": []
   },
   "outputs": [],
   "source": [
    "# import cufflinks as cf\n",
    "# cf.go_offline()\n",
    "# cf.set_config_file(offline=False, world_readable=True)\n",
    "\n",
    "# def get_top_n_words(corpus, n=None, g=1):\n",
    "#     vec = CountVectorizer(ngram_range=(g, g)).fit(corpus)\n",
    "#     bag_of_words = vec.transform(corpus)\n",
    "#     sum_words = bag_of_words.sum(axis=0) \n",
    "#     words_freq = [(word, sum_words[0, idx]) for word, idx in vec.vocabulary_.items()]\n",
    "#     words_freq = sorted(words_freq, key = lambda x: x[1], reverse=True)\n",
    "#     return words_freq[:n]"
   ]
  },
  {
   "cell_type": "code",
   "execution_count": 23,
   "id": "5cc1ef1e",
   "metadata": {
    "execution": {
     "iopub.execute_input": "2022-03-15T09:31:53.390556Z",
     "iopub.status.busy": "2022-03-15T09:31:53.390003Z",
     "iopub.status.idle": "2022-03-15T09:31:53.392962Z",
     "shell.execute_reply": "2022-03-15T09:31:53.392577Z",
     "shell.execute_reply.started": "2022-03-15T08:24:34.702076Z"
    },
    "papermill": {
     "duration": 0.063852,
     "end_time": "2022-03-15T09:31:53.393083",
     "exception": false,
     "start_time": "2022-03-15T09:31:53.329231",
     "status": "completed"
    },
    "tags": []
   },
   "outputs": [],
   "source": [
    "# # display top 10 words used in fake articles\n",
    "# plt.figure(figsize = (16,9))\n",
    "# most_common_uni = get_top_n_words(all_news[all_news['category']==1]['text'],10,1)\n",
    "# most_common_uni = dict(most_common_uni)\n",
    "# sns.barplot(x=list(most_common_uni.values()),y=list(most_common_uni.keys()))\n",
    "# plt.title('Top 10 Unigrams for fake articles');"
   ]
  },
  {
   "cell_type": "code",
   "execution_count": 24,
   "id": "35a45ad8",
   "metadata": {
    "execution": {
     "iopub.execute_input": "2022-03-15T09:31:53.512439Z",
     "iopub.status.busy": "2022-03-15T09:31:53.511791Z",
     "iopub.status.idle": "2022-03-15T09:31:53.514338Z",
     "shell.execute_reply": "2022-03-15T09:31:53.513917Z",
     "shell.execute_reply.started": "2022-03-15T08:24:34.714923Z"
    },
    "papermill": {
     "duration": 0.063428,
     "end_time": "2022-03-15T09:31:53.514448",
     "exception": false,
     "start_time": "2022-03-15T09:31:53.451020",
     "status": "completed"
    },
    "tags": []
   },
   "outputs": [],
   "source": [
    "# # display top 10 words used in real articles\n",
    "# plt.figure(figsize = (16,9))\n",
    "# most_common_uni = get_top_n_words(all_news[all_news['category']==0]['text'],10,1)\n",
    "# most_common_uni = dict(most_common_uni)\n",
    "# sns.barplot(x=list(most_common_uni.values()),y=list(most_common_uni.keys()))\n",
    "# plt.title('Top 10 Unigrams for real articles');"
   ]
  },
  {
   "cell_type": "code",
   "execution_count": 25,
   "id": "16a859fe",
   "metadata": {
    "execution": {
     "iopub.execute_input": "2022-03-15T09:31:53.635875Z",
     "iopub.status.busy": "2022-03-15T09:31:53.635157Z",
     "iopub.status.idle": "2022-03-15T09:31:53.637780Z",
     "shell.execute_reply": "2022-03-15T09:31:53.637339Z",
     "shell.execute_reply.started": "2022-03-15T08:24:34.731747Z"
    },
    "papermill": {
     "duration": 0.064665,
     "end_time": "2022-03-15T09:31:53.637885",
     "exception": false,
     "start_time": "2022-03-15T09:31:53.573220",
     "status": "completed"
    },
    "tags": []
   },
   "outputs": [],
   "source": [
    "# # display top 10 bigrams used in fake articles\n",
    "# plt.figure(figsize = (16,9))\n",
    "# most_common_uni = get_top_n_words(all_news[all_news['category']==1]['text'],10,2)\n",
    "# most_common_uni = dict(most_common_uni)\n",
    "# sns.barplot(x=list(most_common_uni.values()),y=list(most_common_uni.keys()))\n",
    "# plt.title('Top 10 Bigrams for fake articles');"
   ]
  },
  {
   "cell_type": "code",
   "execution_count": 26,
   "id": "50a05fe7",
   "metadata": {
    "execution": {
     "iopub.execute_input": "2022-03-15T09:31:53.757376Z",
     "iopub.status.busy": "2022-03-15T09:31:53.756627Z",
     "iopub.status.idle": "2022-03-15T09:31:53.758970Z",
     "shell.execute_reply": "2022-03-15T09:31:53.758583Z",
     "shell.execute_reply.started": "2022-03-15T08:24:34.745843Z"
    },
    "papermill": {
     "duration": 0.063205,
     "end_time": "2022-03-15T09:31:53.759081",
     "exception": false,
     "start_time": "2022-03-15T09:31:53.695876",
     "status": "completed"
    },
    "tags": []
   },
   "outputs": [],
   "source": [
    "# # display top 10 bigrams used in real articles\n",
    "# plt.figure(figsize = (16,9))\n",
    "# most_common_uni = get_top_n_words(all_news[all_news['category']==0]['text'],10,2)\n",
    "# most_common_uni = dict(most_common_uni)\n",
    "# sns.barplot(x=list(most_common_uni.values()),y=list(most_common_uni.keys()))\n",
    "# plt.title('Top 10 Bigrams for real articles');"
   ]
  },
  {
   "cell_type": "code",
   "execution_count": 27,
   "id": "9c22a42f",
   "metadata": {
    "execution": {
     "iopub.execute_input": "2022-03-15T09:31:53.881496Z",
     "iopub.status.busy": "2022-03-15T09:31:53.880695Z",
     "iopub.status.idle": "2022-03-15T09:31:53.883114Z",
     "shell.execute_reply": "2022-03-15T09:31:53.882678Z",
     "shell.execute_reply.started": "2022-03-15T08:24:34.965860Z"
    },
    "papermill": {
     "duration": 0.066427,
     "end_time": "2022-03-15T09:31:53.883244",
     "exception": false,
     "start_time": "2022-03-15T09:31:53.816817",
     "status": "completed"
    },
    "tags": []
   },
   "outputs": [],
   "source": [
    "# # display top 10 trigrams used in fake articles\n",
    "# plt.figure(figsize = (16,9))\n",
    "# most_common_uni = get_top_n_words(all_news[all_news['category']==1]['text'],10,3)\n",
    "# most_common_uni = dict(most_common_uni)\n",
    "# sns.barplot(x=list(most_common_uni.values()),y=list(most_common_uni.keys()))\n",
    "# plt.title('Top 10 Trigrams for fake articles');"
   ]
  },
  {
   "cell_type": "code",
   "execution_count": 28,
   "id": "e096f904",
   "metadata": {
    "execution": {
     "iopub.execute_input": "2022-03-15T09:31:54.004867Z",
     "iopub.status.busy": "2022-03-15T09:31:54.004065Z",
     "iopub.status.idle": "2022-03-15T09:31:54.007630Z",
     "shell.execute_reply": "2022-03-15T09:31:54.007220Z",
     "shell.execute_reply.started": "2022-03-15T08:24:34.972601Z"
    },
    "papermill": {
     "duration": 0.065372,
     "end_time": "2022-03-15T09:31:54.007731",
     "exception": false,
     "start_time": "2022-03-15T09:31:53.942359",
     "status": "completed"
    },
    "tags": []
   },
   "outputs": [],
   "source": [
    "# # display top 10 trigrams used in real articles\n",
    "# plt.figure(figsize = (16,9))\n",
    "# most_common_uni = get_top_n_words(all_news[all_news['category']==0]['text'],10,3)\n",
    "# most_common_uni = dict(most_common_uni)\n",
    "# sns.barplot(x=list(most_common_uni.values()),y=list(most_common_uni.keys()))\n",
    "# plt.title('Top 10 Trigrams for real articles');\n"
   ]
  },
  {
   "cell_type": "code",
   "execution_count": 29,
   "id": "b111c80a",
   "metadata": {
    "execution": {
     "iopub.execute_input": "2022-03-15T09:31:54.132480Z",
     "iopub.status.busy": "2022-03-15T09:31:54.131729Z",
     "iopub.status.idle": "2022-03-15T09:31:54.141836Z",
     "shell.execute_reply": "2022-03-15T09:31:54.141382Z",
     "shell.execute_reply.started": "2022-03-15T08:24:34.983465Z"
    },
    "papermill": {
     "duration": 0.074324,
     "end_time": "2022-03-15T09:31:54.141933",
     "exception": false,
     "start_time": "2022-03-15T09:31:54.067609",
     "status": "completed"
    },
    "tags": []
   },
   "outputs": [],
   "source": [
    "x_train,x_test,y_train,y_test = train_test_split(all_news.text,all_news.category, test_size = 0.25, random_state = 27)"
   ]
  },
  {
   "cell_type": "code",
   "execution_count": 30,
   "id": "c833d135",
   "metadata": {
    "execution": {
     "iopub.execute_input": "2022-03-15T09:31:54.265482Z",
     "iopub.status.busy": "2022-03-15T09:31:54.263777Z",
     "iopub.status.idle": "2022-03-15T09:31:54.267803Z",
     "shell.execute_reply": "2022-03-15T09:31:54.267365Z",
     "shell.execute_reply.started": "2022-03-15T08:24:35.001729Z"
    },
    "papermill": {
     "duration": 0.066498,
     "end_time": "2022-03-15T09:31:54.267905",
     "exception": false,
     "start_time": "2022-03-15T09:31:54.201407",
     "status": "completed"
    },
    "tags": []
   },
   "outputs": [],
   "source": [
    "# def normalize(data):\n",
    "#     normalized = []\n",
    "#     for i in data:\n",
    "#         # get rid of non words and extra spaces\n",
    "#         i = re.sub('\\\\W', ' ', i)\n",
    "#         i = re.sub('\\n', '', i)\n",
    "#         i = re.sub(' +', ' ', i)\n",
    "#         i = re.sub('^ ', '', i)\n",
    "#         i = re.sub(' $', '', i)\n",
    "#         normalized.append(i)\n",
    "#     return normalized\n",
    "\n",
    "# x_train = np.array(normalize(x_train))\n",
    "# x_test = np.array(normalize(x_test))"
   ]
  },
  {
   "cell_type": "code",
   "execution_count": 31,
   "id": "cec6a85d",
   "metadata": {
    "execution": {
     "iopub.execute_input": "2022-03-15T09:31:54.395957Z",
     "iopub.status.busy": "2022-03-15T09:31:54.395151Z",
     "iopub.status.idle": "2022-03-15T09:31:54.398222Z",
     "shell.execute_reply": "2022-03-15T09:31:54.398632Z",
     "shell.execute_reply.started": "2022-03-15T08:24:35.007837Z"
    },
    "papermill": {
     "duration": 0.071319,
     "end_time": "2022-03-15T09:31:54.398742",
     "exception": false,
     "start_time": "2022-03-15T09:31:54.327423",
     "status": "completed"
    },
    "tags": []
   },
   "outputs": [
    {
     "name": "stdout",
     "output_type": "stream",
     "text": [
      "(33966,)\n",
      "(11322,)\n"
     ]
    }
   ],
   "source": [
    "print(x_train.shape)\n",
    "#print(x_val.shape)\n",
    "print(x_test.shape)"
   ]
  },
  {
   "cell_type": "code",
   "execution_count": 32,
   "id": "45c5292b",
   "metadata": {
    "execution": {
     "iopub.execute_input": "2022-03-15T09:31:54.518650Z",
     "iopub.status.busy": "2022-03-15T09:31:54.516555Z",
     "iopub.status.idle": "2022-03-15T09:31:54.524960Z",
     "shell.execute_reply": "2022-03-15T09:31:54.524567Z",
     "shell.execute_reply.started": "2022-03-15T08:24:35.016926Z"
    },
    "papermill": {
     "duration": 0.068528,
     "end_time": "2022-03-15T09:31:54.525060",
     "exception": false,
     "start_time": "2022-03-15T09:31:54.456532",
     "status": "completed"
    },
    "tags": []
   },
   "outputs": [
    {
     "name": "stdout",
     "output_type": "stream",
     "text": [
      "Train Set Real articles: 15886 , Fake articles: 18080\n",
      "Test Set Real articles: 5278 , Fake articles: 6044\n"
     ]
    }
   ],
   "source": [
    "print(f\"Train Set Real articles: {len(y_train[y_train == 0])} , Fake articles: {len(y_train[y_train == 1])}\")\n",
    "#print(f\"Validation Set Real articles: {len(y_val[y_val == 0])} , Fake articles: {len(y_val[y_val == 1])}\")\n",
    "print(f\"Test Set Real articles: {len(y_test[y_test == 0])} , Fake articles: {len(y_test[y_test == 1])}\")"
   ]
  },
  {
   "cell_type": "markdown",
   "id": "6a8f8485",
   "metadata": {
    "papermill": {
     "duration": 0.058066,
     "end_time": "2022-03-15T09:31:54.641755",
     "exception": false,
     "start_time": "2022-03-15T09:31:54.583689",
     "status": "completed"
    },
    "tags": []
   },
   "source": [
    "### Glove Embeddings"
   ]
  },
  {
   "cell_type": "code",
   "execution_count": 33,
   "id": "17b6c2c8",
   "metadata": {
    "execution": {
     "iopub.execute_input": "2022-03-15T09:31:54.761711Z",
     "iopub.status.busy": "2022-03-15T09:31:54.760971Z",
     "iopub.status.idle": "2022-03-15T09:31:54.762941Z",
     "shell.execute_reply": "2022-03-15T09:31:54.763326Z",
     "shell.execute_reply.started": "2022-03-15T08:24:35.030597Z"
    },
    "papermill": {
     "duration": 0.063239,
     "end_time": "2022-03-15T09:31:54.763445",
     "exception": false,
     "start_time": "2022-03-15T09:31:54.700206",
     "status": "completed"
    },
    "tags": []
   },
   "outputs": [],
   "source": [
    "# import scipy.stats as st\n",
    "\n",
    "# print(st.t.interval(0.95, len(fake_lengths)-1, loc=np.mean(fake_lengths), scale=st.sem(fake_lengths)))\n",
    "# print(st.t.interval(0.95, len(real_lengths)-1, loc=np.mean(real_lengths), scale=st.sem(real_lengths)))"
   ]
  },
  {
   "cell_type": "code",
   "execution_count": 34,
   "id": "ef4c6153",
   "metadata": {
    "execution": {
     "iopub.execute_input": "2022-03-15T09:31:54.884130Z",
     "iopub.status.busy": "2022-03-15T09:31:54.883437Z",
     "iopub.status.idle": "2022-03-15T09:31:54.885898Z",
     "shell.execute_reply": "2022-03-15T09:31:54.885508Z",
     "shell.execute_reply.started": "2022-03-15T08:24:35.036168Z"
    },
    "papermill": {
     "duration": 0.064259,
     "end_time": "2022-03-15T09:31:54.885998",
     "exception": false,
     "start_time": "2022-03-15T09:31:54.821739",
     "status": "completed"
    },
    "tags": []
   },
   "outputs": [],
   "source": [
    "max_features = 10000\n",
    "maxlen = 300"
   ]
  },
  {
   "cell_type": "code",
   "execution_count": 35,
   "id": "23bb55b5",
   "metadata": {
    "execution": {
     "iopub.execute_input": "2022-03-15T09:31:55.025675Z",
     "iopub.status.busy": "2022-03-15T09:31:55.020227Z",
     "iopub.status.idle": "2022-03-15T09:32:18.894117Z",
     "shell.execute_reply": "2022-03-15T09:32:18.893644Z",
     "shell.execute_reply.started": "2022-03-15T08:24:35.047415Z"
    },
    "papermill": {
     "duration": 23.94972,
     "end_time": "2022-03-15T09:32:18.894282",
     "exception": false,
     "start_time": "2022-03-15T09:31:54.944562",
     "status": "completed"
    },
    "tags": []
   },
   "outputs": [],
   "source": [
    "tokenizer = text.Tokenizer(num_words=max_features) #, oov_token='<oov>')\n",
    "tokenizer.fit_on_texts(x_train)\n",
    "\n",
    "tokenized_train = tokenizer.texts_to_sequences(x_train)\n",
    "x_train = sequence.pad_sequences(tokenized_train, maxlen=maxlen, padding='post', truncating='post')"
   ]
  },
  {
   "cell_type": "code",
   "execution_count": 36,
   "id": "e1f5717b",
   "metadata": {
    "execution": {
     "iopub.execute_input": "2022-03-15T09:32:19.025025Z",
     "iopub.status.busy": "2022-03-15T09:32:19.024262Z",
     "iopub.status.idle": "2022-03-15T09:32:22.562958Z",
     "shell.execute_reply": "2022-03-15T09:32:22.562478Z",
     "shell.execute_reply.started": "2022-03-15T08:25:00.782450Z"
    },
    "papermill": {
     "duration": 3.610014,
     "end_time": "2022-03-15T09:32:22.563098",
     "exception": false,
     "start_time": "2022-03-15T09:32:18.953084",
     "status": "completed"
    },
    "tags": []
   },
   "outputs": [],
   "source": [
    "tokenized_test = tokenizer.texts_to_sequences(x_test)\n",
    "x_test = sequence.pad_sequences(tokenized_test, maxlen=maxlen, padding='post', truncating='post')"
   ]
  },
  {
   "cell_type": "code",
   "execution_count": 37,
   "id": "e4be66c4",
   "metadata": {
    "execution": {
     "iopub.execute_input": "2022-03-15T09:32:22.687500Z",
     "iopub.status.busy": "2022-03-15T09:32:22.686728Z",
     "iopub.status.idle": "2022-03-15T09:32:22.689228Z",
     "shell.execute_reply": "2022-03-15T09:32:22.688702Z",
     "shell.execute_reply.started": "2022-03-15T08:25:04.747583Z"
    },
    "papermill": {
     "duration": 0.064135,
     "end_time": "2022-03-15T09:32:22.689340",
     "exception": false,
     "start_time": "2022-03-15T09:32:22.625205",
     "status": "completed"
    },
    "tags": []
   },
   "outputs": [],
   "source": [
    "EMBEDDING_FILE = \"../input/glove-twitter/glove.twitter.27B.100d.txt\""
   ]
  },
  {
   "cell_type": "code",
   "execution_count": 38,
   "id": "2345a82b",
   "metadata": {
    "execution": {
     "iopub.execute_input": "2022-03-15T09:32:22.812603Z",
     "iopub.status.busy": "2022-03-15T09:32:22.811997Z",
     "iopub.status.idle": "2022-03-15T09:33:03.490309Z",
     "shell.execute_reply": "2022-03-15T09:33:03.489266Z",
     "shell.execute_reply.started": "2022-03-15T08:25:04.753746Z"
    },
    "papermill": {
     "duration": 40.741934,
     "end_time": "2022-03-15T09:33:03.490464",
     "exception": false,
     "start_time": "2022-03-15T09:32:22.748530",
     "status": "completed"
    },
    "tags": []
   },
   "outputs": [
    {
     "name": "stderr",
     "output_type": "stream",
     "text": [
      "/opt/conda/lib/python3.7/site-packages/IPython/core/interactiveshell.py:3377: FutureWarning: arrays to stack must be passed as a \"sequence\" type such as list or tuple. Support for non-sequence iterables such as generators is deprecated as of NumPy 1.16 and will raise an error in the future.\n",
      "  if (await self.run_code(code, result,  async_=asy)):\n"
     ]
    }
   ],
   "source": [
    "def get_coefs(word, *arr): \n",
    "    return word, np.asarray(arr, dtype='float32')\n",
    "embeddings_index = dict(get_coefs(*o.rstrip().rsplit(' ')) for o in open(EMBEDDING_FILE))\n",
    "all_embs = np.stack(embeddings_index.values())\n",
    "emb_mean,emb_std = all_embs.mean(), all_embs.std()\n",
    "embed_size = all_embs.shape[1]"
   ]
  },
  {
   "cell_type": "code",
   "execution_count": 39,
   "id": "46f72e92",
   "metadata": {
    "execution": {
     "iopub.execute_input": "2022-03-15T09:33:03.624118Z",
     "iopub.status.busy": "2022-03-15T09:33:03.623374Z",
     "iopub.status.idle": "2022-03-15T09:33:03.707168Z",
     "shell.execute_reply": "2022-03-15T09:33:03.706733Z",
     "shell.execute_reply.started": "2022-03-15T08:25:45.182096Z"
    },
    "papermill": {
     "duration": 0.153447,
     "end_time": "2022-03-15T09:33:03.707315",
     "exception": false,
     "start_time": "2022-03-15T09:33:03.553868",
     "status": "completed"
    },
    "tags": []
   },
   "outputs": [],
   "source": [
    "word_index = tokenizer.word_index\n",
    "nb_words = min(max_features, len(word_index))\n",
    "#change below line if computing normal stats is too slow\n",
    "embedding_matrix = embedding_matrix = np.random.normal(emb_mean, emb_std, (nb_words, embed_size))\n",
    "for word, i in word_index.items():\n",
    "    if i >= max_features: continue\n",
    "    embedding_vector = embeddings_index.get(word)\n",
    "    if embedding_vector is not None: embedding_matrix[i] = embedding_vector"
   ]
  },
  {
   "cell_type": "code",
   "execution_count": 40,
   "id": "c83ac67e",
   "metadata": {
    "execution": {
     "iopub.execute_input": "2022-03-15T09:33:03.834606Z",
     "iopub.status.busy": "2022-03-15T09:33:03.833813Z",
     "iopub.status.idle": "2022-03-15T09:33:03.835816Z",
     "shell.execute_reply": "2022-03-15T09:33:03.836233Z",
     "shell.execute_reply.started": "2022-03-15T08:25:45.269669Z"
    },
    "papermill": {
     "duration": 0.067049,
     "end_time": "2022-03-15T09:33:03.836349",
     "exception": false,
     "start_time": "2022-03-15T09:33:03.769300",
     "status": "completed"
    },
    "tags": []
   },
   "outputs": [],
   "source": [
    "# Word 2 Vec\n",
    "#w2v_model = gensim.models.Word2Vec(sentences=X, size=EMBEDDING_DIM, window=5, min_count=1)\n",
    "# def get_weight_matrix(model, vocab):\n",
    "#     # total vocabulary size plus 0 for unknown words\n",
    "#     vocab_size = len(vocab) + 1\n",
    "#     # define weight matrix dimensions with all 0\n",
    "#     weight_matrix = np.zeros((vocab_size, EMBEDDING_DIM))\n",
    "#     # step vocab, store vectors using the Tokenizer's integer mapping\n",
    "#     for word, i in vocab.items():\n",
    "#         weight_matrix[i] = model[word]\n",
    "#     return weight_matrix\n",
    "# embedding_vectors = get_weight_matrix(w2v_model, word_index)"
   ]
  },
  {
   "cell_type": "code",
   "execution_count": 41,
   "id": "00d74e03",
   "metadata": {
    "execution": {
     "iopub.execute_input": "2022-03-15T09:33:03.966722Z",
     "iopub.status.busy": "2022-03-15T09:33:03.965066Z",
     "iopub.status.idle": "2022-03-15T09:33:03.967442Z",
     "shell.execute_reply": "2022-03-15T09:33:03.967920Z",
     "shell.execute_reply.started": "2022-03-15T08:25:45.276880Z"
    },
    "papermill": {
     "duration": 0.069007,
     "end_time": "2022-03-15T09:33:03.968055",
     "exception": false,
     "start_time": "2022-03-15T09:33:03.899048",
     "status": "completed"
    },
    "tags": []
   },
   "outputs": [],
   "source": [
    "# Model Hyperparameters\n",
    "BATCH_SIZE = 256\n",
    "EPOCHS = 10\n",
    "EMBED_SIZE = 100"
   ]
  },
  {
   "cell_type": "markdown",
   "id": "b8e44331",
   "metadata": {
    "papermill": {
     "duration": 0.058684,
     "end_time": "2022-03-15T09:33:04.085781",
     "exception": false,
     "start_time": "2022-03-15T09:33:04.027097",
     "status": "completed"
    },
    "tags": []
   },
   "source": [
    "### Training"
   ]
  },
  {
   "cell_type": "code",
   "execution_count": 42,
   "id": "26b4fe9d",
   "metadata": {
    "execution": {
     "iopub.execute_input": "2022-03-15T09:33:04.209437Z",
     "iopub.status.busy": "2022-03-15T09:33:04.208709Z",
     "iopub.status.idle": "2022-03-15T09:33:04.211066Z",
     "shell.execute_reply": "2022-03-15T09:33:04.210681Z",
     "shell.execute_reply.started": "2022-03-15T08:25:45.284600Z"
    },
    "papermill": {
     "duration": 0.066702,
     "end_time": "2022-03-15T09:33:04.211167",
     "exception": false,
     "start_time": "2022-03-15T09:33:04.144465",
     "status": "completed"
    },
    "tags": []
   },
   "outputs": [],
   "source": [
    "stopping_callback = tf.keras.callbacks.EarlyStopping(\n",
    "    monitor='val_loss', patience=5, verbose=0,\n",
    "    mode='min', restore_best_weights=True\n",
    ")\n",
    "\n",
    "plateau_callback = tf.keras.callbacks.ReduceLROnPlateau(\n",
    "    monitor=\"val_loss\",\n",
    "    factor=0.2,\n",
    "    patience=2,\n",
    "    verbose=0,\n",
    "    mode=\"auto\",\n",
    "    min_delta=0.0001,\n",
    "    cooldown=0,\n",
    "    min_lr=1e-8,\n",
    ")\n",
    "\n",
    "def scheduler(epoch, lr):\n",
    "    if epoch < 10:\n",
    "        return lr\n",
    "    else:\n",
    "        return lr * tf.math.exp(-0.1)\n",
    "decay_callback = tf.keras.callbacks.LearningRateScheduler(scheduler)"
   ]
  },
  {
   "cell_type": "code",
   "execution_count": 43,
   "id": "6320005c",
   "metadata": {
    "execution": {
     "iopub.execute_input": "2022-03-15T09:33:04.332834Z",
     "iopub.status.busy": "2022-03-15T09:33:04.332154Z",
     "iopub.status.idle": "2022-03-15T09:33:06.906116Z",
     "shell.execute_reply": "2022-03-15T09:33:06.905684Z",
     "shell.execute_reply.started": "2022-03-15T08:25:45.294584Z"
    },
    "papermill": {
     "duration": 2.636698,
     "end_time": "2022-03-15T09:33:06.906274",
     "exception": false,
     "start_time": "2022-03-15T09:33:04.269576",
     "status": "completed"
    },
    "tags": []
   },
   "outputs": [
    {
     "name": "stderr",
     "output_type": "stream",
     "text": [
      "2022-03-15 09:33:04.426350: I tensorflow/stream_executor/cuda/cuda_gpu_executor.cc:937] successful NUMA node read from SysFS had negative value (-1), but there must be at least one NUMA node, so returning NUMA node zero\n",
      "2022-03-15 09:33:04.511095: I tensorflow/stream_executor/cuda/cuda_gpu_executor.cc:937] successful NUMA node read from SysFS had negative value (-1), but there must be at least one NUMA node, so returning NUMA node zero\n",
      "2022-03-15 09:33:04.511901: I tensorflow/stream_executor/cuda/cuda_gpu_executor.cc:937] successful NUMA node read from SysFS had negative value (-1), but there must be at least one NUMA node, so returning NUMA node zero\n",
      "2022-03-15 09:33:04.513088: I tensorflow/core/platform/cpu_feature_guard.cc:142] This TensorFlow binary is optimized with oneAPI Deep Neural Network Library (oneDNN) to use the following CPU instructions in performance-critical operations:  AVX2 AVX512F FMA\n",
      "To enable them in other operations, rebuild TensorFlow with the appropriate compiler flags.\n",
      "2022-03-15 09:33:04.514233: I tensorflow/stream_executor/cuda/cuda_gpu_executor.cc:937] successful NUMA node read from SysFS had negative value (-1), but there must be at least one NUMA node, so returning NUMA node zero\n",
      "2022-03-15 09:33:04.515003: I tensorflow/stream_executor/cuda/cuda_gpu_executor.cc:937] successful NUMA node read from SysFS had negative value (-1), but there must be at least one NUMA node, so returning NUMA node zero\n",
      "2022-03-15 09:33:04.515732: I tensorflow/stream_executor/cuda/cuda_gpu_executor.cc:937] successful NUMA node read from SysFS had negative value (-1), but there must be at least one NUMA node, so returning NUMA node zero\n",
      "2022-03-15 09:33:06.328079: I tensorflow/stream_executor/cuda/cuda_gpu_executor.cc:937] successful NUMA node read from SysFS had negative value (-1), but there must be at least one NUMA node, so returning NUMA node zero\n",
      "2022-03-15 09:33:06.329014: I tensorflow/stream_executor/cuda/cuda_gpu_executor.cc:937] successful NUMA node read from SysFS had negative value (-1), but there must be at least one NUMA node, so returning NUMA node zero\n",
      "2022-03-15 09:33:06.329746: I tensorflow/stream_executor/cuda/cuda_gpu_executor.cc:937] successful NUMA node read from SysFS had negative value (-1), but there must be at least one NUMA node, so returning NUMA node zero\n",
      "2022-03-15 09:33:06.330450: I tensorflow/core/common_runtime/gpu/gpu_device.cc:1510] Created device /job:localhost/replica:0/task:0/device:GPU:0 with 15403 MB memory:  -> device: 0, name: Tesla P100-PCIE-16GB, pci bus id: 0000:00:04.0, compute capability: 6.0\n"
     ]
    }
   ],
   "source": [
    "clear_session()\n",
    "model = Sequential([\n",
    "                    Embedding(max_features, EMBED_SIZE, weights=[embedding_matrix], trainable=False, input_length=maxlen),\n",
    "                    LSTM(128),#, return_sequences=True, recurrent_dropout = 0.25, dropout=0.25),\n",
    "                    #LSTM(32, recurrent_dropout = 0.1, dropout=0.1),\n",
    "                    #Dense(32, activation='relu'), #kernel_regularizer = regularizers.l2(0.05)),\n",
    "                    #Dropout(0.5),\n",
    "                    Dense(1, activation='sigmoid')\n",
    "])\n",
    "\n",
    "model.compile(loss='binary_crossentropy', optimizer=tf.keras.optimizers.Adam(learning_rate=0.01), metrics=['acc'])"
   ]
  },
  {
   "cell_type": "code",
   "execution_count": 44,
   "id": "45fd21c6",
   "metadata": {
    "execution": {
     "iopub.execute_input": "2022-03-15T09:33:07.039685Z",
     "iopub.status.busy": "2022-03-15T09:33:07.035767Z",
     "iopub.status.idle": "2022-03-15T09:33:07.042646Z",
     "shell.execute_reply": "2022-03-15T09:33:07.043105Z",
     "shell.execute_reply.started": "2022-03-15T08:25:47.939860Z"
    },
    "papermill": {
     "duration": 0.077112,
     "end_time": "2022-03-15T09:33:07.043276",
     "exception": false,
     "start_time": "2022-03-15T09:33:06.966164",
     "status": "completed"
    },
    "tags": []
   },
   "outputs": [
    {
     "name": "stdout",
     "output_type": "stream",
     "text": [
      "Model: \"sequential\"\n",
      "_________________________________________________________________\n",
      "Layer (type)                 Output Shape              Param #   \n",
      "=================================================================\n",
      "embedding (Embedding)        (None, 300, 100)          1000000   \n",
      "_________________________________________________________________\n",
      "lstm (LSTM)                  (None, 128)               117248    \n",
      "_________________________________________________________________\n",
      "dense (Dense)                (None, 1)                 129       \n",
      "=================================================================\n",
      "Total params: 1,117,377\n",
      "Trainable params: 117,377\n",
      "Non-trainable params: 1,000,000\n",
      "_________________________________________________________________\n"
     ]
    }
   ],
   "source": [
    "model.summary()"
   ]
  },
  {
   "cell_type": "code",
   "execution_count": 45,
   "id": "a47f0578",
   "metadata": {
    "execution": {
     "iopub.execute_input": "2022-03-15T09:33:07.185782Z",
     "iopub.status.busy": "2022-03-15T09:33:07.184863Z",
     "iopub.status.idle": "2022-03-15T09:33:49.745980Z",
     "shell.execute_reply": "2022-03-15T09:33:49.745492Z"
    },
    "papermill": {
     "duration": 42.634871,
     "end_time": "2022-03-15T09:33:49.746115",
     "exception": false,
     "start_time": "2022-03-15T09:33:07.111244",
     "status": "completed"
    },
    "tags": []
   },
   "outputs": [
    {
     "name": "stderr",
     "output_type": "stream",
     "text": [
      "2022-03-15 09:33:07.260914: I tensorflow/compiler/mlir/mlir_graph_optimization_pass.cc:185] None of the MLIR Optimization Passes are enabled (registered 2)\n"
     ]
    },
    {
     "name": "stdout",
     "output_type": "stream",
     "text": [
      "Epoch 1/10\n"
     ]
    },
    {
     "name": "stderr",
     "output_type": "stream",
     "text": [
      "2022-03-15 09:33:09.586786: I tensorflow/stream_executor/cuda/cuda_dnn.cc:369] Loaded cuDNN version 8005\n"
     ]
    },
    {
     "name": "stdout",
     "output_type": "stream",
     "text": [
      "120/120 [==============================] - 7s 32ms/step - loss: 0.6937 - acc: 0.5336 - val_loss: 0.5980 - val_acc: 0.7669\n",
      "Epoch 2/10\n",
      "120/120 [==============================] - 3s 29ms/step - loss: 0.5093 - acc: 0.7589 - val_loss: 0.6877 - val_acc: 0.5393\n",
      "Epoch 3/10\n",
      "120/120 [==============================] - 3s 29ms/step - loss: 0.6200 - acc: 0.6307 - val_loss: 0.4721 - val_acc: 0.7633\n",
      "Epoch 4/10\n",
      "120/120 [==============================] - 3s 29ms/step - loss: 0.2131 - acc: 0.9198 - val_loss: 0.1283 - val_acc: 0.9479\n",
      "Epoch 5/10\n",
      "120/120 [==============================] - 3s 29ms/step - loss: 0.1177 - acc: 0.9549 - val_loss: 0.1100 - val_acc: 0.9535\n",
      "Epoch 6/10\n",
      "120/120 [==============================] - 3s 29ms/step - loss: 0.0954 - acc: 0.9634 - val_loss: 0.0941 - val_acc: 0.9635\n",
      "Epoch 7/10\n",
      "120/120 [==============================] - 3s 29ms/step - loss: 0.0863 - acc: 0.9664 - val_loss: 0.0918 - val_acc: 0.9635\n",
      "Epoch 8/10\n",
      "120/120 [==============================] - 3s 29ms/step - loss: 0.0735 - acc: 0.9713 - val_loss: 0.0859 - val_acc: 0.9670\n",
      "Epoch 9/10\n",
      "120/120 [==============================] - 3s 29ms/step - loss: 0.0597 - acc: 0.9781 - val_loss: 0.0816 - val_acc: 0.9667\n",
      "Epoch 10/10\n",
      "120/120 [==============================] - 3s 29ms/step - loss: 0.0514 - acc: 0.9806 - val_loss: 0.0822 - val_acc: 0.9688\n"
     ]
    }
   ],
   "source": [
    "history = model.fit(\n",
    "    x_train,\n",
    "    y_train,\n",
    "    epochs = EPOCHS,\n",
    "    batch_size = BATCH_SIZE,\n",
    "    callbacks = [plateau_callback],\n",
    "    validation_split = 0.1,\n",
    "    shuffle = True\n",
    ")"
   ]
  },
  {
   "cell_type": "markdown",
   "id": "101ad6c0",
   "metadata": {
    "papermill": {
     "duration": 0.288913,
     "end_time": "2022-03-15T09:33:50.302222",
     "exception": false,
     "start_time": "2022-03-15T09:33:50.013309",
     "status": "completed"
    },
    "tags": []
   },
   "source": [
    "### Evaluation"
   ]
  },
  {
   "cell_type": "code",
   "execution_count": 46,
   "id": "d9a60fb9",
   "metadata": {
    "execution": {
     "iopub.execute_input": "2022-03-15T09:33:50.817454Z",
     "iopub.status.busy": "2022-03-15T09:33:50.816641Z",
     "iopub.status.idle": "2022-03-15T09:33:50.846890Z",
     "shell.execute_reply": "2022-03-15T09:33:50.845973Z",
     "shell.execute_reply.started": "2022-03-15T09:25:08.484960Z"
    },
    "papermill": {
     "duration": 0.292748,
     "end_time": "2022-03-15T09:33:50.847007",
     "exception": false,
     "start_time": "2022-03-15T09:33:50.554259",
     "status": "completed"
    },
    "tags": []
   },
   "outputs": [],
   "source": [
    "model.save('LSTM.h5')"
   ]
  },
  {
   "cell_type": "code",
   "execution_count": 47,
   "id": "d32c97a9",
   "metadata": {
    "execution": {
     "iopub.execute_input": "2022-03-15T09:33:51.361355Z",
     "iopub.status.busy": "2022-03-15T09:33:51.360482Z",
     "iopub.status.idle": "2022-03-15T09:33:51.880701Z",
     "shell.execute_reply": "2022-03-15T09:33:51.881310Z",
     "shell.execute_reply.started": "2022-03-15T09:18:19.963738Z"
    },
    "papermill": {
     "duration": 0.780685,
     "end_time": "2022-03-15T09:33:51.881518",
     "exception": false,
     "start_time": "2022-03-15T09:33:51.100833",
     "status": "completed"
    },
    "tags": []
   },
   "outputs": [
    {
     "data": {
      "image/png": "[encoded data removed]",
      "text/plain": [
       "<Figure size 1440x576 with 2 Axes>"
      ]
     },
     "metadata": {
      "needs_background": "light"
     },
     "output_type": "display_data"
    }
   ],
   "source": [
    "acc = history.history['acc']\n",
    "loss = history.history['loss']\n",
    "val_acc = history.history['val_acc']\n",
    "val_loss = history.history['val_loss']\n",
    "\n",
    "fig , ax = plt.subplots(1,2)\n",
    "fig.set_size_inches(20,8)\n",
    "ax[0].plot(acc, color='b', label='Train Accuracy')\n",
    "ax[0].plot(val_acc, color='r', label='Val Accuracy')\n",
    "ax[0].set_title('Training and Validation Accuracy')\n",
    "ax[0].set_xlabel(\"Epochs\")\n",
    "ax[0].set_ylabel(\"Accuracy\")\n",
    "ax[0].set_xticks([i for i in range(EPOCHS)])\n",
    "ax[0].legend()\n",
    "\n",
    "ax[1].plot(loss, color='b', label='Train Loss')\n",
    "ax[1].plot(val_loss, color='r', label='Val Loss')\n",
    "ax[1].set_title('Training and Validation Loss')\n",
    "ax[1].set_xlabel('Epochs')\n",
    "ax[0].set_ylabel(\"Loss\")\n",
    "ax[1].set_xticks([i for i in range(EPOCHS)])\n",
    "ax[1].legend();"
   ]
  },
  {
   "cell_type": "code",
   "execution_count": 48,
   "id": "11a5127f",
   "metadata": {
    "execution": {
     "iopub.execute_input": "2022-03-15T09:33:52.860107Z",
     "iopub.status.busy": "2022-03-15T09:33:52.859310Z",
     "iopub.status.idle": "2022-03-15T09:34:02.462042Z",
     "shell.execute_reply": "2022-03-15T09:34:02.462711Z",
     "shell.execute_reply.started": "2022-03-15T09:18:20.397417Z"
    },
    "papermill": {
     "duration": 10.022643,
     "end_time": "2022-03-15T09:34:02.462909",
     "exception": false,
     "start_time": "2022-03-15T09:33:52.440266",
     "status": "completed"
    },
    "tags": []
   },
   "outputs": [
    {
     "name": "stdout",
     "output_type": "stream",
     "text": [
      "1062/1062 [==============================] - 7s 7ms/step - loss: 0.0454 - acc: 0.9833\n",
      "Accuracy of the model on Training Data is -  98.33362698554993 %\n",
      "354/354 [==============================] - 2s 7ms/step - loss: 0.0908 - acc: 0.9662\n",
      "Accuracy of the model on Test Data is -  96.61720395088196 %\n"
     ]
    }
   ],
   "source": [
    "print(\"Accuracy of the model on Training Data is - \" , model.evaluate(x_train,y_train)[1]*100 , \"%\")\n",
    "#print(\"Accuracy of the model on Validation Data is - \" , model.evaluate(x_val,y_val)[1]*100 , \"%\")\n",
    "print(\"Accuracy of the model on Test Data is - \" , model.evaluate(x_test,y_test)[1]*100 , \"%\")"
   ]
  },
  {
   "cell_type": "code",
   "execution_count": 49,
   "id": "594da59d",
   "metadata": {
    "execution": {
     "iopub.execute_input": "2022-03-15T09:34:03.353122Z",
     "iopub.status.busy": "2022-03-15T09:34:03.352205Z",
     "iopub.status.idle": "2022-03-15T09:34:05.526639Z",
     "shell.execute_reply": "2022-03-15T09:34:05.527194Z",
     "shell.execute_reply.started": "2022-03-15T09:21:45.010978Z"
    },
    "papermill": {
     "duration": 2.630855,
     "end_time": "2022-03-15T09:34:05.527388",
     "exception": false,
     "start_time": "2022-03-15T09:34:02.896533",
     "status": "completed"
    },
    "tags": []
   },
   "outputs": [
    {
     "name": "stdout",
     "output_type": "stream",
     "text": [
      "              precision    recall  f1-score   support\n",
      "\n",
      "        Fake       0.95      0.98      0.96      5278\n",
      "        Real       0.99      0.95      0.97      6044\n",
      "\n",
      "    accuracy                           0.97     11322\n",
      "   macro avg       0.97      0.97      0.97     11322\n",
      "weighted avg       0.97      0.97      0.97     11322\n",
      "\n"
     ]
    }
   ],
   "source": [
    "y_pred = model.predict(x_test)\n",
    "y_pred = np.round(y_pred).astype('int32')\n",
    "print(classification_report(y_test, y_pred, target_names = ['Fake','Real']))"
   ]
  },
  {
   "cell_type": "code",
   "execution_count": 50,
   "id": "6d9e3a2c",
   "metadata": {
    "execution": {
     "iopub.execute_input": "2022-03-15T09:34:06.196656Z",
     "iopub.status.busy": "2022-03-15T09:34:06.195650Z",
     "iopub.status.idle": "2022-03-15T09:34:06.213904Z",
     "shell.execute_reply": "2022-03-15T09:34:06.213426Z",
     "shell.execute_reply.started": "2022-03-15T09:22:35.454533Z"
    },
    "papermill": {
     "duration": 0.346064,
     "end_time": "2022-03-15T09:34:06.214021",
     "exception": false,
     "start_time": "2022-03-15T09:34:05.867957",
     "status": "completed"
    },
    "tags": []
   },
   "outputs": [
    {
     "data": {
      "text/plain": [
       "array([[5192,   86],\n",
       "       [ 297, 5747]])"
      ]
     },
     "execution_count": 50,
     "metadata": {},
     "output_type": "execute_result"
    }
   ],
   "source": [
    "cm = confusion_matrix(y_test,y_pred)\n",
    "cm"
   ]
  },
  {
   "cell_type": "code",
   "execution_count": 51,
   "id": "360d89c6",
   "metadata": {
    "execution": {
     "iopub.execute_input": "2022-03-15T09:34:06.863392Z",
     "iopub.status.busy": "2022-03-15T09:34:06.862581Z",
     "iopub.status.idle": "2022-03-15T09:34:07.061910Z",
     "shell.execute_reply": "2022-03-15T09:34:07.060959Z",
     "shell.execute_reply.started": "2022-03-15T09:22:35.479503Z"
    },
    "papermill": {
     "duration": 0.528544,
     "end_time": "2022-03-15T09:34:07.062038",
     "exception": false,
     "start_time": "2022-03-15T09:34:06.533494",
     "status": "completed"
    },
    "tags": []
   },
   "outputs": [
    {
     "data": {
      "text/plain": [
       "Text(51.0, 0.5, 'Actual')"
      ]
     },
     "execution_count": 51,
     "metadata": {},
     "output_type": "execute_result"
    },
    {
     "data": {
      "image/png": "[encoded data removed]",
      "text/plain": [
       "<Figure size 576x576 with 2 Axes>"
      ]
     },
     "metadata": {
      "needs_background": "light"
     },
     "output_type": "display_data"
    }
   ],
   "source": [
    "cm = pd.DataFrame(cm , index = ['Fake','Real'] , columns = ['Fake','Real'])\n",
    "plt.figure(figsize = (8,8))\n",
    "sns.heatmap(cm,cmap= \"Greens\", linecolor = 'black' , linewidth = 1 , annot = True, fmt='' , xticklabels = ['Fake','Real'] , yticklabels = ['Fake','Real'])\n",
    "plt.xlabel(\"Predicted\")\n",
    "plt.ylabel(\"Actual\")"
   ]
  },
  {
   "cell_type": "code",
   "execution_count": 52,
   "id": "6dd52204",
   "metadata": {
    "execution": {
     "iopub.execute_input": "2022-03-15T09:34:07.759463Z",
     "iopub.status.busy": "2022-03-15T09:34:07.758508Z",
     "iopub.status.idle": "2022-03-15T09:34:07.761071Z",
     "shell.execute_reply": "2022-03-15T09:34:07.760501Z",
     "shell.execute_reply.started": "2022-03-15T09:22:35.705574Z"
    },
    "papermill": {
     "duration": 0.351746,
     "end_time": "2022-03-15T09:34:07.761251",
     "exception": false,
     "start_time": "2022-03-15T09:34:07.409505",
     "status": "completed"
    },
    "tags": []
   },
   "outputs": [],
   "source": [
    "# from sklearn.metrics import auc, roc_curve\n",
    "# fpr, tpr, thresholds = roc_curve(y_test, y_pred)\n",
    "# auc_score = auc(fpr, tpr)"
   ]
  },
  {
   "cell_type": "code",
   "execution_count": 53,
   "id": "ce964081",
   "metadata": {
    "execution": {
     "iopub.execute_input": "2022-03-15T09:34:08.416632Z",
     "iopub.status.busy": "2022-03-15T09:34:08.416071Z",
     "iopub.status.idle": "2022-03-15T09:34:08.419566Z",
     "shell.execute_reply": "2022-03-15T09:34:08.419095Z",
     "shell.execute_reply.started": "2022-03-15T09:22:35.710941Z"
    },
    "papermill": {
     "duration": 0.313511,
     "end_time": "2022-03-15T09:34:08.419675",
     "exception": false,
     "start_time": "2022-03-15T09:34:08.106164",
     "status": "completed"
    },
    "tags": []
   },
   "outputs": [],
   "source": [
    "# y_LSTM = model.predict_proba(x_test)\n",
    "# curve_LSTM  = sklearn.metrics.roc_curve(y_test, y_LSTM[:, 1])\n",
    "# auc_LSTM  = auc(curve_LSTM[0], curve_LSTM[1])\n",
    "# plt.plot(curve_LSTM[0], curve_LSTM[1], label='LSTM (area = %0.2f)' % auc_LSTM)\n",
    "# plt.xlim([0.0, 1.0])\n",
    "# plt.ylim([0.0, 1.0])\n",
    "# plt.xlabel('False Positive Rate')\n",
    "# plt.ylabel('True Positive Rate')\n",
    "# plt.title('ROC curve');\n",
    "\n",
    "# plt.legend();"
   ]
  },
  {
   "cell_type": "markdown",
   "id": "263ae0e4",
   "metadata": {
    "papermill": {
     "duration": 0.308063,
     "end_time": "2022-03-15T09:34:09.034805",
     "exception": false,
     "start_time": "2022-03-15T09:34:08.726742",
     "status": "completed"
    },
    "tags": []
   },
   "source": [
    "### K Nearest Neighbours"
   ]
  },
  {
   "cell_type": "code",
   "execution_count": 54,
   "id": "9a203826",
   "metadata": {
    "execution": {
     "iopub.execute_input": "2022-03-15T09:34:09.717376Z",
     "iopub.status.busy": "2022-03-15T09:34:09.716474Z",
     "iopub.status.idle": "2022-03-15T09:34:09.719003Z",
     "shell.execute_reply": "2022-03-15T09:34:09.718532Z",
     "shell.execute_reply.started": "2022-03-15T09:22:35.720966Z"
    },
    "papermill": {
     "duration": 0.336561,
     "end_time": "2022-03-15T09:34:09.719113",
     "exception": false,
     "start_time": "2022-03-15T09:34:09.382552",
     "status": "completed"
    },
    "tags": []
   },
   "outputs": [],
   "source": [
    "# from sklearn.neighbors import KNeighborsClassifier\n",
    "\n",
    "# knn = KNeighborsClassifier(1, verbose=1)\n",
    "# knn.fit(x_train,y_train)\n",
    "\n",
    "# knn_preds = knn.predict(x_test)\n",
    "\n",
    "# print(classification_report(y_test, knn_pred, target_names = ['Fake','Real']))"
   ]
  },
  {
   "cell_type": "code",
   "execution_count": 55,
   "id": "11b7fc24",
   "metadata": {
    "execution": {
     "iopub.execute_input": "2022-03-15T09:34:10.340086Z",
     "iopub.status.busy": "2022-03-15T09:34:10.338503Z",
     "iopub.status.idle": "2022-03-15T09:34:10.340745Z",
     "shell.execute_reply": "2022-03-15T09:34:10.341148Z",
     "shell.execute_reply.started": "2022-03-15T09:22:36.109459Z"
    },
    "papermill": {
     "duration": 0.31357,
     "end_time": "2022-03-15T09:34:10.341313",
     "exception": false,
     "start_time": "2022-03-15T09:34:10.027743",
     "status": "completed"
    },
    "tags": []
   },
   "outputs": [],
   "source": [
    "# cm_knn = confusion_matrix(y_test,knn_preds)\n",
    "# cm_knn = pd.DataFrame(cm_knn , index = ['Fake','Real'] , columns = ['Fake','Real'])\n",
    "# plt.figure(figsize = (8,8))\n",
    "# sns.heatmap(cm_knn,cmap= \"Greens\", linecolor = 'black' , linewidth = 1 , annot = True, fmt='' , xticklabels = ['Fake','Real'] , yticklabels = ['Fake','Real'])\n",
    "# plt.xlabel(\"Predicted\")\n",
    "# plt.ylabel(\"Actual\")"
   ]
  },
  {
   "cell_type": "markdown",
   "id": "a8acb282",
   "metadata": {
    "papermill": {
     "duration": 0.30626,
     "end_time": "2022-03-15T09:34:10.954604",
     "exception": false,
     "start_time": "2022-03-15T09:34:10.648344",
     "status": "completed"
    },
    "tags": []
   },
   "source": [
    "### Logistic Regression"
   ]
  },
  {
   "cell_type": "code",
   "execution_count": 56,
   "id": "f247eb64",
   "metadata": {
    "execution": {
     "iopub.execute_input": "2022-03-15T09:34:11.582378Z",
     "iopub.status.busy": "2022-03-15T09:34:11.581619Z",
     "iopub.status.idle": "2022-03-15T09:34:11.583866Z",
     "shell.execute_reply": "2022-03-15T09:34:11.584261Z",
     "shell.execute_reply.started": "2022-03-15T09:22:36.111566Z"
    },
    "papermill": {
     "duration": 0.312306,
     "end_time": "2022-03-15T09:34:11.584394",
     "exception": false,
     "start_time": "2022-03-15T09:34:11.272088",
     "status": "completed"
    },
    "tags": []
   },
   "outputs": [],
   "source": [
    "# from sklearn.linear_model import LogisticRegression\n",
    "\n",
    "# logR = LogisticRegression(C=3)\n",
    "# logR.fit(x_train,y_train)\n",
    "\n",
    "# log_preds = logR.predict(x_test)\n",
    "\n",
    "# print(classification_report(y_test, log_preds, target_names = ['Fake','Real']))"
   ]
  },
  {
   "cell_type": "code",
   "execution_count": 57,
   "id": "b14902b4",
   "metadata": {
    "execution": {
     "iopub.execute_input": "2022-03-15T09:34:12.220927Z",
     "iopub.status.busy": "2022-03-15T09:34:12.219167Z",
     "iopub.status.idle": "2022-03-15T09:34:12.221611Z",
     "shell.execute_reply": "2022-03-15T09:34:12.222060Z",
     "shell.execute_reply.started": "2022-03-15T09:22:36.113404Z"
    },
    "papermill": {
     "duration": 0.332236,
     "end_time": "2022-03-15T09:34:12.222221",
     "exception": false,
     "start_time": "2022-03-15T09:34:11.889985",
     "status": "completed"
    },
    "tags": []
   },
   "outputs": [],
   "source": [
    "# cm_log = confusion_matrix(y_test,log_preds)\n",
    "# cm_log = pd.DataFrame(cm_log , index = ['Fake','Real'] , columns = ['Fake','Real'])\n",
    "# plt.figure(figsize = (8,8))\n",
    "# sns.heatmap(cm_log,cmap= \"Greens\", linecolor = 'black' , linewidth = 1 , annot = True, fmt='' , xticklabels = ['Fake','Real'] , yticklabels = ['Fake','Real'])\n",
    "# plt.xlabel(\"Predicted\")\n",
    "# plt.ylabel(\"Actual\")\n"
   ]
  },
  {
   "cell_type": "markdown",
   "id": "96bd3887",
   "metadata": {
    "papermill": {
     "duration": 0.307609,
     "end_time": "2022-03-15T09:34:12.850313",
     "exception": false,
     "start_time": "2022-03-15T09:34:12.542704",
     "status": "completed"
    },
    "tags": []
   },
   "source": [
    "### AdaBoost"
   ]
  },
  {
   "cell_type": "code",
   "execution_count": 58,
   "id": "a4d55ed2",
   "metadata": {
    "execution": {
     "iopub.execute_input": "2022-03-15T09:34:13.497040Z",
     "iopub.status.busy": "2022-03-15T09:34:13.495304Z",
     "iopub.status.idle": "2022-03-15T09:34:13.497629Z",
     "shell.execute_reply": "2022-03-15T09:34:13.498016Z",
     "shell.execute_reply.started": "2022-03-15T09:22:36.115230Z"
    },
    "papermill": {
     "duration": 0.327866,
     "end_time": "2022-03-15T09:34:13.498155",
     "exception": false,
     "start_time": "2022-03-15T09:34:13.170289",
     "status": "completed"
    },
    "tags": []
   },
   "outputs": [],
   "source": [
    "# from sklearn.ensembles import AdaBoostClassifier\n",
    "\n",
    "# ada = AdaBoostClassifier(verbose=1)\n",
    "# ada.fit(x_train, y_train)\n",
    "\n",
    "# ada_preds = ada.predict(x_test)\n",
    "# #ada_preds = np.argmax(ada_preds, axis=1)\n",
    "\n",
    "# print(classification_report(y_test, ada_pred, target_names = ['Fake','Real']))"
   ]
  },
  {
   "cell_type": "code",
   "execution_count": 59,
   "id": "ef88863a",
   "metadata": {
    "execution": {
     "iopub.execute_input": "2022-03-15T09:34:14.388436Z",
     "iopub.status.busy": "2022-03-15T09:34:14.387336Z",
     "iopub.status.idle": "2022-03-15T09:34:14.389170Z",
     "shell.execute_reply": "2022-03-15T09:34:14.389675Z",
     "shell.execute_reply.started": "2022-03-15T09:22:36.116928Z"
    },
    "papermill": {
     "duration": 0.427798,
     "end_time": "2022-03-15T09:34:14.389804",
     "exception": false,
     "start_time": "2022-03-15T09:34:13.962006",
     "status": "completed"
    },
    "tags": []
   },
   "outputs": [],
   "source": [
    "# cm_ada = confusion_matrix(y_test,ada_preds)\n",
    "# cm_ada = pd.DataFrame(cm_ada , index = ['Fake','Real'] , columns = ['Fake','Real'])\n",
    "# plt.figure(figsize = (8,8))\n",
    "# sns.heatmap(cm_ada,cmap= \"Greens\", linecolor = 'black' , linewidth = 1 , annot = True, fmt='' , xticklabels = ['Fake','Real'] , yticklabels = ['Fake','Real'])\n",
    "# plt.xlabel(\"Predicted\")\n",
    "# plt.ylabel(\"Actual\")"
   ]
  },
  {
   "cell_type": "markdown",
   "id": "a6aaebd1",
   "metadata": {
    "papermill": {
     "duration": 0.346636,
     "end_time": "2022-03-15T09:34:15.087219",
     "exception": false,
     "start_time": "2022-03-15T09:34:14.740583",
     "status": "completed"
    },
    "tags": []
   },
   "source": [
    "### ROC Curves"
   ]
  },
  {
   "cell_type": "code",
   "execution_count": 60,
   "id": "b537f339",
   "metadata": {
    "execution": {
     "iopub.execute_input": "2022-03-15T09:34:15.753877Z",
     "iopub.status.busy": "2022-03-15T09:34:15.752261Z",
     "iopub.status.idle": "2022-03-15T09:34:15.754472Z",
     "shell.execute_reply": "2022-03-15T09:34:15.754869Z",
     "shell.execute_reply.started": "2022-03-15T09:22:36.118642Z"
    },
    "papermill": {
     "duration": 0.328222,
     "end_time": "2022-03-15T09:34:15.754995",
     "exception": false,
     "start_time": "2022-03-15T09:34:15.426773",
     "status": "completed"
    },
    "tags": []
   },
   "outputs": [],
   "source": [
    "# import sklearn\n",
    "# # We'll need class probabilities from each of the classifiers\n",
    "# y_log   = logR.predict_proba(x_test)\n",
    "# y_knn   = knn.predict_proba(x_test)\n",
    "\n",
    "# # Compute the points on the curve\n",
    "# # We pass the probability of the second class (KIA) as the y_score\n",
    "# curve_log    = sklearn.metrics.roc_curve(y_test, y_log[:, 1])\n",
    "# curve_knn    = sklearn.metrics.roc_curve(y_test, y_knn[:, 1])\n",
    "\n",
    "# # Compute Area Under the Curve\n",
    "# auc_log    = auc(curve_log[0], curve_log[1])\n",
    "# auc_knn    = auc(curve_knn[0], curve_knn[1])\n",
    "\n",
    "# plt.plot(curve_log[0], curve_log[1], label='logistic (area = %0.2f)' % auc_log)\n",
    "# plt.plot(curve_knn[0], curve_knn[1], label='knn (area = %0.2f)'% auc_knn)\n",
    "\n",
    "# plt.xlim([0.0, 1.0])\n",
    "# plt.ylim([0.0, 1.0])\n",
    "# plt.xlabel('False Positive Rate')\n",
    "# plt.ylabel('True Positive Rate')\n",
    "# plt.title('ROC curve');\n",
    "\n",
    "# plt.legend();"
   ]
  },
  {
   "cell_type": "code",
   "execution_count": null,
   "id": "a14b02ff",
   "metadata": {
    "papermill": {
     "duration": 0.332531,
     "end_time": "2022-03-15T09:34:16.396421",
     "exception": false,
     "start_time": "2022-03-15T09:34:16.063890",
     "status": "completed"
    },
    "tags": []
   },
   "outputs": [],
   "source": []
  }
 ],
 "metadata": {
  "kernelspec": {
   "display_name": "Python 3",
   "language": "python",
   "name": "python3"
  },
  "language_info": {
   "codemirror_mode": {
    "name": "ipython",
    "version": 3
   },
   "file_extension": ".py",
   "mimetype": "text/x-python",
   "name": "python",
   "nbconvert_exporter": "python",
   "pygments_lexer": "ipython3",
   "version": "3.7.12"
  },
  "papermill": {
   "default_parameters": {},
   "duration": 193.741989,
   "end_time": "2022-03-15T09:34:19.959142",
   "environment_variables": {},
   "exception": null,
   "input_path": "__notebook__.ipynb",
   "output_path": "__notebook__.ipynb",
   "parameters": {},
   "start_time": "2022-03-15T09:31:06.217153",
   "version": "2.3.3"
  }
 },
 "nbformat": 4,
 "nbformat_minor": 5
}
