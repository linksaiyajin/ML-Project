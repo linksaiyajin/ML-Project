{
 "cells": [
  {
   "cell_type": "code",
   "execution_count": 1,
   "id": "e2be1581",
   "metadata": {
    "execution": {
     "iopub.execute_input": "2022-03-01T17:49:40.011154Z",
     "iopub.status.busy": "2022-03-01T17:49:40.009460Z",
     "iopub.status.idle": "2022-03-01T17:49:46.751696Z",
     "shell.execute_reply": "2022-03-01T17:49:46.750824Z",
     "shell.execute_reply.started": "2022-03-01T17:22:56.941372Z"
    },
    "papermill": {
     "duration": 6.773604,
     "end_time": "2022-03-01T17:49:46.751865",
     "exception": false,
     "start_time": "2022-03-01T17:49:39.978261",
     "status": "completed"
    },
    "tags": []
   },
   "outputs": [],
   "source": [
    "import tensorflow as tf\n",
    "import pandas as pd\n",
    "import numpy as np\n",
    "import seaborn as sns\n",
    "from bs4 import BeautifulSoup\n",
    "import re,string,unicodedata\n",
    "import matplotlib.pyplot as plt\n",
    "import tensorflow.keras.layers as tfl\n",
    "from keras.preprocessing import text, sequence\n",
    "from sklearn.metrics import classification_report,confusion_matrix,accuracy_score\n",
    "from tensorflow.keras.preprocessing.sequence import pad_sequences\n",
    "from tensorflow.keras.layers import Embedding, LSTM, Dense, Dropout, Bidirectional\n",
    "from tensorflow.keras.preprocessing.text import Tokenizer\n",
    "from tensorflow.keras.models import Sequential\n",
    "from tensorflow.keras.optimizers import Adam\n",
    "from tensorflow.keras import regularizers\n",
    "import tensorflow.keras.utils as ku \n",
    "from sklearn.model_selection import train_test_split\n",
    "from nltk.corpus import stopwords\n",
    "import datetime\n",
    "%matplotlib inline"
   ]
  },
  {
   "cell_type": "code",
   "execution_count": 2,
   "id": "5a6ff29c",
   "metadata": {
    "execution": {
     "iopub.execute_input": "2022-03-01T17:49:46.801243Z",
     "iopub.status.busy": "2022-03-01T17:49:46.800568Z",
     "iopub.status.idle": "2022-03-01T17:49:49.490185Z",
     "shell.execute_reply": "2022-03-01T17:49:49.489568Z",
     "shell.execute_reply.started": "2022-03-01T17:23:03.183367Z"
    },
    "papermill": {
     "duration": 2.714916,
     "end_time": "2022-03-01T17:49:49.490344",
     "exception": false,
     "start_time": "2022-03-01T17:49:46.775428",
     "status": "completed"
    },
    "tags": []
   },
   "outputs": [],
   "source": [
    "true = pd.read_csv(\"../input/fake-and-real-news-dataset/True.csv\")\n",
    "false = pd.read_csv(\"../input/fake-and-real-news-dataset/Fake.csv\")"
   ]
  },
  {
   "cell_type": "markdown",
   "id": "23214fa3",
   "metadata": {
    "papermill": {
     "duration": 0.021075,
     "end_time": "2022-03-01T17:49:49.533254",
     "exception": false,
     "start_time": "2022-03-01T17:49:49.512179",
     "status": "completed"
    },
    "tags": []
   },
   "source": [
    "### Preparing fake-news dataset"
   ]
  },
  {
   "cell_type": "code",
   "execution_count": 3,
   "id": "2044d157",
   "metadata": {
    "execution": {
     "iopub.execute_input": "2022-03-01T17:49:49.580751Z",
     "iopub.status.busy": "2022-03-01T17:49:49.580154Z",
     "iopub.status.idle": "2022-03-01T17:49:51.059378Z",
     "shell.execute_reply": "2022-03-01T17:49:51.058513Z",
     "shell.execute_reply.started": "2022-03-01T17:28:29.493958Z"
    },
    "papermill": {
     "duration": 1.50501,
     "end_time": "2022-03-01T17:49:51.059522",
     "exception": false,
     "start_time": "2022-03-01T17:49:49.554512",
     "status": "completed"
    },
    "tags": []
   },
   "outputs": [
    {
     "data": {
      "text/html": [
       "<div>\n",
       "<style scoped>\n",
       "    .dataframe tbody tr th:only-of-type {\n",
       "        vertical-align: middle;\n",
       "    }\n",
       "\n",
       "    .dataframe tbody tr th {\n",
       "        vertical-align: top;\n",
       "    }\n",
       "\n",
       "    .dataframe thead th {\n",
       "        text-align: right;\n",
       "    }\n",
       "</style>\n",
       "<table border=\"1\" class=\"dataframe\">\n",
       "  <thead>\n",
       "    <tr style=\"text-align: right;\">\n",
       "      <th></th>\n",
       "      <th>title</th>\n",
       "      <th>text</th>\n",
       "      <th>category</th>\n",
       "    </tr>\n",
       "  </thead>\n",
       "  <tbody>\n",
       "    <tr>\n",
       "      <th>0</th>\n",
       "      <td>Muslims BUSTED: They Stole Millions In Gov’t B...</td>\n",
       "      <td>Print They should pay all the back all the mon...</td>\n",
       "      <td>0</td>\n",
       "    </tr>\n",
       "    <tr>\n",
       "      <th>1</th>\n",
       "      <td>Re: Why Did Attorney General Loretta Lynch Ple...</td>\n",
       "      <td>Why Did Attorney General Loretta Lynch Plead T...</td>\n",
       "      <td>0</td>\n",
       "    </tr>\n",
       "    <tr>\n",
       "      <th>2</th>\n",
       "      <td>BREAKING: Weiner Cooperating With FBI On Hilla...</td>\n",
       "      <td>Red State : \\nFox News Sunday reported this mo...</td>\n",
       "      <td>0</td>\n",
       "    </tr>\n",
       "    <tr>\n",
       "      <th>3</th>\n",
       "      <td>PIN DROP SPEECH BY FATHER OF DAUGHTER Kidnappe...</td>\n",
       "      <td>Email Kayla Mueller was a prisoner and torture...</td>\n",
       "      <td>0</td>\n",
       "    </tr>\n",
       "    <tr>\n",
       "      <th>4</th>\n",
       "      <td>FANTASTIC! TRUMP'S 7 POINT PLAN To Reform Heal...</td>\n",
       "      <td>Email HEALTHCARE REFORM TO MAKE AMERICA GREAT ...</td>\n",
       "      <td>0</td>\n",
       "    </tr>\n",
       "  </tbody>\n",
       "</table>\n",
       "</div>"
      ],
      "text/plain": [
       "                                               title  \\\n",
       "0  Muslims BUSTED: They Stole Millions In Gov’t B...   \n",
       "1  Re: Why Did Attorney General Loretta Lynch Ple...   \n",
       "2  BREAKING: Weiner Cooperating With FBI On Hilla...   \n",
       "3  PIN DROP SPEECH BY FATHER OF DAUGHTER Kidnappe...   \n",
       "4  FANTASTIC! TRUMP'S 7 POINT PLAN To Reform Heal...   \n",
       "\n",
       "                                                text  category  \n",
       "0  Print They should pay all the back all the mon...         0  \n",
       "1  Why Did Attorney General Loretta Lynch Plead T...         0  \n",
       "2  Red State : \\nFox News Sunday reported this mo...         0  \n",
       "3  Email Kayla Mueller was a prisoner and torture...         0  \n",
       "4  Email HEALTHCARE REFORM TO MAKE AMERICA GREAT ...         0  "
      ]
     },
     "execution_count": 3,
     "metadata": {},
     "output_type": "execute_result"
    }
   ],
   "source": [
    "fake1 = pd.read_csv(\"../input/fake-news/fake.csv\")\n",
    "# removing all unnecessary columns\n",
    "fake1 = fake1[['title', 'text', 'language']]\n",
    "# removing non-english articles\n",
    "fake1 = fake1[fake1['language'] == 'english']\n",
    "del fake1['language']\n",
    "fake1['category'] = 0\n",
    "\n",
    "fake1.head()"
   ]
  },
  {
   "cell_type": "markdown",
   "id": "a2dd1fc1",
   "metadata": {
    "papermill": {
     "duration": 0.021522,
     "end_time": "2022-03-01T17:49:51.103756",
     "exception": false,
     "start_time": "2022-03-01T17:49:51.082234",
     "status": "completed"
    },
    "tags": []
   },
   "source": [
    "### Preparing real-and-fake-news-dataset"
   ]
  },
  {
   "cell_type": "code",
   "execution_count": 4,
   "id": "c1fbf053",
   "metadata": {
    "execution": {
     "iopub.execute_input": "2022-03-01T17:49:51.153976Z",
     "iopub.status.busy": "2022-03-01T17:49:51.153409Z",
     "iopub.status.idle": "2022-03-01T17:49:51.940847Z",
     "shell.execute_reply": "2022-03-01T17:49:51.941327Z",
     "shell.execute_reply.started": "2022-03-01T17:42:13.069576Z"
    },
    "papermill": {
     "duration": 0.814187,
     "end_time": "2022-03-01T17:49:51.941497",
     "exception": false,
     "start_time": "2022-03-01T17:49:51.127310",
     "status": "completed"
    },
    "tags": []
   },
   "outputs": [
    {
     "data": {
      "text/html": [
       "<div>\n",
       "<style scoped>\n",
       "    .dataframe tbody tr th:only-of-type {\n",
       "        vertical-align: middle;\n",
       "    }\n",
       "\n",
       "    .dataframe tbody tr th {\n",
       "        vertical-align: top;\n",
       "    }\n",
       "\n",
       "    .dataframe thead th {\n",
       "        text-align: right;\n",
       "    }\n",
       "</style>\n",
       "<table border=\"1\" class=\"dataframe\">\n",
       "  <thead>\n",
       "    <tr style=\"text-align: right;\">\n",
       "      <th></th>\n",
       "      <th>title</th>\n",
       "      <th>text</th>\n",
       "      <th>category</th>\n",
       "    </tr>\n",
       "  </thead>\n",
       "  <tbody>\n",
       "    <tr>\n",
       "      <th>0</th>\n",
       "      <td>You Can Smell Hillary’s Fear</td>\n",
       "      <td>Daniel Greenfield, a Shillman Journalism Fello...</td>\n",
       "      <td>0</td>\n",
       "    </tr>\n",
       "    <tr>\n",
       "      <th>1</th>\n",
       "      <td>Watch The Exact Moment Paul Ryan Committed Pol...</td>\n",
       "      <td>Google Pinterest Digg Linkedin Reddit Stumbleu...</td>\n",
       "      <td>0</td>\n",
       "    </tr>\n",
       "    <tr>\n",
       "      <th>2</th>\n",
       "      <td>Kerry to go to Paris in gesture of sympathy</td>\n",
       "      <td>U.S. Secretary of State John F. Kerry said Mon...</td>\n",
       "      <td>1</td>\n",
       "    </tr>\n",
       "    <tr>\n",
       "      <th>3</th>\n",
       "      <td>Bernie supporters on Twitter erupt in anger ag...</td>\n",
       "      <td>— Kaydee King (@KaydeeKing) November 9, 2016 T...</td>\n",
       "      <td>0</td>\n",
       "    </tr>\n",
       "    <tr>\n",
       "      <th>4</th>\n",
       "      <td>The Battle of New York: Why This Primary Matters</td>\n",
       "      <td>It's primary day in New York and front-runners...</td>\n",
       "      <td>1</td>\n",
       "    </tr>\n",
       "  </tbody>\n",
       "</table>\n",
       "</div>"
      ],
      "text/plain": [
       "                                               title  \\\n",
       "0                       You Can Smell Hillary’s Fear   \n",
       "1  Watch The Exact Moment Paul Ryan Committed Pol...   \n",
       "2        Kerry to go to Paris in gesture of sympathy   \n",
       "3  Bernie supporters on Twitter erupt in anger ag...   \n",
       "4   The Battle of New York: Why This Primary Matters   \n",
       "\n",
       "                                                text  category  \n",
       "0  Daniel Greenfield, a Shillman Journalism Fello...         0  \n",
       "1  Google Pinterest Digg Linkedin Reddit Stumbleu...         0  \n",
       "2  U.S. Secretary of State John F. Kerry said Mon...         1  \n",
       "3  — Kaydee King (@KaydeeKing) November 9, 2016 T...         0  \n",
       "4  It's primary day in New York and front-runners...         1  "
      ]
     },
     "execution_count": 4,
     "metadata": {},
     "output_type": "execute_result"
    }
   ],
   "source": [
    "real_fake = pd.read_csv(\"../input/real-and-fake-news-dataset/news.csv\")\n",
    "# removing all unnecessary columns\n",
    "del real_fake['Unnamed: 0']\n",
    "\n",
    "# turning label into boolean category (1 for real, 0 for fake)\n",
    "d = {'REAL': 1, 'FAKE': 0}\n",
    "real_fake['category'] = real_fake['label'].map(d)\n",
    "del real_fake['label']\n",
    "\n",
    "real_fake.head()"
   ]
  },
  {
   "cell_type": "markdown",
   "id": "b74f83c9",
   "metadata": {
    "papermill": {
     "duration": 0.023211,
     "end_time": "2022-03-01T17:49:51.988912",
     "exception": false,
     "start_time": "2022-03-01T17:49:51.965701",
     "status": "completed"
    },
    "tags": []
   },
   "source": [
    "### Preparing source-based-news-classification"
   ]
  },
  {
   "cell_type": "code",
   "execution_count": 5,
   "id": "f3061981",
   "metadata": {
    "execution": {
     "iopub.execute_input": "2022-03-01T17:49:52.043871Z",
     "iopub.status.busy": "2022-03-01T17:49:52.043097Z",
     "iopub.status.idle": "2022-03-01T17:49:52.434142Z",
     "shell.execute_reply": "2022-03-01T17:49:52.434593Z",
     "shell.execute_reply.started": "2022-03-01T17:47:48.486435Z"
    },
    "papermill": {
     "duration": 0.42272,
     "end_time": "2022-03-01T17:49:52.434776",
     "exception": false,
     "start_time": "2022-03-01T17:49:52.012056",
     "status": "completed"
    },
    "tags": []
   },
   "outputs": [
    {
     "data": {
      "text/html": [
       "<div>\n",
       "<style scoped>\n",
       "    .dataframe tbody tr th:only-of-type {\n",
       "        vertical-align: middle;\n",
       "    }\n",
       "\n",
       "    .dataframe tbody tr th {\n",
       "        vertical-align: top;\n",
       "    }\n",
       "\n",
       "    .dataframe thead th {\n",
       "        text-align: right;\n",
       "    }\n",
       "</style>\n",
       "<table border=\"1\" class=\"dataframe\">\n",
       "  <thead>\n",
       "    <tr style=\"text-align: right;\">\n",
       "      <th></th>\n",
       "      <th>title</th>\n",
       "      <th>text</th>\n",
       "      <th>category</th>\n",
       "    </tr>\n",
       "  </thead>\n",
       "  <tbody>\n",
       "    <tr>\n",
       "      <th>0</th>\n",
       "      <td>muslims busted they stole millions in govt ben...</td>\n",
       "      <td>print they should pay all the back all the mon...</td>\n",
       "      <td>1</td>\n",
       "    </tr>\n",
       "    <tr>\n",
       "      <th>1</th>\n",
       "      <td>re why did attorney general loretta lynch plea...</td>\n",
       "      <td>why did attorney general loretta lynch plead t...</td>\n",
       "      <td>1</td>\n",
       "    </tr>\n",
       "    <tr>\n",
       "      <th>2</th>\n",
       "      <td>breaking weiner cooperating with fbi on hillar...</td>\n",
       "      <td>red state  \\nfox news sunday reported this mor...</td>\n",
       "      <td>1</td>\n",
       "    </tr>\n",
       "    <tr>\n",
       "      <th>3</th>\n",
       "      <td>pin drop speech by father of daughter kidnappe...</td>\n",
       "      <td>email kayla mueller was a prisoner and torture...</td>\n",
       "      <td>1</td>\n",
       "    </tr>\n",
       "    <tr>\n",
       "      <th>4</th>\n",
       "      <td>fantastic trumps  point plan to reform healthc...</td>\n",
       "      <td>email healthcare reform to make america great ...</td>\n",
       "      <td>1</td>\n",
       "    </tr>\n",
       "  </tbody>\n",
       "</table>\n",
       "</div>"
      ],
      "text/plain": [
       "                                               title  \\\n",
       "0  muslims busted they stole millions in govt ben...   \n",
       "1  re why did attorney general loretta lynch plea...   \n",
       "2  breaking weiner cooperating with fbi on hillar...   \n",
       "3  pin drop speech by father of daughter kidnappe...   \n",
       "4  fantastic trumps  point plan to reform healthc...   \n",
       "\n",
       "                                                text  category  \n",
       "0  print they should pay all the back all the mon...         1  \n",
       "1  why did attorney general loretta lynch plead t...         1  \n",
       "2  red state  \\nfox news sunday reported this mor...         1  \n",
       "3  email kayla mueller was a prisoner and torture...         1  \n",
       "4  email healthcare reform to make america great ...         1  "
      ]
     },
     "execution_count": 5,
     "metadata": {},
     "output_type": "execute_result"
    }
   ],
   "source": [
    "source_based = pd.read_csv(\"../input/source-based-news-classification/news_articles.csv\")\n",
    "# removing non-english articles\n",
    "source_based = source_based[source_based['language'] == 'english']\n",
    "# removing all unnecessary columns\n",
    "source_based = source_based[['title', 'text', 'label']]\n",
    "\n",
    "# turning labels intoo boolean category (1 for real, 0 for fake)\n",
    "dic = {'Real': 1, 'Fake': 0}\n",
    "source_based['category'] = source_based['label'].map(dic)\n",
    "del source_based['label']\n",
    "\n",
    "source_based.head()"
   ]
  },
  {
   "cell_type": "code",
   "execution_count": 6,
   "id": "53f05a09",
   "metadata": {
    "execution": {
     "iopub.execute_input": "2022-03-01T17:49:52.487486Z",
     "iopub.status.busy": "2022-03-01T17:49:52.486892Z",
     "iopub.status.idle": "2022-03-01T17:49:52.490450Z",
     "shell.execute_reply": "2022-03-01T17:49:52.490913Z",
     "shell.execute_reply.started": "2022-03-01T17:38:04.806498Z"
    },
    "papermill": {
     "duration": 0.031598,
     "end_time": "2022-03-01T17:49:52.491040",
     "exception": false,
     "start_time": "2022-03-01T17:49:52.459442",
     "status": "completed"
    },
    "tags": []
   },
   "outputs": [],
   "source": [
    "true['category'] = 1\n",
    "false['category'] = 0"
   ]
  },
  {
   "cell_type": "code",
   "execution_count": 7,
   "id": "f9694bbe",
   "metadata": {
    "execution": {
     "iopub.execute_input": "2022-03-01T17:49:52.547637Z",
     "iopub.status.busy": "2022-03-01T17:49:52.547124Z",
     "iopub.status.idle": "2022-03-01T17:49:52.553137Z",
     "shell.execute_reply": "2022-03-01T17:49:52.552439Z",
     "shell.execute_reply.started": "2022-03-01T07:17:34.665940Z"
    },
    "papermill": {
     "duration": 0.038438,
     "end_time": "2022-03-01T17:49:52.553247",
     "exception": false,
     "start_time": "2022-03-01T17:49:52.514809",
     "status": "completed"
    },
    "tags": []
   },
   "outputs": [
    {
     "data": {
      "text/html": [
       "<div>\n",
       "<style scoped>\n",
       "    .dataframe tbody tr th:only-of-type {\n",
       "        vertical-align: middle;\n",
       "    }\n",
       "\n",
       "    .dataframe tbody tr th {\n",
       "        vertical-align: top;\n",
       "    }\n",
       "\n",
       "    .dataframe thead th {\n",
       "        text-align: right;\n",
       "    }\n",
       "</style>\n",
       "<table border=\"1\" class=\"dataframe\">\n",
       "  <thead>\n",
       "    <tr style=\"text-align: right;\">\n",
       "      <th></th>\n",
       "      <th>title</th>\n",
       "      <th>text</th>\n",
       "      <th>subject</th>\n",
       "      <th>date</th>\n",
       "      <th>category</th>\n",
       "    </tr>\n",
       "  </thead>\n",
       "  <tbody>\n",
       "    <tr>\n",
       "      <th>0</th>\n",
       "      <td>As U.S. budget fight looms, Republicans flip t...</td>\n",
       "      <td>WASHINGTON (Reuters) - The head of a conservat...</td>\n",
       "      <td>politicsNews</td>\n",
       "      <td>December 31, 2017</td>\n",
       "      <td>1</td>\n",
       "    </tr>\n",
       "    <tr>\n",
       "      <th>1</th>\n",
       "      <td>U.S. military to accept transgender recruits o...</td>\n",
       "      <td>WASHINGTON (Reuters) - Transgender people will...</td>\n",
       "      <td>politicsNews</td>\n",
       "      <td>December 29, 2017</td>\n",
       "      <td>1</td>\n",
       "    </tr>\n",
       "    <tr>\n",
       "      <th>2</th>\n",
       "      <td>Senior U.S. Republican senator: 'Let Mr. Muell...</td>\n",
       "      <td>WASHINGTON (Reuters) - The special counsel inv...</td>\n",
       "      <td>politicsNews</td>\n",
       "      <td>December 31, 2017</td>\n",
       "      <td>1</td>\n",
       "    </tr>\n",
       "    <tr>\n",
       "      <th>3</th>\n",
       "      <td>FBI Russia probe helped by Australian diplomat...</td>\n",
       "      <td>WASHINGTON (Reuters) - Trump campaign adviser ...</td>\n",
       "      <td>politicsNews</td>\n",
       "      <td>December 30, 2017</td>\n",
       "      <td>1</td>\n",
       "    </tr>\n",
       "    <tr>\n",
       "      <th>4</th>\n",
       "      <td>Trump wants Postal Service to charge 'much mor...</td>\n",
       "      <td>SEATTLE/WASHINGTON (Reuters) - President Donal...</td>\n",
       "      <td>politicsNews</td>\n",
       "      <td>December 29, 2017</td>\n",
       "      <td>1</td>\n",
       "    </tr>\n",
       "  </tbody>\n",
       "</table>\n",
       "</div>"
      ],
      "text/plain": [
       "                                               title  \\\n",
       "0  As U.S. budget fight looms, Republicans flip t...   \n",
       "1  U.S. military to accept transgender recruits o...   \n",
       "2  Senior U.S. Republican senator: 'Let Mr. Muell...   \n",
       "3  FBI Russia probe helped by Australian diplomat...   \n",
       "4  Trump wants Postal Service to charge 'much mor...   \n",
       "\n",
       "                                                text       subject  \\\n",
       "0  WASHINGTON (Reuters) - The head of a conservat...  politicsNews   \n",
       "1  WASHINGTON (Reuters) - Transgender people will...  politicsNews   \n",
       "2  WASHINGTON (Reuters) - The special counsel inv...  politicsNews   \n",
       "3  WASHINGTON (Reuters) - Trump campaign adviser ...  politicsNews   \n",
       "4  SEATTLE/WASHINGTON (Reuters) - President Donal...  politicsNews   \n",
       "\n",
       "                 date  category  \n",
       "0  December 31, 2017          1  \n",
       "1  December 29, 2017          1  \n",
       "2  December 31, 2017          1  \n",
       "3  December 30, 2017          1  \n",
       "4  December 29, 2017          1  "
      ]
     },
     "execution_count": 7,
     "metadata": {},
     "output_type": "execute_result"
    }
   ],
   "source": [
    "true.head()"
   ]
  },
  {
   "cell_type": "code",
   "execution_count": 8,
   "id": "285b4fd6",
   "metadata": {
    "execution": {
     "iopub.execute_input": "2022-03-01T17:49:52.616581Z",
     "iopub.status.busy": "2022-03-01T17:49:52.616009Z",
     "iopub.status.idle": "2022-03-01T17:49:52.622139Z",
     "shell.execute_reply": "2022-03-01T17:49:52.621600Z",
     "shell.execute_reply.started": "2022-03-01T07:17:34.685777Z"
    },
    "papermill": {
     "duration": 0.042341,
     "end_time": "2022-03-01T17:49:52.622262",
     "exception": false,
     "start_time": "2022-03-01T17:49:52.579921",
     "status": "completed"
    },
    "tags": []
   },
   "outputs": [
    {
     "data": {
      "text/html": [
       "<div>\n",
       "<style scoped>\n",
       "    .dataframe tbody tr th:only-of-type {\n",
       "        vertical-align: middle;\n",
       "    }\n",
       "\n",
       "    .dataframe tbody tr th {\n",
       "        vertical-align: top;\n",
       "    }\n",
       "\n",
       "    .dataframe thead th {\n",
       "        text-align: right;\n",
       "    }\n",
       "</style>\n",
       "<table border=\"1\" class=\"dataframe\">\n",
       "  <thead>\n",
       "    <tr style=\"text-align: right;\">\n",
       "      <th></th>\n",
       "      <th>title</th>\n",
       "      <th>text</th>\n",
       "      <th>subject</th>\n",
       "      <th>date</th>\n",
       "      <th>category</th>\n",
       "    </tr>\n",
       "  </thead>\n",
       "  <tbody>\n",
       "    <tr>\n",
       "      <th>0</th>\n",
       "      <td>Donald Trump Sends Out Embarrassing New Year’...</td>\n",
       "      <td>Donald Trump just couldn t wish all Americans ...</td>\n",
       "      <td>News</td>\n",
       "      <td>December 31, 2017</td>\n",
       "      <td>0</td>\n",
       "    </tr>\n",
       "    <tr>\n",
       "      <th>1</th>\n",
       "      <td>Drunk Bragging Trump Staffer Started Russian ...</td>\n",
       "      <td>House Intelligence Committee Chairman Devin Nu...</td>\n",
       "      <td>News</td>\n",
       "      <td>December 31, 2017</td>\n",
       "      <td>0</td>\n",
       "    </tr>\n",
       "    <tr>\n",
       "      <th>2</th>\n",
       "      <td>Sheriff David Clarke Becomes An Internet Joke...</td>\n",
       "      <td>On Friday, it was revealed that former Milwauk...</td>\n",
       "      <td>News</td>\n",
       "      <td>December 30, 2017</td>\n",
       "      <td>0</td>\n",
       "    </tr>\n",
       "    <tr>\n",
       "      <th>3</th>\n",
       "      <td>Trump Is So Obsessed He Even Has Obama’s Name...</td>\n",
       "      <td>On Christmas day, Donald Trump announced that ...</td>\n",
       "      <td>News</td>\n",
       "      <td>December 29, 2017</td>\n",
       "      <td>0</td>\n",
       "    </tr>\n",
       "    <tr>\n",
       "      <th>4</th>\n",
       "      <td>Pope Francis Just Called Out Donald Trump Dur...</td>\n",
       "      <td>Pope Francis used his annual Christmas Day mes...</td>\n",
       "      <td>News</td>\n",
       "      <td>December 25, 2017</td>\n",
       "      <td>0</td>\n",
       "    </tr>\n",
       "  </tbody>\n",
       "</table>\n",
       "</div>"
      ],
      "text/plain": [
       "                                               title  \\\n",
       "0   Donald Trump Sends Out Embarrassing New Year’...   \n",
       "1   Drunk Bragging Trump Staffer Started Russian ...   \n",
       "2   Sheriff David Clarke Becomes An Internet Joke...   \n",
       "3   Trump Is So Obsessed He Even Has Obama’s Name...   \n",
       "4   Pope Francis Just Called Out Donald Trump Dur...   \n",
       "\n",
       "                                                text subject  \\\n",
       "0  Donald Trump just couldn t wish all Americans ...    News   \n",
       "1  House Intelligence Committee Chairman Devin Nu...    News   \n",
       "2  On Friday, it was revealed that former Milwauk...    News   \n",
       "3  On Christmas day, Donald Trump announced that ...    News   \n",
       "4  Pope Francis used his annual Christmas Day mes...    News   \n",
       "\n",
       "                date  category  \n",
       "0  December 31, 2017         0  \n",
       "1  December 31, 2017         0  \n",
       "2  December 30, 2017         0  \n",
       "3  December 29, 2017         0  \n",
       "4  December 25, 2017         0  "
      ]
     },
     "execution_count": 8,
     "metadata": {},
     "output_type": "execute_result"
    }
   ],
   "source": [
    "false.head()"
   ]
  },
  {
   "cell_type": "code",
   "execution_count": 9,
   "id": "a81d11dd",
   "metadata": {
    "execution": {
     "iopub.execute_input": "2022-03-01T17:49:52.677371Z",
     "iopub.status.busy": "2022-03-01T17:49:52.676578Z",
     "iopub.status.idle": "2022-03-01T17:49:52.684339Z",
     "shell.execute_reply": "2022-03-01T17:49:52.683923Z",
     "shell.execute_reply.started": "2022-03-01T07:17:34.702099Z"
    },
    "papermill": {
     "duration": 0.035826,
     "end_time": "2022-03-01T17:49:52.684437",
     "exception": false,
     "start_time": "2022-03-01T17:49:52.648611",
     "status": "completed"
    },
    "tags": []
   },
   "outputs": [],
   "source": [
    "news = pd.concat([true,false])"
   ]
  },
  {
   "cell_type": "code",
   "execution_count": 10,
   "id": "25595b92",
   "metadata": {
    "execution": {
     "iopub.execute_input": "2022-03-01T17:49:52.738263Z",
     "iopub.status.busy": "2022-03-01T17:49:52.737405Z",
     "iopub.status.idle": "2022-03-01T17:49:53.012535Z",
     "shell.execute_reply": "2022-03-01T17:49:53.011808Z",
     "shell.execute_reply.started": "2022-03-01T07:17:34.712978Z"
    },
    "papermill": {
     "duration": 0.304886,
     "end_time": "2022-03-01T17:49:53.012819",
     "exception": false,
     "start_time": "2022-03-01T17:49:52.707933",
     "status": "completed"
    },
    "tags": []
   },
   "outputs": [
    {
     "data": {
      "text/plain": [
       "<AxesSubplot:xlabel='category', ylabel='count'>"
      ]
     },
     "execution_count": 10,
     "metadata": {},
     "output_type": "execute_result"
    },
    {
     "data": {
      "image/png": "[encoded data removed]",
      "text/plain": [
       "<Figure size 432x288 with 1 Axes>"
      ]
     },
     "metadata": {},
     "output_type": "display_data"
    }
   ],
   "source": [
    "sns.set_style(\"dark\")\n",
    "# Count occurences of both real and fake news\n",
    "sns.countplot(x=news.category)"
   ]
  },
  {
   "cell_type": "code",
   "execution_count": 11,
   "id": "f885b04d",
   "metadata": {
    "execution": {
     "iopub.execute_input": "2022-03-01T17:49:53.422454Z",
     "iopub.status.busy": "2022-03-01T17:49:53.239368Z",
     "iopub.status.idle": "2022-03-01T17:49:53.430976Z",
     "shell.execute_reply": "2022-03-01T17:49:53.430069Z",
     "shell.execute_reply.started": "2022-03-01T07:17:34.917662Z"
    },
    "papermill": {
     "duration": 0.36766,
     "end_time": "2022-03-01T17:49:53.431107",
     "exception": false,
     "start_time": "2022-03-01T17:49:53.063447",
     "status": "completed"
    },
    "tags": []
   },
   "outputs": [],
   "source": [
    "news['text'] = news['text'] + \" \" + news['title']\n",
    "del news['title']\n",
    "del news['subject']\n",
    "del news['date']"
   ]
  },
  {
   "cell_type": "code",
   "execution_count": 12,
   "id": "f3e29780",
   "metadata": {
    "execution": {
     "iopub.execute_input": "2022-03-01T17:49:53.518090Z",
     "iopub.status.busy": "2022-03-01T17:49:53.517443Z",
     "iopub.status.idle": "2022-03-01T17:49:53.524044Z",
     "shell.execute_reply": "2022-03-01T17:49:53.523593Z",
     "shell.execute_reply.started": "2022-03-01T07:17:35.160608Z"
    },
    "papermill": {
     "duration": 0.052029,
     "end_time": "2022-03-01T17:49:53.524155",
     "exception": false,
     "start_time": "2022-03-01T17:49:53.472126",
     "status": "completed"
    },
    "tags": []
   },
   "outputs": [],
   "source": [
    "stop = set(stopwords.words('english'))\n",
    "punctuation = list(string.punctuation)\n",
    "stop.update(punctuation)"
   ]
  },
  {
   "cell_type": "code",
   "execution_count": 13,
   "id": "a6f5d203",
   "metadata": {
    "execution": {
     "iopub.execute_input": "2022-03-01T17:49:53.581784Z",
     "iopub.status.busy": "2022-03-01T17:49:53.581001Z",
     "iopub.status.idle": "2022-03-01T17:50:06.043191Z",
     "shell.execute_reply": "2022-03-01T17:50:06.042696Z",
     "shell.execute_reply.started": "2022-03-01T07:17:35.172026Z"
    },
    "papermill": {
     "duration": 12.494439,
     "end_time": "2022-03-01T17:50:06.043320",
     "exception": false,
     "start_time": "2022-03-01T17:49:53.548881",
     "status": "completed"
    },
    "tags": []
   },
   "outputs": [],
   "source": [
    "def strip_html(text):\n",
    "    soup = BeautifulSoup(text, \"html.parser\")\n",
    "    return soup.get_text()\n",
    "\n",
    "#Removing the square brackets\n",
    "def remove_between_square_brackets(text):\n",
    "    return re.sub('\\[[^]]*\\]', '', text)\n",
    "# Removing URL's\n",
    "def remove_between_square_brackets(text):\n",
    "    return re.sub(r'http\\S+', '', text)\n",
    "#Removing the stopwords from text\n",
    "def remove_stopwords(text):\n",
    "    final_text = []\n",
    "    for i in text.split():\n",
    "        if i.strip().lower() not in stop:\n",
    "            final_text.append(i.strip())\n",
    "    return \" \".join(final_text)\n",
    "#Removing the noisy text\n",
    "def denoise_text(text):\n",
    "    text = strip_html(text)\n",
    "    text = remove_between_square_brackets(text)\n",
    "    text = remove_stopwords(text)\n",
    "    return text\n",
    "#Apply function on review column\n",
    "news['text']=news['text'].apply(denoise_text)"
   ]
  },
  {
   "cell_type": "code",
   "execution_count": 14,
   "id": "4d3d858b",
   "metadata": {
    "execution": {
     "iopub.execute_input": "2022-03-01T17:50:06.123779Z",
     "iopub.status.busy": "2022-03-01T17:50:06.118636Z",
     "iopub.status.idle": "2022-03-01T17:50:08.476448Z",
     "shell.execute_reply": "2022-03-01T17:50:08.476902Z",
     "shell.execute_reply.started": "2022-03-01T07:17:48.042030Z"
    },
    "papermill": {
     "duration": 2.406981,
     "end_time": "2022-03-01T17:50:08.477067",
     "exception": false,
     "start_time": "2022-03-01T17:50:06.070086",
     "status": "completed"
    },
    "tags": []
   },
   "outputs": [],
   "source": [
    "def get_corpus(text):\n",
    "    words = []\n",
    "    for i in text:\n",
    "        for j in i.split():\n",
    "            words.append(j.strip())\n",
    "    return words\n",
    "corpus = get_corpus(news.text)"
   ]
  },
  {
   "cell_type": "code",
   "execution_count": 15,
   "id": "c2d0991f",
   "metadata": {
    "execution": {
     "iopub.execute_input": "2022-03-01T17:50:08.532705Z",
     "iopub.status.busy": "2022-03-01T17:50:08.531935Z",
     "iopub.status.idle": "2022-03-01T17:50:08.541614Z",
     "shell.execute_reply": "2022-03-01T17:50:08.541072Z",
     "shell.execute_reply.started": "2022-03-01T07:17:50.403393Z"
    },
    "papermill": {
     "duration": 0.039378,
     "end_time": "2022-03-01T17:50:08.541759",
     "exception": false,
     "start_time": "2022-03-01T17:50:08.502381",
     "status": "completed"
    },
    "tags": []
   },
   "outputs": [],
   "source": [
    "x_train,x_test,y_train,y_test = train_test_split(news.text,news.category,random_state = 27)"
   ]
  },
  {
   "cell_type": "code",
   "execution_count": 16,
   "id": "a844b35e",
   "metadata": {
    "execution": {
     "iopub.execute_input": "2022-03-01T17:50:08.594735Z",
     "iopub.status.busy": "2022-03-01T17:50:08.593996Z",
     "iopub.status.idle": "2022-03-01T17:50:08.595920Z",
     "shell.execute_reply": "2022-03-01T17:50:08.596356Z",
     "shell.execute_reply.started": "2022-03-01T07:17:50.422819Z"
    },
    "papermill": {
     "duration": 0.030226,
     "end_time": "2022-03-01T17:50:08.596469",
     "exception": false,
     "start_time": "2022-03-01T17:50:08.566243",
     "status": "completed"
    },
    "tags": []
   },
   "outputs": [],
   "source": [
    "max_features = 10000\n",
    "maxlen = 300"
   ]
  },
  {
   "cell_type": "code",
   "execution_count": 17,
   "id": "8e552ea9",
   "metadata": {
    "execution": {
     "iopub.execute_input": "2022-03-01T17:50:08.673214Z",
     "iopub.status.busy": "2022-03-01T17:50:08.668143Z",
     "iopub.status.idle": "2022-03-01T17:50:29.436433Z",
     "shell.execute_reply": "2022-03-01T17:50:29.435924Z",
     "shell.execute_reply.started": "2022-03-01T07:17:50.583661Z"
    },
    "papermill": {
     "duration": 20.815464,
     "end_time": "2022-03-01T17:50:29.436567",
     "exception": false,
     "start_time": "2022-03-01T17:50:08.621103",
     "status": "completed"
    },
    "tags": []
   },
   "outputs": [],
   "source": [
    "tokenizer = text.Tokenizer(num_words=max_features)\n",
    "tokenizer.fit_on_texts(x_train)\n",
    "tokenized_train = tokenizer.texts_to_sequences(x_train)\n",
    "x_train = sequence.pad_sequences(tokenized_train, maxlen=maxlen)"
   ]
  },
  {
   "cell_type": "code",
   "execution_count": 18,
   "id": "1f24db84",
   "metadata": {
    "execution": {
     "iopub.execute_input": "2022-03-01T17:50:29.549280Z",
     "iopub.status.busy": "2022-03-01T17:50:29.539039Z",
     "iopub.status.idle": "2022-03-01T17:50:32.479288Z",
     "shell.execute_reply": "2022-03-01T17:50:32.478774Z",
     "shell.execute_reply.started": "2022-03-01T07:18:10.128986Z"
    },
    "papermill": {
     "duration": 3.016208,
     "end_time": "2022-03-01T17:50:32.479424",
     "exception": false,
     "start_time": "2022-03-01T17:50:29.463216",
     "status": "completed"
    },
    "tags": []
   },
   "outputs": [],
   "source": [
    "tokenized_test = tokenizer.texts_to_sequences(x_test)\n",
    "x_test = sequence.pad_sequences(tokenized_test, maxlen=maxlen)"
   ]
  },
  {
   "cell_type": "code",
   "execution_count": 19,
   "id": "12723235",
   "metadata": {
    "execution": {
     "iopub.execute_input": "2022-03-01T17:50:32.536482Z",
     "iopub.status.busy": "2022-03-01T17:50:32.535480Z",
     "iopub.status.idle": "2022-03-01T17:50:32.537460Z",
     "shell.execute_reply": "2022-03-01T17:50:32.537927Z",
     "shell.execute_reply.started": "2022-03-01T07:18:12.954496Z"
    },
    "papermill": {
     "duration": 0.032551,
     "end_time": "2022-03-01T17:50:32.538059",
     "exception": false,
     "start_time": "2022-03-01T17:50:32.505508",
     "status": "completed"
    },
    "tags": []
   },
   "outputs": [],
   "source": [
    "# Model Hyperparameters\n",
    "batch_size = 256\n",
    "epochs = 3\n",
    "embed_size = 100"
   ]
  },
  {
   "cell_type": "code",
   "execution_count": 20,
   "id": "0668163f",
   "metadata": {
    "execution": {
     "iopub.execute_input": "2022-03-01T17:50:32.596148Z",
     "iopub.status.busy": "2022-03-01T17:50:32.593572Z",
     "iopub.status.idle": "2022-03-01T17:50:35.676448Z",
     "shell.execute_reply": "2022-03-01T17:50:35.675971Z",
     "shell.execute_reply.started": "2022-03-01T07:18:12.960955Z"
    },
    "papermill": {
     "duration": 3.112416,
     "end_time": "2022-03-01T17:50:35.676574",
     "exception": false,
     "start_time": "2022-03-01T17:50:32.564158",
     "status": "completed"
    },
    "tags": []
   },
   "outputs": [
    {
     "name": "stderr",
     "output_type": "stream",
     "text": [
      "2022-03-01 17:50:32.683543: I tensorflow/stream_executor/cuda/cuda_gpu_executor.cc:937] successful NUMA node read from SysFS had negative value (-1), but there must be at least one NUMA node, so returning NUMA node zero\n",
      "2022-03-01 17:50:32.786851: I tensorflow/stream_executor/cuda/cuda_gpu_executor.cc:937] successful NUMA node read from SysFS had negative value (-1), but there must be at least one NUMA node, so returning NUMA node zero\n",
      "2022-03-01 17:50:32.787727: I tensorflow/stream_executor/cuda/cuda_gpu_executor.cc:937] successful NUMA node read from SysFS had negative value (-1), but there must be at least one NUMA node, so returning NUMA node zero\n",
      "2022-03-01 17:50:32.789007: I tensorflow/core/platform/cpu_feature_guard.cc:142] This TensorFlow binary is optimized with oneAPI Deep Neural Network Library (oneDNN) to use the following CPU instructions in performance-critical operations:  AVX2 AVX512F FMA\n",
      "To enable them in other operations, rebuild TensorFlow with the appropriate compiler flags.\n",
      "2022-03-01 17:50:32.790007: I tensorflow/stream_executor/cuda/cuda_gpu_executor.cc:937] successful NUMA node read from SysFS had negative value (-1), but there must be at least one NUMA node, so returning NUMA node zero\n",
      "2022-03-01 17:50:32.790748: I tensorflow/stream_executor/cuda/cuda_gpu_executor.cc:937] successful NUMA node read from SysFS had negative value (-1), but there must be at least one NUMA node, so returning NUMA node zero\n",
      "2022-03-01 17:50:32.791500: I tensorflow/stream_executor/cuda/cuda_gpu_executor.cc:937] successful NUMA node read from SysFS had negative value (-1), but there must be at least one NUMA node, so returning NUMA node zero\n",
      "2022-03-01 17:50:34.644719: I tensorflow/stream_executor/cuda/cuda_gpu_executor.cc:937] successful NUMA node read from SysFS had negative value (-1), but there must be at least one NUMA node, so returning NUMA node zero\n",
      "2022-03-01 17:50:34.645481: I tensorflow/stream_executor/cuda/cuda_gpu_executor.cc:937] successful NUMA node read from SysFS had negative value (-1), but there must be at least one NUMA node, so returning NUMA node zero\n",
      "2022-03-01 17:50:34.646214: I tensorflow/stream_executor/cuda/cuda_gpu_executor.cc:937] successful NUMA node read from SysFS had negative value (-1), but there must be at least one NUMA node, so returning NUMA node zero\n",
      "2022-03-01 17:50:34.646807: I tensorflow/core/common_runtime/gpu/gpu_device.cc:1510] Created device /job:localhost/replica:0/task:0/device:GPU:0 with 15403 MB memory:  -> device: 0, name: Tesla P100-PCIE-16GB, pci bus id: 0000:00:04.0, compute capability: 6.0\n"
     ]
    }
   ],
   "source": [
    "model = Sequential([\n",
    "                    Embedding(max_features, embed_size, input_length=maxlen),\n",
    "                    Bidirectional(LSTM(150, return_sequences=True, dropout=0.25)),\n",
    "                    LSTM(100, dropout=0.1),\n",
    "                    Dense(32, activation='relu', kernel_regularizer = regularizers.l2(0.01)),\n",
    "                    Dense(1, activation='sigmoid')\n",
    "])\n",
    "\n",
    "model.compile(loss='binary_crossentropy', optimizer='adam', metrics=['acc'])"
   ]
  },
  {
   "cell_type": "code",
   "execution_count": 21,
   "id": "87a9e551",
   "metadata": {
    "execution": {
     "iopub.execute_input": "2022-03-01T17:50:35.735115Z",
     "iopub.status.busy": "2022-03-01T17:50:35.734245Z",
     "iopub.status.idle": "2022-03-01T17:52:01.885003Z",
     "shell.execute_reply": "2022-03-01T17:52:01.884353Z",
     "shell.execute_reply.started": "2022-03-01T07:18:16.364081Z"
    },
    "papermill": {
     "duration": 86.181841,
     "end_time": "2022-03-01T17:52:01.885169",
     "exception": false,
     "start_time": "2022-03-01T17:50:35.703328",
     "status": "completed"
    },
    "tags": []
   },
   "outputs": [
    {
     "name": "stderr",
     "output_type": "stream",
     "text": [
      "2022-03-01 17:50:35.811839: I tensorflow/compiler/mlir/mlir_graph_optimization_pass.cc:185] None of the MLIR Optimization Passes are enabled (registered 2)\n"
     ]
    },
    {
     "name": "stdout",
     "output_type": "stream",
     "text": [
      "Epoch 1/3\n"
     ]
    },
    {
     "name": "stderr",
     "output_type": "stream",
     "text": [
      "2022-03-01 17:50:40.850667: I tensorflow/stream_executor/cuda/cuda_dnn.cc:369] Loaded cuDNN version 8005\n"
     ]
    },
    {
     "name": "stdout",
     "output_type": "stream",
     "text": [
      "132/132 [==============================] - 26s 147ms/step - loss: 0.3525 - acc: 0.9556 - val_loss: 0.1157 - val_acc: 0.9896\n",
      "Epoch 2/3\n",
      "132/132 [==============================] - 18s 134ms/step - loss: 0.0544 - acc: 0.9963 - val_loss: 0.0361 - val_acc: 0.9939\n",
      "Epoch 3/3\n",
      "132/132 [==============================] - 18s 135ms/step - loss: 0.0172 - acc: 0.9984 - val_loss: 0.0270 - val_acc: 0.9950\n"
     ]
    }
   ],
   "source": [
    "history = model.fit(\n",
    "    x_train,\n",
    "    y_train,\n",
    "    epochs=epochs,\n",
    "    batch_size=batch_size,\n",
    "    validation_data = (x_test,y_test)\n",
    ")"
   ]
  },
  {
   "cell_type": "code",
   "execution_count": 22,
   "id": "eb8dc239",
   "metadata": {
    "execution": {
     "iopub.execute_input": "2022-03-01T17:52:02.226341Z",
     "iopub.status.busy": "2022-03-01T17:52:02.221020Z",
     "iopub.status.idle": "2022-03-01T17:52:02.606796Z",
     "shell.execute_reply": "2022-03-01T17:52:02.607178Z",
     "shell.execute_reply.started": "2022-03-01T07:30:47.395532Z"
    },
    "papermill": {
     "duration": 0.561942,
     "end_time": "2022-03-01T17:52:02.607326",
     "exception": false,
     "start_time": "2022-03-01T17:52:02.045384",
     "status": "completed"
    },
    "tags": []
   },
   "outputs": [
    {
     "data": {
      "text/plain": [
       "<matplotlib.legend.Legend at 0x7f7da4c1bc50>"
      ]
     },
     "execution_count": 22,
     "metadata": {},
     "output_type": "execute_result"
    },
    {
     "data": {
      "image/png": "[encoded data removed]",
      "text/plain": [
       "<Figure size 432x288 with 1 Axes>"
      ]
     },
     "metadata": {},
     "output_type": "display_data"
    },
    {
     "data": {
      "image/png": "[encoded data removed]",
      "text/plain": [
       "<Figure size 432x288 with 1 Axes>"
      ]
     },
     "metadata": {},
     "output_type": "display_data"
    }
   ],
   "source": [
    "acc = history.history['acc']\n",
    "loss = history.history['loss']\n",
    "val_acc = history.history['val_acc']\n",
    "val_loss = history.history['val_loss']\n",
    "\n",
    "plt.plot(acc, color='b', label='Train Accuracy')\n",
    "plt.plot(val_acc, color='r', label='Val Accuracy')\n",
    "plt.title('Training and Validation Accuracy')\n",
    "plt.xticks([i for i in range(epochs)])\n",
    "plt.legend()\n",
    "\n",
    "plt.figure()\n",
    "plt.plot(loss, color='b', label='Train Loss')\n",
    "plt.plot(val_loss, color='r', label='Val Loss')\n",
    "plt.title('Training and Validation Loss')\n",
    "plt.xticks([i for i in range(epochs)])\n",
    "plt.legend()\n",
    "\n",
    "#accuracy, precision, recall f1_score"
   ]
  },
  {
   "cell_type": "code",
   "execution_count": null,
   "id": "402d54aa",
   "metadata": {
    "papermill": {
     "duration": 0.152749,
     "end_time": "2022-03-01T17:52:02.913818",
     "exception": false,
     "start_time": "2022-03-01T17:52:02.761069",
     "status": "completed"
    },
    "tags": []
   },
   "outputs": [],
   "source": []
  }
 ],
 "metadata": {
  "kernelspec": {
   "display_name": "Python 3",
   "language": "python",
   "name": "python3"
  },
  "language_info": {
   "codemirror_mode": {
    "name": "ipython",
    "version": 3
   },
   "file_extension": ".py",
   "mimetype": "text/x-python",
   "name": "python",
   "nbconvert_exporter": "python",
   "pygments_lexer": "ipython3",
   "version": "3.7.12"
  },
  "papermill": {
   "default_parameters": {},
   "duration": 154.392769,
   "end_time": "2022-03-01T17:52:06.271997",
   "environment_variables": {},
   "exception": null,
   "input_path": "__notebook__.ipynb",
   "output_path": "__notebook__.ipynb",
   "parameters": {},
   "start_time": "2022-03-01T17:49:31.879228",
   "version": "2.3.3"
  }
 },
 "nbformat": 4,
 "nbformat_minor": 5
}
