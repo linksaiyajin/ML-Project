{
 "cells": [
  {
   "cell_type": "code",
   "execution_count": 1,
   "id": "f258f6b0",
   "metadata": {
    "execution": {
     "iopub.execute_input": "2022-02-28T19:52:45.105519Z",
     "iopub.status.busy": "2022-02-28T19:52:45.104607Z",
     "iopub.status.idle": "2022-02-28T19:52:51.481787Z",
     "shell.execute_reply": "2022-02-28T19:52:51.480804Z",
     "shell.execute_reply.started": "2022-02-28T19:48:18.517176Z"
    },
    "papermill": {
     "duration": 6.414946,
     "end_time": "2022-02-28T19:52:51.481954",
     "exception": false,
     "start_time": "2022-02-28T19:52:45.067008",
     "status": "completed"
    },
    "tags": []
   },
   "outputs": [],
   "source": [
    "import tensorflow as tf\n",
    "import pandas as pd\n",
    "import numpy as np\n",
    "import seaborn as sns\n",
    "from bs4 import BeautifulSoup\n",
    "import re,string,unicodedata\n",
    "import matplotlib.pyplot as plt\n",
    "import tensorflow.keras.layers as tfl\n",
    "from keras.preprocessing import text, sequence\n",
    "from sklearn.metrics import classification_report,confusion_matrix,accuracy_score\n",
    "from tensorflow.keras.preprocessing.sequence import pad_sequences\n",
    "from tensorflow.keras.layers import Embedding, LSTM, Dense, Dropout, Bidirectional\n",
    "from tensorflow.keras.preprocessing.text import Tokenizer\n",
    "from tensorflow.keras.models import Sequential\n",
    "from tensorflow.keras.optimizers import Adam\n",
    "from tensorflow.keras import regularizers\n",
    "import tensorflow.keras.utils as ku \n",
    "from sklearn.model_selection import train_test_split\n",
    "from nltk.corpus import stopwords\n",
    "import datetime\n",
    "%matplotlib inline\n",
    "%load_ext tensorboard"
   ]
  },
  {
   "cell_type": "code",
   "execution_count": 2,
   "id": "907dbb8d",
   "metadata": {
    "execution": {
     "iopub.execute_input": "2022-02-28T19:52:51.525501Z",
     "iopub.status.busy": "2022-02-28T19:52:51.524975Z",
     "iopub.status.idle": "2022-02-28T19:52:54.422435Z",
     "shell.execute_reply": "2022-02-28T19:52:54.421910Z",
     "shell.execute_reply.started": "2022-02-28T19:48:26.332620Z"
    },
    "papermill": {
     "duration": 2.919654,
     "end_time": "2022-02-28T19:52:54.422588",
     "exception": false,
     "start_time": "2022-02-28T19:52:51.502934",
     "status": "completed"
    },
    "tags": []
   },
   "outputs": [],
   "source": [
    "true = pd.read_csv(\"../input/fake-and-real-news-dataset/True.csv\")\n",
    "false = pd.read_csv(\"../input/fake-and-real-news-dataset/Fake.csv\")"
   ]
  },
  {
   "cell_type": "code",
   "execution_count": 3,
   "id": "6db769d6",
   "metadata": {
    "execution": {
     "iopub.execute_input": "2022-02-28T19:52:54.471353Z",
     "iopub.status.busy": "2022-02-28T19:52:54.462540Z",
     "iopub.status.idle": "2022-02-28T19:52:54.473954Z",
     "shell.execute_reply": "2022-02-28T19:52:54.474385Z",
     "shell.execute_reply.started": "2022-02-28T19:48:28.725682Z"
    },
    "papermill": {
     "duration": 0.032849,
     "end_time": "2022-02-28T19:52:54.474573",
     "exception": false,
     "start_time": "2022-02-28T19:52:54.441724",
     "status": "completed"
    },
    "tags": []
   },
   "outputs": [],
   "source": [
    "true['category'] = 1\n",
    "false['category'] = 0"
   ]
  },
  {
   "cell_type": "code",
   "execution_count": 4,
   "id": "8dd01c27",
   "metadata": {
    "execution": {
     "iopub.execute_input": "2022-02-28T19:52:54.515187Z",
     "iopub.status.busy": "2022-02-28T19:52:54.514416Z",
     "iopub.status.idle": "2022-02-28T19:52:54.530895Z",
     "shell.execute_reply": "2022-02-28T19:52:54.530457Z",
     "shell.execute_reply.started": "2022-02-28T19:48:28.742810Z"
    },
    "papermill": {
     "duration": 0.037373,
     "end_time": "2022-02-28T19:52:54.530998",
     "exception": false,
     "start_time": "2022-02-28T19:52:54.493625",
     "status": "completed"
    },
    "tags": []
   },
   "outputs": [
    {
     "data": {
      "text/html": [
       "<div>\n",
       "<style scoped>\n",
       "    .dataframe tbody tr th:only-of-type {\n",
       "        vertical-align: middle;\n",
       "    }\n",
       "\n",
       "    .dataframe tbody tr th {\n",
       "        vertical-align: top;\n",
       "    }\n",
       "\n",
       "    .dataframe thead th {\n",
       "        text-align: right;\n",
       "    }\n",
       "</style>\n",
       "<table border=\"1\" class=\"dataframe\">\n",
       "  <thead>\n",
       "    <tr style=\"text-align: right;\">\n",
       "      <th></th>\n",
       "      <th>title</th>\n",
       "      <th>text</th>\n",
       "      <th>subject</th>\n",
       "      <th>date</th>\n",
       "      <th>category</th>\n",
       "    </tr>\n",
       "  </thead>\n",
       "  <tbody>\n",
       "    <tr>\n",
       "      <th>0</th>\n",
       "      <td>As U.S. budget fight looms, Republicans flip t...</td>\n",
       "      <td>WASHINGTON (Reuters) - The head of a conservat...</td>\n",
       "      <td>politicsNews</td>\n",
       "      <td>December 31, 2017</td>\n",
       "      <td>1</td>\n",
       "    </tr>\n",
       "    <tr>\n",
       "      <th>1</th>\n",
       "      <td>U.S. military to accept transgender recruits o...</td>\n",
       "      <td>WASHINGTON (Reuters) - Transgender people will...</td>\n",
       "      <td>politicsNews</td>\n",
       "      <td>December 29, 2017</td>\n",
       "      <td>1</td>\n",
       "    </tr>\n",
       "    <tr>\n",
       "      <th>2</th>\n",
       "      <td>Senior U.S. Republican senator: 'Let Mr. Muell...</td>\n",
       "      <td>WASHINGTON (Reuters) - The special counsel inv...</td>\n",
       "      <td>politicsNews</td>\n",
       "      <td>December 31, 2017</td>\n",
       "      <td>1</td>\n",
       "    </tr>\n",
       "    <tr>\n",
       "      <th>3</th>\n",
       "      <td>FBI Russia probe helped by Australian diplomat...</td>\n",
       "      <td>WASHINGTON (Reuters) - Trump campaign adviser ...</td>\n",
       "      <td>politicsNews</td>\n",
       "      <td>December 30, 2017</td>\n",
       "      <td>1</td>\n",
       "    </tr>\n",
       "    <tr>\n",
       "      <th>4</th>\n",
       "      <td>Trump wants Postal Service to charge 'much mor...</td>\n",
       "      <td>SEATTLE/WASHINGTON (Reuters) - President Donal...</td>\n",
       "      <td>politicsNews</td>\n",
       "      <td>December 29, 2017</td>\n",
       "      <td>1</td>\n",
       "    </tr>\n",
       "  </tbody>\n",
       "</table>\n",
       "</div>"
      ],
      "text/plain": [
       "                                               title  \\\n",
       "0  As U.S. budget fight looms, Republicans flip t...   \n",
       "1  U.S. military to accept transgender recruits o...   \n",
       "2  Senior U.S. Republican senator: 'Let Mr. Muell...   \n",
       "3  FBI Russia probe helped by Australian diplomat...   \n",
       "4  Trump wants Postal Service to charge 'much mor...   \n",
       "\n",
       "                                                text       subject  \\\n",
       "0  WASHINGTON (Reuters) - The head of a conservat...  politicsNews   \n",
       "1  WASHINGTON (Reuters) - Transgender people will...  politicsNews   \n",
       "2  WASHINGTON (Reuters) - The special counsel inv...  politicsNews   \n",
       "3  WASHINGTON (Reuters) - Trump campaign adviser ...  politicsNews   \n",
       "4  SEATTLE/WASHINGTON (Reuters) - President Donal...  politicsNews   \n",
       "\n",
       "                 date  category  \n",
       "0  December 31, 2017          1  \n",
       "1  December 29, 2017          1  \n",
       "2  December 31, 2017          1  \n",
       "3  December 30, 2017          1  \n",
       "4  December 29, 2017          1  "
      ]
     },
     "execution_count": 4,
     "metadata": {},
     "output_type": "execute_result"
    }
   ],
   "source": [
    "true.head()"
   ]
  },
  {
   "cell_type": "code",
   "execution_count": 5,
   "id": "f7707e1c",
   "metadata": {
    "execution": {
     "iopub.execute_input": "2022-02-28T19:52:54.578180Z",
     "iopub.status.busy": "2022-02-28T19:52:54.577323Z",
     "iopub.status.idle": "2022-02-28T19:52:54.581342Z",
     "shell.execute_reply": "2022-02-28T19:52:54.580936Z",
     "shell.execute_reply.started": "2022-02-28T19:48:28.770124Z"
    },
    "papermill": {
     "duration": 0.031134,
     "end_time": "2022-02-28T19:52:54.581477",
     "exception": false,
     "start_time": "2022-02-28T19:52:54.550343",
     "status": "completed"
    },
    "tags": []
   },
   "outputs": [
    {
     "data": {
      "text/html": [
       "<div>\n",
       "<style scoped>\n",
       "    .dataframe tbody tr th:only-of-type {\n",
       "        vertical-align: middle;\n",
       "    }\n",
       "\n",
       "    .dataframe tbody tr th {\n",
       "        vertical-align: top;\n",
       "    }\n",
       "\n",
       "    .dataframe thead th {\n",
       "        text-align: right;\n",
       "    }\n",
       "</style>\n",
       "<table border=\"1\" class=\"dataframe\">\n",
       "  <thead>\n",
       "    <tr style=\"text-align: right;\">\n",
       "      <th></th>\n",
       "      <th>title</th>\n",
       "      <th>text</th>\n",
       "      <th>subject</th>\n",
       "      <th>date</th>\n",
       "      <th>category</th>\n",
       "    </tr>\n",
       "  </thead>\n",
       "  <tbody>\n",
       "    <tr>\n",
       "      <th>0</th>\n",
       "      <td>Donald Trump Sends Out Embarrassing New Year’...</td>\n",
       "      <td>Donald Trump just couldn t wish all Americans ...</td>\n",
       "      <td>News</td>\n",
       "      <td>December 31, 2017</td>\n",
       "      <td>0</td>\n",
       "    </tr>\n",
       "    <tr>\n",
       "      <th>1</th>\n",
       "      <td>Drunk Bragging Trump Staffer Started Russian ...</td>\n",
       "      <td>House Intelligence Committee Chairman Devin Nu...</td>\n",
       "      <td>News</td>\n",
       "      <td>December 31, 2017</td>\n",
       "      <td>0</td>\n",
       "    </tr>\n",
       "    <tr>\n",
       "      <th>2</th>\n",
       "      <td>Sheriff David Clarke Becomes An Internet Joke...</td>\n",
       "      <td>On Friday, it was revealed that former Milwauk...</td>\n",
       "      <td>News</td>\n",
       "      <td>December 30, 2017</td>\n",
       "      <td>0</td>\n",
       "    </tr>\n",
       "    <tr>\n",
       "      <th>3</th>\n",
       "      <td>Trump Is So Obsessed He Even Has Obama’s Name...</td>\n",
       "      <td>On Christmas day, Donald Trump announced that ...</td>\n",
       "      <td>News</td>\n",
       "      <td>December 29, 2017</td>\n",
       "      <td>0</td>\n",
       "    </tr>\n",
       "    <tr>\n",
       "      <th>4</th>\n",
       "      <td>Pope Francis Just Called Out Donald Trump Dur...</td>\n",
       "      <td>Pope Francis used his annual Christmas Day mes...</td>\n",
       "      <td>News</td>\n",
       "      <td>December 25, 2017</td>\n",
       "      <td>0</td>\n",
       "    </tr>\n",
       "  </tbody>\n",
       "</table>\n",
       "</div>"
      ],
      "text/plain": [
       "                                               title  \\\n",
       "0   Donald Trump Sends Out Embarrassing New Year’...   \n",
       "1   Drunk Bragging Trump Staffer Started Russian ...   \n",
       "2   Sheriff David Clarke Becomes An Internet Joke...   \n",
       "3   Trump Is So Obsessed He Even Has Obama’s Name...   \n",
       "4   Pope Francis Just Called Out Donald Trump Dur...   \n",
       "\n",
       "                                                text subject  \\\n",
       "0  Donald Trump just couldn t wish all Americans ...    News   \n",
       "1  House Intelligence Committee Chairman Devin Nu...    News   \n",
       "2  On Friday, it was revealed that former Milwauk...    News   \n",
       "3  On Christmas day, Donald Trump announced that ...    News   \n",
       "4  Pope Francis used his annual Christmas Day mes...    News   \n",
       "\n",
       "                date  category  \n",
       "0  December 31, 2017         0  \n",
       "1  December 31, 2017         0  \n",
       "2  December 30, 2017         0  \n",
       "3  December 29, 2017         0  \n",
       "4  December 25, 2017         0  "
      ]
     },
     "execution_count": 5,
     "metadata": {},
     "output_type": "execute_result"
    }
   ],
   "source": [
    "false.head()"
   ]
  },
  {
   "cell_type": "code",
   "execution_count": 6,
   "id": "aa65add6",
   "metadata": {
    "execution": {
     "iopub.execute_input": "2022-02-28T19:52:54.625978Z",
     "iopub.status.busy": "2022-02-28T19:52:54.625186Z",
     "iopub.status.idle": "2022-02-28T19:52:54.631707Z",
     "shell.execute_reply": "2022-02-28T19:52:54.631213Z",
     "shell.execute_reply.started": "2022-02-28T19:48:28.787627Z"
    },
    "papermill": {
     "duration": 0.030548,
     "end_time": "2022-02-28T19:52:54.631821",
     "exception": false,
     "start_time": "2022-02-28T19:52:54.601273",
     "status": "completed"
    },
    "tags": []
   },
   "outputs": [],
   "source": [
    "news = pd.concat([true,false])"
   ]
  },
  {
   "cell_type": "code",
   "execution_count": 7,
   "id": "bc509e77",
   "metadata": {
    "execution": {
     "iopub.execute_input": "2022-02-28T19:52:54.677881Z",
     "iopub.status.busy": "2022-02-28T19:52:54.677345Z",
     "iopub.status.idle": "2022-02-28T19:52:54.892933Z",
     "shell.execute_reply": "2022-02-28T19:52:54.893736Z",
     "shell.execute_reply.started": "2022-02-28T19:48:28.802199Z"
    },
    "papermill": {
     "duration": 0.240194,
     "end_time": "2022-02-28T19:52:54.893908",
     "exception": false,
     "start_time": "2022-02-28T19:52:54.653714",
     "status": "completed"
    },
    "tags": []
   },
   "outputs": [
    {
     "data": {
      "text/plain": [
       "<AxesSubplot:xlabel='category', ylabel='count'>"
      ]
     },
     "execution_count": 7,
     "metadata": {},
     "output_type": "execute_result"
    },
    {
     "data": {
      "image/png": "[encoded data removed]",
      "text/plain": [
       "<Figure size 432x288 with 1 Axes>"
      ]
     },
     "metadata": {},
     "output_type": "display_data"
    }
   ],
   "source": [
    "sns.set_style(\"darkgrid\")\n",
    "# Count occurences of both real and fake news\n",
    "sns.countplot(x=news.category)"
   ]
  },
  {
   "cell_type": "code",
   "execution_count": 8,
   "id": "9b536f4b",
   "metadata": {
    "execution": {
     "iopub.execute_input": "2022-02-28T19:52:54.944063Z",
     "iopub.status.busy": "2022-02-28T19:52:54.943106Z",
     "iopub.status.idle": "2022-02-28T19:52:55.175925Z",
     "shell.execute_reply": "2022-02-28T19:52:55.176430Z",
     "shell.execute_reply.started": "2022-02-28T19:48:29.051980Z"
    },
    "papermill": {
     "duration": 0.260137,
     "end_time": "2022-02-28T19:52:55.176598",
     "exception": false,
     "start_time": "2022-02-28T19:52:54.916461",
     "status": "completed"
    },
    "tags": []
   },
   "outputs": [],
   "source": [
    "news['text'] = news['text'] + \" \" + news['title']\n",
    "del news['title']\n",
    "del news['subject']\n",
    "del news['date']"
   ]
  },
  {
   "cell_type": "code",
   "execution_count": 9,
   "id": "c2e9dec2",
   "metadata": {
    "execution": {
     "iopub.execute_input": "2022-02-28T19:52:55.228126Z",
     "iopub.status.busy": "2022-02-28T19:52:55.227446Z",
     "iopub.status.idle": "2022-02-28T19:52:55.233962Z",
     "shell.execute_reply": "2022-02-28T19:52:55.233522Z",
     "shell.execute_reply.started": "2022-02-28T19:48:29.336782Z"
    },
    "papermill": {
     "duration": 0.03129,
     "end_time": "2022-02-28T19:52:55.234068",
     "exception": false,
     "start_time": "2022-02-28T19:52:55.202778",
     "status": "completed"
    },
    "tags": []
   },
   "outputs": [],
   "source": [
    "stop = set(stopwords.words('english'))\n",
    "punctuation = list(string.punctuation)\n",
    "stop.update(punctuation)"
   ]
  },
  {
   "cell_type": "code",
   "execution_count": 10,
   "id": "09570e6e",
   "metadata": {
    "execution": {
     "iopub.execute_input": "2022-02-28T19:52:55.319059Z",
     "iopub.status.busy": "2022-02-28T19:52:55.283104Z",
     "iopub.status.idle": "2022-02-28T19:53:08.111066Z",
     "shell.execute_reply": "2022-02-28T19:53:08.110566Z",
     "shell.execute_reply.started": "2022-02-28T19:48:29.350365Z"
    },
    "papermill": {
     "duration": 12.856518,
     "end_time": "2022-02-28T19:53:08.111205",
     "exception": false,
     "start_time": "2022-02-28T19:52:55.254687",
     "status": "completed"
    },
    "tags": []
   },
   "outputs": [],
   "source": [
    "def strip_html(text):\n",
    "    soup = BeautifulSoup(text, \"html.parser\")\n",
    "    return soup.get_text()\n",
    "\n",
    "#Removing the square brackets\n",
    "def remove_between_square_brackets(text):\n",
    "    return re.sub('\\[[^]]*\\]', '', text)\n",
    "# Removing URL's\n",
    "def remove_between_square_brackets(text):\n",
    "    return re.sub(r'http\\S+', '', text)\n",
    "#Removing the stopwords from text\n",
    "def remove_stopwords(text):\n",
    "    final_text = []\n",
    "    for i in text.split():\n",
    "        if i.strip().lower() not in stop:\n",
    "            final_text.append(i.strip())\n",
    "    return \" \".join(final_text)\n",
    "#Removing the noisy text\n",
    "def denoise_text(text):\n",
    "    text = strip_html(text)\n",
    "    text = remove_between_square_brackets(text)\n",
    "    text = remove_stopwords(text)\n",
    "    return text\n",
    "#Apply function on review column\n",
    "news['text']=news['text'].apply(denoise_text)"
   ]
  },
  {
   "cell_type": "code",
   "execution_count": 11,
   "id": "ef8b509b",
   "metadata": {
    "execution": {
     "iopub.execute_input": "2022-02-28T19:53:08.206718Z",
     "iopub.status.busy": "2022-02-28T19:53:08.201580Z",
     "iopub.status.idle": "2022-02-28T19:53:10.688532Z",
     "shell.execute_reply": "2022-02-28T19:53:10.687577Z",
     "shell.execute_reply.started": "2022-02-28T19:48:44.097857Z"
    },
    "papermill": {
     "duration": 2.556443,
     "end_time": "2022-02-28T19:53:10.688687",
     "exception": false,
     "start_time": "2022-02-28T19:53:08.132244",
     "status": "completed"
    },
    "tags": []
   },
   "outputs": [],
   "source": [
    "def get_corpus(text):\n",
    "    words = []\n",
    "    for i in text:\n",
    "        for j in i.split():\n",
    "            words.append(j.strip())\n",
    "    return words\n",
    "corpus = get_corpus(news.text)"
   ]
  },
  {
   "cell_type": "code",
   "execution_count": 12,
   "id": "791aad34",
   "metadata": {
    "execution": {
     "iopub.execute_input": "2022-02-28T19:53:10.738837Z",
     "iopub.status.busy": "2022-02-28T19:53:10.738138Z",
     "iopub.status.idle": "2022-02-28T19:53:10.744702Z",
     "shell.execute_reply": "2022-02-28T19:53:10.744164Z",
     "shell.execute_reply.started": "2022-02-28T19:48:47.271049Z"
    },
    "papermill": {
     "duration": 0.034956,
     "end_time": "2022-02-28T19:53:10.744814",
     "exception": false,
     "start_time": "2022-02-28T19:53:10.709858",
     "status": "completed"
    },
    "tags": []
   },
   "outputs": [],
   "source": [
    "x_train,x_test,y_train,y_test = train_test_split(news.text,news.category,random_state = 27)"
   ]
  },
  {
   "cell_type": "code",
   "execution_count": 13,
   "id": "16c10545",
   "metadata": {
    "execution": {
     "iopub.execute_input": "2022-02-28T19:53:10.789754Z",
     "iopub.status.busy": "2022-02-28T19:53:10.789191Z",
     "iopub.status.idle": "2022-02-28T19:53:10.791772Z",
     "shell.execute_reply": "2022-02-28T19:53:10.792149Z",
     "shell.execute_reply.started": "2022-02-28T19:48:47.467378Z"
    },
    "papermill": {
     "duration": 0.026875,
     "end_time": "2022-02-28T19:53:10.792272",
     "exception": false,
     "start_time": "2022-02-28T19:53:10.765397",
     "status": "completed"
    },
    "tags": []
   },
   "outputs": [],
   "source": [
    "max_features = 10000\n",
    "maxlen = 300"
   ]
  },
  {
   "cell_type": "code",
   "execution_count": 14,
   "id": "bbda0b6b",
   "metadata": {
    "execution": {
     "iopub.execute_input": "2022-02-28T19:53:11.033792Z",
     "iopub.status.busy": "2022-02-28T19:53:11.023563Z",
     "iopub.status.idle": "2022-02-28T19:53:29.866722Z",
     "shell.execute_reply": "2022-02-28T19:53:29.865838Z",
     "shell.execute_reply.started": "2022-02-28T19:48:47.478791Z"
    },
    "papermill": {
     "duration": 19.05411,
     "end_time": "2022-02-28T19:53:29.866909",
     "exception": false,
     "start_time": "2022-02-28T19:53:10.812799",
     "status": "completed"
    },
    "tags": []
   },
   "outputs": [],
   "source": [
    "tokenizer = text.Tokenizer(num_words=max_features)\n",
    "tokenizer.fit_on_texts(x_train)\n",
    "tokenized_train = tokenizer.texts_to_sequences(x_train)\n",
    "x_train = sequence.pad_sequences(tokenized_train, maxlen=maxlen)"
   ]
  },
  {
   "cell_type": "code",
   "execution_count": 15,
   "id": "7c77540b",
   "metadata": {
    "execution": {
     "iopub.execute_input": "2022-02-28T19:53:29.946920Z",
     "iopub.status.busy": "2022-02-28T19:53:29.946184Z",
     "iopub.status.idle": "2022-02-28T19:53:33.209918Z",
     "shell.execute_reply": "2022-02-28T19:53:33.209402Z",
     "shell.execute_reply.started": "2022-02-28T19:49:09.553727Z"
    },
    "papermill": {
     "duration": 3.305942,
     "end_time": "2022-02-28T19:53:33.210063",
     "exception": false,
     "start_time": "2022-02-28T19:53:29.904121",
     "status": "completed"
    },
    "tags": []
   },
   "outputs": [],
   "source": [
    "tokenized_test = tokenizer.texts_to_sequences(x_test)\n",
    "x_test = sequence.pad_sequences(tokenized_test, maxlen=maxlen)"
   ]
  },
  {
   "cell_type": "code",
   "execution_count": 16,
   "id": "6a3e95ed",
   "metadata": {
    "execution": {
     "iopub.execute_input": "2022-02-28T19:53:33.256778Z",
     "iopub.status.busy": "2022-02-28T19:53:33.255980Z",
     "iopub.status.idle": "2022-02-28T19:53:33.258089Z",
     "shell.execute_reply": "2022-02-28T19:53:33.258494Z",
     "shell.execute_reply.started": "2022-02-28T19:49:12.716799Z"
    },
    "papermill": {
     "duration": 0.027557,
     "end_time": "2022-02-28T19:53:33.258626",
     "exception": false,
     "start_time": "2022-02-28T19:53:33.231069",
     "status": "completed"
    },
    "tags": []
   },
   "outputs": [],
   "source": [
    "# Model Hyperparameters\n",
    "batch_size = 256\n",
    "epochs = 3\n",
    "embed_size = 100"
   ]
  },
  {
   "cell_type": "code",
   "execution_count": 17,
   "id": "e6c5c0e7",
   "metadata": {
    "execution": {
     "iopub.execute_input": "2022-02-28T19:53:33.308391Z",
     "iopub.status.busy": "2022-02-28T19:53:33.307842Z",
     "iopub.status.idle": "2022-02-28T19:53:36.471279Z",
     "shell.execute_reply": "2022-02-28T19:53:36.471763Z",
     "shell.execute_reply.started": "2022-02-28T19:49:12.724807Z"
    },
    "papermill": {
     "duration": 3.189855,
     "end_time": "2022-02-28T19:53:36.471930",
     "exception": false,
     "start_time": "2022-02-28T19:53:33.282075",
     "status": "completed"
    },
    "tags": []
   },
   "outputs": [
    {
     "name": "stderr",
     "output_type": "stream",
     "text": [
      "2022-02-28 19:53:33.389192: I tensorflow/stream_executor/cuda/cuda_gpu_executor.cc:937] successful NUMA node read from SysFS had negative value (-1), but there must be at least one NUMA node, so returning NUMA node zero\n",
      "2022-02-28 19:53:33.497731: I tensorflow/stream_executor/cuda/cuda_gpu_executor.cc:937] successful NUMA node read from SysFS had negative value (-1), but there must be at least one NUMA node, so returning NUMA node zero\n",
      "2022-02-28 19:53:33.498467: I tensorflow/stream_executor/cuda/cuda_gpu_executor.cc:937] successful NUMA node read from SysFS had negative value (-1), but there must be at least one NUMA node, so returning NUMA node zero\n",
      "2022-02-28 19:53:33.499657: I tensorflow/core/platform/cpu_feature_guard.cc:142] This TensorFlow binary is optimized with oneAPI Deep Neural Network Library (oneDNN) to use the following CPU instructions in performance-critical operations:  AVX2 AVX512F FMA\n",
      "To enable them in other operations, rebuild TensorFlow with the appropriate compiler flags.\n",
      "2022-02-28 19:53:33.500699: I tensorflow/stream_executor/cuda/cuda_gpu_executor.cc:937] successful NUMA node read from SysFS had negative value (-1), but there must be at least one NUMA node, so returning NUMA node zero\n",
      "2022-02-28 19:53:33.501386: I tensorflow/stream_executor/cuda/cuda_gpu_executor.cc:937] successful NUMA node read from SysFS had negative value (-1), but there must be at least one NUMA node, so returning NUMA node zero\n",
      "2022-02-28 19:53:33.502118: I tensorflow/stream_executor/cuda/cuda_gpu_executor.cc:937] successful NUMA node read from SysFS had negative value (-1), but there must be at least one NUMA node, so returning NUMA node zero\n",
      "2022-02-28 19:53:35.500233: I tensorflow/stream_executor/cuda/cuda_gpu_executor.cc:937] successful NUMA node read from SysFS had negative value (-1), but there must be at least one NUMA node, so returning NUMA node zero\n",
      "2022-02-28 19:53:35.501098: I tensorflow/stream_executor/cuda/cuda_gpu_executor.cc:937] successful NUMA node read from SysFS had negative value (-1), but there must be at least one NUMA node, so returning NUMA node zero\n",
      "2022-02-28 19:53:35.501768: I tensorflow/stream_executor/cuda/cuda_gpu_executor.cc:937] successful NUMA node read from SysFS had negative value (-1), but there must be at least one NUMA node, so returning NUMA node zero\n",
      "2022-02-28 19:53:35.502337: I tensorflow/core/common_runtime/gpu/gpu_device.cc:1510] Created device /job:localhost/replica:0/task:0/device:GPU:0 with 15403 MB memory:  -> device: 0, name: Tesla P100-PCIE-16GB, pci bus id: 0000:00:04.0, compute capability: 6.0\n"
     ]
    }
   ],
   "source": [
    "model = Sequential([\n",
    "                    Embedding(max_features, embed_size, input_length=maxlen),\n",
    "                    Bidirectional(LSTM(150, return_sequences=True, dropout=0.25)),\n",
    "                    LSTM(100, dropout=0.1),\n",
    "                    Dense(32, activation='relu', kernel_regularizer = regularizers.l2(0.01)),\n",
    "                    Dense(1, activation='sigmoid')\n",
    "])\n",
    "\n",
    "model.compile(loss='binary_crossentropy', optimizer='adam', metrics=['acc'])"
   ]
  },
  {
   "cell_type": "code",
   "execution_count": 18,
   "id": "aed32ad5",
   "metadata": {
    "execution": {
     "iopub.execute_input": "2022-02-28T19:53:36.519113Z",
     "iopub.status.busy": "2022-02-28T19:53:36.518512Z",
     "iopub.status.idle": "2022-02-28T19:53:36.866707Z",
     "shell.execute_reply": "2022-02-28T19:53:36.867321Z",
     "shell.execute_reply.started": "2022-02-28T19:49:16.655716Z"
    },
    "papermill": {
     "duration": 0.373785,
     "end_time": "2022-02-28T19:53:36.867533",
     "exception": false,
     "start_time": "2022-02-28T19:53:36.493748",
     "status": "completed"
    },
    "tags": []
   },
   "outputs": [
    {
     "name": "stderr",
     "output_type": "stream",
     "text": [
      "2022-02-28 19:53:36.519729: I tensorflow/core/profiler/lib/profiler_session.cc:131] Profiler session initializing.\n",
      "2022-02-28 19:53:36.519767: I tensorflow/core/profiler/lib/profiler_session.cc:146] Profiler session started.\n",
      "2022-02-28 19:53:36.521630: I tensorflow/core/profiler/internal/gpu/cupti_tracer.cc:1614] Profiler found 1 GPUs\n",
      "2022-02-28 19:53:36.732006: I tensorflow/core/profiler/lib/profiler_session.cc:164] Profiler session tear down.\n",
      "2022-02-28 19:53:36.732193: I tensorflow/core/profiler/internal/gpu/cupti_tracer.cc:1748] CUPTI activity buffer flushed\n"
     ]
    }
   ],
   "source": [
    "log_dir = \"/kaggle/working/logs/fit/\" + datetime.datetime.now().strftime(\"%Y%m%d-%H%M%S\")\n",
    "tensorboard_callback = tf.keras.callbacks.TensorBoard(log_dir=log_dir, histogram_freq=1)"
   ]
  },
  {
   "cell_type": "code",
   "execution_count": 19,
   "id": "dbc08477",
   "metadata": {
    "execution": {
     "iopub.execute_input": "2022-02-28T19:53:36.921233Z",
     "iopub.status.busy": "2022-02-28T19:53:36.920530Z",
     "iopub.status.idle": "2022-02-28T19:55:02.670884Z",
     "shell.execute_reply": "2022-02-28T19:55:02.670282Z",
     "shell.execute_reply.started": "2022-02-28T19:49:17.089031Z"
    },
    "papermill": {
     "duration": 85.778236,
     "end_time": "2022-02-28T19:55:02.671022",
     "exception": false,
     "start_time": "2022-02-28T19:53:36.892786",
     "status": "completed"
    },
    "tags": []
   },
   "outputs": [
    {
     "name": "stderr",
     "output_type": "stream",
     "text": [
      "2022-02-28 19:53:37.011269: I tensorflow/compiler/mlir/mlir_graph_optimization_pass.cc:185] None of the MLIR Optimization Passes are enabled (registered 2)\n"
     ]
    },
    {
     "name": "stdout",
     "output_type": "stream",
     "text": [
      "Epoch 1/3\n"
     ]
    },
    {
     "name": "stderr",
     "output_type": "stream",
     "text": [
      "2022-02-28 19:53:41.635961: I tensorflow/stream_executor/cuda/cuda_dnn.cc:369] Loaded cuDNN version 8005\n"
     ]
    },
    {
     "name": "stdout",
     "output_type": "stream",
     "text": [
      "  1/132 [..............................] - ETA: 13:04 - loss: 1.1778 - acc: 0.4414"
     ]
    },
    {
     "name": "stderr",
     "output_type": "stream",
     "text": [
      "2022-02-28 19:53:43.186066: I tensorflow/core/profiler/lib/profiler_session.cc:131] Profiler session initializing.\n",
      "2022-02-28 19:53:43.186117: I tensorflow/core/profiler/lib/profiler_session.cc:146] Profiler session started.\n"
     ]
    },
    {
     "name": "stdout",
     "output_type": "stream",
     "text": [
      "  2/132 [..............................] - ETA: 1:09 - loss: 1.1728 - acc: 0.4961 "
     ]
    },
    {
     "name": "stderr",
     "output_type": "stream",
     "text": [
      "2022-02-28 19:53:43.584131: I tensorflow/core/profiler/lib/profiler_session.cc:66] Profiler session collecting data.\n",
      "2022-02-28 19:53:43.587812: I tensorflow/core/profiler/internal/gpu/cupti_tracer.cc:1748] CUPTI activity buffer flushed\n",
      "2022-02-28 19:53:43.725910: I tensorflow/core/profiler/internal/gpu/cupti_collector.cc:673]  GpuTracer has collected 4919 callback api events and 4916 activity events. \n",
      "2022-02-28 19:53:43.788479: I tensorflow/core/profiler/lib/profiler_session.cc:164] Profiler session tear down.\n",
      "2022-02-28 19:53:43.896960: I tensorflow/core/profiler/rpc/client/save_profile.cc:136] Creating directory: /kaggle/working/logs/fit/20220228-195336/train/plugins/profile/2022_02_28_19_53_43\n",
      "\n",
      "2022-02-28 19:53:43.948978: I tensorflow/core/profiler/rpc/client/save_profile.cc:142] Dumped gzipped tool data for trace.json.gz to /kaggle/working/logs/fit/20220228-195336/train/plugins/profile/2022_02_28_19_53_43/5005c4ed8b46.trace.json.gz\n"
     ]
    },
    {
     "name": "stdout",
     "output_type": "stream",
     "text": [
      "  3/132 [..............................] - ETA: 1:11 - loss: 1.1687 - acc: 0.4922"
     ]
    },
    {
     "name": "stderr",
     "output_type": "stream",
     "text": [
      "2022-02-28 19:53:44.021516: I tensorflow/core/profiler/rpc/client/save_profile.cc:136] Creating directory: /kaggle/working/logs/fit/20220228-195336/train/plugins/profile/2022_02_28_19_53_43\n",
      "\n",
      "2022-02-28 19:53:44.026033: I tensorflow/core/profiler/rpc/client/save_profile.cc:142] Dumped gzipped tool data for memory_profile.json.gz to /kaggle/working/logs/fit/20220228-195336/train/plugins/profile/2022_02_28_19_53_43/5005c4ed8b46.memory_profile.json.gz\n",
      "2022-02-28 19:53:44.028000: I tensorflow/core/profiler/rpc/client/capture_profile.cc:251] Creating directory: /kaggle/working/logs/fit/20220228-195336/train/plugins/profile/2022_02_28_19_53_43\n",
      "Dumped tool data for xplane.pb to /kaggle/working/logs/fit/20220228-195336/train/plugins/profile/2022_02_28_19_53_43/5005c4ed8b46.xplane.pb\n",
      "Dumped tool data for overview_page.pb to /kaggle/working/logs/fit/20220228-195336/train/plugins/profile/2022_02_28_19_53_43/5005c4ed8b46.overview_page.pb\n",
      "Dumped tool data for input_pipeline.pb to /kaggle/working/logs/fit/20220228-195336/train/plugins/profile/2022_02_28_19_53_43/5005c4ed8b46.input_pipeline.pb\n",
      "Dumped tool data for tensorflow_stats.pb to /kaggle/working/logs/fit/20220228-195336/train/plugins/profile/2022_02_28_19_53_43/5005c4ed8b46.tensorflow_stats.pb\n",
      "Dumped tool data for kernel_stats.pb to /kaggle/working/logs/fit/20220228-195336/train/plugins/profile/2022_02_28_19_53_43/5005c4ed8b46.kernel_stats.pb\n",
      "\n"
     ]
    },
    {
     "name": "stdout",
     "output_type": "stream",
     "text": [
      "132/132 [==============================] - 25s 149ms/step - loss: 0.3511 - acc: 0.9489 - val_loss: 0.1030 - val_acc: 0.9929\n",
      "Epoch 2/3\n",
      "132/132 [==============================] - 18s 135ms/step - loss: 0.0484 - acc: 0.9971 - val_loss: 0.0343 - val_acc: 0.9957\n",
      "Epoch 3/3\n",
      "132/132 [==============================] - 18s 135ms/step - loss: 0.0243 - acc: 0.9966 - val_loss: 0.0293 - val_acc: 0.9933\n"
     ]
    }
   ],
   "source": [
    "history = model.fit(\n",
    "    x_train,\n",
    "    y_train,\n",
    "    epochs=epochs,\n",
    "    batch_size=batch_size,\n",
    "    validation_data = (x_test,y_test),\n",
    "    callbacks=[tensorboard_callback]\n",
    ")"
   ]
  },
  {
   "cell_type": "code",
   "execution_count": 20,
   "id": "5143b920",
   "metadata": {
    "execution": {
     "iopub.execute_input": "2022-02-28T19:55:02.974179Z",
     "iopub.status.busy": "2022-02-28T19:55:02.973059Z",
     "iopub.status.idle": "2022-02-28T19:55:07.058571Z",
     "shell.execute_reply": "2022-02-28T19:55:07.058969Z",
     "shell.execute_reply.started": "2022-02-28T19:51:54.255739Z"
    },
    "papermill": {
     "duration": 4.239266,
     "end_time": "2022-02-28T19:55:07.059126",
     "exception": false,
     "start_time": "2022-02-28T19:55:02.819860",
     "status": "completed"
    },
    "tags": []
   },
   "outputs": [
    {
     "data": {
      "text/html": [
       "\n",
       "      <iframe id=\"tensorboard-frame-1c49075cdef14cc3\" width=\"100%\" height=\"800\" frameborder=\"0\">\n",
       "      </iframe>\n",
       "      <script>\n",
       "        (function() {\n",
       "          const frame = document.getElementById(\"tensorboard-frame-1c49075cdef14cc3\");\n",
       "          const url = new URL(\"/\", window.location);\n",
       "          const port = 6006;\n",
       "          if (port) {\n",
       "            url.port = port;\n",
       "          }\n",
       "          frame.src = url;\n",
       "        })();\n",
       "      </script>\n",
       "    "
      ],
      "text/plain": [
       "<IPython.core.display.HTML object>"
      ]
     },
     "metadata": {},
     "output_type": "display_data"
    }
   ],
   "source": [
    "%tensorboard --logdir kaggle/working/logs/fit"
   ]
  },
  {
   "cell_type": "code",
   "execution_count": 21,
   "id": "03d28882",
   "metadata": {
    "execution": {
     "iopub.execute_input": "2022-02-28T19:55:07.379262Z",
     "iopub.status.busy": "2022-02-28T19:55:07.357878Z",
     "iopub.status.idle": "2022-02-28T19:55:07.909824Z",
     "shell.execute_reply": "2022-02-28T19:55:07.911073Z",
     "shell.execute_reply.started": "2022-02-28T19:50:49.611024Z"
    },
    "papermill": {
     "duration": 0.703658,
     "end_time": "2022-02-28T19:55:07.911308",
     "exception": false,
     "start_time": "2022-02-28T19:55:07.207650",
     "status": "completed"
    },
    "tags": []
   },
   "outputs": [
    {
     "data": {
      "text/plain": [
       "<matplotlib.legend.Legend at 0x7f84403bbfd0>"
      ]
     },
     "execution_count": 21,
     "metadata": {},
     "output_type": "execute_result"
    },
    {
     "data": {
      "image/png": "[encoded data removed]",
      "text/plain": [
       "<Figure size 432x288 with 1 Axes>"
      ]
     },
     "metadata": {},
     "output_type": "display_data"
    },
    {
     "data": {
      "image/png": "[encoded data removed]",
      "text/plain": [
       "<Figure size 432x288 with 1 Axes>"
      ]
     },
     "metadata": {},
     "output_type": "display_data"
    }
   ],
   "source": [
    "acc = history.history['acc']\n",
    "loss = history.history['loss']\n",
    "val_acc = history.history['val_acc']\n",
    "val_loss = history.history['val_loss']\n",
    "\n",
    "plt.plot(acc, color='b', label='Train Accuracy')\n",
    "plt.plot(val_acc, color='r', label='Val Accuracy')\n",
    "plt.title('Training and Validation Accuracy')\n",
    "plt.legend()\n",
    "\n",
    "plt.figure()\n",
    "plt.plot(loss, color='b', label='Train Loss')\n",
    "plt.plot(val_loss, color='r', label='Val Loss')\n",
    "plt.title('Training and Validation Loss')\n",
    "plt.legend()"
   ]
  },
  {
   "cell_type": "code",
   "execution_count": null,
   "id": "fdd89dc8",
   "metadata": {
    "papermill": {
     "duration": 0.243838,
     "end_time": "2022-02-28T19:55:08.425484",
     "exception": false,
     "start_time": "2022-02-28T19:55:08.181646",
     "status": "completed"
    },
    "tags": []
   },
   "outputs": [],
   "source": []
  }
 ],
 "metadata": {
  "kernelspec": {
   "display_name": "Python 3",
   "language": "python",
   "name": "python3"
  },
  "language_info": {
   "codemirror_mode": {
    "name": "ipython",
    "version": 3
   },
   "file_extension": ".py",
   "mimetype": "text/x-python",
   "name": "python",
   "nbconvert_exporter": "python",
   "pygments_lexer": "ipython3",
   "version": "3.7.12"
  },
  "papermill": {
   "default_parameters": {},
   "duration": 154.3896,
   "end_time": "2022-02-28T19:55:11.402418",
   "environment_variables": {},
   "exception": null,
   "input_path": "__notebook__.ipynb",
   "output_path": "__notebook__.ipynb",
   "parameters": {},
   "start_time": "2022-02-28T19:52:37.012818",
   "version": "2.3.3"
  }
 },
 "nbformat": 4,
 "nbformat_minor": 5
}
