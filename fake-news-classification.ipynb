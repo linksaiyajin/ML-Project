{
 "cells": [
  {
   "cell_type": "code",
   "execution_count": 1,
   "id": "1a86428a",
   "metadata": {
    "execution": {
     "iopub.execute_input": "2022-02-28T14:11:34.415493Z",
     "iopub.status.busy": "2022-02-28T14:11:34.413789Z",
     "iopub.status.idle": "2022-02-28T14:11:41.763735Z",
     "shell.execute_reply": "2022-02-28T14:11:41.763069Z",
     "shell.execute_reply.started": "2022-02-27T10:39:15.597108Z"
    },
    "papermill": {
     "duration": 7.371188,
     "end_time": "2022-02-28T14:11:41.763901",
     "exception": false,
     "start_time": "2022-02-28T14:11:34.392713",
     "status": "completed"
    },
    "tags": []
   },
   "outputs": [],
   "source": [
    "import tensorflow as tf\n",
    "import pandas as pd\n",
    "import numpy as np\n",
    "import seaborn as sns\n",
    "from bs4 import BeautifulSoup\n",
    "import re,string,unicodedata\n",
    "import matplotlib.pyplot as plt\n",
    "import tensorflow.keras.layers as tfl\n",
    "from keras.preprocessing import text, sequence\n",
    "from sklearn.metrics import classification_report,confusion_matrix,accuracy_score\n",
    "from tensorflow.keras.preprocessing.sequence import pad_sequences\n",
    "from tensorflow.keras.layers import Embedding, LSTM, Dense, Dropout, Bidirectional\n",
    "from tensorflow.keras.preprocessing.text import Tokenizer\n",
    "from tensorflow.keras.models import Sequential\n",
    "from tensorflow.keras.optimizers import Adam\n",
    "from tensorflow.keras import regularizers\n",
    "import tensorflow.keras.utils as ku \n",
    "from sklearn.model_selection import train_test_split\n",
    "from nltk.corpus import stopwords\n",
    "%matplotlib inline"
   ]
  },
  {
   "cell_type": "code",
   "execution_count": 2,
   "id": "d1169e96",
   "metadata": {
    "execution": {
     "iopub.execute_input": "2022-02-28T14:11:41.802742Z",
     "iopub.status.busy": "2022-02-28T14:11:41.802059Z",
     "iopub.status.idle": "2022-02-28T14:11:44.603751Z",
     "shell.execute_reply": "2022-02-28T14:11:44.603159Z",
     "shell.execute_reply.started": "2022-02-27T10:34:58.869900Z"
    },
    "papermill": {
     "duration": 2.821708,
     "end_time": "2022-02-28T14:11:44.603883",
     "exception": false,
     "start_time": "2022-02-28T14:11:41.782175",
     "status": "completed"
    },
    "tags": []
   },
   "outputs": [],
   "source": [
    "true = pd.read_csv(\"../input/fake-and-real-news-dataset/True.csv\")\n",
    "false = pd.read_csv(\"../input/fake-and-real-news-dataset/Fake.csv\")"
   ]
  },
  {
   "cell_type": "code",
   "execution_count": 3,
   "id": "bdb63a13",
   "metadata": {
    "execution": {
     "iopub.execute_input": "2022-02-28T14:11:44.648681Z",
     "iopub.status.busy": "2022-02-28T14:11:44.647965Z",
     "iopub.status.idle": "2022-02-28T14:11:44.650436Z",
     "shell.execute_reply": "2022-02-28T14:11:44.650999Z",
     "shell.execute_reply.started": "2022-02-27T10:35:00.238135Z"
    },
    "papermill": {
     "duration": 0.031815,
     "end_time": "2022-02-28T14:11:44.651211",
     "exception": false,
     "start_time": "2022-02-28T14:11:44.619396",
     "status": "completed"
    },
    "tags": []
   },
   "outputs": [],
   "source": [
    "true['category'] = 1\n",
    "false['category'] = 0"
   ]
  },
  {
   "cell_type": "code",
   "execution_count": 4,
   "id": "2949d3e0",
   "metadata": {
    "execution": {
     "iopub.execute_input": "2022-02-28T14:11:44.689901Z",
     "iopub.status.busy": "2022-02-28T14:11:44.686006Z",
     "iopub.status.idle": "2022-02-28T14:11:44.703215Z",
     "shell.execute_reply": "2022-02-28T14:11:44.702741Z",
     "shell.execute_reply.started": "2022-02-27T10:35:00.245561Z"
    },
    "papermill": {
     "duration": 0.035132,
     "end_time": "2022-02-28T14:11:44.703345",
     "exception": false,
     "start_time": "2022-02-28T14:11:44.668213",
     "status": "completed"
    },
    "tags": []
   },
   "outputs": [
    {
     "data": {
      "text/html": [
       "<div>\n",
       "<style scoped>\n",
       "    .dataframe tbody tr th:only-of-type {\n",
       "        vertical-align: middle;\n",
       "    }\n",
       "\n",
       "    .dataframe tbody tr th {\n",
       "        vertical-align: top;\n",
       "    }\n",
       "\n",
       "    .dataframe thead th {\n",
       "        text-align: right;\n",
       "    }\n",
       "</style>\n",
       "<table border=\"1\" class=\"dataframe\">\n",
       "  <thead>\n",
       "    <tr style=\"text-align: right;\">\n",
       "      <th></th>\n",
       "      <th>title</th>\n",
       "      <th>text</th>\n",
       "      <th>subject</th>\n",
       "      <th>date</th>\n",
       "      <th>category</th>\n",
       "    </tr>\n",
       "  </thead>\n",
       "  <tbody>\n",
       "    <tr>\n",
       "      <th>0</th>\n",
       "      <td>As U.S. budget fight looms, Republicans flip t...</td>\n",
       "      <td>WASHINGTON (Reuters) - The head of a conservat...</td>\n",
       "      <td>politicsNews</td>\n",
       "      <td>December 31, 2017</td>\n",
       "      <td>1</td>\n",
       "    </tr>\n",
       "    <tr>\n",
       "      <th>1</th>\n",
       "      <td>U.S. military to accept transgender recruits o...</td>\n",
       "      <td>WASHINGTON (Reuters) - Transgender people will...</td>\n",
       "      <td>politicsNews</td>\n",
       "      <td>December 29, 2017</td>\n",
       "      <td>1</td>\n",
       "    </tr>\n",
       "    <tr>\n",
       "      <th>2</th>\n",
       "      <td>Senior U.S. Republican senator: 'Let Mr. Muell...</td>\n",
       "      <td>WASHINGTON (Reuters) - The special counsel inv...</td>\n",
       "      <td>politicsNews</td>\n",
       "      <td>December 31, 2017</td>\n",
       "      <td>1</td>\n",
       "    </tr>\n",
       "    <tr>\n",
       "      <th>3</th>\n",
       "      <td>FBI Russia probe helped by Australian diplomat...</td>\n",
       "      <td>WASHINGTON (Reuters) - Trump campaign adviser ...</td>\n",
       "      <td>politicsNews</td>\n",
       "      <td>December 30, 2017</td>\n",
       "      <td>1</td>\n",
       "    </tr>\n",
       "    <tr>\n",
       "      <th>4</th>\n",
       "      <td>Trump wants Postal Service to charge 'much mor...</td>\n",
       "      <td>SEATTLE/WASHINGTON (Reuters) - President Donal...</td>\n",
       "      <td>politicsNews</td>\n",
       "      <td>December 29, 2017</td>\n",
       "      <td>1</td>\n",
       "    </tr>\n",
       "  </tbody>\n",
       "</table>\n",
       "</div>"
      ],
      "text/plain": [
       "                                               title  \\\n",
       "0  As U.S. budget fight looms, Republicans flip t...   \n",
       "1  U.S. military to accept transgender recruits o...   \n",
       "2  Senior U.S. Republican senator: 'Let Mr. Muell...   \n",
       "3  FBI Russia probe helped by Australian diplomat...   \n",
       "4  Trump wants Postal Service to charge 'much mor...   \n",
       "\n",
       "                                                text       subject  \\\n",
       "0  WASHINGTON (Reuters) - The head of a conservat...  politicsNews   \n",
       "1  WASHINGTON (Reuters) - Transgender people will...  politicsNews   \n",
       "2  WASHINGTON (Reuters) - The special counsel inv...  politicsNews   \n",
       "3  WASHINGTON (Reuters) - Trump campaign adviser ...  politicsNews   \n",
       "4  SEATTLE/WASHINGTON (Reuters) - President Donal...  politicsNews   \n",
       "\n",
       "                 date  category  \n",
       "0  December 31, 2017          1  \n",
       "1  December 29, 2017          1  \n",
       "2  December 31, 2017          1  \n",
       "3  December 30, 2017          1  \n",
       "4  December 29, 2017          1  "
      ]
     },
     "execution_count": 4,
     "metadata": {},
     "output_type": "execute_result"
    }
   ],
   "source": [
    "true.head()"
   ]
  },
  {
   "cell_type": "code",
   "execution_count": 5,
   "id": "aebaec80",
   "metadata": {
    "execution": {
     "iopub.execute_input": "2022-02-28T14:11:44.746083Z",
     "iopub.status.busy": "2022-02-28T14:11:44.745476Z",
     "iopub.status.idle": "2022-02-28T14:11:44.748032Z",
     "shell.execute_reply": "2022-02-28T14:11:44.748483Z",
     "shell.execute_reply.started": "2022-02-27T10:35:00.265260Z"
    },
    "papermill": {
     "duration": 0.028924,
     "end_time": "2022-02-28T14:11:44.748641",
     "exception": false,
     "start_time": "2022-02-28T14:11:44.719717",
     "status": "completed"
    },
    "tags": []
   },
   "outputs": [
    {
     "data": {
      "text/html": [
       "<div>\n",
       "<style scoped>\n",
       "    .dataframe tbody tr th:only-of-type {\n",
       "        vertical-align: middle;\n",
       "    }\n",
       "\n",
       "    .dataframe tbody tr th {\n",
       "        vertical-align: top;\n",
       "    }\n",
       "\n",
       "    .dataframe thead th {\n",
       "        text-align: right;\n",
       "    }\n",
       "</style>\n",
       "<table border=\"1\" class=\"dataframe\">\n",
       "  <thead>\n",
       "    <tr style=\"text-align: right;\">\n",
       "      <th></th>\n",
       "      <th>title</th>\n",
       "      <th>text</th>\n",
       "      <th>subject</th>\n",
       "      <th>date</th>\n",
       "      <th>category</th>\n",
       "    </tr>\n",
       "  </thead>\n",
       "  <tbody>\n",
       "    <tr>\n",
       "      <th>0</th>\n",
       "      <td>Donald Trump Sends Out Embarrassing New Year’...</td>\n",
       "      <td>Donald Trump just couldn t wish all Americans ...</td>\n",
       "      <td>News</td>\n",
       "      <td>December 31, 2017</td>\n",
       "      <td>0</td>\n",
       "    </tr>\n",
       "    <tr>\n",
       "      <th>1</th>\n",
       "      <td>Drunk Bragging Trump Staffer Started Russian ...</td>\n",
       "      <td>House Intelligence Committee Chairman Devin Nu...</td>\n",
       "      <td>News</td>\n",
       "      <td>December 31, 2017</td>\n",
       "      <td>0</td>\n",
       "    </tr>\n",
       "    <tr>\n",
       "      <th>2</th>\n",
       "      <td>Sheriff David Clarke Becomes An Internet Joke...</td>\n",
       "      <td>On Friday, it was revealed that former Milwauk...</td>\n",
       "      <td>News</td>\n",
       "      <td>December 30, 2017</td>\n",
       "      <td>0</td>\n",
       "    </tr>\n",
       "    <tr>\n",
       "      <th>3</th>\n",
       "      <td>Trump Is So Obsessed He Even Has Obama’s Name...</td>\n",
       "      <td>On Christmas day, Donald Trump announced that ...</td>\n",
       "      <td>News</td>\n",
       "      <td>December 29, 2017</td>\n",
       "      <td>0</td>\n",
       "    </tr>\n",
       "    <tr>\n",
       "      <th>4</th>\n",
       "      <td>Pope Francis Just Called Out Donald Trump Dur...</td>\n",
       "      <td>Pope Francis used his annual Christmas Day mes...</td>\n",
       "      <td>News</td>\n",
       "      <td>December 25, 2017</td>\n",
       "      <td>0</td>\n",
       "    </tr>\n",
       "  </tbody>\n",
       "</table>\n",
       "</div>"
      ],
      "text/plain": [
       "                                               title  \\\n",
       "0   Donald Trump Sends Out Embarrassing New Year’...   \n",
       "1   Drunk Bragging Trump Staffer Started Russian ...   \n",
       "2   Sheriff David Clarke Becomes An Internet Joke...   \n",
       "3   Trump Is So Obsessed He Even Has Obama’s Name...   \n",
       "4   Pope Francis Just Called Out Donald Trump Dur...   \n",
       "\n",
       "                                                text subject  \\\n",
       "0  Donald Trump just couldn t wish all Americans ...    News   \n",
       "1  House Intelligence Committee Chairman Devin Nu...    News   \n",
       "2  On Friday, it was revealed that former Milwauk...    News   \n",
       "3  On Christmas day, Donald Trump announced that ...    News   \n",
       "4  Pope Francis used his annual Christmas Day mes...    News   \n",
       "\n",
       "                date  category  \n",
       "0  December 31, 2017         0  \n",
       "1  December 31, 2017         0  \n",
       "2  December 30, 2017         0  \n",
       "3  December 29, 2017         0  \n",
       "4  December 25, 2017         0  "
      ]
     },
     "execution_count": 5,
     "metadata": {},
     "output_type": "execute_result"
    }
   ],
   "source": [
    "false.head()"
   ]
  },
  {
   "cell_type": "code",
   "execution_count": 6,
   "id": "e185f86e",
   "metadata": {
    "execution": {
     "iopub.execute_input": "2022-02-28T14:11:44.784157Z",
     "iopub.status.busy": "2022-02-28T14:11:44.783610Z",
     "iopub.status.idle": "2022-02-28T14:11:44.792693Z",
     "shell.execute_reply": "2022-02-28T14:11:44.793081Z",
     "shell.execute_reply.started": "2022-02-27T10:35:00.279297Z"
    },
    "papermill": {
     "duration": 0.028187,
     "end_time": "2022-02-28T14:11:44.793271",
     "exception": false,
     "start_time": "2022-02-28T14:11:44.765084",
     "status": "completed"
    },
    "tags": []
   },
   "outputs": [],
   "source": [
    "news = pd.concat([true,false])"
   ]
  },
  {
   "cell_type": "code",
   "execution_count": 7,
   "id": "254c28af",
   "metadata": {
    "execution": {
     "iopub.execute_input": "2022-02-28T14:11:44.829934Z",
     "iopub.status.busy": "2022-02-28T14:11:44.829005Z",
     "iopub.status.idle": "2022-02-28T14:11:45.040388Z",
     "shell.execute_reply": "2022-02-28T14:11:45.040837Z",
     "shell.execute_reply.started": "2022-02-27T10:35:00.303138Z"
    },
    "papermill": {
     "duration": 0.231364,
     "end_time": "2022-02-28T14:11:45.040993",
     "exception": false,
     "start_time": "2022-02-28T14:11:44.809629",
     "status": "completed"
    },
    "tags": []
   },
   "outputs": [
    {
     "data": {
      "text/plain": [
       "<AxesSubplot:xlabel='category', ylabel='count'>"
      ]
     },
     "execution_count": 7,
     "metadata": {},
     "output_type": "execute_result"
    },
    {
     "data": {
      "image/png": "[encoded data removed]",
      "text/plain": [
       "<Figure size 432x288 with 1 Axes>"
      ]
     },
     "metadata": {},
     "output_type": "display_data"
    }
   ],
   "source": [
    "sns.set_style(\"darkgrid\")\n",
    "# Count occurences of both real and fake news\n",
    "sns.countplot(x=news.category)"
   ]
  },
  {
   "cell_type": "code",
   "execution_count": 8,
   "id": "a484ad66",
   "metadata": {
    "execution": {
     "iopub.execute_input": "2022-02-28T14:11:45.078843Z",
     "iopub.status.busy": "2022-02-28T14:11:45.077924Z",
     "iopub.status.idle": "2022-02-28T14:11:45.368268Z",
     "shell.execute_reply": "2022-02-28T14:11:45.368746Z",
     "shell.execute_reply.started": "2022-02-27T10:35:00.496188Z"
    },
    "papermill": {
     "duration": 0.310736,
     "end_time": "2022-02-28T14:11:45.368911",
     "exception": false,
     "start_time": "2022-02-28T14:11:45.058175",
     "status": "completed"
    },
    "tags": []
   },
   "outputs": [],
   "source": [
    "news['text'] = news['text'] + \" \" + news['title']\n",
    "del news['title']\n",
    "del news['subject']\n",
    "del news['date']"
   ]
  },
  {
   "cell_type": "code",
   "execution_count": 9,
   "id": "68e6556f",
   "metadata": {
    "execution": {
     "iopub.execute_input": "2022-02-28T14:11:45.412766Z",
     "iopub.status.busy": "2022-02-28T14:11:45.412172Z",
     "iopub.status.idle": "2022-02-28T14:11:45.420370Z",
     "shell.execute_reply": "2022-02-28T14:11:45.420867Z",
     "shell.execute_reply.started": "2022-02-27T10:38:16.364164Z"
    },
    "papermill": {
     "duration": 0.030993,
     "end_time": "2022-02-28T14:11:45.421033",
     "exception": false,
     "start_time": "2022-02-28T14:11:45.390040",
     "status": "completed"
    },
    "tags": []
   },
   "outputs": [],
   "source": [
    "stop = set(stopwords.words('english'))\n",
    "punctuation = list(string.punctuation)\n",
    "stop.update(punctuation)"
   ]
  },
  {
   "cell_type": "code",
   "execution_count": 10,
   "id": "49c5b8aa",
   "metadata": {
    "execution": {
     "iopub.execute_input": "2022-02-28T14:11:45.459585Z",
     "iopub.status.busy": "2022-02-28T14:11:45.458956Z",
     "iopub.status.idle": "2022-02-28T14:11:56.784516Z",
     "shell.execute_reply": "2022-02-28T14:11:56.783920Z",
     "shell.execute_reply.started": "2022-02-27T10:38:17.988298Z"
    },
    "papermill": {
     "duration": 11.346049,
     "end_time": "2022-02-28T14:11:56.784660",
     "exception": false,
     "start_time": "2022-02-28T14:11:45.438611",
     "status": "completed"
    },
    "tags": []
   },
   "outputs": [],
   "source": [
    "def strip_html(text):\n",
    "    soup = BeautifulSoup(text, \"html.parser\")\n",
    "    return soup.get_text()\n",
    "\n",
    "#Removing the square brackets\n",
    "def remove_between_square_brackets(text):\n",
    "    return re.sub('\\[[^]]*\\]', '', text)\n",
    "# Removing URL's\n",
    "def remove_between_square_brackets(text):\n",
    "    return re.sub(r'http\\S+', '', text)\n",
    "#Removing the stopwords from text\n",
    "def remove_stopwords(text):\n",
    "    final_text = []\n",
    "    for i in text.split():\n",
    "        if i.strip().lower() not in stop:\n",
    "            final_text.append(i.strip())\n",
    "    return \" \".join(final_text)\n",
    "#Removing the noisy text\n",
    "def denoise_text(text):\n",
    "    text = strip_html(text)\n",
    "    text = remove_between_square_brackets(text)\n",
    "    text = remove_stopwords(text)\n",
    "    return text\n",
    "#Apply function on review column\n",
    "news['text']=news['text'].apply(denoise_text)"
   ]
  },
  {
   "cell_type": "code",
   "execution_count": 11,
   "id": "3dc50048",
   "metadata": {
    "execution": {
     "iopub.execute_input": "2022-02-28T14:11:56.861095Z",
     "iopub.status.busy": "2022-02-28T14:11:56.829382Z",
     "iopub.status.idle": "2022-02-28T14:11:59.045441Z",
     "shell.execute_reply": "2022-02-28T14:11:59.044870Z",
     "shell.execute_reply.started": "2022-02-27T10:38:40.860801Z"
    },
    "papermill": {
     "duration": 2.242039,
     "end_time": "2022-02-28T14:11:59.045588",
     "exception": false,
     "start_time": "2022-02-28T14:11:56.803549",
     "status": "completed"
    },
    "tags": []
   },
   "outputs": [],
   "source": [
    "def get_corpus(text):\n",
    "    words = []\n",
    "    for i in text:\n",
    "        for j in i.split():\n",
    "            words.append(j.strip())\n",
    "    return words\n",
    "corpus = get_corpus(news.text)"
   ]
  },
  {
   "cell_type": "code",
   "execution_count": 12,
   "id": "1e3367bd",
   "metadata": {
    "execution": {
     "iopub.execute_input": "2022-02-28T14:11:59.084870Z",
     "iopub.status.busy": "2022-02-28T14:11:59.083943Z",
     "iopub.status.idle": "2022-02-28T14:11:59.095042Z",
     "shell.execute_reply": "2022-02-28T14:11:59.095494Z",
     "shell.execute_reply.started": "2022-02-27T10:39:27.838277Z"
    },
    "papermill": {
     "duration": 0.032771,
     "end_time": "2022-02-28T14:11:59.095663",
     "exception": false,
     "start_time": "2022-02-28T14:11:59.062892",
     "status": "completed"
    },
    "tags": []
   },
   "outputs": [],
   "source": [
    "x_train,x_test,y_train,y_test = train_test_split(news.text,news.category,random_state = 27)"
   ]
  },
  {
   "cell_type": "code",
   "execution_count": 13,
   "id": "f6a83b4c",
   "metadata": {
    "execution": {
     "iopub.execute_input": "2022-02-28T14:11:59.134312Z",
     "iopub.status.busy": "2022-02-28T14:11:59.133423Z",
     "iopub.status.idle": "2022-02-28T14:11:59.136843Z",
     "shell.execute_reply": "2022-02-28T14:11:59.137374Z",
     "shell.execute_reply.started": "2022-02-27T10:39:29.806511Z"
    },
    "papermill": {
     "duration": 0.023969,
     "end_time": "2022-02-28T14:11:59.137542",
     "exception": false,
     "start_time": "2022-02-28T14:11:59.113573",
     "status": "completed"
    },
    "tags": []
   },
   "outputs": [],
   "source": [
    "max_features = 10000\n",
    "maxlen = 300"
   ]
  },
  {
   "cell_type": "code",
   "execution_count": 14,
   "id": "4405d7ac",
   "metadata": {
    "execution": {
     "iopub.execute_input": "2022-02-28T14:11:59.175525Z",
     "iopub.status.busy": "2022-02-28T14:11:59.174613Z",
     "iopub.status.idle": "2022-02-28T14:12:18.640351Z",
     "shell.execute_reply": "2022-02-28T14:12:18.639760Z",
     "shell.execute_reply.started": "2022-02-27T10:39:30.246636Z"
    },
    "papermill": {
     "duration": 19.485862,
     "end_time": "2022-02-28T14:12:18.640507",
     "exception": false,
     "start_time": "2022-02-28T14:11:59.154645",
     "status": "completed"
    },
    "tags": []
   },
   "outputs": [],
   "source": [
    "tokenizer = text.Tokenizer(num_words=max_features)\n",
    "tokenizer.fit_on_texts(x_train)\n",
    "tokenized_train = tokenizer.texts_to_sequences(x_train)\n",
    "x_train = sequence.pad_sequences(tokenized_train, maxlen=maxlen)"
   ]
  },
  {
   "cell_type": "code",
   "execution_count": 15,
   "id": "fd8fc025",
   "metadata": {
    "execution": {
     "iopub.execute_input": "2022-02-28T14:12:18.740124Z",
     "iopub.status.busy": "2022-02-28T14:12:18.719189Z",
     "iopub.status.idle": "2022-02-28T14:12:21.403121Z",
     "shell.execute_reply": "2022-02-28T14:12:21.403647Z",
     "shell.execute_reply.started": "2022-02-27T10:40:15.763041Z"
    },
    "papermill": {
     "duration": 2.745908,
     "end_time": "2022-02-28T14:12:21.403816",
     "exception": false,
     "start_time": "2022-02-28T14:12:18.657908",
     "status": "completed"
    },
    "tags": []
   },
   "outputs": [],
   "source": [
    "tokenized_test = tokenizer.texts_to_sequences(x_test)\n",
    "x_test = sequence.pad_sequences(tokenized_test, maxlen=maxlen)"
   ]
  },
  {
   "cell_type": "code",
   "execution_count": 16,
   "id": "01ac4c9f",
   "metadata": {
    "execution": {
     "iopub.execute_input": "2022-02-28T14:12:21.442006Z",
     "iopub.status.busy": "2022-02-28T14:12:21.441453Z",
     "iopub.status.idle": "2022-02-28T14:12:21.444468Z",
     "shell.execute_reply": "2022-02-28T14:12:21.444973Z",
     "shell.execute_reply.started": "2022-02-27T10:49:38.502105Z"
    },
    "papermill": {
     "duration": 0.023238,
     "end_time": "2022-02-28T14:12:21.445124",
     "exception": false,
     "start_time": "2022-02-28T14:12:21.421886",
     "status": "completed"
    },
    "tags": []
   },
   "outputs": [],
   "source": [
    "# Model Hyperparameters\n",
    "batch_size = 256\n",
    "epochs = 2\n",
    "embed_size = 100"
   ]
  },
  {
   "cell_type": "code",
   "execution_count": 17,
   "id": "523d332e",
   "metadata": {
    "execution": {
     "iopub.execute_input": "2022-02-28T14:12:21.481872Z",
     "iopub.status.busy": "2022-02-28T14:12:21.481302Z",
     "iopub.status.idle": "2022-02-28T14:12:22.338931Z",
     "shell.execute_reply": "2022-02-28T14:12:22.338374Z",
     "shell.execute_reply.started": "2022-02-27T10:49:38.767987Z"
    },
    "papermill": {
     "duration": 0.876961,
     "end_time": "2022-02-28T14:12:22.339064",
     "exception": false,
     "start_time": "2022-02-28T14:12:21.462103",
     "status": "completed"
    },
    "tags": []
   },
   "outputs": [
    {
     "name": "stderr",
     "output_type": "stream",
     "text": [
      "2022-02-28 14:12:21.531247: I tensorflow/core/common_runtime/process_util.cc:146] Creating new thread pool with default inter op setting: 2. Tune using inter_op_parallelism_threads for best performance.\n"
     ]
    }
   ],
   "source": [
    "model = Sequential([\n",
    "                    Embedding(max_features, embed_size, input_length=maxlen),\n",
    "                    Bidirectional(LSTM(150, return_sequences=True, dropout=0.25)),\n",
    "                    LSTM(100, dropout=0.1),\n",
    "                    Dense(32, activation='relu', kernel_regularizer = regularizers.l2(0.01)),\n",
    "                    Dense(1, activation='sigmoid')\n",
    "])\n",
    "\n",
    "model.compile(loss='binary_crossentropy', optimizer='adam', metrics=['acc'])"
   ]
  },
  {
   "cell_type": "code",
   "execution_count": 18,
   "id": "caa7d29d",
   "metadata": {
    "execution": {
     "iopub.execute_input": "2022-02-28T14:12:22.378959Z",
     "iopub.status.busy": "2022-02-28T14:12:22.378418Z",
     "iopub.status.idle": "2022-02-28T14:27:07.576824Z",
     "shell.execute_reply": "2022-02-28T14:27:07.577576Z",
     "shell.execute_reply.started": "2022-02-27T10:49:44.814630Z"
    },
    "papermill": {
     "duration": 885.221054,
     "end_time": "2022-02-28T14:27:07.577822",
     "exception": false,
     "start_time": "2022-02-28T14:12:22.356768",
     "status": "completed"
    },
    "tags": []
   },
   "outputs": [
    {
     "name": "stderr",
     "output_type": "stream",
     "text": [
      "2022-02-28 14:12:22.462535: I tensorflow/compiler/mlir/mlir_graph_optimization_pass.cc:185] None of the MLIR Optimization Passes are enabled (registered 2)\n"
     ]
    },
    {
     "name": "stdout",
     "output_type": "stream",
     "text": [
      "Epoch 1/2\n",
      "132/132 [==============================] - 446s 3s/step - loss: 0.3379 - acc: 0.9504 - val_loss: 0.1088 - val_acc: 0.9865\n",
      "Epoch 2/2\n",
      "132/132 [==============================] - 439s 3s/step - loss: 0.0549 - acc: 0.9942 - val_loss: 0.0789 - val_acc: 0.9799\n"
     ]
    }
   ],
   "source": [
    "history = model.fit(\n",
    "    x_train,\n",
    "    y_train,\n",
    "    epochs=epochs,\n",
    "    batch_size=batch_size,\n",
    "    validation_data = (x_test,y_test)\n",
    ")"
   ]
  },
  {
   "cell_type": "code",
   "execution_count": 19,
   "id": "ca0e1842",
   "metadata": {
    "execution": {
     "iopub.execute_input": "2022-02-28T14:27:07.762129Z",
     "iopub.status.busy": "2022-02-28T14:27:07.761543Z",
     "iopub.status.idle": "2022-02-28T14:27:08.288994Z",
     "shell.execute_reply": "2022-02-28T14:27:08.289499Z",
     "shell.execute_reply.started": "2022-02-27T12:27:13.168765Z"
    },
    "papermill": {
     "duration": 0.621075,
     "end_time": "2022-02-28T14:27:08.289677",
     "exception": false,
     "start_time": "2022-02-28T14:27:07.668602",
     "status": "completed"
    },
    "tags": []
   },
   "outputs": [
    {
     "data": {
      "text/plain": [
       "<matplotlib.legend.Legend at 0x7f9f08b82c50>"
      ]
     },
     "execution_count": 19,
     "metadata": {},
     "output_type": "execute_result"
    },
    {
     "data": {
      "image/png": "[encoded data removed]",
      "text/plain": [
       "<Figure size 432x288 with 1 Axes>"
      ]
     },
     "metadata": {},
     "output_type": "display_data"
    },
    {
     "data": {
      "image/png": "[encoded data removed]",
      "text/plain": [
       "<Figure size 432x288 with 1 Axes>"
      ]
     },
     "metadata": {},
     "output_type": "display_data"
    }
   ],
   "source": [
    "acc = history.history['acc']\n",
    "loss = history.history['loss']\n",
    "val_acc = history.history['val_acc']\n",
    "val_loss = history.history['val_loss']\n",
    "\n",
    "plt.plot(acc, color='b', label='Train Accuracy')\n",
    "plt.plot(val_acc, color='r', label='Val Accuracy')\n",
    "plt.title('Training and Validation Accuracy')\n",
    "plt.legend()\n",
    "\n",
    "plt.figure()\n",
    "plt.plot(loss, color='b', label='Train Loss')\n",
    "plt.plot(val_loss, color='r', label='Val Loss')\n",
    "plt.title('Training and Validation Loss')\n",
    "plt.legend()"
   ]
  },
  {
   "cell_type": "code",
   "execution_count": null,
   "id": "da172a94",
   "metadata": {
    "papermill": {
     "duration": 0.092069,
     "end_time": "2022-02-28T14:27:08.476225",
     "exception": false,
     "start_time": "2022-02-28T14:27:08.384156",
     "status": "completed"
    },
    "tags": []
   },
   "outputs": [],
   "source": []
  }
 ],
 "metadata": {
  "kernelspec": {
   "display_name": "Python 3",
   "language": "python",
   "name": "python3"
  },
  "language_info": {
   "codemirror_mode": {
    "name": "ipython",
    "version": 3
   },
   "file_extension": ".py",
   "mimetype": "text/x-python",
   "name": "python",
   "nbconvert_exporter": "python",
   "pygments_lexer": "ipython3",
   "version": "3.7.12"
  },
  "papermill": {
   "default_parameters": {},
   "duration": 945.931776,
   "end_time": "2022-02-28T14:27:11.977415",
   "environment_variables": {},
   "exception": null,
   "input_path": "__notebook__.ipynb",
   "output_path": "__notebook__.ipynb",
   "parameters": {},
   "start_time": "2022-02-28T14:11:26.045639",
   "version": "2.3.3"
  }
 },
 "nbformat": 4,
 "nbformat_minor": 5
}
